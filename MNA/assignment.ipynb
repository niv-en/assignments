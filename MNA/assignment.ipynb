{
 "cells": [
  {
   "cell_type": "code",
   "execution_count": 2,
   "id": "402819d6-0c9f-446e-b70e-b87253af8ff9",
   "metadata": {},
   "outputs": [],
   "source": [
    "import pandas as pd \n",
    "import numpy as np \n",
    "import matplotlib.pyplot as plt "
   ]
  },
  {
   "cell_type": "markdown",
   "id": "5f72da10-1c23-480a-aaf7-5b72d340ab7d",
   "metadata": {},
   "source": [
    "# Task 1. "
   ]
  },
  {
   "cell_type": "markdown",
   "id": "80160521-2e51-4604-b92c-6758195f18a5",
   "metadata": {},
   "source": [
    "Klout was a social media platform which allowed users to connect their social medias to it and in return it will calculate a klout score from 1-100, which measured a users popularity or clout through analysing their social media activity etc. We have a daaset which stores the distribution of Klout scores for 1048 users of the app and the following notebook looks particularily at the distribution of sample means for the Klout scores distribution. "
   ]
  },
  {
   "cell_type": "markdown",
   "id": "cc26d145-bd9b-42c6-9f48-d57da540a209",
   "metadata": {},
   "source": [
    "## Function to calculate the number of possible ways to choose a sample size of 250: "
   ]
  },
  {
   "cell_type": "markdown",
   "id": "04b18b01-6d07-4e10-8159-88a7ba319f36",
   "metadata": {},
   "source": [
    "In order to do this we can apply a formula from combinatorics which calculates the total number of possible ways to select $k$ items from a bucket of $n$ items where the order of the $k$ items is irrelevant. \n",
    "\n",
    "$n$ choose $k$ can be written as $ \\binom{n}{k}$ and its formula is: \n",
    "\n",
    "$$  \\binom{n}{k} = \\frac{n!}{k!(n-k)!}$$ (Fowler, 1996)\n",
    "\n",
    "where $!$ indicates the factorial operation \n",
    "\n",
    "This is because $n!$ is the number of possible ways to arange all of our $n$ items, $(n-k)!$ is the number of possible ways to arrange rest of the non k items whos permuatations we dont care about, so by dividing $n!$ by $(n-k)!$ we calculate the number of possible ways to select $k$ items from $n$ where order is important. However, if the order of our $k$ items is unimportant we can divide the number of possible ways to select $k$ from $n$ whch is $ \\left( \\frac{n!}{(n-k)!} \\right) $ by the number of possible ways to order $k$ items which is $k!$"
   ]
  },
  {
   "cell_type": "markdown",
   "id": "e90ea69a-7886-427c-91f8-fc0766f8ce78",
   "metadata": {},
   "source": [
    "### Python Implementation "
   ]
  },
  {
   "cell_type": "markdown",
   "id": "e61bc193-a1de-4b30-bb8f-17e4c9ee66e1",
   "metadata": {},
   "source": [
    "In order to implement this function in Python we first need a function which can calculate factorials, below I have written a function to generate factorials using the recurisve formula which means that our factorial function will recurisvely call itself until we reach the base case which is where n is equal to 1. "
   ]
  },
  {
   "cell_type": "code",
   "execution_count": 70,
   "id": "70aec715-26fa-4e9e-b5eb-b3477bc011c3",
   "metadata": {},
   "outputs": [],
   "source": [
    "def fact(n): \n",
    "    if n ==1: \n",
    "        return 1 \n",
    "\n",
    "    return n*fact(n-1) "
   ]
  },
  {
   "cell_type": "markdown",
   "id": "c672d397-41b6-4451-a478-2eed2c7cc3e7",
   "metadata": {},
   "source": [
    "Plutting in our factorical function to create our combinatoric function. "
   ]
  },
  {
   "cell_type": "code",
   "execution_count": 71,
   "id": "80462aea-cfbf-4c9f-b5e7-fc04ae48ab6c",
   "metadata": {},
   "outputs": [],
   "source": [
    "def nCk(n,k): \n",
    "\n",
    "    return fact(n) / ( fact(k) * fact(n-k) ) "
   ]
  },
  {
   "cell_type": "markdown",
   "id": "ff78b92f-66ef-4cfd-b1d9-8611e906c641",
   "metadata": {},
   "source": [
    "$k$ is equal to 250 as its the size of our desired samples, but to calculate $n4 we need to figure out how many users exist in our population of Klout scores. "
   ]
  },
  {
   "cell_type": "code",
   "execution_count": 72,
   "id": "317e8418-532c-46d5-8a49-eb47a8fb1c78",
   "metadata": {},
   "outputs": [
    {
     "name": "stdout",
     "output_type": "stream",
     "text": [
      "there is 1048 total users\n"
     ]
    }
   ],
   "source": [
    "df = pd.read_csv('KloutScores.csv')\n",
    "print(f'there is {len(df)} total users') "
   ]
  },
  {
   "cell_type": "markdown",
   "id": "aecc77e1-2851-432e-96a7-41bc56f2ebe0",
   "metadata": {},
   "source": [
    "Plugging in $n$ =1048 and $k$ = 250 "
   ]
  },
  {
   "cell_type": "code",
   "execution_count": 73,
   "id": "8fd2bd71-b4e5-4e57-981a-c2ac5cf571a3",
   "metadata": {},
   "outputs": [
    {
     "data": {
      "text/plain": [
       "3.2830569965061e+248"
      ]
     },
     "execution_count": 73,
     "metadata": {},
     "output_type": "execute_result"
    }
   ],
   "source": [
    "nCk(n=1048, k=250) "
   ]
  },
  {
   "cell_type": "markdown",
   "id": "5c769387-814b-4937-afa7-0447da987de4",
   "metadata": {},
   "source": [
    "Hence the total number of possible unique samples is  $ \\approx 3.3\\times{10^{248}} $, which is a massive number. "
   ]
  },
  {
   "cell_type": "markdown",
   "id": "c29179c7-aacb-468e-88ee-464adf8c87e4",
   "metadata": {},
   "source": [
    "## Generating random samples "
   ]
  },
  {
   "cell_type": "markdown",
   "id": "13ceb651-3433-4a51-8d18-b1904552a163",
   "metadata": {},
   "source": [
    "Below is a function to generate random samples from a list of data, using NumPys ```np.random.choice``` function which randomly selects k items from a list provided. "
   ]
  },
  {
   "cell_type": "code",
   "execution_count": 74,
   "id": "3df21e62-048c-4b7e-aa4f-fc14fcdc462a",
   "metadata": {},
   "outputs": [],
   "source": [
    "def generate_random_samples(data : np.ndarray , num_samples : int, sample_size: int) -> np.ndarray: \n",
    "    samples = [np.random.choice(data, sample_size )  for i in range(num_samples) ]\n",
    "    return np.array(samples ) "
   ]
  },
  {
   "cell_type": "markdown",
   "id": "3518fc4c-1d00-44bb-bc7c-f27aa5868d9f",
   "metadata": {},
   "source": [
    "The function above takes in 3 arguments, `data` which is the distribution you wish to sample from, `num_samples` which is the number of samples you wish to create and finally `sample_size` which is the size of each of your samples/ the number of datapoints in each sample. \n",
    "\n",
    "Below I will call the function on our distribution of Klout scores to extract a single sample with a size of 5. "
   ]
  },
  {
   "cell_type": "code",
   "execution_count": 75,
   "id": "0df17e77-2318-4d4e-a23a-6fb8cb057609",
   "metadata": {},
   "outputs": [
    {
     "data": {
      "text/plain": [
       "array([[23.38866821, 41.40739037, 32.89505269, 62.18433632, 49.70149333]])"
      ]
     },
     "execution_count": 75,
     "metadata": {},
     "output_type": "execute_result"
    }
   ],
   "source": [
    "Klout_scores = df.scores.values \n",
    "generate_random_samples(Klout_scores, 1, 5 ) "
   ]
  },
  {
   "cell_type": "markdown",
   "id": "6c242fa0-3026-4448-81d3-ca2d9db7e556",
   "metadata": {},
   "source": [
    "## Plotting distribution of Klout scores"
   ]
  },
  {
   "cell_type": "markdown",
   "id": "d3bafdc3-da10-47a2-b4ef-a577482a73ee",
   "metadata": {},
   "source": [
    "First we will begin by simply plotting the distribution of Klout scores using a bin size of 30. "
   ]
  },
  {
   "cell_type": "code",
   "execution_count": 76,
   "id": "bf7fc0bf-6d5e-42d0-85db-b994236d9832",
   "metadata": {},
   "outputs": [
    {
     "data": {
      "image/png": "[encoded data removed]",
      "text/plain": [
       "<Figure size 640x480 with 1 Axes>"
      ]
     },
     "metadata": {},
     "output_type": "display_data"
    }
   ],
   "source": [
    "plt.title('score distribution') \n",
    "plt.xlabel('score') \n",
    "plt.ylabel('count') \n",
    "plt.hist(df.scores, bins = 30 , alpha = 0.5 ); "
   ]
  },
  {
   "cell_type": "markdown",
   "id": "8e638cad-dca3-4cef-8c68-01e22f76a290",
   "metadata": {},
   "source": [
    "To plot the distribution of sample means, we will take 1000 samples and compute the mean of each. "
   ]
  },
  {
   "cell_type": "code",
   "execution_count": 77,
   "id": "3507d8e1-178a-43fe-b99d-7a12d9b0bffe",
   "metadata": {},
   "outputs": [
    {
     "data": {
      "text/plain": [
       "array([[28.20662453, 53.76523753, 21.661422  , ..., 28.72763665,\n",
       "        51.24732988, 60.20085242],\n",
       "       [11.58053927, 50.07522653, 13.36404076, ..., 13.01027911,\n",
       "        43.25662366, 56.16753776],\n",
       "       [48.36407184, 15.21163604, 35.3057097 , ..., 68.36407157,\n",
       "        19.69877257, 53.44145707],\n",
       "       ...,\n",
       "       [41.08848679, 54.31748085, 51.47421848, ..., 27.9806438 ,\n",
       "        50.1831237 , 58.26605087],\n",
       "       [16.64702242, 10.        , 50.66546344, ..., 22.26578185,\n",
       "        14.98512503, 41.30540463],\n",
       "       [12.0251095 , 28.27028223, 13.19412275, ..., 42.49968712,\n",
       "        15.94474229, 45.23071077]], shape=(1000, 250))"
      ]
     },
     "execution_count": 77,
     "metadata": {},
     "output_type": "execute_result"
    }
   ],
   "source": [
    "samples = generate_random_samples(df.values.flatten() , 1000, 250) \n",
    "samples"
   ]
  },
  {
   "cell_type": "markdown",
   "id": "c9528709-d9c1-41d4-b80c-57b07becc0fc",
   "metadata": {},
   "source": [
    "By inspect the shape of the `samples` array we can see that we have 1000 samples each with 250 values. "
   ]
  },
  {
   "cell_type": "code",
   "execution_count": 78,
   "id": "af02ffb8-1c9a-4b31-8e9d-0230c7eeab31",
   "metadata": {},
   "outputs": [
    {
     "data": {
      "text/plain": [
       "(1000, 250)"
      ]
     },
     "execution_count": 78,
     "metadata": {},
     "output_type": "execute_result"
    }
   ],
   "source": [
    "samples.shape "
   ]
  },
  {
   "cell_type": "markdown",
   "id": "3fb7bcf3-30c9-47f5-9eb0-91b371b0690a",
   "metadata": {},
   "source": [
    "Calculating the mean of each sample to produce the distribution of sample means using `np.mean`. "
   ]
  },
  {
   "cell_type": "code",
   "execution_count": 79,
   "id": "e5742586-8187-4e3b-b507-78d254f3e912",
   "metadata": {},
   "outputs": [],
   "source": [
    "sample_mean_dist = np.mean(samples, axis = 1) "
   ]
  },
  {
   "cell_type": "markdown",
   "id": "87864caf-8e15-49ab-87b2-9cbc4c3401d4",
   "metadata": {},
   "source": [
    "## Plotting the distribution of Klout scores as well as the distribution of sample means "
   ]
  },
  {
   "cell_type": "code",
   "execution_count": 80,
   "id": "582bd2ce-dfc4-48ae-98df-ea5cf705c819",
   "metadata": {},
   "outputs": [
    {
     "data": {
      "image/png": "[encoded data removed]",
      "text/plain": [
       "<Figure size 640x480 with 1 Axes>"
      ]
     },
     "metadata": {},
     "output_type": "display_data"
    }
   ],
   "source": [
    "plt.title('score distribution') \n",
    "plt.xlabel('score') \n",
    "plt.ylabel('count') \n",
    "plt.hist(df.scores, bins= 30, alpha = 0.5, label = 'raw score distribution', color = 'orange'  )\n",
    "plt.axvline(np.mean(df.scores), label = 'raw score mean', color = 'red', alpha = 0.5  ) \n",
    "plt.hist(sample_mean_dist, bins = 30 , alpha = 0.5, label = 'distribution of sample means', color = 'royalblue' )\n",
    "plt.axvline(np.mean(np.mean(df.scores)) , label = 'sample means mean', color = 'darkblue', alpha = 0.5   ) \n",
    "plt.tight_layout() \n",
    "plt.legend() ; "
   ]
  },
  {
   "cell_type": "markdown",
   "id": "af51e19d-44e4-480b-91d2-2fdaa806d34e",
   "metadata": {},
   "source": [
    "### Distribution of sample means "
   ]
  },
  {
   "cell_type": "markdown",
   "id": "596d02ee-0d27-425f-b21d-96591f58d221",
   "metadata": {},
   "source": [
    "There are three main things we can pick out about the distribution of sample means which is plotted in blue on the figure above. \n",
    "\n",
    "- The first is that the distribution of sample means seems to follow a normal distribution pattern with the majority of the sample means being centered around the mean of the sample means, Also the frequency of data points starts to tail off either side of the mean. This is due to the central limit theorem which stats the regardless of the original distribution the distribution of sample means will approach a normal distribution as the sample size becomes sufficient (Yan and Cain, 2020)\n",
    "\n",
    "- The second is that the standard deviation of the distribution of sample means is far smaller when compared to the distribution of raw scores. \n",
    "\n",
    "- Thirdly, the mean of the raw scores as well as the mean of the sample means are the same/very similar,  which is represnted by the overlapping of the red line (raw score mean) and blue line (mean of sample means) to creating a purple line which lies in the centre of both distributions. "
   ]
  },
  {
   "cell_type": "markdown",
   "id": "ccf1b362-4dbc-47bc-840b-23347f521e71",
   "metadata": {},
   "source": [
    "### Proving results about the distributions of sample means "
   ]
  },
  {
   "cell_type": "markdown",
   "id": "f4dcf890-dd00-4230-b998-3c36530b9adf",
   "metadata": {},
   "source": [
    "Below I will display the mathematical proofs about the properties of sampling means distribution which explain our findings about the distribution of sample means of Klouts above. "
   ]
  },
  {
   "cell_type": "markdown",
   "id": "dbf1e3be-8ed6-4205-974e-48fecd3c78b6",
   "metadata": {},
   "source": [
    "First let $X$ be our distribution of Klout socres which we will assume can be modelled by a Normal Distribution $X \\sim \\mathcal{N}(\\mu,\\,\\sigma^{2})$.\n",
    "\n",
    "Currently we know  $(\\mu, \\sigma) $ for our distribution of Klout scores but we want to estimate the $(\\mu, \\sigma)$ for our distribution of sample means. \n",
    "\n",
    "We can define the distribution of sample means  $\\bar{X}$ where $n$ is equal to the sample size as: \n",
    "\n",
    "$$ \\bar{X} = \\left( \\frac{x_1 + x_2 + ... + x_n}{n}  \\right) $$\n",
    "\n",
    "Where $x_1, x_2, x_3, ... , x_i$ are all independent random variables sampled from $X$. \n",
    "\n",
    "Calculating the expected value/ mean for distribution $\\bar{X}$, using [expectation algebra](https://en.wikipedia.org/wiki/Algebra_of_random_variables): \n",
    "\n",
    "$$ E(\\bar{X}) = E\\left( \\frac{x_1 + x_2 + ... + x_) }{n}  \\right )$$ \n",
    "\n",
    "Given that $E(X+Y) = E(X) + E(Y)$ where $X,Y$ are two random variables: \n",
    "\n",
    "$$ E(\\bar{X}) = \\left( \\frac{ E(x_1) + E(x_2) + ... + E(x_n) }{n}  \\right )$$ \n",
    "\n",
    "As $x_k$ is sampled from $X$, The expected value of $x_k$ is equal to the mean value of $X$ which is $\\mu$. Hence, $E(x_k) = \\mu $ which we can sub into the formula above: \n",
    "\n",
    "$$ E(\\bar{X}) = \\frac{1}{n}( \\underbrace{ \\mu + \\mu + ... + \\mu }_{n\\text{-times}}  )$$ \n",
    "\n",
    "Rewriting our summation as a multiplication: \n",
    "\n",
    "$$ E(\\bar{X}) = \\frac{1}{n}( n\\mu )$$ \n",
    "\n",
    "Simplifying: \n",
    "\n",
    "$$ E(\\bar{X}) = \\mu $$\n",
    "\n",
    "As $\\mu$ is the mean value for distribution of Klout scores which we defined above, This explains the behaviour seen in the graphs of the distributions above where mean/expected value in our distribution of sample means was equal to the mean value in our distribution of Klout scores. (Piech and Sahami, 2017)"
   ]
  },
  {
   "cell_type": "markdown",
   "id": "584132e4-b8e5-45cc-8cda-c794e0db603e",
   "metadata": {},
   "source": [
    "### proving the result for the standard deviation \n",
    "\n",
    "To calculate the standard deviation of $\\bar{X}$ (distribution of sample means) we will apply the two following [Variance Algebra](https://en.wikipedia.org/wiki/Algebra_of_random_variables) rules: \n",
    "\n",
    "$$ VAR \\left(x_1 + x_2 + ... + x_n \\right) = VAR(x_1) + VAR(x_2) + ... + VAR(x_n)  $$\n",
    "$$ $$ \n",
    "$$ VAR \\left(aX  \\right)  = a^{2}VAR(X) $$ \n",
    "$$ $$ \n",
    "\n",
    "Calculating the expected variance of our distribution of sample means $VAR(\\bar{X} ) $ \n",
    "\n",
    "$$ VAR(\\bar{X} )  = VAR \\left(\\frac{x_1 + x_2 + ... + x_n }{n } \\right ) $$\n",
    "\n",
    "Where $x_1, x_2, x_3, ... , x_i$ are all independent random variables sampled from $X$. \n",
    "\n",
    "\n",
    "Applying both of the variance algebra rules above gives us the following: \n",
    "\n",
    "$$ VAR(\\bar{X} )  = \\frac{ VAR(x_1 )+ VAR(x_2) + ... + VAR(x_n) }{n^{2}}  $$ \n",
    "\n",
    "The expected variance for an individual sample $x_k$ can be defined by the variance of our Klout score distribution $X$ which is $\\sigma^{2}$. Hence $VAR(x_k) = \\sigma^{2} $, subbing this into the equation above: \n",
    "\n",
    "$$ VAR(\\bar{X} )  =  \\frac{1}{n^{2}} \\left (\\underbrace{ \\sigma^{2} + \\sigma^{2} + ... +  \\sigma^{2} }_{n\\text{-times}} \\right )  $$ \n",
    "\n",
    "Converting our summation into a multiplication: \n",
    "\n",
    "$$ VAR(\\bar{X} )  =  \\frac{1}{n^2} \\left ( n \\sigma^{2}  \\right )  $$ \n",
    "\n",
    "Simplifying: \n",
    "\n",
    "$$ VAR(\\bar{X} ) =  \\frac{\\sigma^{2} }{n} $$ \n",
    "\n",
    "To calculate the expected standard deviation we simply have to square root our expected variance: \n",
    "\n",
    "$$ \\sigma(\\bar{X}) = \\frac{\\sigma}{\\sqrt{n} } $$ \n",
    "\n",
    "Once, again we can that this results lines up with our findings above given that the standard of our distribution of sampling means was significantly smaller than the standard deviation of the distribution of Klout scores. (Piech and Sahami, 2017)"
   ]
  },
  {
   "cell_type": "markdown",
   "id": "7d37cc3b-2d89-4cf9-a5ea-4824701348f7",
   "metadata": {},
   "source": [
    "Calculating the mean and standard deviation of the normal distribution describing the distribution of sample means using the formulas dervived above. "
   ]
  },
  {
   "cell_type": "code",
   "execution_count": 81,
   "id": "7260a03e-25af-4b2f-ba40-2d4d91cc9461",
   "metadata": {},
   "outputs": [],
   "source": [
    "original_mean = np.mean(df.scores.values) \n",
    "original_std = np.std(df.scores.values) \n",
    "sample_std = ( original_std / np.sqrt(250)  ) "
   ]
  },
  {
   "cell_type": "code",
   "execution_count": 82,
   "id": "6e7f7d34-6699-4bbd-a2ea-dc1d017a9e5a",
   "metadata": {},
   "outputs": [
    {
     "name": "stdout",
     "output_type": "stream",
     "text": [
      "mean of sample means distribution: 37.72, std of sample means distribution: 1.0142 \n"
     ]
    }
   ],
   "source": [
    "print(f'mean of sample means distribution: {round(original_mean, 2) }, std of sample means distribution: {round(sample_std, 4) } ') "
   ]
  },
  {
   "cell_type": "markdown",
   "id": "4a834d6a-0a26-4587-935f-6107835f7950",
   "metadata": {},
   "source": [
    "###  Comparing the expected values with our observed values. "
   ]
  },
  {
   "cell_type": "code",
   "execution_count": 83,
   "id": "0a294d33-4c52-4303-ad01-7a8043486fc8",
   "metadata": {},
   "outputs": [
    {
     "name": "stdout",
     "output_type": "stream",
     "text": [
      "mean of sample means distribution: 37.73, std of sample means distribution: 1.0126 \n"
     ]
    }
   ],
   "source": [
    "sample_mean_observed = np.mean(sample_mean_dist) \n",
    "sample_std_observed = np.std(sample_mean_dist) \n",
    "\n",
    "print(f'mean of sample means distribution: {round(sample_mean_observed, 2) }, std of sample means distribution: {round(sample_std_observed, 4) } ')"
   ]
  },
  {
   "cell_type": "markdown",
   "id": "fac8d8ea-f49c-43ce-8729-9fbcc36c16d1",
   "metadata": {},
   "source": [
    "Comparing our observed mean and standard deviation to mathematical formula, we can see that both the mean and standard deviation are extremely close to one another with a rough diffeence of ~0.07 for the means and ~0.035 for the standard deviations. The gap between our observed mean of sampling distribution and the mean of the population (expected mean) will shrink we increase the size of ours samples this is known as the law of large numbers. \n",
    "\n",
    "\n",
    "\n",
    "Also, the gap between our observed and expected standard deviation will also shrink as we increase the sample size given that a greater sample size leads to a decrease in standard error. \n",
    "\n",
    "Though both the standard deviation and mean are primarily depedent on the sample size, increasing the number of samples can help to improve the accuracy of approximations and smooth out the sampling distribution. \n",
    "\n",
    "(need to add the central limit theorem comment here ) "
   ]
  },
  {
   "cell_type": "markdown",
   "id": "41862095-a09a-4cf5-a6e2-d455afc1deee",
   "metadata": {},
   "source": [
    "We can illustrate this idea with plotting our our sample of 1000, with varying sample sizes "
   ]
  },
  {
   "cell_type": "markdown",
   "id": "ff4133cd-baa8-4978-ac28-93905c238a3f",
   "metadata": {},
   "source": [
    "## BieberTweetter "
   ]
  },
  {
   "cell_type": "markdown",
   "id": "0e3e99a2-a171-419a-b625-d70a10f3b5a5",
   "metadata": {},
   "source": [
    "For the sample of BieberTweetters we can say that $n=250$ and $\\mu = 40 $"
   ]
  },
  {
   "cell_type": "markdown",
   "id": "9ff9713e-e0ec-413a-9a1b-418868ebbe05",
   "metadata": {},
   "source": [
    "A sample mean of 40 would fall to the right of the distribution of sample means. Below is both the emprical and normal approximation distributions with the sample mean of 40 plotted. "
   ]
  },
  {
   "cell_type": "code",
   "execution_count": 84,
   "id": "a7ace412-65f6-480f-a7bf-242d37384858",
   "metadata": {},
   "outputs": [],
   "source": [
    "# importing normal probability density function from scipy \n",
    "from scipy.stats import norm "
   ]
  },
  {
   "cell_type": "code",
   "execution_count": 85,
   "id": "13a64c68-0717-4d58-a14c-1c1d4b2bab94",
   "metadata": {},
   "outputs": [
    {
     "data": {
      "image/png": "[encoded data removed]",
      "text/plain": [
       "<Figure size 800x600 with 2 Axes>"
      ]
     },
     "metadata": {},
     "output_type": "display_data"
    }
   ],
   "source": [
    "fig, ax = plt.subplots(2, figsize = (8,6  ) )\n",
    "\n",
    "xmin,xmax = 33, 43 \n",
    "\n",
    "#plotting the distribution of observed values \n",
    "\n",
    "ax[0].hist(sample_mean_dist, bins = 30 , alpha = 0.5 , label = 'distribution of sample means')\n",
    "ax[0].axvline(np.mean(sample_mean_dist), label = 'mean of sample means', c = 'green'  ) \n",
    "ax[0].axvline(40, label =  'mean of BieberTweetter', c = 'red' ) \n",
    "ax[0].set_xlim(xmin, xmax ) \n",
    "ax[0].set_ylabel('count') \n",
    "ax[0].set_title('empirical distribution') \n",
    "\n",
    "#plotting the empirical distribution \n",
    "\n",
    "x_values = np.linspace(xmin, xmax , 1000)\n",
    "#initialing a normal distribution \n",
    "mean_dist = norm(np.mean(sample_mean_dist) , np.std(sample_mean_dist)  ) \n",
    "\n",
    "ax[1].plot( x_values, mean_dist.pdf(x_values), alpha = 0.5   ) \n",
    "\n",
    "ax[1].plot( ( np.mean(sample_mean_dist), np.mean(sample_mean_dist) ) ,  ( mean_dist.pdf(37.7)  , 0 )  , c= 'green' ) \n",
    "ax[1].plot( (40, 40) , ( mean_dist.pdf(40)   , 0 )  , c= 'red')\n",
    "ax[1].set_xlim(xmin, xmax) \n",
    "ymin, ymax = ax[1].get_ylim() \n",
    "ax[1].set_ylim(0, ymax) \n",
    "ax[1].set_ylabel('likelihood') \n",
    "ax[1].set_title('normal approximation')\n",
    "\n",
    "#plotting general titles \n",
    "midpoint = (fig.subplotpars.right + fig.subplotpars.left ) / 2 \n",
    "fig.supxlabel('sample mean')\n",
    "fig.suptitle('distribution of sample means', x = midpoint ) \n",
    "fig.tight_layout() \n",
    "ax[0].legend(); "
   ]
  },
  {
   "cell_type": "markdown",
   "id": "e76eae6a-cd8f-4ee9-92ab-cb7f6b39a95c",
   "metadata": {},
   "source": [
    "We can see that for both the empirical and normal approximation curve that the a sample mean of 40 compared to other samples of size 250, falls to the right of the distribution. Hence, it seems quite rare to acheive a sample with a mean of 40. "
   ]
  },
  {
   "cell_type": "markdown",
   "id": "0c5b9252-03a9-4f93-9012-300e55aad0ec",
   "metadata": {},
   "source": [
    "### Likelihood that the mean of a sample is above 40 "
   ]
  },
  {
   "cell_type": "markdown",
   "id": "89e10b87-8763-4944-975e-7b50a2a3e4af",
   "metadata": {},
   "source": [
    "Calculating the likelihood that a randomly selected sample of 250 users has a mean of at least 40. This likelihood / probability is represented by the total area underneath the probability density function curve where sample means >= 40. \n",
    "\n",
    "Below is a plot of the normal approxmation of the distribution of sample means, where the area of the green section represents the probability of a sample having a mean greater than 40. Though its worth noting that this green area extends to infinity as the likelihood tends to zero but for the sake of plotting I have only shown it up to a sample mean of 43 "
   ]
  },
  {
   "cell_type": "code",
   "execution_count": 86,
   "id": "7bc0bf9d-af15-484a-b8ec-fa615b7a11f2",
   "metadata": {
    "jupyter": {
     "source_hidden": true
    }
   },
   "outputs": [
    {
     "data": {
      "image/png": "[encoded data removed]",
      "text/plain": [
       "<Figure size 800x400 with 1 Axes>"
      ]
     },
     "metadata": {},
     "output_type": "display_data"
    }
   ],
   "source": [
    "from scipy.stats import norm \n",
    "x_values = np.linspace(33, 43 , 1000)\n",
    "mean_dist = norm(np.mean(sample_mean_dist) , np.std(sample_mean_dist)  ) \n",
    "\n",
    "plt.figure(figsize = (8,4)  ) \n",
    "plt.plot( x_values, mean_dist.pdf(x_values), label = 'distribution of sample means'  ) \n",
    "\n",
    "plt.plot( (40, 40) , ( mean_dist.pdf(40)   , 0 )  , c= 'green', linestyle = ':' , label = 'mean of Bieber sample ')\n",
    "\n",
    "plt.fill_between( x=  x_values, \n",
    "                y1 = mean_dist.pdf(x_values) , \n",
    "                where= (x_values >= 40 ) , \n",
    "                color= \"green\",\n",
    "                alpha= 0.2 , label = 'sample mean > 40 '  ) \n",
    "\n",
    "plt.legend()\n",
    "\n",
    "plt.xlabel('sample mean') \n",
    "plt.ylabel('likelihood') \n",
    "plt.title('Distribution of sample means' );  "
   ]
  },
  {
   "cell_type": "markdown",
   "id": "343c2993-730b-4595-acc7-3bb77451f2c7",
   "metadata": {},
   "source": [
    "Calculating the green area which represents our desired probability, involves integrating our probability distribution function between the limits of  $40$ and $+\\infty$\n",
    "\n",
    "$$ \\int_{40}^{\\infty} \\mathcal{N}(\\mu, \\sigma^2 )(x) \\,\\,\\ dx  $$ \n",
    "\n",
    "Where $\\mu$ is the mean $\\sigma$ is the standard deviation of the distribution of sample means. \n",
    "\n",
    "To compute this we can use a SciPys cummulative desnisty function `cdf`, which calculates the following integral for a given normal distribution paramterised by $\\mu$ and $\\sigma$. \n",
    "\n",
    "$$ \\int_{-\\infty}^{b} \\mathcal{N}(\\mu, \\sigma^2 )(x) \\,\\,\\ dx  $$ \n",
    "\n",
    "Where $b$, the upper limit, is the input into the `cdf` function. \n",
    "\n",
    "Given that total area under a Normal Distributions Probability Density Function(PDF) is alwayas equal to one: \n",
    "\n",
    "$$  \\int_{-\\infty}^{40} \\mathcal{N}(\\mu, \\sigma^2 )(x) \\,\\,\\ dx   + \\int_{40}^{\\infty} \\mathcal{N}(\\mu, \\sigma^2 )(x) \\,\\,\\ dx  = 1 $$ \n",
    "\n",
    "SciPys `cdf` can be used to compute the first term which we can then substract from 1, to calculate the area of the green section which represents the probability of a sample having a mean which is at least 40. \n",
    "\n",
    "$$   \\int_{40}^{\\infty} \\mathcal{N}(\\mu, \\sigma^2 )(x) \\,\\,\\ dx   =1  - \\int_{-\\infty}^{40} \\mathcal{N}(\\mu, \\sigma^2 )(x) \\,\\,\\ dx $$ "
   ]
  },
  {
   "cell_type": "code",
   "execution_count": 87,
   "id": "1242cf14-1410-45d8-a068-6bba0ed8d293",
   "metadata": {},
   "outputs": [
    {
     "name": "stdout",
     "output_type": "stream",
     "text": [
      "the probability that our sample mean is greater or equal to 40 is 1.25% \n"
     ]
    }
   ],
   "source": [
    "aoc = (1 - mean_dist.cdf(40) ) \n",
    "print(f'the probability that our sample mean is greater or equal to 40 is { round(aoc * 100,2 ) }% ') "
   ]
  },
  {
   "cell_type": "markdown",
   "id": "82de03e5-beb7-458f-8479-b22c39ecc985",
   "metadata": {},
   "source": [
    "If the distribution of Klout scores for BieberTweetter users is identical to the distribution of Klout scores for all users, This would mean that the achieved sample mean of 40 is extremely very unlikely as the probability of achieving a sample mean of 40 or greater is only ~1.27%."
   ]
  },
  {
   "cell_type": "markdown",
   "id": "dd95be11-ea9b-4a5b-b40b-80289a8a941c",
   "metadata": {},
   "source": [
    "## Constructing a confidence interval "
   ]
  },
  {
   "cell_type": "markdown",
   "id": "53a7af7f-fe2f-43b7-8513-10aed4ff55d9",
   "metadata": {},
   "source": [
    "We want to create a confidence interval at the 95% level for the mean Klout score if everyone  used BieberTwetter, which in other words means we want to find the range of values such that the probability that the mean Klout score if everyone used BieberTweetter would exist within that range is 95%. \n",
    "\n",
    "Creating this confidence interval, involves estimating the distribution of sample means if all where to begin to use BieberTweetter. Given that the distribution of sample means will also follow a normal distribution this is helpful in calculating where 95% of our data shall fall ( creating our confidence interval)  as in a Normal Distribution 95% of the data points fall within 1.96 standard deviations of the mean.\n",
    "\n",
    "$$ \\int_{-1.96}^{1.96} \\mathcal{N}(0, 1  )(x) \\,\\,\\ dx  = 0.95  $$\n",
    "\n",
    "Using the fact above we can define the interval where 95% of sample means should should fall as: \n",
    "\n",
    "$$ \\left(  \\mu_{bt} - 1.96(\\sigma_{bt}) , \\mu_{bt} + 1.96(\\sigma_{bt})  \\right)$$\n",
    "\n",
    "Where $\\sigma_{bt}$ is the standard deviation of sample means if all users where to use BieberTweetter and $\\mu_{bt}$ is the mean Klout score if all users were to use BieberTweetter. \n",
    "\n",
    "1.96 is known as our $\\text{critical value}$  and $\\sigma_{bt}$ is known as our $\\text{standard error}$ . The two multiplied together create the $\\text{margin for error}$ as the $\\text{critical value}$ is defined for the standard normal distribution and hence must be scaled by the standard deviation of our non standard normal distribution. \n",
    "\n",
    "We do not know the mean Klout score if everyone were to use BieberTweetter $\\mu_{bt}$ but if everyone where to begin to use BieberTweetter we can assume that all Klout scores are likely to be scaled by some constant k which will have no impact on the standard deviation of sample means as the spread of the data remains the same. Hence we can write: \n",
    "\n",
    "$$\\sigma_{bt} = \\sigma_{sm} $$ \n",
    "\n",
    "where $\\sigma_{sm}$ is the the standard deviation of sample means of Klout scores, which we have computed previously. \n",
    "\n",
    "Our final step is to assume that our sample of BieberTweetter users with a mean of 40 exists within the interval (it is part of the 95% of sample means which lie inside of the interval). We can write this assumption as: \n",
    "\n",
    "$$  \\mu_{bt} - 1.96\\times{\\sigma_{bt}} < 40 < \\mu_{bt} + 1.96\\times{\\sigma_{bt}} $$\n",
    "\n",
    "In order calculate the confidence interval for $\\mu_{bt}$ we can rearrange the inequality above,  first we can substract $\\mu_{bt}$ from all three terms: \n",
    "\n",
    "$$   - 1.96(\\sigma_{bt}) < 40 - \\mu_{bt} <  1.96(\\sigma_{bt})  $$\n",
    "\n",
    "Next substract 40 from all three terms: \n",
    "\n",
    "$$  -40 - 1.96(\\sigma_{bt}) < - \\mu_{bt} <  -40 + 1.96(\\sigma_{bt})  $$\n",
    "\n",
    "Finally we can multiply the inequality by -1 which will flip each of the signs around: \n",
    "\n",
    "$$  40 + 1.96(\\sigma_{bt}) > \\mu_{bt} > 40 - 1.96(\\sigma_{bt})  $$\n",
    "\n",
    "Using the above inequality we can formally define the equation for our cofidence interval as: \n",
    "\n",
    "$$ \\left(\\mu_s - \\text{critical value}\\times{\\text{standard error}}, \\mu_s +  \\text{critical value}\\times{\\text{standard error}} \\right) $$\n",
    "\n",
    "Where $\\mu_s$ is 40  and $\\text{standard error}$ is our sample standard deviation and $\\text{critical value}$ is 1.96. \n",
    "\n",
    "We have our cofidence interval at a 95% level for the the mean Klout score if all users where to begin to use BieberTweetter, which is expressed in terms of the standard deviation of sample means if all users where to use BieberTweetter. "
   ]
  },
  {
   "cell_type": "markdown",
   "id": "dd178250-6554-41ef-b477-73834d0467ac",
   "metadata": {},
   "source": [
    "Subbing in our value for $\\mu_{bt}$ to calculate our cofidence interval "
   ]
  },
  {
   "cell_type": "code",
   "execution_count": 88,
   "id": "ab9bda26-0f97-47c4-a40f-4d8bc3c2765b",
   "metadata": {},
   "outputs": [
    {
     "name": "stdout",
     "output_type": "stream",
     "text": [
      "95% confidence interval (38.01, 41.99)\n"
     ]
    }
   ],
   "source": [
    "lower_bound =  round(40 - float(1.96* sample_std) , 2 ) \n",
    "upper_bound = round( 40 + float(1.96* sample_std) , 2 ) \n",
    "\n",
    "print(f'95% confidence interval {(lower_bound, upper_bound )}')"
   ]
  },
  {
   "cell_type": "markdown",
   "id": "6287e0c1-753a-4abb-af20-def3460b67a7",
   "metadata": {},
   "source": [
    "This interval describes the range of values which are 95% confident that the mean Klout score if all users where to begin to use BieberTweetter would lie in. Its worth noting that the mean Klout score is currently 37.7 which lies outside of this confidence interval Hence it is unlikely that our sample of 250 BieberTweetter users with a mean of 40 was collected by random chance, suggesting that the mean Klout score if all users where to use BieberTweetter would be higher than the current Klout score, which is to be expected as if all users began to use BieberTweetter it would lead to more points and in turn higher Klout scores. \n",
    "\n",
    "This result reinforces our previous findings where we calculated the probability of achieving a sample mean of 40 or more given the current distribution which was only 1.27%. "
   ]
  },
  {
   "cell_type": "markdown",
   "id": "c569a9cf-ae22-4e29-b79c-90eaebf4ec20",
   "metadata": {},
   "source": [
    "# Task 2. "
   ]
  },
  {
   "cell_type": "markdown",
   "id": "dcab55a8-d4da-42c3-aae6-717242063c1f",
   "metadata": {},
   "source": [
    "New York traffic collision & weather dataset. The dataset shown below describes the weather conditions and the total number of collisions on a given day. An insurance company is hoping to use this data to draw a link between the total number of collisions and the weather conditions for a particular day in order to help them make smarter pricing decisions. E.g. if it were the case that days with rain lead to a larger number of total collisions then our insurance company may want to increase the price of their premiums for predicted rainy  day, so that they can more accurately price the risk they are taking on by ensuring drivers on a given day with particular weather conditions. "
   ]
  },
  {
   "cell_type": "markdown",
   "id": "bfcc0adb-e399-4537-95be-eed11931a4c7",
   "metadata": {},
   "source": [
    "# Data Loading and Cleaning "
   ]
  },
  {
   "cell_type": "code",
   "execution_count": 687,
   "id": "0c855b23-b3f8-4d8e-bc04-5006acd61c75",
   "metadata": {},
   "outputs": [
    {
     "data": {
      "text/html": [
       "<div>\n",
       "<style scoped>\n",
       "    .dataframe tbody tr th:only-of-type {\n",
       "        vertical-align: middle;\n",
       "    }\n",
       "\n",
       "    .dataframe tbody tr th {\n",
       "        vertical-align: top;\n",
       "    }\n",
       "\n",
       "    .dataframe thead th {\n",
       "        text-align: right;\n",
       "    }\n",
       "</style>\n",
       "<table border=\"1\" class=\"dataframe\">\n",
       "  <thead>\n",
       "    <tr style=\"text-align: right;\">\n",
       "      <th></th>\n",
       "      <th>day</th>\n",
       "      <th>year</th>\n",
       "      <th>mo</th>\n",
       "      <th>da</th>\n",
       "      <th>collision_date</th>\n",
       "      <th>temp</th>\n",
       "      <th>dewp</th>\n",
       "      <th>slp</th>\n",
       "      <th>visib</th>\n",
       "      <th>wdsp</th>\n",
       "      <th>mxpsd</th>\n",
       "      <th>gust</th>\n",
       "      <th>max</th>\n",
       "      <th>min</th>\n",
       "      <th>prcp</th>\n",
       "      <th>sndp</th>\n",
       "      <th>fog</th>\n",
       "      <th>NUM_COLLISIONS</th>\n",
       "    </tr>\n",
       "  </thead>\n",
       "  <tbody>\n",
       "    <tr>\n",
       "      <th>0</th>\n",
       "      <td>2</td>\n",
       "      <td>2013</td>\n",
       "      <td>1</td>\n",
       "      <td>1</td>\n",
       "      <td>01/01/2013</td>\n",
       "      <td>37.8</td>\n",
       "      <td>23.6</td>\n",
       "      <td>1011.9</td>\n",
       "      <td>10.0</td>\n",
       "      <td>6.1</td>\n",
       "      <td>8.9</td>\n",
       "      <td>19.0</td>\n",
       "      <td>39.9</td>\n",
       "      <td>33.1</td>\n",
       "      <td>0.0</td>\n",
       "      <td>999.9</td>\n",
       "      <td>0</td>\n",
       "      <td>381</td>\n",
       "    </tr>\n",
       "    <tr>\n",
       "      <th>1</th>\n",
       "      <td>3</td>\n",
       "      <td>2013</td>\n",
       "      <td>1</td>\n",
       "      <td>2</td>\n",
       "      <td>02/01/2013</td>\n",
       "      <td>27.1</td>\n",
       "      <td>10.5</td>\n",
       "      <td>1016.8</td>\n",
       "      <td>10.0</td>\n",
       "      <td>5.3</td>\n",
       "      <td>9.9</td>\n",
       "      <td>19.0</td>\n",
       "      <td>33.1</td>\n",
       "      <td>21.9</td>\n",
       "      <td>0.0</td>\n",
       "      <td>999.9</td>\n",
       "      <td>0</td>\n",
       "      <td>480</td>\n",
       "    </tr>\n",
       "    <tr>\n",
       "      <th>2</th>\n",
       "      <td>4</td>\n",
       "      <td>2013</td>\n",
       "      <td>1</td>\n",
       "      <td>3</td>\n",
       "      <td>03/01/2013</td>\n",
       "      <td>28.4</td>\n",
       "      <td>14.1</td>\n",
       "      <td>1020.6</td>\n",
       "      <td>10.0</td>\n",
       "      <td>3.7</td>\n",
       "      <td>8.0</td>\n",
       "      <td>15.0</td>\n",
       "      <td>32.0</td>\n",
       "      <td>24.1</td>\n",
       "      <td>0.0</td>\n",
       "      <td>999.9</td>\n",
       "      <td>0</td>\n",
       "      <td>549</td>\n",
       "    </tr>\n",
       "    <tr>\n",
       "      <th>3</th>\n",
       "      <td>5</td>\n",
       "      <td>2013</td>\n",
       "      <td>1</td>\n",
       "      <td>4</td>\n",
       "      <td>04/01/2013</td>\n",
       "      <td>33.4</td>\n",
       "      <td>18.6</td>\n",
       "      <td>1017.0</td>\n",
       "      <td>10.0</td>\n",
       "      <td>6.5</td>\n",
       "      <td>13.0</td>\n",
       "      <td>24.1</td>\n",
       "      <td>37.0</td>\n",
       "      <td>30.0</td>\n",
       "      <td>0.0</td>\n",
       "      <td>999.9</td>\n",
       "      <td>0</td>\n",
       "      <td>505</td>\n",
       "    </tr>\n",
       "    <tr>\n",
       "      <th>4</th>\n",
       "      <td>6</td>\n",
       "      <td>2013</td>\n",
       "      <td>1</td>\n",
       "      <td>5</td>\n",
       "      <td>05/01/2013</td>\n",
       "      <td>36.1</td>\n",
       "      <td>18.7</td>\n",
       "      <td>1020.6</td>\n",
       "      <td>10.0</td>\n",
       "      <td>6.6</td>\n",
       "      <td>12.0</td>\n",
       "      <td>21.0</td>\n",
       "      <td>42.1</td>\n",
       "      <td>32.0</td>\n",
       "      <td>0.0</td>\n",
       "      <td>999.9</td>\n",
       "      <td>0</td>\n",
       "      <td>389</td>\n",
       "    </tr>\n",
       "  </tbody>\n",
       "</table>\n",
       "</div>"
      ],
      "text/plain": [
       "   day  year  mo  da collision_date  temp  dewp     slp  visib  wdsp  mxpsd  \\\n",
       "0    2  2013   1   1     01/01/2013  37.8  23.6  1011.9   10.0   6.1    8.9   \n",
       "1    3  2013   1   2     02/01/2013  27.1  10.5  1016.8   10.0   5.3    9.9   \n",
       "2    4  2013   1   3     03/01/2013  28.4  14.1  1020.6   10.0   3.7    8.0   \n",
       "3    5  2013   1   4     04/01/2013  33.4  18.6  1017.0   10.0   6.5   13.0   \n",
       "4    6  2013   1   5     05/01/2013  36.1  18.7  1020.6   10.0   6.6   12.0   \n",
       "\n",
       "   gust   max   min  prcp   sndp  fog  NUM_COLLISIONS  \n",
       "0  19.0  39.9  33.1   0.0  999.9    0             381  \n",
       "1  19.0  33.1  21.9   0.0  999.9    0             480  \n",
       "2  15.0  32.0  24.1   0.0  999.9    0             549  \n",
       "3  24.1  37.0  30.0   0.0  999.9    0             505  \n",
       "4  21.0  42.1  32.0   0.0  999.9    0             389  "
      ]
     },
     "execution_count": 687,
     "metadata": {},
     "output_type": "execute_result"
    }
   ],
   "source": [
    "df = pd.read_csv('New_York_collisions_and_weather_data.csv')\n",
    "df.head() "
   ]
  },
  {
   "cell_type": "markdown",
   "id": "a7d476b4-39ae-4ef6-a39c-102d3f8f306c",
   "metadata": {},
   "source": [
    "In the data above each record represents an individual day, a breakdown of all individual features is shown below. \n",
    "\n",
    "`day` - day of week for the particular record \n",
    "\n",
    "`year` - year for the particular record \n",
    "\n",
    "`mo` - month for the particular record \n",
    "\n",
    "`da` - day of month for the particular record \n",
    "\n",
    "`collision_date` - date of the particular record \n",
    "\n",
    "`temperature` - mean temperature for the day in Fahrenheight, missing = 9999.9\n",
    "\n",
    "`dewp ` - Dew Point, the temperature which the current temperature would have to drop to in order to each 100% humidity, higher typically means more humid , missing = 9999.9\n",
    "\n",
    "`slp` - Mean sea level pressure for the day in millibars to tenths , missing= 9999.9\n",
    "\n",
    "`visib` - Mean visibility for the day in miles to tenths, missing = 999.9\n",
    "\n",
    "`wdsp` - Mean windspeed for the day in knots to tenths, missing = 999.9\n",
    "\n",
    "`gust` - Maximum sustained windspeed reported for the day in knots to tenths, missing = 999.9\n",
    "\n",
    "`max` - Maximum Temperature reported during the day in Fahrenheight to tenths , missing = 9999.9\n",
    "\n",
    "`min` - Minimum Temperature reported during the day in Fahrenheight to tenths, missing = 9999.9 \n",
    "\n",
    "`prcp` - Total Precipation reported during the day in inches and hundredths, missing = 99.99 \n",
    "\n",
    "`sndp` - Snow Depth in intches to tenth, missing = 999.9 if there is no snow it is usually not reported leading to a missing value \n",
    "\n",
    "`fog` - indicates if there was fog during the day 1 if yes, 0 if no or not reported. "
   ]
  },
  {
   "cell_type": "markdown",
   "id": "c2e7fb89-8017-4420-9ea5-483a656de1f8",
   "metadata": {},
   "source": [
    "## Data cleaning "
   ]
  },
  {
   "cell_type": "markdown",
   "id": "1f81234c-8035-4744-a4a8-bfacce6f2b6c",
   "metadata": {},
   "source": [
    "In our dataset missing values are replaced with numerous placeholders depending on the feature ( 99.99/999.9 / 9999.9), these missing values can either be cleaned from our table e.g. removing all rows which contain missing values or instead we could impute values in place of the missing values using either statistical methods or the hints provided around why values are typically missing. "
   ]
  },
  {
   "cell_type": "markdown",
   "id": "ec58ecbc-bb99-4856-8d83-668116dfb4fc",
   "metadata": {},
   "source": [
    "Given that there are multiple values which could indicate a missing value for continous features, the code below will display a table which shows the proportion of values in each column which are the missing value indicator shown in the index. "
   ]
  },
  {
   "cell_type": "code",
   "execution_count": 688,
   "id": "25663e04-91c3-4d1a-8b32-b7e9b7f9018f",
   "metadata": {},
   "outputs": [],
   "source": [
    "for idx, missing_value_indicator in enumerate([99.99, 999.9 , 9999.9 ]):\n",
    "    \n",
    "    if idx == 0: \n",
    "        missing_value_prop = (df == missing_value_indicator).mean() \n",
    "    else:\n",
    "        missing_value_prop = pd.concat( (missing_value_prop,  (df == missing_value_indicator).mean() ) , axis = 1)"
   ]
  },
  {
   "cell_type": "code",
   "execution_count": 689,
   "id": "80e20de2-0fd2-4b6c-addb-cb4fc295de0b",
   "metadata": {},
   "outputs": [
    {
     "data": {
      "text/html": [
       "<div>\n",
       "<style scoped>\n",
       "    .dataframe tbody tr th:only-of-type {\n",
       "        vertical-align: middle;\n",
       "    }\n",
       "\n",
       "    .dataframe tbody tr th {\n",
       "        vertical-align: top;\n",
       "    }\n",
       "\n",
       "    .dataframe thead th {\n",
       "        text-align: right;\n",
       "    }\n",
       "</style>\n",
       "<table border=\"1\" class=\"dataframe\">\n",
       "  <thead>\n",
       "    <tr style=\"text-align: right;\">\n",
       "      <th></th>\n",
       "      <th>day</th>\n",
       "      <th>year</th>\n",
       "      <th>mo</th>\n",
       "      <th>da</th>\n",
       "      <th>collision_date</th>\n",
       "      <th>temp</th>\n",
       "      <th>dewp</th>\n",
       "      <th>slp</th>\n",
       "      <th>visib</th>\n",
       "      <th>wdsp</th>\n",
       "      <th>mxpsd</th>\n",
       "      <th>gust</th>\n",
       "      <th>max</th>\n",
       "      <th>min</th>\n",
       "      <th>prcp</th>\n",
       "      <th>sndp</th>\n",
       "      <th>fog</th>\n",
       "      <th>NUM_COLLISIONS</th>\n",
       "    </tr>\n",
       "  </thead>\n",
       "  <tbody>\n",
       "    <tr>\n",
       "      <th>99.99</th>\n",
       "      <td>0.0</td>\n",
       "      <td>0.0</td>\n",
       "      <td>0.0</td>\n",
       "      <td>0.0</td>\n",
       "      <td>0.0</td>\n",
       "      <td>0.0</td>\n",
       "      <td>0.0</td>\n",
       "      <td>0.00</td>\n",
       "      <td>0.00</td>\n",
       "      <td>0.00</td>\n",
       "      <td>0.00</td>\n",
       "      <td>0.00</td>\n",
       "      <td>0.0</td>\n",
       "      <td>0.0</td>\n",
       "      <td>0.0</td>\n",
       "      <td>0.00</td>\n",
       "      <td>0.0</td>\n",
       "      <td>0.0</td>\n",
       "    </tr>\n",
       "    <tr>\n",
       "      <th>999.90</th>\n",
       "      <td>0.0</td>\n",
       "      <td>0.0</td>\n",
       "      <td>0.0</td>\n",
       "      <td>0.0</td>\n",
       "      <td>0.0</td>\n",
       "      <td>0.0</td>\n",
       "      <td>0.0</td>\n",
       "      <td>0.00</td>\n",
       "      <td>0.01</td>\n",
       "      <td>0.05</td>\n",
       "      <td>0.05</td>\n",
       "      <td>0.37</td>\n",
       "      <td>0.0</td>\n",
       "      <td>0.0</td>\n",
       "      <td>0.0</td>\n",
       "      <td>0.92</td>\n",
       "      <td>0.0</td>\n",
       "      <td>0.0</td>\n",
       "    </tr>\n",
       "    <tr>\n",
       "      <th>9999.90</th>\n",
       "      <td>0.0</td>\n",
       "      <td>0.0</td>\n",
       "      <td>0.0</td>\n",
       "      <td>0.0</td>\n",
       "      <td>0.0</td>\n",
       "      <td>0.0</td>\n",
       "      <td>0.0</td>\n",
       "      <td>0.01</td>\n",
       "      <td>0.00</td>\n",
       "      <td>0.00</td>\n",
       "      <td>0.00</td>\n",
       "      <td>0.00</td>\n",
       "      <td>0.0</td>\n",
       "      <td>0.0</td>\n",
       "      <td>0.0</td>\n",
       "      <td>0.00</td>\n",
       "      <td>0.0</td>\n",
       "      <td>0.0</td>\n",
       "    </tr>\n",
       "  </tbody>\n",
       "</table>\n",
       "</div>"
      ],
      "text/plain": [
       "         day  year   mo   da  collision_date  temp  dewp   slp  visib  wdsp  \\\n",
       "99.99    0.0   0.0  0.0  0.0             0.0   0.0   0.0  0.00   0.00  0.00   \n",
       "999.90   0.0   0.0  0.0  0.0             0.0   0.0   0.0  0.00   0.01  0.05   \n",
       "9999.90  0.0   0.0  0.0  0.0             0.0   0.0   0.0  0.01   0.00  0.00   \n",
       "\n",
       "         mxpsd  gust  max  min  prcp  sndp  fog  NUM_COLLISIONS  \n",
       "99.99     0.00  0.00  0.0  0.0   0.0  0.00  0.0             0.0  \n",
       "999.90    0.05  0.37  0.0  0.0   0.0  0.92  0.0             0.0  \n",
       "9999.90   0.00  0.00  0.0  0.0   0.0  0.00  0.0             0.0  "
      ]
     },
     "execution_count": 689,
     "metadata": {},
     "output_type": "execute_result"
    }
   ],
   "source": [
    "missing_value_prop.columns = [99.99, 999.9, 9999.9 ]\n",
    "missing_value_prop.T.round(2) "
   ]
  },
  {
   "cell_type": "markdown",
   "id": "1f8a30e5-4314-40e3-8eab-91ee7e2dda0a",
   "metadata": {
    "jp-MarkdownHeadingCollapsed": true
   },
   "source": [
    "### Deciding on the best stratgegies for each of the columns with missing values \n",
    "\n",
    "- `sndp` which is the snow depth has 92% missing values. However, it's common that stations do not report zeros for days with no snow and only report the actual snow depth on days with snow, so all missing values will be replaced with 0s to represent no snow. \n",
    "\n",
    "- `gust` also has a fairly high proportion of missing values 0.37, though there is no information provided around why these values may be missing, so mean inputation will be used. \n",
    "\n",
    "- `wdsp`, `slp`, `visib` , `mxpsd` - All have fairly low levels of missing values when compared to the previous to features but similar to  `gust` there is no added info provided around why the values are missing, hence we will use mean imputation\n"
   ]
  },
  {
   "cell_type": "markdown",
   "id": "d0c78801-740d-4ab3-93c5-62d3dd45a380",
   "metadata": {},
   "source": [
    "### replacing missing values "
   ]
  },
  {
   "cell_type": "markdown",
   "id": "3ec8284b-b9b2-4bc7-bb04-ad1154fb3421",
   "metadata": {},
   "source": [
    "Zero inputation for `sndp` "
   ]
  },
  {
   "cell_type": "code",
   "execution_count": 690,
   "id": "1a9cd1bb-5a45-45c8-a59d-5e966562cab3",
   "metadata": {},
   "outputs": [],
   "source": [
    "df['sndp'] = df['sndp'].replace(999.9 , 0 ) "
   ]
  },
  {
   "cell_type": "markdown",
   "id": "d20612cf-b69c-44bc-b2dd-4db17ab78354",
   "metadata": {},
   "source": [
    "Mean Imputation for `gust`, `wdsp`, `slp`, `visib`, `mxpsd`. "
   ]
  },
  {
   "cell_type": "code",
   "execution_count": 691,
   "id": "105254a7-8e4b-44bb-859b-c18d6323eb8f",
   "metadata": {},
   "outputs": [],
   "source": [
    "# dictionary defining each feature and the value which is used to represent missing values\n",
    "\n",
    "feature_missing_indicator = {'gust' : 999.9 , 'wdsp' : 999.9 , 'slp' : 9999.9 , 'visib' : 999.9 , 'mxpsd'  :999.9 } \n",
    "for feature, indicator in feature_missing_indicator.items(): \n",
    "    df[feature] = df[feature].replace(indicator, df[feature][df[feature] != indicator].mean() ) "
   ]
  },
  {
   "cell_type": "markdown",
   "id": "8fe1935b-c057-4b1c-9c47-f3a1a911a09d",
   "metadata": {},
   "source": [
    "### converting dates to pandas datetime dtype "
   ]
  },
  {
   "cell_type": "markdown",
   "id": "17bfa285-5799-448f-8ac6-7cb0adbd5d83",
   "metadata": {},
   "source": [
    "Currently the collision date is stored in our dataframe as a string, we can convert this to a pandas datetime object which will make any future calculations regarding the collision date easier. "
   ]
  },
  {
   "cell_type": "code",
   "execution_count": 692,
   "id": "4e0b4583-47f2-454e-957b-cf895b48dfb1",
   "metadata": {},
   "outputs": [],
   "source": [
    "df.collision_date = pd.to_datetime(df.collision_date, dayfirst = True ) "
   ]
  },
  {
   "cell_type": "markdown",
   "id": "caae51ca-d611-4adc-b5fd-745e9c5a2997",
   "metadata": {},
   "source": [
    "### printing cleaned table "
   ]
  },
  {
   "cell_type": "code",
   "execution_count": 693,
   "id": "c44c44b5-9bfc-4309-819f-1490d68647f9",
   "metadata": {
    "scrolled": true
   },
   "outputs": [
    {
     "data": {
      "text/html": [
       "<div>\n",
       "<style scoped>\n",
       "    .dataframe tbody tr th:only-of-type {\n",
       "        vertical-align: middle;\n",
       "    }\n",
       "\n",
       "    .dataframe tbody tr th {\n",
       "        vertical-align: top;\n",
       "    }\n",
       "\n",
       "    .dataframe thead th {\n",
       "        text-align: right;\n",
       "    }\n",
       "</style>\n",
       "<table border=\"1\" class=\"dataframe\">\n",
       "  <thead>\n",
       "    <tr style=\"text-align: right;\">\n",
       "      <th></th>\n",
       "      <th>day</th>\n",
       "      <th>year</th>\n",
       "      <th>mo</th>\n",
       "      <th>da</th>\n",
       "      <th>collision_date</th>\n",
       "      <th>temp</th>\n",
       "      <th>dewp</th>\n",
       "      <th>slp</th>\n",
       "      <th>visib</th>\n",
       "      <th>wdsp</th>\n",
       "      <th>mxpsd</th>\n",
       "      <th>gust</th>\n",
       "      <th>max</th>\n",
       "      <th>min</th>\n",
       "      <th>prcp</th>\n",
       "      <th>sndp</th>\n",
       "      <th>fog</th>\n",
       "      <th>NUM_COLLISIONS</th>\n",
       "    </tr>\n",
       "  </thead>\n",
       "  <tbody>\n",
       "    <tr>\n",
       "      <th>0</th>\n",
       "      <td>2</td>\n",
       "      <td>2013</td>\n",
       "      <td>1</td>\n",
       "      <td>1</td>\n",
       "      <td>2013-01-01</td>\n",
       "      <td>37.8</td>\n",
       "      <td>23.6</td>\n",
       "      <td>1011.9</td>\n",
       "      <td>10.0</td>\n",
       "      <td>6.1</td>\n",
       "      <td>8.9</td>\n",
       "      <td>19.0</td>\n",
       "      <td>39.9</td>\n",
       "      <td>33.1</td>\n",
       "      <td>0.0</td>\n",
       "      <td>0.0</td>\n",
       "      <td>0</td>\n",
       "      <td>381</td>\n",
       "    </tr>\n",
       "    <tr>\n",
       "      <th>1</th>\n",
       "      <td>3</td>\n",
       "      <td>2013</td>\n",
       "      <td>1</td>\n",
       "      <td>2</td>\n",
       "      <td>2013-01-02</td>\n",
       "      <td>27.1</td>\n",
       "      <td>10.5</td>\n",
       "      <td>1016.8</td>\n",
       "      <td>10.0</td>\n",
       "      <td>5.3</td>\n",
       "      <td>9.9</td>\n",
       "      <td>19.0</td>\n",
       "      <td>33.1</td>\n",
       "      <td>21.9</td>\n",
       "      <td>0.0</td>\n",
       "      <td>0.0</td>\n",
       "      <td>0</td>\n",
       "      <td>480</td>\n",
       "    </tr>\n",
       "    <tr>\n",
       "      <th>2</th>\n",
       "      <td>4</td>\n",
       "      <td>2013</td>\n",
       "      <td>1</td>\n",
       "      <td>3</td>\n",
       "      <td>2013-01-03</td>\n",
       "      <td>28.4</td>\n",
       "      <td>14.1</td>\n",
       "      <td>1020.6</td>\n",
       "      <td>10.0</td>\n",
       "      <td>3.7</td>\n",
       "      <td>8.0</td>\n",
       "      <td>15.0</td>\n",
       "      <td>32.0</td>\n",
       "      <td>24.1</td>\n",
       "      <td>0.0</td>\n",
       "      <td>0.0</td>\n",
       "      <td>0</td>\n",
       "      <td>549</td>\n",
       "    </tr>\n",
       "    <tr>\n",
       "      <th>3</th>\n",
       "      <td>5</td>\n",
       "      <td>2013</td>\n",
       "      <td>1</td>\n",
       "      <td>4</td>\n",
       "      <td>2013-01-04</td>\n",
       "      <td>33.4</td>\n",
       "      <td>18.6</td>\n",
       "      <td>1017.0</td>\n",
       "      <td>10.0</td>\n",
       "      <td>6.5</td>\n",
       "      <td>13.0</td>\n",
       "      <td>24.1</td>\n",
       "      <td>37.0</td>\n",
       "      <td>30.0</td>\n",
       "      <td>0.0</td>\n",
       "      <td>0.0</td>\n",
       "      <td>0</td>\n",
       "      <td>505</td>\n",
       "    </tr>\n",
       "    <tr>\n",
       "      <th>4</th>\n",
       "      <td>6</td>\n",
       "      <td>2013</td>\n",
       "      <td>1</td>\n",
       "      <td>5</td>\n",
       "      <td>2013-01-05</td>\n",
       "      <td>36.1</td>\n",
       "      <td>18.7</td>\n",
       "      <td>1020.6</td>\n",
       "      <td>10.0</td>\n",
       "      <td>6.6</td>\n",
       "      <td>12.0</td>\n",
       "      <td>21.0</td>\n",
       "      <td>42.1</td>\n",
       "      <td>32.0</td>\n",
       "      <td>0.0</td>\n",
       "      <td>0.0</td>\n",
       "      <td>0</td>\n",
       "      <td>389</td>\n",
       "    </tr>\n",
       "  </tbody>\n",
       "</table>\n",
       "</div>"
      ],
      "text/plain": [
       "   day  year  mo  da collision_date  temp  dewp     slp  visib  wdsp  mxpsd  \\\n",
       "0    2  2013   1   1     2013-01-01  37.8  23.6  1011.9   10.0   6.1    8.9   \n",
       "1    3  2013   1   2     2013-01-02  27.1  10.5  1016.8   10.0   5.3    9.9   \n",
       "2    4  2013   1   3     2013-01-03  28.4  14.1  1020.6   10.0   3.7    8.0   \n",
       "3    5  2013   1   4     2013-01-04  33.4  18.6  1017.0   10.0   6.5   13.0   \n",
       "4    6  2013   1   5     2013-01-05  36.1  18.7  1020.6   10.0   6.6   12.0   \n",
       "\n",
       "   gust   max   min  prcp  sndp  fog  NUM_COLLISIONS  \n",
       "0  19.0  39.9  33.1   0.0   0.0    0             381  \n",
       "1  19.0  33.1  21.9   0.0   0.0    0             480  \n",
       "2  15.0  32.0  24.1   0.0   0.0    0             549  \n",
       "3  24.1  37.0  30.0   0.0   0.0    0             505  \n",
       "4  21.0  42.1  32.0   0.0   0.0    0             389  "
      ]
     },
     "execution_count": 693,
     "metadata": {},
     "output_type": "execute_result"
    }
   ],
   "source": [
    "df.head() "
   ]
  },
  {
   "cell_type": "markdown",
   "id": "539d2d02-a947-44d4-ab01-8194f986da54",
   "metadata": {},
   "source": [
    "## Bivariate Analysis of the features "
   ]
  },
  {
   "cell_type": "markdown",
   "id": "c572c3e5-0634-4c70-80b9-d240efeaa91b",
   "metadata": {},
   "source": [
    "Given that the insurance company is interested in linking our time/weather features to the number of collisions on a given day, we will first measure the correlation between each of our features and the number of collisions on a given day.\n",
    "\n",
    "The results of this Bivariate analysis/correlation study should inform us around which features e.g. days of week or particular weather conditions that the insurance company should pay particular attention to when pricing their insurance for a given day. \n",
    "\n",
    "\n",
    "Its important to note that our dataset currently contains both continous and discrete features, different techniques must be applied to calculate the correlation between our continous features and the number of collisions when compared to our discrete features. For our continous features we can simply calculate a Pearson Correlation Coefficeint (r score) and for our discrete features will create scatter plots betweeh each feature and the no. collisions which can be used to interpret correlations. "
   ]
  },
  {
   "cell_type": "code",
   "execution_count": 749,
   "id": "442ac93a-a504-46b7-9251-149be5ca9989",
   "metadata": {},
   "outputs": [],
   "source": [
    "continous_features = ['temp','dewp','slp', 'visib', 'wdsp','mxpsd','gust','max','min','prcp', 'sndp' , 'day'  , 'NUM_COLLISIONS']\n",
    "dateime_features = ['collision_date'] \n",
    "categorical_features = ['day', 'year', 'mo' , 'fog' ] "
   ]
  },
  {
   "cell_type": "markdown",
   "id": "3301839a-4db1-4d05-9950-d6f327930997",
   "metadata": {},
   "source": [
    "`day` appears in both of the lists for continous as well as categorical features. Given that each day of the week is represented using an integer this means we are able to treat it is a both a continous and a categorical feature in our bivariate analysis. "
   ]
  },
  {
   "cell_type": "markdown",
   "id": "773d0103-0a20-470c-981d-a624e5cae53c",
   "metadata": {},
   "source": [
    "## Measuring Pairiwse Correlation between continous features "
   ]
  },
  {
   "cell_type": "markdown",
   "id": "909baddd-3b4b-40b5-ad14-95367ac47c7c",
   "metadata": {},
   "source": [
    "Below is a heatmap which displays the pearsons correlation coefficient between each pair of continous features in our dataset. A Pearsons correlation ranges between -1 and 1, with 1/-1 indiciating perfect positive/negative correlation that two features are parallel to eachother and 0 indicating that there is zero correlation and the two features are perpendicular to each other."
   ]
  },
  {
   "cell_type": "code",
   "execution_count": 750,
   "id": "7aaf5922-afc1-48b6-9f98-40addb45c7c0",
   "metadata": {},
   "outputs": [
    {
     "data": {
      "image/png": "[encoded data removed]",
      "text/plain": [
       "<Figure size 900x900 with 2 Axes>"
      ]
     },
     "metadata": {},
     "output_type": "display_data"
    }
   ],
   "source": [
    "import matplotlib as mpl \n",
    "from mpl_toolkits.axes_grid1 import make_axes_locatable\n",
    "\n",
    "fig,ax = plt.subplots( 1,   figsize = (9,9)  )\n",
    "\n",
    "correlation_matrix = df[continous_features].corr().values\n",
    "\n",
    "\n",
    "heatmap = ax.imshow( correlation_matrix , cmap = 'magma') \n",
    "\n",
    "for i in range(len(continous_features) ): \n",
    "    for j in range(i, len(continous_features)  ): \n",
    "        if correlation_matrix[i,j] > 0.2: \n",
    "            ax.text(i,j, round(correlation_matrix[i,j], 2) , size = 8, ha = 'center' , va = 'center'  ) \n",
    "        else:\n",
    "            ax.text(i,j, round(correlation_matrix[i,j], 2) , size = 8, ha = 'center' , va = 'center' , c = 'white' ) \n",
    "      # plt.text(j,i , round(correlation_matrix[i,j], 2) , size = 6, ha = 'center' , va = 'center'  ) \n",
    "\n",
    "divider = make_axes_locatable(ax)\n",
    "cax = divider.append_axes('right',  size='7%', pad=0.1 ) \n",
    "\n",
    "fig.colorbar(heatmap, cax = cax  ) \n",
    "\n",
    "ax.set_xticks(np.arange(len(continous_features) ) , continous_features , rotation = 90 ) \n",
    "ax.set_yticks(np.arange(len(continous_features)) , continous_features )\n",
    "\n",
    "ax.set_title('\\n Correlation Heatmap \\n ' , size = 20 )  \n",
    "ax.set_xlabel('features', size = 12  ) \n",
    "ax.set_ylabel('features', size = 12  ) ; "
   ]
  },
  {
   "cell_type": "markdown",
   "id": "4e8f7f62-e8e8-4b54-8a01-1bbd7d05a04b",
   "metadata": {
    "jp-MarkdownHeadingCollapsed": true
   },
   "source": [
    "Given that we are interested in using weather/time data in order to predict  ```NUM_COLLISIONS```, we will primarly be focusing on the bottom row of our heatmap which displays each of the pairwise correlations with `NUM_COLLISIONS`. Across the board we can see that the correlation between our features `NUM_COLLISIONS` seems quite weak with no feature achieving an r score above 0.3. \n",
    "\n",
    "### Positive feature correlations with `NUM_COLLISIONS` \n",
    "\n",
    "- ` temp ` : The mean Temperature achieves an r score of 0.22, which means that there is a weak positive correlation between mean Temperature for a given day and the number of collisions. This could be as the warmer the weather the more people are outside attending events etc leading to an increase in the number of pedestrians as well as drivers.\n",
    "  \n",
    "- `dewp`, `max` , `min` : are all  highly correlated with `temp` with r scores of 0.94, 0.98, 0.98 respectively, which explains why they each have similar r scores with `NUM_COLLISIONS` as `temp`. \n",
    "   \n",
    "### Negative feature correlations with `NUM_COLLISIONS`  \n",
    "\n",
    "- `day` : The day of week as a continous feature achieves the strongest correlation with `NUM_COLLISIONS` out of all features in our dataset, with a R score of -0.28 which is likely cause  fall in the number of commuters and in turn total road users on the Saturday/Sunday which are encoding with the largest integers 6 and 7 respectively\n",
    "\n",
    "- `wdsp`,`gust` : have an r score of -0.12 and -0.11 between themselve and `NUM_COLLISIONS` respectively (as they are both highly correlated with one another), these small correlation scores may be a result of greater amounts of wind leading to a reduction in the control drivers have over their vehicles leading to a larger no. collisions. \n",
    "\n",
    "### Features with none/negible correlation \n",
    "\n",
    "I have defined all features with none / negible correlation as those with a r score in the range $(-0.1, 0.1)$ \n",
    "\n",
    "Many weather based features seem to have very little correlation with the total number of collisions. E.g. both `prcp` (rainfall) and `sndp` (snowfall) and `visib`  (vibility) which are commonly believed to increase the risk of collisions have r scores close to zero, with `sndp` having a small but negative r score implying that snow leads to a reduced number of collisions which is likely a result of less people driving whilst it snows. \n",
    "\n",
    "`slp` sea level temperature seems to have a small negative correlation with no. collisions. "
   ]
  },
  {
   "cell_type": "markdown",
   "id": "dce5a7af-3ba0-410c-bc71-7b66179c8119",
   "metadata": {},
   "source": [
    "### No. Collisions Vs Rate of Collisions "
   ]
  },
  {
   "cell_type": "markdown",
   "id": "064832fe-46dd-47f3-8284-61373a1f3a46",
   "metadata": {},
   "source": [
    "One possible reason why we see such low correlation between each of our weather based features and the total number of collisions, is that it may be the case that our weather based features e.g. `prcp` (rainfall) are correlated with the rate of collisions $\\left(\\frac{\\text{no. collisions}}{\\text{no. drivers}} \\right)$ rather than the total number of collisions. E.g. A rainy day may lead to less people driving on the roads but a greater risk of a collision due to the rain could mean that there is the same number of collisions on a rainy day as a dry day. Hence, it may be worthwhile for the insurance company to aim to predict the rate of collisions on a given day rather than the total number of collsions as it more accurately represents the risk they are taking by ensuring drivers. \n",
    "\n",
    "A large facotr which influences e no. collisions may be simply be the number of drivers on the road as with more road users you are likely to expect more collisions. "
   ]
  },
  {
   "cell_type": "markdown",
   "id": "713ef091",
   "metadata": {},
   "source": [
    "## Plotting the corelation between categorical features and the total number of collisions "
   ]
  },
  {
   "cell_type": "markdown",
   "id": "30724557-3737-4986-a28a-40ded648d09d",
   "metadata": {},
   "source": [
    "Below is a plot which displays the individual scatter plots between each of our categorical variables and the total number of collisions on a given day. "
   ]
  },
  {
   "cell_type": "code",
   "execution_count": 746,
   "id": "af113850-0c4e-4866-9fee-c880d2adf917",
   "metadata": {},
   "outputs": [
    {
     "data": {
      "image/png": "[encoded data removed]",
      "text/plain": [
       "<Figure size 1200x500 with 4 Axes>"
      ]
     },
     "metadata": {},
     "output_type": "display_data"
    }
   ],
   "source": [
    "#converting al of our features to str, to ensure our xticks are formatted correctly \n",
    "for feature in categorical_features:\n",
    "    df[feature] = df[feature].astype('string')\n",
    "\n",
    "#setting the number of subplots equal to our number of features \n",
    "\n",
    "n_subplots = len(categorical_features)\n",
    "\n",
    "fig, ax = plt.subplots( 1, n_subplots , figsize = (12, 5     ) ) \n",
    "\n",
    "fig.suptitle(' Categorical features plotted against the number of collisions ')\n",
    "\n",
    "#dictionary defining the xticks are currently days of week and months of year are encoded using integers \n",
    "xticks_dict = {'day': ['Monday', 'Tuesday', 'Wednesday', 'Thursday', 'Friday', 'Saturday', 'Sunday'],\n",
    "              'mo': ['Jan', 'Feb', 'Mar', 'Apr', 'May', 'Jun', 'Jul', 'Aug', 'Sep', 'Oct', 'Nov', 'Dec'],\n",
    "              'fog' : ['clear', 'foggy' ] }\n",
    "\n",
    "\n",
    "y_idx = 0 \n",
    "for idx, categorical_feature in enumerate(categorical_features): \n",
    "\n",
    "    #only want to set a y label for the first plot as it will be shared between the rest \n",
    "    if idx == 0:\n",
    "        ax[idx].set_ylabel('number of collisions') \n",
    "    else:\n",
    "        ax[idx].set_yticks([]) \n",
    "\n",
    "\n",
    "    ax[idx].set_xlabel(categorical_feature)\n",
    "    \n",
    "    ax[idx].scatter(df[categorical_feature], df.NUM_COLLISIONS, s= 8 , alpha = 0.3  ) \n",
    "\n",
    "    #if our feature has predefined xticks(day,month) assign them to our plot else use the existing onces\n",
    "    if xticks_dict.get(categorical_feature):\n",
    "        xticks = xticks_dict.get(categorical_feature)\n",
    "    else: \n",
    "        xticks = ax[idx].get_xticklabels() \n",
    "        \n",
    "    ax[idx].set_xticks(np.arange(len(xticks) ) , xticks, rotation = 90 ) \n",
    "\n",
    "    #calculating the mean number of collisions for each setting of our discrete variable and plotting it \n",
    "    means = df.groupby(categorical_feature)['NUM_COLLISIONS'].mean() \n",
    "    for i,mean in enumerate(means):\n",
    "        ax[idx].hlines(mean, i - 0.2, i + 0.2,  color = 'red'   ) \n",
    "    \n",
    "    if idx % 2 == 0: \n",
    "        y_idx = +1 \n",
    "    \n",
    "ax[idx].hlines(mean, i - 0.2, i + 0.2,  color = 'red'  , label = 'mean' ) \n",
    "fig.supxlabel('features')\n",
    "fig.tight_layout() \n",
    "fig.legend(); "
   ]
  },
  {
   "cell_type": "markdown",
   "id": "6b8a2ccf-cc0e-4bf2-9615-784289f28fc2",
   "metadata": {},
   "source": [
    "The scatter plots have been plotted with an alpha of 0.5, meaning that darker blue areas imply greater frequency of points and the red  bars indicate the mean number of collisions for each setting of our discrete variable. \n",
    "\n",
    "-  `day` : The mean number of collisions rises gradually through the week until Friday where it shoots up and then falls back down again on Saturday and Sunnday. This is likely a result of less people driving on the weekends due to less commuting, with Friday likely being the higest as it is a mix of commuting as well as socail events etc. \n",
    "\n",
    "-  `year` : We can see that there was a gradual rise in the number of collisions each year and then starting to plateu in 2017.  \n",
    "\n",
    "- `mo` : the mean number of collisions seems to fluctuate throught the months. Sepetember with the highest mean collisions, this could potentially be caused by people beginning to back to school/work. January has the lowest mean which could be a result of poor weather and a quieter period following winter festivities. \n",
    "\n",
    "- `fog` : We can observe little difference between foggy and clear, with foggy being marginally higher which is expected given that fog can lead to reduced visibility increasing the chance of a road accident. But as mentioned previously it is likely that some weather conditions are more correlated with the rate of collisions rather than the no. collisions. "
   ]
  },
  {
   "cell_type": "markdown",
   "id": "1f2e2a33-1f8f-4509-8b42-9e868af02809",
   "metadata": {},
   "source": [
    "## Sine transform to day of week feature. "
   ]
  },
  {
   "cell_type": "markdown",
   "id": "e77b3021-6c82-4244-bfa7-692af654c30a",
   "metadata": {},
   "source": [
    "When looking at the scatter graph of day of week plotted against the total number of crashes, we observe some level of \"wave like\"/ sinusoidal behaviour as the number of collisions rises until friday and then falls on both saturday and sunday. This pattern is vaguely similar to a sine wave between $(0, \\pi)$.\n",
    "\n",
    "Hence, to improve the correlation between day of week stored as a continous feature and the number of collisions, we can apply the following sine transformation: \n",
    "\n",
    "$$ \\hat{x} = sin \\left(\\frac{x\\times{\\pi}}{n } \\right)$$\n",
    "\n",
    "where $x$ is the integer representing the day of the week, $n$ is 7 (the number of days in a week) and $\\hat{x}$ is our transformed value. "
   ]
  },
  {
   "cell_type": "markdown",
   "id": "d3e5e192-09da-47cb-a2b0-79682cb2da03",
   "metadata": {},
   "source": [
    "Below is a graph displaying the sine transformation of days of week described above, where the height of day of week represents its transformed value. "
   ]
  },
  {
   "cell_type": "code",
   "execution_count": 697,
   "id": "b5505882-b7cf-4ef7-987c-370a864a46fc",
   "metadata": {
    "jupyter": {
     "source_hidden": true
    }
   },
   "outputs": [
    {
     "data": {
      "image/png": "[encoded data removed]",
      "text/plain": [
       "<Figure size 600x300 with 1 Axes>"
      ]
     },
     "metadata": {},
     "output_type": "display_data"
    }
   ],
   "source": [
    "plt.figure(figsize = (6,3  ) ) \n",
    "xvals = np.linspace(0, np.pi, 10000 ) \n",
    "yvals = np.sin(xvals) \n",
    "plt.plot(xvals, yvals ) \n",
    "plt.xticks([0, np.pi /2 , np.pi  ] , ['0' , '$0.5\\pi$',  '$\\pi$'] ); \n",
    "plt.yticks([1, 0  ] )\n",
    "plt.title('$sin(x)$ between $(0,\\pi)$ \\n'  )\n",
    "days_of_week = ['Monday', 'Tuesday', 'Wednesday', 'Thursday', 'Friday', 'Saturday', 'Sunday' ] \n",
    "for idx, day in enumerate(days_of_week):\n",
    "    xval = (idx + 1 ) * (np.pi / 7)\n",
    "    yval = np.sin(xval) \n",
    "    plt.scatter( xval, yval  , label =  day )\n",
    "\n",
    "plt.xlabel('$x$')\n",
    "plt.ylabel(\"$x'$\")\n",
    "plt.legend(); "
   ]
  },
  {
   "cell_type": "markdown",
   "id": "df0eae4a-6685-4b63-86e7-2467a3de8c50",
   "metadata": {},
   "source": [
    "The Sine transformation doesnt perfectly match relationship between day of week and no. collisions perfectly, the transform means Wednesday and Thursday are expected to have the highest no. collisions where our impirical data shows that Friday has the higher no. collisions.  However, it still captures the rough trend in the data and should hence lead to an improvement in the correlation between day of week and total number of collisions. "
   ]
  },
  {
   "cell_type": "markdown",
   "id": "712865e1-08ff-429a-bbfd-84d7ed7349e2",
   "metadata": {},
   "source": [
    "Calculating the correlation coefficient between our sine transformed day of week feature and total number of collisions. "
   ]
  },
  {
   "cell_type": "code",
   "execution_count": 698,
   "id": "db2d42d9-f09c-43c1-885d-c1564f612e8d",
   "metadata": {},
   "outputs": [
    {
     "data": {
      "text/plain": [
       "0.46"
      ]
     },
     "execution_count": 698,
     "metadata": {},
     "output_type": "execute_result"
    }
   ],
   "source": [
    "df.day = df.day.astype('int') \n",
    "day_sine = df.day.apply( lambda x : np.sin(  np.pi  * ( x / 7 ) )  ) \n",
    "float(round(np.corrcoef(day_sine, df.NUM_COLLISIONS)[0][1], 2)) "
   ]
  },
  {
   "cell_type": "markdown",
   "id": "05a0ab31-de19-4908-9d97-4ba829a9c6e0",
   "metadata": {},
   "source": [
    "The Sine transform led to an increase in the correlation between our day of week feature and the total number of collisions from ~ -0.26 to ~ 0.46, the strength of the correlation increased but also the direction has reversed from a negative to a positive correlation. "
   ]
  },
  {
   "cell_type": "markdown",
   "id": "7747544b",
   "metadata": {},
   "source": [
    "### One Hot encoding day of week feature"
   ]
  },
  {
   "cell_type": "markdown",
   "id": "f903634f-3079-46c9-bd99-6a582e53836c",
   "metadata": {},
   "source": [
    "Despite transforming the day of week feature using a sine curve to better match the rise and fall of collisions during the week, it may be more sensible to encode the day of the week feature using one hot encodings, where we create a seperature feature for each individual day of week where 1 indiciates if a particular row corresponds to a given day of the week. This will be particular useful when it comes to the regression analysis as our model will be able to learn an individual weight for each day of week. "
   ]
  },
  {
   "cell_type": "markdown",
   "id": "11dfbe1c-7b1d-4910-bac9-e25816444789",
   "metadata": {},
   "source": [
    "# Regression Analysis "
   ]
  },
  {
   "cell_type": "markdown",
   "id": "801a3755",
   "metadata": {},
   "source": [
    "Training a linear regression model to predict `NUM_COLLISIONS` using our weather and time beased features, Provided the model is accurate it can be used by insurance company to more accurately price the risk they are taking on through insuring drivers on a particular day. \n",
    "\n",
    "Our Linear Regression model will exploit the linear correlations between our features and the total number of collisions, which we explored in the bivariate data analysis. "
   ]
  },
  {
   "cell_type": "markdown",
   "id": "538def48-72fb-4acb-990b-474788fc90d5",
   "metadata": {},
   "source": [
    "## Linear Regression Overview "
   ]
  },
  {
   "cell_type": "markdown",
   "id": "18dd41de-1d32-4135-8624-5014d8eab454",
   "metadata": {},
   "source": [
    "Linear Regression works by assuming our target variable can be expressed as a linear combination of our features. It aims to find $\\mathbf{w}$ such that its dot product with our feature vector $\\mathbf{x}$ produces a prediction $\\mathbf{y'}$ which is close to our taget variable $\\mathbf{y}$. \n",
    "\n",
    "$$ \\mathbf{y'} = \\mathbf{w}\\cdot{\\mathbf{x}} $$\n",
    "\n",
    "In case of our collision dataset, our feature vector $\\mathbf{x}$ stores weather and time data for a particular day and our target variable $\\mathbf{y}$ is the observed number of preidctions on that day and finally $\\mathbf{y'}$ is our predicted number of collisions given the time and weather conditions defined inside of our feature vector $\\mathbf{x}$. \n",
    "\n",
    "To measure the accuracy of a particular setting of $\\mathbf{w}$ which is responsible for our predictions, we can define our loss function which is the sum of the squared difference between our actual and predicted no. collisions across all of the samlpes in our training set. \n",
    "\n",
    "$$ \\mathcal{L}(\\mathbf{w}) = \\sum_{i=1}^{n} ( \\mathbf{y}_{i} - \\mathbf{w}\\cdot{\\mathbf{x}_i})^{2} $$ \n",
    "\n",
    "Where $n$ is the number of training samples, $\\mathbf{y}_i$ observed no. collisions for the current sample $w \\cdot{\\mathbf{x}_i} $  is our predicted number of collisions.\n",
    "\n",
    "This is known as ordinary Least Squared(OLS) regression, given that we are amining to find $\\mathbf{w}$ which minimises the sum of the squared differences, squared differences are used to ensure that positive and negative differences do not cancel eachother out during the summation process. \n",
    "\n",
    "The process of training a linear regression model / finding the optimal $\\mathbf{w}$ doesnt require an interative optimization method like gradient descent rather the global minima of the loss function can be computed analyitically thanks to the convex loss function and the model's linear formulation. \n",
    "\n",
    "To setting the optimal setting of $\\mathbf{w}$, we must fund $\\mathbf{w}$ such that the derivative of our loss function with respect to $\\mathbf{w}$ is equal to zero. \n",
    "\n",
    "$$ \\frac{d \\mathcal{L}(\\mathbf{w})}{d \\mathbf{w} } = 0 $$\n",
    "\n",
    "(Zhu, 2011)\n",
    "\n",
    "This equation above can be solved using multivariate calculus which will calculate the closed form solution. But in this notebook we will use scikit-learns `LinearRegression` which has an in-built OLS slolver. "
   ]
  },
  {
   "cell_type": "markdown",
   "id": "caf56d15-8930-4d27-b16c-6cbe1224b83f",
   "metadata": {},
   "source": [
    "## Importing libraries "
   ]
  },
  {
   "cell_type": "code",
   "execution_count": 699,
   "id": "4416b369",
   "metadata": {},
   "outputs": [],
   "source": [
    "from sklearn.model_selection import train_test_split \n",
    "from sklearn.linear_model import LinearRegression \n",
    "from sklearn.metrics import r2_score , mean_absolute_error, mean_squared_error"
   ]
  },
  {
   "cell_type": "markdown",
   "id": "1b5c2284-dc5c-465d-832a-4d069b6ea0f4",
   "metadata": {},
   "source": [
    "## Feature Selection "
   ]
  },
  {
   "cell_type": "markdown",
   "id": "70e77b89-09b5-40db-a736-35152a711538",
   "metadata": {},
   "source": [
    "Given the context of aiming to predict the number of collisions in the future, the following features are worth dropping from our dataset: \n",
    "\n",
    "- `collision_date` : Training a linear regression model with `collision_date` as categorical feature, will result in a learnt weight for each individual day inside of the dataset. However, these weights cannot be used to predict the number of collisions for future dates. \n",
    "\n",
    "- `year` : `year` as a categorical feature will result in the model learning a weight which displays the average no. collisions over a year but wont be useful for predicting `NUM_COLLISIONS` for future years. \n",
    "\n",
    "- `da` : `day` represents day of the month will also be removed given that it is likely to be random noise.\n",
    "\n",
    "- `NUM_COLLISIONS` : as if it were available then there would be no need to predict it / not available at inference time.\n",
    "\n",
    "\n",
    "- `dewp`, `max` , `min` are all highly correlated with `temp`.\n",
    "\n",
    "- `maxwdsp` and `gust` are highly correlated with `wdsp`\n",
    "\n",
    "Highly correlated features can make it difficult for the model to determine which features are important, it can reduce the interability of the model and depending on the solver can impact model training as parallel features can it difficult to compute the inverse/psudeo inverse required in the closed form solution for OLS. "
   ]
  },
  {
   "cell_type": "code",
   "execution_count": 700,
   "id": "39360bac-2254-4af2-ae79-0f62508ba3df",
   "metadata": {},
   "outputs": [],
   "source": [
    "# Dropping features mentioned above\n",
    "X_df = df.drop( [ 'year', 'da',  'collision_date', 'NUM_COLLISIONS'] ,  axis = 'columns' )\n",
    "# Selecting non correlated features \n",
    "X_df = X_df[[ 'day', 'mo', 'temp', 'wdsp', 'fog', 'prcp', 'sndp', 'slp' ] ] "
   ]
  },
  {
   "cell_type": "markdown",
   "id": "9e94e457",
   "metadata": {},
   "source": [
    "Calling `pd.get_dummies` to split out categorical features with more than 2 possible settings inside our dataframe . This will split out each of the individual settings of each categorical/discrete feature into their own feature.\n",
    "\n",
    "For example, our day feature is seperated into 7 different features each of which store a True/False value indicating whether or not it is the current day. "
   ]
  },
  {
   "cell_type": "code",
   "execution_count": 701,
   "id": "a205a2db-be4a-466c-8793-8fe0950c4556",
   "metadata": {},
   "outputs": [],
   "source": [
    "# Converting our day feature to string as get_dummies classifies categorical features as those with a string datatype. \n",
    "X_df.day = X_df.day.astype('str') \n",
    "X_df.fog = X_df.fog.astype('int') \n",
    "\n",
    "#creating our feature matrix X and target vector y\n",
    "X_df = pd.get_dummies(X_df)\n",
    "\n",
    "y = df['NUM_COLLISIONS']"
   ]
  },
  {
   "cell_type": "markdown",
   "id": "7791f774-84f9-4e74-90ff-921dcf513136",
   "metadata": {},
   "source": [
    "Dropping `day_1` and `mo_7` from our dataset to avoid the dummy variable trap, as `day_1` can be represented by 0s in all other day dummy variables, Also including all dummy variables created by `get_dummies()`  will create depedent variables in our feature matrix as `day_1` can be represented as a linear combination of `day_2`, `day_3` ... `day_7` which makes our matrix singular meaning it has no inverse and as result we cannot commpute inverse which is required for the closed form solution. \n",
    "(Mohan, 2024)\n",
    "\n",
    "However, scikit-learn using the psuedo inverse rather than the pure inverse so this step is not strictly required but it is general good practice. "
   ]
  },
  {
   "cell_type": "code",
   "execution_count": 702,
   "id": "523ec945-8a96-4578-92fe-ba00ab5e5848",
   "metadata": {},
   "outputs": [],
   "source": [
    "X_df.drop(['day_1', 'mo_7' ], axis = 'columns', inplace = True ) "
   ]
  },
  {
   "cell_type": "markdown",
   "id": "a5034119-1057-459a-890b-c7fc26cae3cf",
   "metadata": {},
   "source": [
    "We are dropping `day_1` and `mo_7` in particular given that the mean no. collisions for each of these lies closest to the mean no. collisions over all. This is important given that now each of the each of remaining dummy variables will represent their deviation from the dropped variable so it makes sense to select a variable which represents the average behaviour so now each of the remaining dummy variables measure the deviation from the average behaviour, which will come in handy later for interpreting feature weights. "
   ]
  },
  {
   "cell_type": "code",
   "execution_count": 703,
   "id": "db8c6397-37d7-4530-a2bc-56352e824e6d",
   "metadata": {},
   "outputs": [
    {
     "data": {
      "text/plain": [
       "Index(['temp', 'wdsp', 'fog', 'prcp', 'sndp', 'slp', 'day_2', 'day_3', 'day_4',\n",
       "       'day_5', 'day_6', 'day_7', 'mo_1', 'mo_10', 'mo_11', 'mo_12', 'mo_2',\n",
       "       'mo_3', 'mo_4', 'mo_5', 'mo_6', 'mo_8', 'mo_9'],\n",
       "      dtype='object')"
      ]
     },
     "execution_count": 703,
     "metadata": {},
     "output_type": "execute_result"
    }
   ],
   "source": [
    "X_df.columns "
   ]
  },
  {
   "cell_type": "markdown",
   "id": "8b76c454-4b9b-4c4d-9074-84904d0028b4",
   "metadata": {},
   "source": [
    "Examples of the hot encoded features include `mo_4` representing April and `day_5` representing Friday. "
   ]
  },
  {
   "cell_type": "markdown",
   "id": "ad6bdf3e-c477-45b1-8823-b90e75c3d5c3",
   "metadata": {},
   "source": [
    "## Preprocessing "
   ]
  },
  {
   "cell_type": "markdown",
   "id": "8e106134-3e10-4246-b399-b668a0110a1b",
   "metadata": {},
   "source": [
    "Given that OLS regression is scale invariant meaning there is no need preprocess/transform our features before training for optimal performance. However, later on if we wish to interpret the model weights it is handy to have our features on similar scales so model weights between continous and categorical features can be compared directly. "
   ]
  },
  {
   "cell_type": "code",
   "execution_count": 704,
   "id": "e5e737c5-d869-4dd5-b7e5-e58fbbc6f419",
   "metadata": {},
   "outputs": [],
   "source": [
    "from sklearn.preprocessing import StandardScaler"
   ]
  },
  {
   "cell_type": "markdown",
   "id": "119aad74-51b7-4844-8fa5-a9901452fd4b",
   "metadata": {},
   "source": [
    "importing Sklearn MinMaxScaler which will scale all our continous features to a standard normal distribution with a mean of zero and a standard deviation of one. "
   ]
  },
  {
   "cell_type": "code",
   "execution_count": 705,
   "id": "689e0c61-98a0-4120-9776-d14fc586e666",
   "metadata": {},
   "outputs": [],
   "source": [
    "Scaler = StandardScaler() \n",
    "X_df[['temp', 'wdsp', 'fog','prcp', 'sndp', 'slp'] ]= Scaler.fit_transform(X_df[['temp', 'wdsp', 'fog','prcp', 'sndp', 'slp']] ) "
   ]
  },
  {
   "cell_type": "code",
   "execution_count": 707,
   "id": "2bae77da-e8f1-4cc9-a478-d90f192210c6",
   "metadata": {},
   "outputs": [],
   "source": [
    "X = X_df.values"
   ]
  },
  {
   "cell_type": "markdown",
   "id": "6e6424d8-15be-4db6-b2f7-56ecab849208",
   "metadata": {},
   "source": [
    "## Splitting out training and testing data "
   ]
  },
  {
   "cell_type": "markdown",
   "id": "37fe3d33-3ec8-4cfb-9f66-ca7beb85893e",
   "metadata": {},
   "source": [
    "Creating train test split using sklearns `train_test_split` function, with a `test_size` of 0.2 and `random_state` of 42. "
   ]
  },
  {
   "cell_type": "code",
   "execution_count": 708,
   "id": "3bb2b2b4-7971-490f-96d8-379ac3cab838",
   "metadata": {},
   "outputs": [],
   "source": [
    "Xtrain,Xtest, ytrain,ytest = train_test_split(X,y , test_size = 0.2, random_state = 42 ) "
   ]
  },
  {
   "cell_type": "markdown",
   "id": "9664c3ac",
   "metadata": {},
   "source": [
    "Initialising our Linear Regression model with the default parameters and fitting it to the training set. "
   ]
  },
  {
   "cell_type": "markdown",
   "id": "ebd69469-d9d1-49d5-8f72-f894ebfc9957",
   "metadata": {},
   "source": [
    "## Fitting our Model to the data "
   ]
  },
  {
   "cell_type": "code",
   "execution_count": 709,
   "id": "f80b7f94-b9f0-485b-8899-70e38a61193b",
   "metadata": {},
   "outputs": [
    {
     "data": {
      "text/html": [
       "<style>#sk-container-id-32 {\n",
       "  /* Definition of color scheme common for light and dark mode */\n",
       "  --sklearn-color-text: black;\n",
       "  --sklearn-color-line: gray;\n",
       "  /* Definition of color scheme for unfitted estimators */\n",
       "  --sklearn-color-unfitted-level-0: #fff5e6;\n",
       "  --sklearn-color-unfitted-level-1: #f6e4d2;\n",
       "  --sklearn-color-unfitted-level-2: #ffe0b3;\n",
       "  --sklearn-color-unfitted-level-3: chocolate;\n",
       "  /* Definition of color scheme for fitted estimators */\n",
       "  --sklearn-color-fitted-level-0: #f0f8ff;\n",
       "  --sklearn-color-fitted-level-1: #d4ebff;\n",
       "  --sklearn-color-fitted-level-2: #b3dbfd;\n",
       "  --sklearn-color-fitted-level-3: cornflowerblue;\n",
       "\n",
       "  /* Specific color for light theme */\n",
       "  --sklearn-color-text-on-default-background: var(--sg-text-color, var(--theme-code-foreground, var(--jp-content-font-color1, black)));\n",
       "  --sklearn-color-background: var(--sg-background-color, var(--theme-background, var(--jp-layout-color0, white)));\n",
       "  --sklearn-color-border-box: var(--sg-text-color, var(--theme-code-foreground, var(--jp-content-font-color1, black)));\n",
       "  --sklearn-color-icon: #696969;\n",
       "\n",
       "  @media (prefers-color-scheme: dark) {\n",
       "    /* Redefinition of color scheme for dark theme */\n",
       "    --sklearn-color-text-on-default-background: var(--sg-text-color, var(--theme-code-foreground, var(--jp-content-font-color1, white)));\n",
       "    --sklearn-color-background: var(--sg-background-color, var(--theme-background, var(--jp-layout-color0, #111)));\n",
       "    --sklearn-color-border-box: var(--sg-text-color, var(--theme-code-foreground, var(--jp-content-font-color1, white)));\n",
       "    --sklearn-color-icon: #878787;\n",
       "  }\n",
       "}\n",
       "\n",
       "#sk-container-id-32 {\n",
       "  color: var(--sklearn-color-text);\n",
       "}\n",
       "\n",
       "#sk-container-id-32 pre {\n",
       "  padding: 0;\n",
       "}\n",
       "\n",
       "#sk-container-id-32 input.sk-hidden--visually {\n",
       "  border: 0;\n",
       "  clip: rect(1px 1px 1px 1px);\n",
       "  clip: rect(1px, 1px, 1px, 1px);\n",
       "  height: 1px;\n",
       "  margin: -1px;\n",
       "  overflow: hidden;\n",
       "  padding: 0;\n",
       "  position: absolute;\n",
       "  width: 1px;\n",
       "}\n",
       "\n",
       "#sk-container-id-32 div.sk-dashed-wrapped {\n",
       "  border: 1px dashed var(--sklearn-color-line);\n",
       "  margin: 0 0.4em 0.5em 0.4em;\n",
       "  box-sizing: border-box;\n",
       "  padding-bottom: 0.4em;\n",
       "  background-color: var(--sklearn-color-background);\n",
       "}\n",
       "\n",
       "#sk-container-id-32 div.sk-container {\n",
       "  /* jupyter's `normalize.less` sets `[hidden] { display: none; }`\n",
       "     but bootstrap.min.css set `[hidden] { display: none !important; }`\n",
       "     so we also need the `!important` here to be able to override the\n",
       "     default hidden behavior on the sphinx rendered scikit-learn.org.\n",
       "     See: https://github.com/scikit-learn/scikit-learn/issues/21755 */\n",
       "  display: inline-block !important;\n",
       "  position: relative;\n",
       "}\n",
       "\n",
       "#sk-container-id-32 div.sk-text-repr-fallback {\n",
       "  display: none;\n",
       "}\n",
       "\n",
       "div.sk-parallel-item,\n",
       "div.sk-serial,\n",
       "div.sk-item {\n",
       "  /* draw centered vertical line to link estimators */\n",
       "  background-image: linear-gradient(var(--sklearn-color-text-on-default-background), var(--sklearn-color-text-on-default-background));\n",
       "  background-size: 2px 100%;\n",
       "  background-repeat: no-repeat;\n",
       "  background-position: center center;\n",
       "}\n",
       "\n",
       "/* Parallel-specific style estimator block */\n",
       "\n",
       "#sk-container-id-32 div.sk-parallel-item::after {\n",
       "  content: \"\";\n",
       "  width: 100%;\n",
       "  border-bottom: 2px solid var(--sklearn-color-text-on-default-background);\n",
       "  flex-grow: 1;\n",
       "}\n",
       "\n",
       "#sk-container-id-32 div.sk-parallel {\n",
       "  display: flex;\n",
       "  align-items: stretch;\n",
       "  justify-content: center;\n",
       "  background-color: var(--sklearn-color-background);\n",
       "  position: relative;\n",
       "}\n",
       "\n",
       "#sk-container-id-32 div.sk-parallel-item {\n",
       "  display: flex;\n",
       "  flex-direction: column;\n",
       "}\n",
       "\n",
       "#sk-container-id-32 div.sk-parallel-item:first-child::after {\n",
       "  align-self: flex-end;\n",
       "  width: 50%;\n",
       "}\n",
       "\n",
       "#sk-container-id-32 div.sk-parallel-item:last-child::after {\n",
       "  align-self: flex-start;\n",
       "  width: 50%;\n",
       "}\n",
       "\n",
       "#sk-container-id-32 div.sk-parallel-item:only-child::after {\n",
       "  width: 0;\n",
       "}\n",
       "\n",
       "/* Serial-specific style estimator block */\n",
       "\n",
       "#sk-container-id-32 div.sk-serial {\n",
       "  display: flex;\n",
       "  flex-direction: column;\n",
       "  align-items: center;\n",
       "  background-color: var(--sklearn-color-background);\n",
       "  padding-right: 1em;\n",
       "  padding-left: 1em;\n",
       "}\n",
       "\n",
       "\n",
       "/* Toggleable style: style used for estimator/Pipeline/ColumnTransformer box that is\n",
       "clickable and can be expanded/collapsed.\n",
       "- Pipeline and ColumnTransformer use this feature and define the default style\n",
       "- Estimators will overwrite some part of the style using the `sk-estimator` class\n",
       "*/\n",
       "\n",
       "/* Pipeline and ColumnTransformer style (default) */\n",
       "\n",
       "#sk-container-id-32 div.sk-toggleable {\n",
       "  /* Default theme specific background. It is overwritten whether we have a\n",
       "  specific estimator or a Pipeline/ColumnTransformer */\n",
       "  background-color: var(--sklearn-color-background);\n",
       "}\n",
       "\n",
       "/* Toggleable label */\n",
       "#sk-container-id-32 label.sk-toggleable__label {\n",
       "  cursor: pointer;\n",
       "  display: block;\n",
       "  width: 100%;\n",
       "  margin-bottom: 0;\n",
       "  padding: 0.5em;\n",
       "  box-sizing: border-box;\n",
       "  text-align: center;\n",
       "}\n",
       "\n",
       "#sk-container-id-32 label.sk-toggleable__label-arrow:before {\n",
       "  /* Arrow on the left of the label */\n",
       "  content: \"▸\";\n",
       "  float: left;\n",
       "  margin-right: 0.25em;\n",
       "  color: var(--sklearn-color-icon);\n",
       "}\n",
       "\n",
       "#sk-container-id-32 label.sk-toggleable__label-arrow:hover:before {\n",
       "  color: var(--sklearn-color-text);\n",
       "}\n",
       "\n",
       "/* Toggleable content - dropdown */\n",
       "\n",
       "#sk-container-id-32 div.sk-toggleable__content {\n",
       "  max-height: 0;\n",
       "  max-width: 0;\n",
       "  overflow: hidden;\n",
       "  text-align: left;\n",
       "  /* unfitted */\n",
       "  background-color: var(--sklearn-color-unfitted-level-0);\n",
       "}\n",
       "\n",
       "#sk-container-id-32 div.sk-toggleable__content.fitted {\n",
       "  /* fitted */\n",
       "  background-color: var(--sklearn-color-fitted-level-0);\n",
       "}\n",
       "\n",
       "#sk-container-id-32 div.sk-toggleable__content pre {\n",
       "  margin: 0.2em;\n",
       "  border-radius: 0.25em;\n",
       "  color: var(--sklearn-color-text);\n",
       "  /* unfitted */\n",
       "  background-color: var(--sklearn-color-unfitted-level-0);\n",
       "}\n",
       "\n",
       "#sk-container-id-32 div.sk-toggleable__content.fitted pre {\n",
       "  /* unfitted */\n",
       "  background-color: var(--sklearn-color-fitted-level-0);\n",
       "}\n",
       "\n",
       "#sk-container-id-32 input.sk-toggleable__control:checked~div.sk-toggleable__content {\n",
       "  /* Expand drop-down */\n",
       "  max-height: 200px;\n",
       "  max-width: 100%;\n",
       "  overflow: auto;\n",
       "}\n",
       "\n",
       "#sk-container-id-32 input.sk-toggleable__control:checked~label.sk-toggleable__label-arrow:before {\n",
       "  content: \"▾\";\n",
       "}\n",
       "\n",
       "/* Pipeline/ColumnTransformer-specific style */\n",
       "\n",
       "#sk-container-id-32 div.sk-label input.sk-toggleable__control:checked~label.sk-toggleable__label {\n",
       "  color: var(--sklearn-color-text);\n",
       "  background-color: var(--sklearn-color-unfitted-level-2);\n",
       "}\n",
       "\n",
       "#sk-container-id-32 div.sk-label.fitted input.sk-toggleable__control:checked~label.sk-toggleable__label {\n",
       "  background-color: var(--sklearn-color-fitted-level-2);\n",
       "}\n",
       "\n",
       "/* Estimator-specific style */\n",
       "\n",
       "/* Colorize estimator box */\n",
       "#sk-container-id-32 div.sk-estimator input.sk-toggleable__control:checked~label.sk-toggleable__label {\n",
       "  /* unfitted */\n",
       "  background-color: var(--sklearn-color-unfitted-level-2);\n",
       "}\n",
       "\n",
       "#sk-container-id-32 div.sk-estimator.fitted input.sk-toggleable__control:checked~label.sk-toggleable__label {\n",
       "  /* fitted */\n",
       "  background-color: var(--sklearn-color-fitted-level-2);\n",
       "}\n",
       "\n",
       "#sk-container-id-32 div.sk-label label.sk-toggleable__label,\n",
       "#sk-container-id-32 div.sk-label label {\n",
       "  /* The background is the default theme color */\n",
       "  color: var(--sklearn-color-text-on-default-background);\n",
       "}\n",
       "\n",
       "/* On hover, darken the color of the background */\n",
       "#sk-container-id-32 div.sk-label:hover label.sk-toggleable__label {\n",
       "  color: var(--sklearn-color-text);\n",
       "  background-color: var(--sklearn-color-unfitted-level-2);\n",
       "}\n",
       "\n",
       "/* Label box, darken color on hover, fitted */\n",
       "#sk-container-id-32 div.sk-label.fitted:hover label.sk-toggleable__label.fitted {\n",
       "  color: var(--sklearn-color-text);\n",
       "  background-color: var(--sklearn-color-fitted-level-2);\n",
       "}\n",
       "\n",
       "/* Estimator label */\n",
       "\n",
       "#sk-container-id-32 div.sk-label label {\n",
       "  font-family: monospace;\n",
       "  font-weight: bold;\n",
       "  display: inline-block;\n",
       "  line-height: 1.2em;\n",
       "}\n",
       "\n",
       "#sk-container-id-32 div.sk-label-container {\n",
       "  text-align: center;\n",
       "}\n",
       "\n",
       "/* Estimator-specific */\n",
       "#sk-container-id-32 div.sk-estimator {\n",
       "  font-family: monospace;\n",
       "  border: 1px dotted var(--sklearn-color-border-box);\n",
       "  border-radius: 0.25em;\n",
       "  box-sizing: border-box;\n",
       "  margin-bottom: 0.5em;\n",
       "  /* unfitted */\n",
       "  background-color: var(--sklearn-color-unfitted-level-0);\n",
       "}\n",
       "\n",
       "#sk-container-id-32 div.sk-estimator.fitted {\n",
       "  /* fitted */\n",
       "  background-color: var(--sklearn-color-fitted-level-0);\n",
       "}\n",
       "\n",
       "/* on hover */\n",
       "#sk-container-id-32 div.sk-estimator:hover {\n",
       "  /* unfitted */\n",
       "  background-color: var(--sklearn-color-unfitted-level-2);\n",
       "}\n",
       "\n",
       "#sk-container-id-32 div.sk-estimator.fitted:hover {\n",
       "  /* fitted */\n",
       "  background-color: var(--sklearn-color-fitted-level-2);\n",
       "}\n",
       "\n",
       "/* Specification for estimator info (e.g. \"i\" and \"?\") */\n",
       "\n",
       "/* Common style for \"i\" and \"?\" */\n",
       "\n",
       ".sk-estimator-doc-link,\n",
       "a:link.sk-estimator-doc-link,\n",
       "a:visited.sk-estimator-doc-link {\n",
       "  float: right;\n",
       "  font-size: smaller;\n",
       "  line-height: 1em;\n",
       "  font-family: monospace;\n",
       "  background-color: var(--sklearn-color-background);\n",
       "  border-radius: 1em;\n",
       "  height: 1em;\n",
       "  width: 1em;\n",
       "  text-decoration: none !important;\n",
       "  margin-left: 1ex;\n",
       "  /* unfitted */\n",
       "  border: var(--sklearn-color-unfitted-level-1) 1pt solid;\n",
       "  color: var(--sklearn-color-unfitted-level-1);\n",
       "}\n",
       "\n",
       ".sk-estimator-doc-link.fitted,\n",
       "a:link.sk-estimator-doc-link.fitted,\n",
       "a:visited.sk-estimator-doc-link.fitted {\n",
       "  /* fitted */\n",
       "  border: var(--sklearn-color-fitted-level-1) 1pt solid;\n",
       "  color: var(--sklearn-color-fitted-level-1);\n",
       "}\n",
       "\n",
       "/* On hover */\n",
       "div.sk-estimator:hover .sk-estimator-doc-link:hover,\n",
       ".sk-estimator-doc-link:hover,\n",
       "div.sk-label-container:hover .sk-estimator-doc-link:hover,\n",
       ".sk-estimator-doc-link:hover {\n",
       "  /* unfitted */\n",
       "  background-color: var(--sklearn-color-unfitted-level-3);\n",
       "  color: var(--sklearn-color-background);\n",
       "  text-decoration: none;\n",
       "}\n",
       "\n",
       "div.sk-estimator.fitted:hover .sk-estimator-doc-link.fitted:hover,\n",
       ".sk-estimator-doc-link.fitted:hover,\n",
       "div.sk-label-container:hover .sk-estimator-doc-link.fitted:hover,\n",
       ".sk-estimator-doc-link.fitted:hover {\n",
       "  /* fitted */\n",
       "  background-color: var(--sklearn-color-fitted-level-3);\n",
       "  color: var(--sklearn-color-background);\n",
       "  text-decoration: none;\n",
       "}\n",
       "\n",
       "/* Span, style for the box shown on hovering the info icon */\n",
       ".sk-estimator-doc-link span {\n",
       "  display: none;\n",
       "  z-index: 9999;\n",
       "  position: relative;\n",
       "  font-weight: normal;\n",
       "  right: .2ex;\n",
       "  padding: .5ex;\n",
       "  margin: .5ex;\n",
       "  width: min-content;\n",
       "  min-width: 20ex;\n",
       "  max-width: 50ex;\n",
       "  color: var(--sklearn-color-text);\n",
       "  box-shadow: 2pt 2pt 4pt #999;\n",
       "  /* unfitted */\n",
       "  background: var(--sklearn-color-unfitted-level-0);\n",
       "  border: .5pt solid var(--sklearn-color-unfitted-level-3);\n",
       "}\n",
       "\n",
       ".sk-estimator-doc-link.fitted span {\n",
       "  /* fitted */\n",
       "  background: var(--sklearn-color-fitted-level-0);\n",
       "  border: var(--sklearn-color-fitted-level-3);\n",
       "}\n",
       "\n",
       ".sk-estimator-doc-link:hover span {\n",
       "  display: block;\n",
       "}\n",
       "\n",
       "/* \"?\"-specific style due to the `<a>` HTML tag */\n",
       "\n",
       "#sk-container-id-32 a.estimator_doc_link {\n",
       "  float: right;\n",
       "  font-size: 1rem;\n",
       "  line-height: 1em;\n",
       "  font-family: monospace;\n",
       "  background-color: var(--sklearn-color-background);\n",
       "  border-radius: 1rem;\n",
       "  height: 1rem;\n",
       "  width: 1rem;\n",
       "  text-decoration: none;\n",
       "  /* unfitted */\n",
       "  color: var(--sklearn-color-unfitted-level-1);\n",
       "  border: var(--sklearn-color-unfitted-level-1) 1pt solid;\n",
       "}\n",
       "\n",
       "#sk-container-id-32 a.estimator_doc_link.fitted {\n",
       "  /* fitted */\n",
       "  border: var(--sklearn-color-fitted-level-1) 1pt solid;\n",
       "  color: var(--sklearn-color-fitted-level-1);\n",
       "}\n",
       "\n",
       "/* On hover */\n",
       "#sk-container-id-32 a.estimator_doc_link:hover {\n",
       "  /* unfitted */\n",
       "  background-color: var(--sklearn-color-unfitted-level-3);\n",
       "  color: var(--sklearn-color-background);\n",
       "  text-decoration: none;\n",
       "}\n",
       "\n",
       "#sk-container-id-32 a.estimator_doc_link.fitted:hover {\n",
       "  /* fitted */\n",
       "  background-color: var(--sklearn-color-fitted-level-3);\n",
       "}\n",
       "</style><div id=\"sk-container-id-32\" class=\"sk-top-container\"><div class=\"sk-text-repr-fallback\"><pre>LinearRegression()</pre><b>In a Jupyter environment, please rerun this cell to show the HTML representation or trust the notebook. <br />On GitHub, the HTML representation is unable to render, please try loading this page with nbviewer.org.</b></div><div class=\"sk-container\" hidden><div class=\"sk-item\"><div class=\"sk-estimator fitted sk-toggleable\"><input class=\"sk-toggleable__control sk-hidden--visually\" id=\"sk-estimator-id-32\" type=\"checkbox\" checked><label for=\"sk-estimator-id-32\" class=\"sk-toggleable__label fitted sk-toggleable__label-arrow fitted\">&nbsp;&nbsp;LinearRegression<a class=\"sk-estimator-doc-link fitted\" rel=\"noreferrer\" target=\"_blank\" href=\"https://scikit-learn.org/1.5/modules/generated/sklearn.linear_model.LinearRegression.html\">?<span>Documentation for LinearRegression</span></a><span class=\"sk-estimator-doc-link fitted\">i<span>Fitted</span></span></label><div class=\"sk-toggleable__content fitted\"><pre>LinearRegression()</pre></div> </div></div></div></div>"
      ],
      "text/plain": [
       "LinearRegression()"
      ]
     },
     "execution_count": 709,
     "metadata": {},
     "output_type": "execute_result"
    }
   ],
   "source": [
    "lr = LinearRegression() \n",
    "lr.fit(Xtrain, ytrain) "
   ]
  },
  {
   "cell_type": "markdown",
   "id": "0f50e854-960b-4d6f-8736-a6e09a277ff3",
   "metadata": {},
   "source": [
    "## Calculating the uncertainities of our regression line using standard errors "
   ]
  },
  {
   "attachments": {},
   "cell_type": "markdown",
   "id": "56381695-f0c2-4d75-9ae2-99589d9af47d",
   "metadata": {},
   "source": [
    "Standard Errors measure the uncertainty in the estimated model coefficients, as our paramter values are esimated from our sample of data which in our case is our collisions dataset rather than the entire population. (Rodriguez, 2022)\n",
    "\n",
    "\n",
    "The standard error of our model coefficients can be defiend as the following: \n",
    "\n",
    "$$ SE(x_i) = \\sqrt{ \\sigma^{2} \\cdot (\\mathbf{X}^T\\mathbf{X})_{ii}^{-1}}$$\n",
    "\n",
    "$$ SE(b) = \\sqrt{ \\frac{\\sigma^{2}}{n} + \\mathbf{\\hat{x}}(\\mathbf{X}^{T}\\mathbf{X})^{-1}\\mathbf{\\hat{x}}}$$\n",
    "\n",
    "where $x_i$ is a particular feature, $b$ is our bias term ,  $\\sigma^{2} $ is the variance of our residuals and $\\mathbf{X}$ is our feature matrix"
   ]
  },
  {
   "cell_type": "code",
   "execution_count": 729,
   "id": "89398104-dd56-43a0-80d8-11c4d562adbe",
   "metadata": {},
   "outputs": [],
   "source": [
    "var_res = np.sum((ytrain - lr.predict(Xtrain))**2) / (Xtrain.shape[0] - Xtrain.shape[1] ) "
   ]
  },
  {
   "cell_type": "markdown",
   "id": "f8a8b917-b603-4bc1-9f17-1668ae85ee7d",
   "metadata": {},
   "source": [
    "Calculating the inverse of the gram matrix (Kolter, 2015) and extracting the diagonal"
   ]
  },
  {
   "cell_type": "code",
   "execution_count": 711,
   "id": "3830adc2-9292-49e4-bb1d-b20a8b2593c5",
   "metadata": {},
   "outputs": [],
   "source": [
    "Xtrain = Xtrain.astype('float')\n",
    "gram_matrix = Xtrain.T@Xtrain\n",
    "diag_inv_gram_matrix = np.diag(np.linalg.inv(gram_matrix)) "
   ]
  },
  {
   "cell_type": "markdown",
   "id": "7011bf4e-a3ff-4315-9a80-cfe2b5233ffb",
   "metadata": {},
   "source": [
    "Multplying each diagonal by our variance to calculate the standard error for each of our features "
   ]
  },
  {
   "cell_type": "code",
   "execution_count": 714,
   "id": "85395a0c-b550-4b4e-9ffd-24306f5c0f05",
   "metadata": {},
   "outputs": [],
   "source": [
    "std_errors = np.sqrt(diag_inv_gram_matrix * var_res).round(2)"
   ]
  },
  {
   "cell_type": "markdown",
   "id": "2eeaba27-77f5-46c7-8177-74d87671fb14",
   "metadata": {},
   "source": [
    "calculating the standard error of our bias term "
   ]
  },
  {
   "cell_type": "code",
   "execution_count": 726,
   "id": "e616c55c-2a11-4f90-9403-fe95315bd908",
   "metadata": {},
   "outputs": [],
   "source": [
    "std_error_bias = np.sqrt(var_res * (Xtrain.mean(0).T)@(np.linalg.inv(gram_matrix))@(Xtrain.mean(0))) "
   ]
  },
  {
   "cell_type": "code",
   "execution_count": 727,
   "id": "d735a996-c0f8-4fce-8e64-51819e220884",
   "metadata": {},
   "outputs": [],
   "source": [
    "features = list(X_df.columns) + ['bias'] \n",
    "std_errors = np.concatenate((std_errors, [std_error_bias]) )\n",
    "features_std_errors = dict(zip(features, std_errors )) "
   ]
  },
  {
   "cell_type": "code",
   "execution_count": 728,
   "id": "c8bdf7cd-caf3-4b85-83ee-c9f78fbf3805",
   "metadata": {},
   "outputs": [
    {
     "data": {
      "image/png": "[encoded data removed]",
      "text/plain": [
       "<Figure size 640x480 with 1 Axes>"
      ]
     },
     "metadata": {},
     "output_type": "display_data"
    }
   ],
   "source": [
    "plt.bar(np.arange(len(features_std_errors )) , features_std_errors.values(), color = 'lightblue' ) \n",
    "plt.xticks(np.arange(len(features_std_errors)), features_std_errors.keys(), rotation = 90 )\n",
    "plt.xlabel('features') \n",
    "plt.ylabel('Standard Errors') \n",
    "plt.title('Stanard Errors of Features '); "
   ]
  },
  {
   "cell_type": "markdown",
   "id": "4c0eaf95-910b-4422-9cfa-b3f68b86f64f",
   "metadata": {},
   "source": [
    "It is expected that our continous features such as `temp` , `wdsp` have the lowest standard errors given that they are the least sparse features compared to our categorical features like `fog`, `day` and `mo` . `prcp`  is also fairly sparse given that it doesnt rain everyday. \n",
    "\n",
    "In practice standard errors tell precise our estimated coefficients are e.g. we can be more confident that the estimated coefficient for `wdsp` is closer to the true population than another feature with a higher standard error like `temp`. standard errors can remove coefficinets are statistically insigificant "
   ]
  },
  {
   "cell_type": "markdown",
   "id": "63e06bc8-4602-4731-b3e2-d5556fc555f7",
   "metadata": {},
   "source": [
    "## Investigating Feature Weights "
   ]
  },
  {
   "cell_type": "markdown",
   "id": "16c6da0f-bf72-4e2b-a8a3-b1fc68f7672f",
   "metadata": {},
   "source": [
    "One advantage of using Linear Regression is its interpretability. A Linear Regression learns a line of best fit which stores a weight for each feature it is trained on, this makes it easier to understand how each individual feature contributes to the final predictiion. Below I have visualised the line of best fit learnt by our regression model using a bar chart displaying the model weight attached to each feature. "
   ]
  },
  {
   "cell_type": "code",
   "execution_count": 720,
   "id": "b2b0c1ba-e0f8-46ae-ac04-f7db3e035d5f",
   "metadata": {},
   "outputs": [
    {
     "data": {
      "image/png": "[encoded data removed]",
      "text/plain": [
       "<Figure size 800x600 with 1 Axes>"
      ]
     },
     "metadata": {},
     "output_type": "display_data"
    }
   ],
   "source": [
    "#zipping our features and weights together \n",
    "feature_weights = dict(zip(X_df.columns, lr.coef_ ) ) \n",
    "\n",
    "plt.figure(figsize=(8, 6))\n",
    "\n",
    "plt.bar(np.arange(len(feature_weights)), feature_weights.values(), align = 'edge', color = 'lightblue') \n",
    "plt.xticks([])\n",
    "# plt.xticks(np.arange(len(feature_weights)) , feature_weights.keys() , rotation = 90 ); \n",
    "for idx, (key,value) in enumerate(feature_weights.items() ):\n",
    "    if value > 0: \n",
    "        plt.text(idx, value, s  = f' {key}', rotation = 90 ,ha = 'left' , va = 'bottom', c = 'green')\n",
    "    else: \n",
    "         plt.text(idx, value, s  = f'{key} ', rotation = 90 ,ha = 'left' , va = 'top', c = 'red' )\n",
    "\n",
    "plt.ylim(-140, 120 )\n",
    "plt.grid() \n",
    "plt.title('Feature Weights') \n",
    "plt.xlabel('\\n\\n Features') \n",
    "plt.ylabel('Feature Weight')\n",
    "plt.tight_layout() "
   ]
  },
  {
   "cell_type": "markdown",
   "id": "b9d147bb-fab9-431a-a1c2-5e873ab062c4",
   "metadata": {},
   "source": [
    "Each model weight provides information on the importance of each feature to the model which can be gauged by the magnitude of its weight, as well as the direction of correlation which is determined by the sign of the weight.\n",
    "\n",
    "Day of week features are highly weighted by the model, in particuluar the feature `day_7` which represents Sunday has the largest weight across all features around -110. It's worth noting that these feature weights correspond to the scatter plot of `day` of week against `NUM_COLLISIONS` where Sunday achieves the lowest mean `NUM_COLLISIONS` and Friday which represents `day_5` achieves the highest mean `NUM_COLLISIONS`. \n",
    "\n",
    "Month of year features seem to also be highly weighted by the model January which is represented by `mo_1` has a weight ~ -40, which corresponds with the scatter plot between `mo` and `NUM_COLLISIONS`. However, `mo_6` has the highest feature weight despite september (`mo_9`) having the largest mean `NUM_COLLISIONS`, this is likely a result of Linear Regression being conditional. Linear Regression being conditional means that it measures the correlation between each feature and the target variable whilst holding every other variable constant, which is in contrast to the pearsons correlation coefficient where we directly measure the correlation between 2 features without holding any other features constant. \n",
    "\n",
    "Overall, weather based features do not seem to be highly weighted by the model with `temp` achieving the highest weight out of all weather based features which agrees with bivariate data analysis where `temp` achieves the highest r score with no. colisions. `fog` , `sndp` and `prcp` all seem to have low but none neglible feature weights with `wdsp` and `slp` having weights which are virtually zero. "
   ]
  },
  {
   "cell_type": "markdown",
   "id": "94904a5f-e1c5-421f-a1aa-855ea0fe5512",
   "metadata": {},
   "source": [
    "Its important to note that by dropping the dummy variables our feature weights for our categorical variables are now somewhat less interpretable. e.g for day of the week the weight for `day_7` represents how the model weights how it would change its prediction if the day of the week was `day_7` rather than `day_1`. \n",
    "\n",
    "Since `day_7` as a lower no. collisions on avearge this leads to a negative model weight. Because is dummy variable represents a relative effect compared to the dropped dummy varirable, I chose to drop `day_1` which has a mean no. collisions closest to the overall average no. collisions to ensure the model weights still represent a positive or negative shift from the average behaviour. "
   ]
  },
  {
   "cell_type": "markdown",
   "id": "afb2dee1",
   "metadata": {},
   "source": [
    "## Evaluating the models performance "
   ]
  },
  {
   "cell_type": "markdown",
   "id": "59ccbec7-8e5a-446f-b662-44b63c659121",
   "metadata": {},
   "source": [
    "computing numerous metrics in order to evaluate the models performance. "
   ]
  },
  {
   "cell_type": "code",
   "execution_count": 748,
   "id": "f0709171",
   "metadata": {},
   "outputs": [
    {
     "name": "stdout",
     "output_type": "stream",
     "text": [
      " Mean Squared Error: 6022.52, Mean Absolute Error: 60.55,  R Squared Score: 0.35\n"
     ]
    }
   ],
   "source": [
    "mse = round(mean_squared_error(ytest, lr.predict(Xtest) ) , 2) \n",
    "r2 = round(r2_score(ytest, lr.predict(Xtest)) , 2) \n",
    "mae  = round(mean_absolute_error(ytest, lr.predict(Xtest)) , 2) \n",
    "\n",
    "print(f' Mean Squared Error: {mse}, Mean Absolute Error: {mae},  R Squared Score: {r2}') "
   ]
  },
  {
   "cell_type": "markdown",
   "id": "0a38bb99-4021-4fda-b91f-4d2385ddea8a",
   "metadata": {},
   "source": [
    "A Mean Absolute Error of ~60 means that on average our predictions are off by about 60 collisions and an R2 score of ~35% of means our model was able to capture ~35% of the total variance which exists inside of the distribution of no. collisions. \n",
    "\n",
    "Another Interpretation of the R2 score, is that it represents the the percentage improvement in Mean Squared Error that the model achieves when compared to simply predicting the mean. If the company is currently offering the same price to customers everyday regardless of the weather / time, then they are essentially predicting that the number of collisions each day will be the same and may be pricing their insurance relative to the mean number of collisions. Hence, the R2 score is loosely measuring how much more effective our model is compared to the current strategy/static pricing. \n",
    "\n",
    "Although our model was able to fit to more than just random noise there is still roughly 65% of the variance inside of the distribution of no. collisions which is left unexplained by our model. This is likely due to many factors, I've listed a couple below: \n",
    "\n",
    "- Our dataset is likely missing other features which are correlated with `NUM_COLLISIONS` E.g. the design of roads, special holidays etc. \n",
    "\n",
    "-  Linear Regression is probably too simple to learn the complex relationships which likely exist between our features and no. collisions, perhaps more complex non linear models such as neural networks would achieve lower errors.\n",
    "\n",
    "-  Car collisions are a result of random chance and so the total number of car collisions on any given day will remain somewhat unpredictable.\n",
    "\n",
    "\n",
    "The accuracy of our model must be considered in the context of the problem it is aiming to solve, which is pricing insurance. If the number of collisions is being fed into pricing, incorrect predictioncs and either lead to the price being set too high leading the company to become uncompetitive and if the price is set too low they risk losing money."
   ]
  },
  {
   "cell_type": "markdown",
   "id": "fcc46269-5e95-4fc6-991a-f496e6aa7936",
   "metadata": {},
   "source": [
    "# Task 3.  "
   ]
  },
  {
   "cell_type": "markdown",
   "id": "3a34e0a6",
   "metadata": {},
   "source": [
    "One usecase where the module learnings could be applied at work is in content based recommendation systems, which leverage metadata to learn numerical/vector represenations for items. \n",
    "\n",
    "Some examples of metadata which is often used inside of content based recommender system are: genre, format, rating, duration and age rating. I could apply the module learnings around feature correlation(K5/ S1) to explore the correlations between model features to ensure that my features are not highly correlated to each other. As, if two features are highly correlated with each other then they likely contain similar information making one of them redundant as our model will likely achieve the same/similar performance with only one of them. \n",
    "\n",
    "This module could help me make more informed decisions around feature engineering(S2) as it is has improved my understanding around correlation which can be applied feature engineering when designing content based recommender systems. "
   ]
  },
  {
   "cell_type": "markdown",
   "id": "6e358774-bf37-4846-8b31-0f845b7356a1",
   "metadata": {},
   "source": [
    "# Bibliography "
   ]
  },
  {
   "cell_type": "markdown",
   "id": "af0ca82b-6093-4743-bc7a-2379c156d0ac",
   "metadata": {},
   "source": [
    "Fowler, D. (1996). The Binomial Coefficient Function. American Mathematical Monthly, 103(1), pp.1–17. doi:https://doi.org/10.1080/00029890.1996.12004694.Hernandez, H. (2016). Modelling the effect of fluctuation in nonlinear systems using variance algebra - Application to light... ResearchGate. [online] doi:https://doi.org/10.13140/RG.2.2.36501.52969.Kolter, Z. (2015). Linear Algebra Review and Reference. [online] Available at: https://cs229.stanford.edu/section/cs229-linalg.pdf.Lops, P., de Gemmis, M. and Semeraro, G. (2010). Content-based Recommender Systems: State of the Art and Trends. Recommender Systems Handbook, [online] pp.73–105. doi:https://doi.org/10.1007/978-0-387-85820-3_3.Mohan, R. (2024). M P RA Munich Personal RePEc Archive Perfect Multicollinearity and Dummy Variable Trap: Explaining the Unexplained. [online] Available at: https://mpra.ub.uni-muenchen.de/120376/1/MPRA_paper_120376.pdf.Rodriguez, M. (2022). Chapter 29 Standard Errors and Variance Estimates | Matrix Algebra for Educational Scientists. [online] Github.io. Available at: https://zief0002.github.io/matrix-algebra/standard-errors-and-variance-estimates.html [Accessed 31 May 2025].Yan, L. and Cain, J. (2020). Central Limit Theorem. [online] Available at: https://web.stanford.edu/class/archive/cs/cs109/cs109.1212/lectureNotes/LN18_clt.pdf [Accessed 16 Dec. 2024].Zhu, X. (2011). Advanced Artificial Intelligence. [online] Available at: https://pages.cs.wisc.edu/~jerryzhu/cs731/regression.pdf."
   ]
  }
 ],
 "metadata": {
  "kernelspec": {
   "display_name": "Python 3 (ipykernel)",
   "language": "python",
   "name": "python3"
  },
  "language_info": {
   "codemirror_mode": {
    "name": "ipython",
    "version": 3
   },
   "file_extension": ".py",
   "mimetype": "text/x-python",
   "name": "python",
   "nbconvert_exporter": "python",
   "pygments_lexer": "ipython3",
   "version": "3.10.14"
  }
 },
 "nbformat": 4,
 "nbformat_minor": 5
}
