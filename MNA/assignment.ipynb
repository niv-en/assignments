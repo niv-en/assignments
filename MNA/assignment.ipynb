{
 "cells": [
  {
   "cell_type": "code",
   "execution_count": 5,
   "id": "402819d6-0c9f-446e-b70e-b87253af8ff9",
   "metadata": {},
   "outputs": [],
   "source": [
    "import pandas as pd \n",
    "import numpy as np \n",
    "import matplotlib.pyplot as plt "
   ]
  },
  {
   "cell_type": "markdown",
   "id": "5f72da10-1c23-480a-aaf7-5b72d340ab7d",
   "metadata": {},
   "source": [
    "# Task 1. "
   ]
  },
  {
   "cell_type": "markdown",
   "id": "80160521-2e51-4604-b92c-6758195f18a5",
   "metadata": {},
   "source": [
    "Klout was a social media platofrm which allowed users to connect their social medias to it and in return it will calculate a klout score from 1-100, which measured a users popularity or clout through analysing their social media activity etc. We have a daaset which stores the distribution of Klout scores for 1048 users of the app and the following notebooks looks particular at sampling means distribution of the user Klout scores. "
   ]
  },
  {
   "cell_type": "markdown",
   "id": "cc26d145-bd9b-42c6-9f48-d57da540a209",
   "metadata": {},
   "source": [
    "### Function to calculate the number of possible ways to choose a sample size of 250: "
   ]
  },
  {
   "cell_type": "markdown",
   "id": "04b18b01-6d07-4e10-8159-88a7ba319f36",
   "metadata": {},
   "source": [
    "In order to do this we can apply a formula from combinarotics which calculates the total number of possible ways to select $k$ items from a bucket of $n$ items where the order of the $k$ items is irrelevant. \n",
    "\n",
    "$n$ choose $k$ can be written as $ \\binom{n}{k}$, and the formula for it is given as: \n",
    "\n",
    "$$  \\binom{n}{k} = \\frac{n!}{k!(n-k)!} $$\n",
    "\n",
    "where $!$ indicates the factorial operation \n",
    "\n",
    "This is because $n!$ is the number of possible ways to arange all of our $n$ items, $(n-k)!$ is the number of possible ways to arrange rest of the non k items whos permuatations we dont care about, so by dividing $n!$ by $(n-k)!$ we calculate the number of possible ways to select $k$ items from $n$ where order is important. However, if the order of our $k$ items is unimportant we cna divide the number of possible ways to select $k$ from $n$ $ \\left( \\frac{n!}{(n-k)!} \\right) $ by the number of possible ways to order $k$ items $k!$ which leads us to the formula displayed above. "
   ]
  },
  {
   "cell_type": "markdown",
   "id": "e90ea69a-7886-427c-91f8-fc0766f8ce78",
   "metadata": {},
   "source": [
    "### Python Implementation "
   ]
  },
  {
   "cell_type": "markdown",
   "id": "e61bc193-a1de-4b30-bb8f-17e4c9ee66e1",
   "metadata": {},
   "source": [
    "In order to implement this function in python we first need a function which can calculate factorials, below I have written a function to generate factorials using the recurisve formula which means that our factorial function will recurisvely call itself until we reach the base case which is where n is equal to 1. "
   ]
  },
  {
   "cell_type": "code",
   "execution_count": 24,
   "id": "70aec715-26fa-4e9e-b5eb-b3477bc011c3",
   "metadata": {},
   "outputs": [],
   "source": [
    "def fact(n): \n",
    "    if n ==1: \n",
    "        return 1 \n",
    "\n",
    "    return n*fact(n-1) "
   ]
  },
  {
   "cell_type": "markdown",
   "id": "c672d397-41b6-4451-a478-2eed2c7cc3e7",
   "metadata": {},
   "source": [
    "Plugging in the factorial function to our formula for $\\binom{n}{k}$"
   ]
  },
  {
   "cell_type": "code",
   "execution_count": 25,
   "id": "80462aea-cfbf-4c9f-b5e7-fc04ae48ab6c",
   "metadata": {},
   "outputs": [],
   "source": [
    "def nCk(n,k): \n",
    "\n",
    "    return fact(n) / ( fact(k) * fact(n-k) ) "
   ]
  },
  {
   "cell_type": "markdown",
   "id": "ff78b92f-66ef-4cfd-b1d9-8611e906c641",
   "metadata": {},
   "source": [
    "$k$ is equal to 250 as its the size of our desired samples, but to calculate $n4 we need to figure out how many users exist in our population of Klout scores. "
   ]
  },
  {
   "cell_type": "code",
   "execution_count": 26,
   "id": "317e8418-532c-46d5-8a49-eb47a8fb1c78",
   "metadata": {},
   "outputs": [
    {
     "name": "stdout",
     "output_type": "stream",
     "text": [
      "there is 1048 total users\n"
     ]
    }
   ],
   "source": [
    "df = pd.read_csv('KloutScores.csv')\n",
    "print(f'there is {len(df)} total users') "
   ]
  },
  {
   "cell_type": "markdown",
   "id": "aecc77e1-2851-432e-96a7-41bc56f2ebe0",
   "metadata": {},
   "source": [
    "Plugging in $n$ =1048 and $k$ = 250 "
   ]
  },
  {
   "cell_type": "code",
   "execution_count": 27,
   "id": "8fd2bd71-b4e5-4e57-981a-c2ac5cf571a3",
   "metadata": {},
   "outputs": [
    {
     "data": {
      "text/plain": [
       "3.2830569965061e+248"
      ]
     },
     "execution_count": 27,
     "metadata": {},
     "output_type": "execute_result"
    }
   ],
   "source": [
    "nCk(n=1048, k=250) "
   ]
  },
  {
   "cell_type": "markdown",
   "id": "5c769387-814b-4937-afa7-0447da987de4",
   "metadata": {},
   "source": [
    "Hence the total number of possible unique samples is  $ \\approx 3.3\\times{10^{248}} $"
   ]
  },
  {
   "cell_type": "markdown",
   "id": "c29179c7-aacb-468e-88ee-464adf8c87e4",
   "metadata": {},
   "source": [
    "## Generating random samples "
   ]
  },
  {
   "cell_type": "markdown",
   "id": "13ceb651-3433-4a51-8d18-b1904552a163",
   "metadata": {},
   "source": [
    "Below is a function to generate random samples from a list of data, using NumPys ```np.random.choice``` function which randomly selects k items from a list provided. "
   ]
  },
  {
   "cell_type": "code",
   "execution_count": 30,
   "id": "3df21e62-048c-4b7e-aa4f-fc14fcdc462a",
   "metadata": {},
   "outputs": [],
   "source": [
    "def generate_random_samples(data : np.ndarray , num_samples : int, sample_size: int) -> np.ndarray: \n",
    "    samples = [np.random.choice(data, sample_size )  for i in range(num_samples) ]\n",
    "    return np.array(samples ) "
   ]
  },
  {
   "cell_type": "markdown",
   "id": "3518fc4c-1d00-44bb-bc7c-f27aa5868d9f",
   "metadata": {},
   "source": [
    "The function above takes in 3 arguments, `data` which is the distribution you wish to sample from, `num_samples` which is the number of samples you wish to create and finally `sample_size` which is the size of each of your samples/ the number of datapoints in each sample. \n",
    "\n",
    "Below I will call the function on our distribution of Klout scores and extract a single sample with a sample size of 5 "
   ]
  },
  {
   "cell_type": "code",
   "execution_count": 31,
   "id": "0df17e77-2318-4d4e-a23a-6fb8cb057609",
   "metadata": {},
   "outputs": [
    {
     "data": {
      "text/plain": [
       "array([[54.14180412, 60.96478091, 54.16369541, 42.82041813, 13.95435098]])"
      ]
     },
     "execution_count": 31,
     "metadata": {},
     "output_type": "execute_result"
    }
   ],
   "source": [
    "Klout_scores = df.scores.values \n",
    "generate_random_samples(Klout_scores, 1, 5 ) "
   ]
  },
  {
   "cell_type": "markdown",
   "id": "58c65b3b-7cc0-4b11-b4fa-d97da6c7a193",
   "metadata": {},
   "source": [
    "as we can see our function returned a single sample of 5 random scores from our distribution. "
   ]
  },
  {
   "cell_type": "markdown",
   "id": "6c242fa0-3026-4448-81d3-ca2d9db7e556",
   "metadata": {},
   "source": [
    "## Plotting distribution of Klout scores "
   ]
  },
  {
   "cell_type": "markdown",
   "id": "d3bafdc3-da10-47a2-b4ef-a577482a73ee",
   "metadata": {},
   "source": [
    "First we will begin by simply plotting the distribution of the raw scores, using a bin size of 30 "
   ]
  },
  {
   "cell_type": "code",
   "execution_count": 32,
   "id": "bf7fc0bf-6d5e-42d0-85db-b994236d9832",
   "metadata": {},
   "outputs": [
    {
     "data": {
      "image/png": "[encoded data removed]",
      "text/plain": [
       "<Figure size 640x480 with 1 Axes>"
      ]
     },
     "metadata": {},
     "output_type": "display_data"
    }
   ],
   "source": [
    "plt.title('score distribution') \n",
    "plt.xlabel('score') \n",
    "plt.ylabel('count') \n",
    "plt.hist(df.scores, bins = 30 , alpha = 0.5 ); "
   ]
  },
  {
   "cell_type": "markdown",
   "id": "8e638cad-dca3-4cef-8c68-01e22f76a290",
   "metadata": {},
   "source": [
    "To plot the distribution of sample means, we will take 1000 samples and compute the mean of each "
   ]
  },
  {
   "cell_type": "code",
   "execution_count": 33,
   "id": "3507d8e1-178a-43fe-b99d-7a12d9b0bffe",
   "metadata": {},
   "outputs": [
    {
     "data": {
      "text/plain": [
       "array([[36.91423922, 28.20662453, 53.95774191, ..., 60.60495383,\n",
       "        53.17780665, 44.40358415],\n",
       "       [33.56690893, 18.24407031, 53.18396893, ..., 43.0518706 ,\n",
       "        58.38207894, 13.60415675],\n",
       "       [15.27569551, 22.30956561, 60.96478091, ..., 44.19642043,\n",
       "        42.11922005, 12.0251095 ],\n",
       "       ...,\n",
       "       [36.93310248, 42.42959206, 25.07256133, ..., 14.98512503,\n",
       "        51.03673034, 34.3743097 ],\n",
       "       [35.69967947, 13.43422311, 43.0905474 , ..., 48.47286667,\n",
       "        14.5864787 , 43.66425335],\n",
       "       [63.97113292, 47.19459657, 18.28897939, ..., 49.67890645,\n",
       "        45.23591601, 63.10770677]], shape=(1000, 250))"
      ]
     },
     "execution_count": 33,
     "metadata": {},
     "output_type": "execute_result"
    }
   ],
   "source": [
    "samples = generate_random_samples(df.values.flatten() , 1000, 250) \n",
    "samples"
   ]
  },
  {
   "cell_type": "markdown",
   "id": "c9528709-d9c1-41d4-b80c-57b07becc0fc",
   "metadata": {},
   "source": [
    "By inspect the shape of the `samples` array we can see that we have 1000 samples each with 250 values. "
   ]
  },
  {
   "cell_type": "code",
   "execution_count": 34,
   "id": "af02ffb8-1c9a-4b31-8e9d-0230c7eeab31",
   "metadata": {},
   "outputs": [
    {
     "data": {
      "text/plain": [
       "(1000, 250)"
      ]
     },
     "execution_count": 34,
     "metadata": {},
     "output_type": "execute_result"
    }
   ],
   "source": [
    "samples.shape "
   ]
  },
  {
   "cell_type": "markdown",
   "id": "3fb7bcf3-30c9-47f5-9eb0-91b371b0690a",
   "metadata": {},
   "source": [
    "Calculating the mean of each sample to produce the distribution of sample means, using `np.mean` "
   ]
  },
  {
   "cell_type": "code",
   "execution_count": 35,
   "id": "e5742586-8187-4e3b-b507-78d254f3e912",
   "metadata": {},
   "outputs": [],
   "source": [
    "sample_mean_dist = np.mean(samples, axis = 1) "
   ]
  },
  {
   "cell_type": "markdown",
   "id": "87864caf-8e15-49ab-87b2-9cbc4c3401d4",
   "metadata": {},
   "source": [
    "## Plotting the distribution of Klout scores as well as the distribution of sample means "
   ]
  },
  {
   "cell_type": "code",
   "execution_count": 36,
   "id": "582bd2ce-dfc4-48ae-98df-ea5cf705c819",
   "metadata": {},
   "outputs": [
    {
     "data": {
      "image/png": "[encoded data removed]",
      "text/plain": [
       "<Figure size 640x480 with 1 Axes>"
      ]
     },
     "metadata": {},
     "output_type": "display_data"
    }
   ],
   "source": [
    "plt.title('score distribution') \n",
    "plt.xlabel('score') \n",
    "plt.ylabel('count') \n",
    "plt.hist(df.scores, bins= 30, alpha = 0.5, label = 'raw score distribution', color = 'orange'  )\n",
    "plt.axvline(np.mean(df.scores), label = 'raw score mean', color = 'red', alpha = 0.5  ) \n",
    "plt.hist(sample_mean_dist, bins = 30 , alpha = 0.5, label = 'distribution of sample means', color = 'royalblue' )\n",
    "plt.axvline(np.mean(np.mean(df.scores)) , label = 'sample means mean', color = 'darkblue', alpha = 0.5   ) \n",
    "plt.tight_layout() \n",
    "plt.legend() ; "
   ]
  },
  {
   "cell_type": "markdown",
   "id": "af51e19d-44e4-480b-91d2-2fdaa806d34e",
   "metadata": {},
   "source": [
    "### Distribution of sample means "
   ]
  },
  {
   "cell_type": "markdown",
   "id": "596d02ee-0d27-425f-b21d-96591f58d221",
   "metadata": {},
   "source": [
    "There are three main things we can pick out about the distribution of sample means which is plotted in blue on the figure above. \n",
    "\n",
    "The first is that the distribution of sample means seems to follow a normal distribution pattern with the majority of the sample means being centered around the mean of the sample means and then the frequency of data points starts to tail off either side of the mean of sample means.  \n",
    "\n",
    "THe second is that the standard deviation of the distribution of sample means is far smaller when compared to the distribution of raw scores which is to be expected. \n",
    "\n",
    "Thirdly, the mean of the raw scores as well as the mean of the sample means are the same/very similar,  which is represnted by the overlapping of the red line (raw score mean) and blue line (sample means mean) to creating a purple line which lines in the centre of both distributions "
   ]
  },
  {
   "cell_type": "markdown",
   "id": "ccf1b362-4dbc-47bc-840b-23347f521e71",
   "metadata": {},
   "source": [
    "### Proving results about the distributions of sample means "
   ]
  },
  {
   "cell_type": "markdown",
   "id": "f4dcf890-dd00-4230-b998-3c36530b9adf",
   "metadata": {},
   "source": [
    "Below I will display the mathematical proofs about the properties of sampling means distribution which explain our findings about the distribution of sample means of Klouts above. "
   ]
  },
  {
   "cell_type": "markdown",
   "id": "584132e4-b8e5-45cc-8cda-c794e0db603e",
   "metadata": {},
   "source": [
    "First let $X$ be our distribution of Klout socres which we will model using a normal distribution $X \\sim \\mathcal{N}(\\mu,\\,\\sigma^{2})$\n",
    "\n",
    "where $x_1, x_2, x_3, ... , x_i$ are all independent random variables sampled our normal distribution with a mean of of $\\mu$ and variance $\\sigma ^2 $ \n",
    "\n",
    "Given that we know the (mean,std) of the distribution of Klout scores, how can we go about calculting the (mean,std) of the distribution of sample means. \n",
    "\n",
    "Let $\\bar{X}$ be the distribution of sample means where $n$ is equal to the sample size: \n",
    "\n",
    "$$ \\bar{X} = \\left( \\frac{x_1 + x_2 + ... + x_n}{n}  \\right) $$\n",
    "\n",
    "Calculating the expected value/ mean for distribution $\\bar{X}$, using [expectation algebra](https://en.wikipedia.org/wiki/Algebra_of_random_variables): \n",
    "\n",
    "$$ E(\\bar{X}) = E\\left( \\frac{x_1 + x_2 + ... + x_) }{n}  \\right )$$ \n",
    "\n",
    "Given that $E(X+Y) = E(X) + E(Y)$, where $X,Y$ are two random variables. \n",
    "\n",
    "$$ E(\\bar{X}) = \\left( \\frac{ E(x_1) + E(x_2) + ... + E(x_n) }{n}  \\right )$$ \n",
    "\n",
    "Given that $x_k$ is sampled from a normal distribution with a mean of $\\mu$, so the expected value of $x_k$ is $\\mu$,  $E(x_k) = \\mu $ \n",
    "\n",
    "$$ E(\\bar{X}) = \\frac{1}{n}( \\underbrace{ \\mu + \\mu + ... + \\mu }_{n\\text{-times}}  )$$ \n",
    "\n",
    "Rewriting our summation as a multiplication: \n",
    "\n",
    "$$ E(\\bar{X}) = \\frac{1}{n}( n\\mu )$$ \n",
    "\n",
    "Simplifying: \n",
    "\n",
    "$$ E(\\bar{X}) = \\mu $$\n",
    "\n",
    "This proves the behaviour we noticed earlier where mean of the Klout score distribution seemed to be the exact same as the mean of the sample means distribution. \n",
    "\n",
    "### proving the result for the standard deviation \n",
    "\n",
    "To calculate the standard deviation of $\\bar{X}$  we will apply the two following [Variance Algebra](https://en.wikipedia.org/wiki/Algebra_of_random_variables) rules: \n",
    "\n",
    "$$ VAR \\left(x_1 + x_2 + ... + x_n \\right) = VAR(x_1) + VAR(x_2) + ... + VAR(x_n)  $$\n",
    "\n",
    "\n",
    "$$ VAR \\left(aX  \\right)  = a^{2}VAR(X) $$ \n",
    "\n",
    "Hence we wish to calculate the variance of the distribution of sample means  : $VAR(\\bar{X} ) $ \n",
    "\n",
    "$$ VAR(\\bar{X} )  = VAR \\left(\\frac{x_1 + x_2 + ... + x_n }{n } \\right ) $$\n",
    "\n",
    "Applying both of the variance algebra rules above gives us the following: \n",
    "\n",
    "$$ VAR(\\bar{X} )  = \\frac{ VAR(x_1 )+ VAR(x_2) + ... + VAR(x_n) }{n^{2}}  $$ \n",
    "\n",
    "The expected variance for an individual sample ( the average distance squared for the mean ) can be defiend by the variance of the the distribtuion $X$ which are observations are sampled from$VAR(x_k) = VAR(X) $\n",
    "\n",
    "\n",
    "$$ VAR(\\bar{X} )  = \\frac{ VAR(X)+ VAR(X) + ... + VAR(X) }{n^{2}}  $$ \n",
    "\n",
    "Given that: \n",
    "\n",
    "$$ VAR(X) = \\sigma^{2}   $$ \n",
    "\n",
    "Subbing the results into our above equation: \n",
    "\n",
    "$$ VAR(\\bar{X} )  =  \\frac{1}{n^{2}} \\left (\\underbrace{ \\sigma^{2} + \\sigma^{2} + ... +  \\sigma^{2} }_{n\\text{-times}} \\right )  $$ \n",
    "\n",
    "Converting our summation into a multiplication: \n",
    "\n",
    "$$ VAR(\\bar{X} )  =  \\frac{1}{n^2} \\left ( n \\sigma^{2}  \\right )  $$ \n",
    "\n",
    "$$ VAR(\\bar{X} ) =  \\frac{\\sigma^{2} }{n} $$ \n",
    "\n",
    "To calculate our standard deviation we simply have to square root our variance. \n",
    "\n",
    "$$ \\sigma(\\bar{X}) = \\frac{\\sigma}{\\sqrt{n} } $$ \n",
    "\n",
    "Once, again we can that this results lines up with our findings above given that the standard of our distribution of sampling means was significantly smaller than the standard deviation of the distribution of Klout scores. "
   ]
  },
  {
   "cell_type": "markdown",
   "id": "7d37cc3b-2d89-4cf9-a5ea-4824701348f7",
   "metadata": {},
   "source": [
    "Calculating the mean and standard deviation of the normal distribution describing the distribution of sample means using the formulas dervived above. "
   ]
  },
  {
   "cell_type": "code",
   "execution_count": 37,
   "id": "7260a03e-25af-4b2f-ba40-2d4d91cc9461",
   "metadata": {},
   "outputs": [],
   "source": [
    "original_mean = np.mean(df.scores.values) \n",
    "original_std = np.std(df.scores.values) \n",
    "sample_std = ( original_std / np.sqrt(250)  ) "
   ]
  },
  {
   "cell_type": "code",
   "execution_count": 38,
   "id": "6e7f7d34-6699-4bbd-a2ea-dc1d017a9e5a",
   "metadata": {},
   "outputs": [
    {
     "name": "stdout",
     "output_type": "stream",
     "text": [
      "mean of sample means distribution: 37.72, std of sample means distribution: 1.0142 \n"
     ]
    }
   ],
   "source": [
    "print(f'mean of sample means distribution: {round(original_mean, 2) }, std of sample means distribution: {round(sample_std, 4) } ') "
   ]
  },
  {
   "cell_type": "markdown",
   "id": "4a834d6a-0a26-4587-935f-6107835f7950",
   "metadata": {},
   "source": [
    "###  Comparing the expected values with our observed values "
   ]
  },
  {
   "cell_type": "code",
   "execution_count": 39,
   "id": "0a294d33-4c52-4303-ad01-7a8043486fc8",
   "metadata": {},
   "outputs": [
    {
     "name": "stdout",
     "output_type": "stream",
     "text": [
      "mean of sample means distribution: 37.71, std of sample means distribution: 1.0025 \n"
     ]
    }
   ],
   "source": [
    "sample_mean_observed = np.mean(sample_mean_dist) \n",
    "sample_std_observed = np.std(sample_mean_dist) \n",
    "\n",
    "print(f'mean of sample means distribution: {round(sample_mean_observed, 2) }, std of sample means distribution: {round(sample_std_observed, 4) } ')"
   ]
  },
  {
   "cell_type": "markdown",
   "id": "fac8d8ea-f49c-43ce-8729-9fbcc36c16d1",
   "metadata": {},
   "source": [
    "Comparing our observed mean and standard deviation to mathematical formula we can see that \n",
    "\n",
    "The gap between our observed values and ones predicted by the formula would likely shrink as we increase the number of samples due to the central limit theorem. Also, the gap between our predicted and observed values will shrink as we increase the size of our samples until the size of our samples reach the size of our population "
   ]
  },
  {
   "cell_type": "markdown",
   "id": "41862095-a09a-4cf5-a6e2-d455afc1deee",
   "metadata": {},
   "source": [
    "We can illustrate this idea with plotting our our sample of 1000, with varying sample sizes "
   ]
  },
  {
   "cell_type": "markdown",
   "id": "ff4133cd-baa8-4978-ac28-93905c238a3f",
   "metadata": {},
   "source": [
    "## BieberTweetter "
   ]
  },
  {
   "cell_type": "markdown",
   "id": "0e3e99a2-a171-419a-b625-d70a10f3b5a5",
   "metadata": {},
   "source": [
    "For the sample of BieberTweetters we can say that $n=250$ and $\\mu = 40 $"
   ]
  },
  {
   "cell_type": "markdown",
   "id": "9ff9713e-e0ec-413a-9a1b-418868ebbe05",
   "metadata": {},
   "source": [
    "This mean would fall to the right end of the distribution of sample means and we visualise where it would fall in the plot below. "
   ]
  },
  {
   "cell_type": "code",
   "execution_count": 40,
   "id": "a7ace412-65f6-480f-a7bf-242d37384858",
   "metadata": {},
   "outputs": [],
   "source": [
    "# importing normal probability density function from scipy \n",
    "from scipy.stats import norm "
   ]
  },
  {
   "cell_type": "code",
   "execution_count": 41,
   "id": "13a64c68-0717-4d58-a14c-1c1d4b2bab94",
   "metadata": {},
   "outputs": [
    {
     "data": {
      "image/png": "[encoded data removed]",
      "text/plain": [
       "<Figure size 800x600 with 2 Axes>"
      ]
     },
     "metadata": {},
     "output_type": "display_data"
    }
   ],
   "source": [
    "fig, ax = plt.subplots(2, figsize = (8,6  ) )\n",
    "\n",
    "xmin,xmax = 33, 43 \n",
    "\n",
    "#plotting the distribution of observed values \n",
    "ax[0].hist(sample_mean_dist, bins = 30 , alpha = 0.5 , label = 'distribution of sample means')\n",
    "ax[0].axvline(np.mean(sample_mean_dist), label = 'mean of sample means', c = 'green'  ) \n",
    "ax[0].axvline(40, label =  'mean of BieberTweetter', c = 'red' ) \n",
    "ax[0].set_xlim(xmin, xmax ) \n",
    "ax[0].set_ylabel('count') \n",
    "ax[0].set_title('emprical distribution') \n",
    "\n",
    "#plotting the normal approximation to the observed distributions \n",
    "\n",
    "\n",
    "x_values = np.linspace(xmin, xmax , 1000)\n",
    "#initialing a normal distribution \n",
    "mean_dist = norm(np.mean(sample_mean_dist) , np.std(sample_mean_dist)  ) \n",
    "\n",
    "ax[1].plot( x_values, mean_dist.pdf(x_values), alpha = 0.5   ) \n",
    "\n",
    "ax[1].plot( ( np.mean(sample_mean_dist), np.mean(sample_mean_dist) ) ,  ( mean_dist.pdf(37.7)  , 0 )  , c= 'green' ) \n",
    "ax[1].plot( (40, 40) , ( mean_dist.pdf(40)   , 0 )  , c= 'red')\n",
    "ax[1].set_xlim(xmin, xmax) \n",
    "ax[1].set_ylabel('likelihood') \n",
    "ax[1].set_title('normal approximation') \n",
    "\n",
    "\n",
    "#plotting general titles \n",
    "\n",
    "midpoint = (fig.subplotpars.right + fig.subplotpars.left ) / 2 \n",
    "fig.supxlabel('sample mean')\n",
    "fig.suptitle('distribution of sample means', x = midpoint ) \n",
    "fig.tight_layout() \n",
    "ax[0].legend(); "
   ]
  },
  {
   "cell_type": "markdown",
   "id": "e76eae6a-cd8f-4ee9-92ab-cb7f6b39a95c",
   "metadata": {},
   "source": [
    "We can see that for both the empirical and normal approximation curve that the a sample mean of 40 compared to other samples of size 250, falls to the right of the distribution and seems quite unlikely given the current mean and standard deviation of the distribution of sample means. "
   ]
  },
  {
   "cell_type": "markdown",
   "id": "0c5b9252-03a9-4f93-9012-300e55aad0ec",
   "metadata": {},
   "source": [
    "### Likelihood that the mean of a sample is above 40 "
   ]
  },
  {
   "cell_type": "markdown",
   "id": "89e10b87-8763-4944-975e-7b50a2a3e4af",
   "metadata": {},
   "source": [
    "Calculating the likelihood that a randomly selected sample of 250 users has a mean of at least 40. This likelihood / probability is represented by the total area underneath the probability density function curve where sample means >= 40. \n",
    "\n",
    "Below is a plot of the normal approxmation of the distribution of sample means, where the area of the green section represents the probability of a sample having a mean greater than 40. Though its worth noting that this green area extends to infinity as the likelihood tends to zero but for the sake of plotting I have only shown it up to a sample mean of 43 "
   ]
  },
  {
   "cell_type": "code",
   "execution_count": 45,
   "id": "7bc0bf9d-af15-484a-b8ec-fa615b7a11f2",
   "metadata": {
    "jupyter": {
     "source_hidden": true
    }
   },
   "outputs": [
    {
     "data": {
      "image/png": "[encoded data removed]",
      "text/plain": [
       "<Figure size 800x400 with 1 Axes>"
      ]
     },
     "metadata": {},
     "output_type": "display_data"
    }
   ],
   "source": [
    "from scipy.stats import norm \n",
    "x_values = np.linspace(33, 43 , 1000)\n",
    "mean_dist = norm(np.mean(sample_mean_dist) , np.std(sample_mean_dist)  ) \n",
    "\n",
    "plt.figure(figsize = (8,4)  ) \n",
    "plt.plot( x_values, mean_dist.pdf(x_values), label = 'distribution of sample means'  ) \n",
    "\n",
    "plt.plot( (40, 40) , ( mean_dist.pdf(40)   , 0 )  , c= 'green', linestyle = ':' , label = 'mean of Bieber sample ')\n",
    "\n",
    "plt.fill_between( x=  x_values, \n",
    "                y1 = mean_dist.pdf(x_values) , \n",
    "                where= (x_values >= 40 ) , \n",
    "                color= \"green\",\n",
    "                alpha= 0.2 , label = 'sample mean > 40 '  ) \n",
    "\n",
    "plt.legend()\n",
    "\n",
    "plt.xlabel('sample mean') \n",
    "plt.ylabel('likelihood') \n",
    "plt.title('Distribution of sample means' );  "
   ]
  },
  {
   "cell_type": "markdown",
   "id": "343c2993-730b-4595-acc7-3bb77451f2c7",
   "metadata": {},
   "source": [
    "Calculating the green area which represents our desrived probability, involves integrating our probability distribution function between the limits of  $40$ and $+\\infty$\n",
    "\n",
    "$$ \\int_{40}^{\\infty} \\mathcal{N}(\\mu, \\sigma^2 )(x) \\,\\,\\ dx  $$ \n",
    "\n",
    "Where $\\mu$ is the mean $\\sigma$ is the standard deviation of the distribution of sample means. \n",
    "\n",
    "To compute this we can use a SciPys cummulative desnisty function `cdf`, which calculates calcualates the following integral for a given normal distribution paramterised by $\\mu$ and $\\sigma$. \n",
    "\n",
    "$$ \\int_{-\\infty}^{b} \\mathcal{N}(\\mu, \\sigma^2 )(x) \\,\\,\\ dx  $$ \n",
    "\n",
    "Where $b$ the upper limit is the input into the `cdf` function. \n",
    "\n",
    "Given that total area under a normal distribution is equal to one we can write: \n",
    "\n",
    "$$  \\int_{-\\infty}^{40} \\mathcal{N}(\\mu, \\sigma^2 )(x) \\,\\,\\ dx   + \\int_{40}^{\\infty} \\mathcal{N}(\\mu, \\sigma^2 )(x) \\,\\,\\ dx   =1 $$ \n",
    "\n",
    "SciPys `cdf` can be used to compute the first term which we can then substract from 1 to get the green area which represents the probability of a sample having a mean which is at least 40. \n",
    "\n",
    "$$   \\int_{40}^{\\infty} \\mathcal{N}(\\mu, \\sigma^2 )(x) \\,\\,\\ dx   =1  - \\int_{-\\infty}^{40} \\mathcal{N}(\\mu, \\sigma^2 )(x) \\,\\,\\ dx $$ \n",
    "\n"
   ]
  },
  {
   "cell_type": "code",
   "execution_count": 43,
   "id": "1242cf14-1410-45d8-a068-6bba0ed8d293",
   "metadata": {},
   "outputs": [
    {
     "name": "stdout",
     "output_type": "stream",
     "text": [
      "the probability that our sample mean is greater or equal to 40 is 1.11% \n"
     ]
    }
   ],
   "source": [
    "aoc = (1 - mean_dist.cdf(40) ) \n",
    "print(f'the probability that our sample mean is greater or equal to 40 is { round(aoc * 100,2 ) }% ') "
   ]
  },
  {
   "cell_type": "markdown",
   "id": "82de03e5-beb7-458f-8479-b22c39ecc985",
   "metadata": {},
   "source": [
    "Its quite unlikely that a sample of 250 users would have a mean of 40 or greater. Placing this result in the context of the bieberTweetter sample with a mean of 40, we can say that this result is significant at 2% level to suggest that the mean score of BieberTweetter users is greater than the mean score of all users in our population. "
   ]
  },
  {
   "cell_type": "markdown",
   "id": "dd95be11-ea9b-4a5b-b40b-80289a8a941c",
   "metadata": {},
   "source": [
    "## Constructing a confidence interval "
   ]
  },
  {
   "cell_type": "markdown",
   "id": "53a7af7f-fe2f-43b7-8513-10aed4ff55d9",
   "metadata": {},
   "source": [
    "We want to create a confidence interval at the 95% level for the mean Klout score if everyone  used BieberTwetter, which in other words means we want to find the 2 numbers such that the probability that the mean Klout score if everyone used BieberTweetter would exist between those 2 numbers is 95%. \n",
    "\n",
    "We know thaat a single sample of 250 BieberTweetter users has a mean score of 40.\n",
    "\n",
    "The formula for confidence intervals can be defined as : \n",
    "\n",
    "$$ (\\mu_s -  me, \\mu + me  )$$\n",
    "\n",
    "$me $ represents the margin of error which is the maximum expected distance between our observed statistic and the true but unknown population population parameter. In our case margin of error represents the maximum expected distance between our sample mean $\\mu_s$ of BieberTweetter users and the mean Klout score if everyone used BieberTweetter which is our unknown popluation parameter. \n",
    "\n",
    "The margin of error can be defined as the following: \n",
    "\n",
    "margin of error = critical value * standard deviation of the sampling distribution if everyone used BieberTweetter. \n",
    "\n",
    "The critical value is defined by the confidence level, area between the positive and negative critical value on a standard normal distribution is equal to the confidence level. E.g. for a confidence level of 0.95 / 95% our critical value is 1.96 as: \n",
    "\n",
    "$$ \\int_{-1.96}^{1.96} \\mathcal{N}(0, 1  )(x) \\,\\,\\ dx  = 0.95  $$ \n",
    "\n",
    "Given that we want to construct a confidence interval with a confidence of 95% this means that our critical value as displayed above is 1.96.\n",
    "\n",
    "The the standard deviation of the sampling distribution is multiplied by our critical value in order to scale the critical value to non standard normal distributions with standard deviations greater or lesser than 1. Its also important to note that the standard deviation of the sampling distribution if everyone used BieberTweetter is equal to current standard deviation of the disribution of sample means,  given that if all users where to start to use BieberTwetter this would essentially shift all users Klout scores by a constant $k$ but would have no effect on the spacing of Klout scores meaning that both distributions would have the same standard deviation. \n",
    "\n",
    "Now that we have a mean of a sample of BeiberTweeter users, as well as the standard deviation of sample means if everyone where to use BieberTweetter we can calculate our margin of error and then construct our confidence interval which is displayed below. "
   ]
  },
  {
   "cell_type": "code",
   "execution_count": 47,
   "id": "ab9bda26-0f97-47c4-a40f-4d8bc3c2765b",
   "metadata": {},
   "outputs": [
    {
     "name": "stdout",
     "output_type": "stream",
     "text": [
      "95% confidence interval (37.97, 42.03)\n"
     ]
    }
   ],
   "source": [
    "lower_bound =  round(40 - float(2* sample_std) , 2 ) \n",
    "upper_bound = round( 40 + float(2* sample_std) , 2 ) \n",
    "\n",
    "print(f'95% confidence interval {(lower_bound, upper_bound )}')"
   ]
  },
  {
   "cell_type": "markdown",
   "id": "6287e0c1-753a-4abb-af20-def3460b67a7",
   "metadata": {},
   "source": [
    "The mean Klout score is currently 37.7 which lies outside of this confidence interval which are are 95% certain that the true mean lies within, similar to the above where we calculated the probability of a sample having a mean greater than 40 this means that if all users where to begin to use BieberTweetter it is unlikely that the mean Klout score would be 37.7 as it falls outside of our confidence interval at a 95% level. "
   ]
  },
  {
   "cell_type": "markdown",
   "id": "c569a9cf-ae22-4e29-b79c-90eaebf4ec20",
   "metadata": {},
   "source": [
    "# Task 2: "
   ]
  },
  {
   "cell_type": "markdown",
   "id": "dcab55a8-d4da-42c3-aae6-717242063c1f",
   "metadata": {},
   "source": [
    "New York traffic collision & weather dataset. The dataset shown below describes the weather conditions and the total number of collisions on a given day. An insurance company is hoping to use this data to draw a link between the total number of collisions and the weather conditions for a particular day in order to help them make smarter pricing decisions. E.g. if it were the case that days with rain lead to a larger number of total collisions then our insurance company may want to increase the price of their premiums for predicted rainy  days due to the increase probability of a collision. So that they can more accurately price the risk they are taking on by ensuring drivers on a given day with particular weather conditions / forecasted weather conditions. "
   ]
  },
  {
   "cell_type": "markdown",
   "id": "bfcc0adb-e399-4537-95be-eed11931a4c7",
   "metadata": {},
   "source": [
    "# Data Loading and Cleaning "
   ]
  },
  {
   "cell_type": "code",
   "execution_count": 217,
   "id": "0c855b23-b3f8-4d8e-bc04-5006acd61c75",
   "metadata": {},
   "outputs": [
    {
     "data": {
      "text/html": [
       "<div>\n",
       "<style scoped>\n",
       "    .dataframe tbody tr th:only-of-type {\n",
       "        vertical-align: middle;\n",
       "    }\n",
       "\n",
       "    .dataframe tbody tr th {\n",
       "        vertical-align: top;\n",
       "    }\n",
       "\n",
       "    .dataframe thead th {\n",
       "        text-align: right;\n",
       "    }\n",
       "</style>\n",
       "<table border=\"1\" class=\"dataframe\">\n",
       "  <thead>\n",
       "    <tr style=\"text-align: right;\">\n",
       "      <th></th>\n",
       "      <th>day</th>\n",
       "      <th>year</th>\n",
       "      <th>mo</th>\n",
       "      <th>da</th>\n",
       "      <th>collision_date</th>\n",
       "      <th>temp</th>\n",
       "      <th>dewp</th>\n",
       "      <th>slp</th>\n",
       "      <th>visib</th>\n",
       "      <th>wdsp</th>\n",
       "      <th>mxpsd</th>\n",
       "      <th>gust</th>\n",
       "      <th>max</th>\n",
       "      <th>min</th>\n",
       "      <th>prcp</th>\n",
       "      <th>sndp</th>\n",
       "      <th>fog</th>\n",
       "      <th>NUM_COLLISIONS</th>\n",
       "    </tr>\n",
       "  </thead>\n",
       "  <tbody>\n",
       "    <tr>\n",
       "      <th>0</th>\n",
       "      <td>2</td>\n",
       "      <td>2013</td>\n",
       "      <td>1</td>\n",
       "      <td>1</td>\n",
       "      <td>01/01/2013</td>\n",
       "      <td>37.8</td>\n",
       "      <td>23.6</td>\n",
       "      <td>1011.9</td>\n",
       "      <td>10.0</td>\n",
       "      <td>6.1</td>\n",
       "      <td>8.9</td>\n",
       "      <td>19.0</td>\n",
       "      <td>39.9</td>\n",
       "      <td>33.1</td>\n",
       "      <td>0.0</td>\n",
       "      <td>999.9</td>\n",
       "      <td>0</td>\n",
       "      <td>381</td>\n",
       "    </tr>\n",
       "    <tr>\n",
       "      <th>1</th>\n",
       "      <td>3</td>\n",
       "      <td>2013</td>\n",
       "      <td>1</td>\n",
       "      <td>2</td>\n",
       "      <td>02/01/2013</td>\n",
       "      <td>27.1</td>\n",
       "      <td>10.5</td>\n",
       "      <td>1016.8</td>\n",
       "      <td>10.0</td>\n",
       "      <td>5.3</td>\n",
       "      <td>9.9</td>\n",
       "      <td>19.0</td>\n",
       "      <td>33.1</td>\n",
       "      <td>21.9</td>\n",
       "      <td>0.0</td>\n",
       "      <td>999.9</td>\n",
       "      <td>0</td>\n",
       "      <td>480</td>\n",
       "    </tr>\n",
       "    <tr>\n",
       "      <th>2</th>\n",
       "      <td>4</td>\n",
       "      <td>2013</td>\n",
       "      <td>1</td>\n",
       "      <td>3</td>\n",
       "      <td>03/01/2013</td>\n",
       "      <td>28.4</td>\n",
       "      <td>14.1</td>\n",
       "      <td>1020.6</td>\n",
       "      <td>10.0</td>\n",
       "      <td>3.7</td>\n",
       "      <td>8.0</td>\n",
       "      <td>15.0</td>\n",
       "      <td>32.0</td>\n",
       "      <td>24.1</td>\n",
       "      <td>0.0</td>\n",
       "      <td>999.9</td>\n",
       "      <td>0</td>\n",
       "      <td>549</td>\n",
       "    </tr>\n",
       "    <tr>\n",
       "      <th>3</th>\n",
       "      <td>5</td>\n",
       "      <td>2013</td>\n",
       "      <td>1</td>\n",
       "      <td>4</td>\n",
       "      <td>04/01/2013</td>\n",
       "      <td>33.4</td>\n",
       "      <td>18.6</td>\n",
       "      <td>1017.0</td>\n",
       "      <td>10.0</td>\n",
       "      <td>6.5</td>\n",
       "      <td>13.0</td>\n",
       "      <td>24.1</td>\n",
       "      <td>37.0</td>\n",
       "      <td>30.0</td>\n",
       "      <td>0.0</td>\n",
       "      <td>999.9</td>\n",
       "      <td>0</td>\n",
       "      <td>505</td>\n",
       "    </tr>\n",
       "    <tr>\n",
       "      <th>4</th>\n",
       "      <td>6</td>\n",
       "      <td>2013</td>\n",
       "      <td>1</td>\n",
       "      <td>5</td>\n",
       "      <td>05/01/2013</td>\n",
       "      <td>36.1</td>\n",
       "      <td>18.7</td>\n",
       "      <td>1020.6</td>\n",
       "      <td>10.0</td>\n",
       "      <td>6.6</td>\n",
       "      <td>12.0</td>\n",
       "      <td>21.0</td>\n",
       "      <td>42.1</td>\n",
       "      <td>32.0</td>\n",
       "      <td>0.0</td>\n",
       "      <td>999.9</td>\n",
       "      <td>0</td>\n",
       "      <td>389</td>\n",
       "    </tr>\n",
       "  </tbody>\n",
       "</table>\n",
       "</div>"
      ],
      "text/plain": [
       "   day  year  mo  da collision_date  temp  dewp     slp  visib  wdsp  mxpsd  \\\n",
       "0    2  2013   1   1     01/01/2013  37.8  23.6  1011.9   10.0   6.1    8.9   \n",
       "1    3  2013   1   2     02/01/2013  27.1  10.5  1016.8   10.0   5.3    9.9   \n",
       "2    4  2013   1   3     03/01/2013  28.4  14.1  1020.6   10.0   3.7    8.0   \n",
       "3    5  2013   1   4     04/01/2013  33.4  18.6  1017.0   10.0   6.5   13.0   \n",
       "4    6  2013   1   5     05/01/2013  36.1  18.7  1020.6   10.0   6.6   12.0   \n",
       "\n",
       "   gust   max   min  prcp   sndp  fog  NUM_COLLISIONS  \n",
       "0  19.0  39.9  33.1   0.0  999.9    0             381  \n",
       "1  19.0  33.1  21.9   0.0  999.9    0             480  \n",
       "2  15.0  32.0  24.1   0.0  999.9    0             549  \n",
       "3  24.1  37.0  30.0   0.0  999.9    0             505  \n",
       "4  21.0  42.1  32.0   0.0  999.9    0             389  "
      ]
     },
     "execution_count": 217,
     "metadata": {},
     "output_type": "execute_result"
    }
   ],
   "source": [
    "df = pd.read_csv('New_York_collisions_and_weather_data.csv')\n",
    "df.head() "
   ]
  },
  {
   "cell_type": "markdown",
   "id": "a7d476b4-39ae-4ef6-a39c-102d3f8f306c",
   "metadata": {},
   "source": [
    "In the data above each record represents an individual day, a breakdown of all individual features is shown below. \n",
    "\n",
    "`day` - day of week for the particular day \n",
    "\n",
    "`year` - year which day was in \n",
    "\n",
    "`mo` - month which day was in \n",
    "\n",
    "`da` - day of month of the particulr day \n",
    "\n",
    "`collision_date` - date for the particular day \n",
    "\n",
    "`temperature` - mean temperature for the day in Fahrenheight, missing = 9999.9\n",
    "\n",
    "`dewp ` - Dew Point, the temperature which the current temperature would have to drop to in order to each 100% humidity, higher typically means more humid , missing = 9999.9\n",
    "\n",
    "`slp` - Mean sea level pressure for the day in millibars to tenths , missing= 9999.9\n",
    "\n",
    "`visib` - Mean visibility for the day in miles to tenths, missing = 999.9\n",
    "\n",
    "`wdsp` - Mean windspeed for the day in knots to tenths, missing = 999.9\n",
    "\n",
    "`gust` - Maximum sustained windspeed reported for the day in knots to tenths, missing = 999.9\n",
    "\n",
    "`max` - Maximum Temperature reported during the day in Fahrenheight to tenths , missing = 9999.9\n",
    "\n",
    "`min` - Minimum Temperature reported during the day in Fahrenheight to tenths, missing = 9999.9 \n",
    "\n",
    "`prcp` - Total Precipation reported during the day in inchies and hundredths, missing = 99.99 \n",
    "\n",
    "`sndp` - Snow Depth in intches to tenth, missing = 999.9 if there is no snow it is usually not reported leading to a missing value \n"
   ]
  },
  {
   "cell_type": "markdown",
   "id": "c2e7fb89-8017-4420-9ea5-483a656de1f8",
   "metadata": {},
   "source": [
    "## Data cleaning "
   ]
  },
  {
   "cell_type": "markdown",
   "id": "1f81234c-8035-4744-a4a8-bfacce6f2b6c",
   "metadata": {},
   "source": [
    "In the data missing numerical values are replaced by with various different values on the feature ( 99.99/999.9 / 9999.9)  these missing values can either be cleaned from our table e.g. removing all rows which contain missing values or instead we could impute values in place of the missing values either using statical methods or the hints left above around missing values. "
   ]
  },
  {
   "cell_type": "markdown",
   "id": "ec58ecbc-bb99-4856-8d83-668116dfb4fc",
   "metadata": {},
   "source": [
    "Given that there are multiple values which could indicate a missing value for continous features, the function below will display a table which shows the proportion of values in each column which are the missing value indicator shown on the axis "
   ]
  },
  {
   "cell_type": "code",
   "execution_count": 216,
   "id": "25663e04-91c3-4d1a-8b32-b7e9b7f9018f",
   "metadata": {},
   "outputs": [],
   "source": [
    "for idx, missing_value_indicator in enumerate([99.99, 999.9 , 9999.9 ]):\n",
    "    if idx == 0: \n",
    "        missing_value_prop = (df == missing_value_indicator).mean() \n",
    "    else:\n",
    "        missing_value_prop = pd.concat( (missing_value_prop,  (df == missing_value_indicator).mean() ) , axis = 1)"
   ]
  },
  {
   "cell_type": "code",
   "execution_count": 189,
   "id": "80e20de2-0fd2-4b6c-addb-cb4fc295de0b",
   "metadata": {},
   "outputs": [
    {
     "data": {
      "text/html": [
       "<div>\n",
       "<style scoped>\n",
       "    .dataframe tbody tr th:only-of-type {\n",
       "        vertical-align: middle;\n",
       "    }\n",
       "\n",
       "    .dataframe tbody tr th {\n",
       "        vertical-align: top;\n",
       "    }\n",
       "\n",
       "    .dataframe thead th {\n",
       "        text-align: right;\n",
       "    }\n",
       "</style>\n",
       "<table border=\"1\" class=\"dataframe\">\n",
       "  <thead>\n",
       "    <tr style=\"text-align: right;\">\n",
       "      <th></th>\n",
       "      <th>day</th>\n",
       "      <th>year</th>\n",
       "      <th>mo</th>\n",
       "      <th>da</th>\n",
       "      <th>collision_date</th>\n",
       "      <th>temp</th>\n",
       "      <th>dewp</th>\n",
       "      <th>slp</th>\n",
       "      <th>visib</th>\n",
       "      <th>wdsp</th>\n",
       "      <th>mxpsd</th>\n",
       "      <th>gust</th>\n",
       "      <th>max</th>\n",
       "      <th>min</th>\n",
       "      <th>prcp</th>\n",
       "      <th>sndp</th>\n",
       "      <th>fog</th>\n",
       "      <th>NUM_COLLISIONS</th>\n",
       "    </tr>\n",
       "  </thead>\n",
       "  <tbody>\n",
       "    <tr>\n",
       "      <th>99.99</th>\n",
       "      <td>0.0</td>\n",
       "      <td>0.0</td>\n",
       "      <td>0.0</td>\n",
       "      <td>0.0</td>\n",
       "      <td>0.0</td>\n",
       "      <td>0.0</td>\n",
       "      <td>0.0</td>\n",
       "      <td>0.00</td>\n",
       "      <td>0.00</td>\n",
       "      <td>0.00</td>\n",
       "      <td>0.00</td>\n",
       "      <td>0.00</td>\n",
       "      <td>0.0</td>\n",
       "      <td>0.0</td>\n",
       "      <td>0.0</td>\n",
       "      <td>0.00</td>\n",
       "      <td>0.0</td>\n",
       "      <td>0.0</td>\n",
       "    </tr>\n",
       "    <tr>\n",
       "      <th>999.90</th>\n",
       "      <td>0.0</td>\n",
       "      <td>0.0</td>\n",
       "      <td>0.0</td>\n",
       "      <td>0.0</td>\n",
       "      <td>0.0</td>\n",
       "      <td>0.0</td>\n",
       "      <td>0.0</td>\n",
       "      <td>0.00</td>\n",
       "      <td>0.01</td>\n",
       "      <td>0.05</td>\n",
       "      <td>0.05</td>\n",
       "      <td>0.37</td>\n",
       "      <td>0.0</td>\n",
       "      <td>0.0</td>\n",
       "      <td>0.0</td>\n",
       "      <td>0.92</td>\n",
       "      <td>0.0</td>\n",
       "      <td>0.0</td>\n",
       "    </tr>\n",
       "    <tr>\n",
       "      <th>9999.90</th>\n",
       "      <td>0.0</td>\n",
       "      <td>0.0</td>\n",
       "      <td>0.0</td>\n",
       "      <td>0.0</td>\n",
       "      <td>0.0</td>\n",
       "      <td>0.0</td>\n",
       "      <td>0.0</td>\n",
       "      <td>0.01</td>\n",
       "      <td>0.00</td>\n",
       "      <td>0.00</td>\n",
       "      <td>0.00</td>\n",
       "      <td>0.00</td>\n",
       "      <td>0.0</td>\n",
       "      <td>0.0</td>\n",
       "      <td>0.0</td>\n",
       "      <td>0.00</td>\n",
       "      <td>0.0</td>\n",
       "      <td>0.0</td>\n",
       "    </tr>\n",
       "  </tbody>\n",
       "</table>\n",
       "</div>"
      ],
      "text/plain": [
       "         day  year   mo   da  collision_date  temp  dewp   slp  visib  wdsp  \\\n",
       "99.99    0.0   0.0  0.0  0.0             0.0   0.0   0.0  0.00   0.00  0.00   \n",
       "999.90   0.0   0.0  0.0  0.0             0.0   0.0   0.0  0.00   0.01  0.05   \n",
       "9999.90  0.0   0.0  0.0  0.0             0.0   0.0   0.0  0.01   0.00  0.00   \n",
       "\n",
       "         mxpsd  gust  max  min  prcp  sndp  fog  NUM_COLLISIONS  \n",
       "99.99     0.00  0.00  0.0  0.0   0.0  0.00  0.0             0.0  \n",
       "999.90    0.05  0.37  0.0  0.0   0.0  0.92  0.0             0.0  \n",
       "9999.90   0.00  0.00  0.0  0.0   0.0  0.00  0.0             0.0  "
      ]
     },
     "execution_count": 189,
     "metadata": {},
     "output_type": "execute_result"
    }
   ],
   "source": [
    "missing_value_prop.columns = [99.99, 999.9, 9999.9 ] \n",
    "missing_value_prop.T.round(2) "
   ]
  },
  {
   "cell_type": "markdown",
   "id": "1f8a30e5-4314-40e3-8eab-91ee7e2dda0a",
   "metadata": {},
   "source": [
    "### deciding on stratgegies for each of the columns with missing values \n",
    "\n",
    "`sndp` which is the snow depth has 92% missing values. However, it's common that stations do not repot zeros for days with no snow and only report the actual snow depth on days with snow so all missing values will be replaced with 0s to represent no snow \n",
    "\n",
    "`gust` also has a fairly high proportion of missing values 0.37, though there is no information provided around why these values may be missing so we will have to stick with mean imputation \n",
    "\n",
    "`wdsp`, `slp`, `visib` , `mxpsd` - All have fairly low levels of missing values when compared to the previous to features but similar to  `gust` there is no added info provided around the missing values hence we will use mean imputation\n"
   ]
  },
  {
   "cell_type": "markdown",
   "id": "d0c78801-740d-4ab3-93c5-62d3dd45a380",
   "metadata": {},
   "source": [
    "### replacing missing values "
   ]
  },
  {
   "cell_type": "markdown",
   "id": "3ec8284b-b9b2-4bc7-bb04-ad1154fb3421",
   "metadata": {},
   "source": [
    "Zero inputation for `sndp` "
   ]
  },
  {
   "cell_type": "code",
   "execution_count": 190,
   "id": "1a9cd1bb-5a45-45c8-a59d-5e966562cab3",
   "metadata": {},
   "outputs": [],
   "source": [
    "df['sndp'] = df['sndp'].replace(999.9 , 0 ) "
   ]
  },
  {
   "cell_type": "markdown",
   "id": "d20612cf-b69c-44bc-b2dd-4db17ab78354",
   "metadata": {},
   "source": [
    "Mean Imputation for `gust`, `wdsp`, `slp`, `visib`, `mxpsd`. "
   ]
  },
  {
   "cell_type": "code",
   "execution_count": 191,
   "id": "105254a7-8e4b-44bb-859b-c18d6323eb8f",
   "metadata": {},
   "outputs": [],
   "source": [
    "# dictionary defining each feature and the value which is used to represent missing values for that feature \n",
    "feature_missing_indicator = {'gust' : 999.9 , 'wdsp' : 999.9 , 'slp' : 9999.9 , 'visib' : 999.9 , 'mxpsd'  :999.9 } \n",
    "for feature, indicator in feature_missing_indicator.items(): \n",
    "    df[feature] = df[feature].replace(indicator, df[feature].mean() ) "
   ]
  },
  {
   "cell_type": "markdown",
   "id": "8fe1935b-c057-4b1c-9c47-f3a1a911a09d",
   "metadata": {},
   "source": [
    "### converting dates to pandas datetime dtype "
   ]
  },
  {
   "cell_type": "code",
   "execution_count": 192,
   "id": "4e0b4583-47f2-454e-957b-cf895b48dfb1",
   "metadata": {},
   "outputs": [],
   "source": [
    "df.collision_date = pd.to_datetime(df.collision_date, dayfirst = True ) "
   ]
  },
  {
   "cell_type": "markdown",
   "id": "caae51ca-d611-4adc-b5fd-745e9c5a2997",
   "metadata": {},
   "source": [
    "### printing cleaned table "
   ]
  },
  {
   "cell_type": "code",
   "execution_count": 193,
   "id": "c44c44b5-9bfc-4309-819f-1490d68647f9",
   "metadata": {},
   "outputs": [
    {
     "data": {
      "text/html": [
       "<div>\n",
       "<style scoped>\n",
       "    .dataframe tbody tr th:only-of-type {\n",
       "        vertical-align: middle;\n",
       "    }\n",
       "\n",
       "    .dataframe tbody tr th {\n",
       "        vertical-align: top;\n",
       "    }\n",
       "\n",
       "    .dataframe thead th {\n",
       "        text-align: right;\n",
       "    }\n",
       "</style>\n",
       "<table border=\"1\" class=\"dataframe\">\n",
       "  <thead>\n",
       "    <tr style=\"text-align: right;\">\n",
       "      <th></th>\n",
       "      <th>day</th>\n",
       "      <th>year</th>\n",
       "      <th>mo</th>\n",
       "      <th>da</th>\n",
       "      <th>collision_date</th>\n",
       "      <th>temp</th>\n",
       "      <th>dewp</th>\n",
       "      <th>slp</th>\n",
       "      <th>visib</th>\n",
       "      <th>wdsp</th>\n",
       "      <th>mxpsd</th>\n",
       "      <th>gust</th>\n",
       "      <th>max</th>\n",
       "      <th>min</th>\n",
       "      <th>prcp</th>\n",
       "      <th>sndp</th>\n",
       "      <th>fog</th>\n",
       "      <th>NUM_COLLISIONS</th>\n",
       "    </tr>\n",
       "  </thead>\n",
       "  <tbody>\n",
       "    <tr>\n",
       "      <th>0</th>\n",
       "      <td>2</td>\n",
       "      <td>2013</td>\n",
       "      <td>1</td>\n",
       "      <td>1</td>\n",
       "      <td>2013-01-01</td>\n",
       "      <td>37.8</td>\n",
       "      <td>23.6</td>\n",
       "      <td>1011.9</td>\n",
       "      <td>10.0</td>\n",
       "      <td>6.1</td>\n",
       "      <td>8.9</td>\n",
       "      <td>19.0</td>\n",
       "      <td>39.9</td>\n",
       "      <td>33.1</td>\n",
       "      <td>0.0</td>\n",
       "      <td>0.0</td>\n",
       "      <td>0</td>\n",
       "      <td>381</td>\n",
       "    </tr>\n",
       "    <tr>\n",
       "      <th>1</th>\n",
       "      <td>3</td>\n",
       "      <td>2013</td>\n",
       "      <td>1</td>\n",
       "      <td>2</td>\n",
       "      <td>2013-01-02</td>\n",
       "      <td>27.1</td>\n",
       "      <td>10.5</td>\n",
       "      <td>1016.8</td>\n",
       "      <td>10.0</td>\n",
       "      <td>5.3</td>\n",
       "      <td>9.9</td>\n",
       "      <td>19.0</td>\n",
       "      <td>33.1</td>\n",
       "      <td>21.9</td>\n",
       "      <td>0.0</td>\n",
       "      <td>0.0</td>\n",
       "      <td>0</td>\n",
       "      <td>480</td>\n",
       "    </tr>\n",
       "    <tr>\n",
       "      <th>2</th>\n",
       "      <td>4</td>\n",
       "      <td>2013</td>\n",
       "      <td>1</td>\n",
       "      <td>3</td>\n",
       "      <td>2013-01-03</td>\n",
       "      <td>28.4</td>\n",
       "      <td>14.1</td>\n",
       "      <td>1020.6</td>\n",
       "      <td>10.0</td>\n",
       "      <td>3.7</td>\n",
       "      <td>8.0</td>\n",
       "      <td>15.0</td>\n",
       "      <td>32.0</td>\n",
       "      <td>24.1</td>\n",
       "      <td>0.0</td>\n",
       "      <td>0.0</td>\n",
       "      <td>0</td>\n",
       "      <td>549</td>\n",
       "    </tr>\n",
       "    <tr>\n",
       "      <th>3</th>\n",
       "      <td>5</td>\n",
       "      <td>2013</td>\n",
       "      <td>1</td>\n",
       "      <td>4</td>\n",
       "      <td>2013-01-04</td>\n",
       "      <td>33.4</td>\n",
       "      <td>18.6</td>\n",
       "      <td>1017.0</td>\n",
       "      <td>10.0</td>\n",
       "      <td>6.5</td>\n",
       "      <td>13.0</td>\n",
       "      <td>24.1</td>\n",
       "      <td>37.0</td>\n",
       "      <td>30.0</td>\n",
       "      <td>0.0</td>\n",
       "      <td>0.0</td>\n",
       "      <td>0</td>\n",
       "      <td>505</td>\n",
       "    </tr>\n",
       "    <tr>\n",
       "      <th>4</th>\n",
       "      <td>6</td>\n",
       "      <td>2013</td>\n",
       "      <td>1</td>\n",
       "      <td>5</td>\n",
       "      <td>2013-01-05</td>\n",
       "      <td>36.1</td>\n",
       "      <td>18.7</td>\n",
       "      <td>1020.6</td>\n",
       "      <td>10.0</td>\n",
       "      <td>6.6</td>\n",
       "      <td>12.0</td>\n",
       "      <td>21.0</td>\n",
       "      <td>42.1</td>\n",
       "      <td>32.0</td>\n",
       "      <td>0.0</td>\n",
       "      <td>0.0</td>\n",
       "      <td>0</td>\n",
       "      <td>389</td>\n",
       "    </tr>\n",
       "  </tbody>\n",
       "</table>\n",
       "</div>"
      ],
      "text/plain": [
       "   day  year  mo  da collision_date  temp  dewp     slp  visib  wdsp  mxpsd  \\\n",
       "0    2  2013   1   1     2013-01-01  37.8  23.6  1011.9   10.0   6.1    8.9   \n",
       "1    3  2013   1   2     2013-01-02  27.1  10.5  1016.8   10.0   5.3    9.9   \n",
       "2    4  2013   1   3     2013-01-03  28.4  14.1  1020.6   10.0   3.7    8.0   \n",
       "3    5  2013   1   4     2013-01-04  33.4  18.6  1017.0   10.0   6.5   13.0   \n",
       "4    6  2013   1   5     2013-01-05  36.1  18.7  1020.6   10.0   6.6   12.0   \n",
       "\n",
       "   gust   max   min  prcp  sndp  fog  NUM_COLLISIONS  \n",
       "0  19.0  39.9  33.1   0.0   0.0    0             381  \n",
       "1  19.0  33.1  21.9   0.0   0.0    0             480  \n",
       "2  15.0  32.0  24.1   0.0   0.0    0             549  \n",
       "3  24.1  37.0  30.0   0.0   0.0    0             505  \n",
       "4  21.0  42.1  32.0   0.0   0.0    0             389  "
      ]
     },
     "execution_count": 193,
     "metadata": {},
     "output_type": "execute_result"
    }
   ],
   "source": [
    "df.head() "
   ]
  },
  {
   "cell_type": "markdown",
   "id": "539d2d02-a947-44d4-ab01-8194f986da54",
   "metadata": {},
   "source": [
    "# Prelimary Exploratory Data Analysis. "
   ]
  },
  {
   "cell_type": "markdown",
   "id": "c572c3e5-0634-4c70-80b9-d240efeaa91b",
   "metadata": {},
   "source": [
    "Defining the continous and categorical features in our dataset, given that their correlation between itself and the distribution must be measured in various ways. "
   ]
  },
  {
   "cell_type": "code",
   "execution_count": 194,
   "id": "442ac93a-a504-46b7-9251-149be5ca9989",
   "metadata": {},
   "outputs": [],
   "source": [
    "continous_features = ['temp','dewp','slp', 'visib', 'wdsp','mxpsd','gust','max','min','prcp', 'sndp' , 'day' , 'fog' , 'NUM_COLLISIONS']\n",
    "dateime_features = ['collision_date'] \n",
    "categorical_features = ['day', 'year', 'mo' , 'fog' ] "
   ]
  },
  {
   "cell_type": "markdown",
   "id": "773d0103-0a20-470c-981d-a624e5cae53c",
   "metadata": {},
   "source": [
    "## Measuring Pairiwse Correlation between continous features "
   ]
  },
  {
   "cell_type": "markdown",
   "id": "909baddd-3b4b-40b5-ad14-95367ac47c7c",
   "metadata": {},
   "source": [
    "Below is a heatmap which pllots the pearsons correlation coefficient between each pair of continous features in our dataset. The Pearons correlation coefficient is also known as the R^2 score which displays the proportion of variance of a particular feature which can be explained by another. "
   ]
  },
  {
   "cell_type": "code",
   "execution_count": 195,
   "id": "7aaf5922-afc1-48b6-9f98-40addb45c7c0",
   "metadata": {},
   "outputs": [
    {
     "data": {
      "image/png": "[encoded data removed]",
      "text/plain": [
       "<Figure size 600x600 with 2 Axes>"
      ]
     },
     "metadata": {},
     "output_type": "display_data"
    }
   ],
   "source": [
    "import matplotlib as mpl \n",
    "from mpl_toolkits.axes_grid1 import make_axes_locatable\n",
    "\n",
    "\n",
    "fig,ax = plt.subplots( 1,   figsize = (6,6)  )\n",
    "\n",
    "correlation_matrix = df[continous_features].corr().values\n",
    "\n",
    "\n",
    "heatmap = ax.imshow( correlation_matrix , cmap = 'magma') \n",
    "\n",
    "for i in range(len(continous_features) ): \n",
    "    for j in range(i, len(continous_features)  ): \n",
    "        if correlation_matrix[i,j] > 0.2: \n",
    "            ax.text(i,j, round(correlation_matrix[i,j], 2) , size = 6, ha = 'center' , va = 'center'  ) \n",
    "        else:\n",
    "            ax.text(i,j, round(correlation_matrix[i,j], 2) , size = 6, ha = 'center' , va = 'center' , c = 'white' ) \n",
    "      # plt.text(j,i , round(correlation_matrix[i,j], 2) , size = 6, ha = 'center' , va = 'center'  ) \n",
    "\n",
    "divider = make_axes_locatable(ax)\n",
    "cax = divider.append_axes('right', size='7%', pad=0.1 ) \n",
    "\n",
    "fig.colorbar(heatmap, cax = cax  ) \n",
    "\n",
    "ax.set_xticks(np.arange(len(continous_features) ) , continous_features , rotation = 90 ) \n",
    "ax.set_yticks(np.arange(len(continous_features)) , continous_features )\n",
    "\n",
    "ax.set_title('\\n Correlation Heatmap \\n ' , size = 20 )  \n",
    "ax.set_xlabel('features', size = 12  ) \n",
    "ax.set_ylabel('features', size = 12  ) ; "
   ]
  },
  {
   "cell_type": "markdown",
   "id": "4e8f7f62-e8e8-4b54-8a01-1bbd7d05a04b",
   "metadata": {},
   "source": [
    "Given that are particularly interested in the correlation between each weather feature and the ```NUM_COLLISIONS```, we will primarly be focusing on the bottom row of our heatmap which displays each of the pairwise correlations with `NUM_COLLISIONS` \n",
    "\n",
    "### Looking at each of the individual positive correlations \n",
    "\n",
    "- ` temp ` : The the warmer the temperature perhaps there is a greater number of pedestrians out / people taking trips\n",
    "\n",
    "- `dewp` : The higher the dew point the more moisture is the air so perhaps more humid muggy weather lead to more people using taxis rather than walking\n",
    "\n",
    "-  `max` : The maximum temperature recorded during the day, likely because warmer weather may lead to a greater number of pedestrians as well as people taking trips around to enjoy the nice weather\n",
    "\n",
    "- `min` : The reasoning should be similar to maximum as the two temperatures two temperature measurements are highly correlated which can be seen in the heatmap. \n",
    "\n",
    "\n",
    "### Looking at each of the individual negative correlations \n",
    "\n",
    "both have a negative correlation below ~-0.1 implying that there is a weak negative correlation between these variables a\n",
    "\n",
    "- `wdsp` : The mean windspeed for the days negative correlated with the number of collisions given that perhaps days with worse weather may lead to less people taking journeys and less pedestrians\n",
    "\n",
    "\n",
    "- `mmxspd` : as shown in correlation matrix the max windspeed is highly correlated with the  `wdsp` with a R2 score of 0.88\n",
    "\n",
    "- `day` : day of the week is currently being treated as a continous feature achieves a relatively large negative R2 score when compared to the other features inside of our dataset, \n",
    "\n",
    "### Features with little positive or negative correlation \n",
    "\n",
    "Suprisingly some features like rain `prcp` which achives an R2 score of 0.05 seems to have little correlation with the total number of collisions, which seems to be counter intuitive to what you would typically expect given that rain can lower visibilty on roads, tyres have less grip etc leading to more collisions. \n",
    "\n",
    "In a similar vain to before you would expect a feature like `visib` which represnets the mean visibility for the day, to be highly correlated with the number of crashses given that reduced visibility can make it harder to spot other drivers on the road leading to more collisions. However, it may work the otherway as on days with low visibiilty drivesr may be more cautious as well as driving in city may aid days with low visibility. "
   ]
  },
  {
   "cell_type": "markdown",
   "id": "713ef091",
   "metadata": {},
   "source": [
    "## Plotting the corelation between categorical features and the total number of collisions "
   ]
  },
  {
   "cell_type": "markdown",
   "id": "cf3c321b-707f-4c13-b288-aa256ef0dd32",
   "metadata": {},
   "source": [
    "Currently day of week is stored as a continious feature which implies that if the model learns a positive weight than tuesday is greater than monday. However this assumption is not necessarily correct and rather than storing day of the week as a continious feature it may be better to store it as a categorical feature. where the model learns a weight for each day of the weekrather than a single weight which is applied across all days. "
   ]
  },
  {
   "cell_type": "code",
   "execution_count": 196,
   "id": "af113850-0c4e-4866-9fee-c880d2adf917",
   "metadata": {},
   "outputs": [
    {
     "data": {
      "image/png": "[encoded data removed]",
      "text/plain": [
       "<Figure size 1200x300 with 4 Axes>"
      ]
     },
     "metadata": {},
     "output_type": "display_data"
    }
   ],
   "source": [
    "import math \n",
    "\n",
    "for feature in categorical_features:\n",
    "    df[feature] = df[feature].astype('string')\n",
    "\n",
    "n_subplots = len(categorical_features)\n",
    "\n",
    "fig, ax = plt.subplots( 1, n_subplots , figsize = (12,  3   ) ) \n",
    "\n",
    "\n",
    "fig.suptitle(' Categorical features plotted against the number of collisions ')\n",
    "\n",
    "xticks_dict = {'day': ['Monday', 'Tuesday', 'Wednesday', 'Thursday', 'Friday', 'Saturday', 'Sunday'],\n",
    "              'mo': ['Jan', 'Feb', 'Mar', 'Apr', 'May', 'Jun', 'Jul', 'Aug', 'Sep', 'Oct', 'Nov', 'Dec']}\n",
    "\n",
    "\n",
    "y_idx = 0 \n",
    "for idx, categorical_feature in enumerate(categorical_features): \n",
    "\n",
    "    if idx == 0:\n",
    "        ax[idx].set_ylabel('number of collisions') \n",
    "    else:\n",
    "\n",
    "        ax[idx].set_yticks([])  \n",
    "\n",
    "\n",
    "    if xticks_dict.get(categorical_feature):\n",
    "        xticks = xticks_dict.get(categorical_feature)\n",
    "        ax[idx].set_xticks(np.arange(len(xticks) ) , xticks, rotation = 90 ) \n",
    "                      \n",
    "    ax[idx].set_xlabel(categorical_feature)\n",
    "\n",
    "    \n",
    "    \n",
    "    ax[idx].scatter(df[categorical_feature], df.NUM_COLLISIONS, s= 8 , alpha = 0.3  ) \n",
    "\n",
    "    \n",
    "    means = df.groupby(categorical_feature)['NUM_COLLISIONS'].mean()\n",
    "    for i,mean in enumerate(means):\n",
    "        ax[idx].hlines(mean, i - 0.2, i + 0.2,  color = 'red'   ) \n",
    "\n",
    "\n",
    "    if idx % 2 == 0: \n",
    "        y_idx = +1 "
   ]
  },
  {
   "cell_type": "markdown",
   "id": "6b8a2ccf-cc0e-4bf2-9615-784289f28fc2",
   "metadata": {},
   "source": [
    "The scatter plots show the spread and the mean number of collisions per category. \n",
    "\n",
    "-  `day` : The mean number of collisions rises gradually through the week until friday where it shoots up and then falls back down again on saturday and sunday. This is likely a result of less people driving on the weekends due to less commuting. Friday is a mix of commuting as well more social events etc. \n",
    "\n",
    "-  `year` : We can see that tehre has been a gradual rise in the mean number of collisions each year with it started to plateu between 2017/2018. \n",
    "\n",
    "- `mo` : the mean number of collisions seems to fluctuate throught the months with Septemer with the highest mean collisions, more peole back to school still good weather etc, with january having the lowest mean as less activities worse weather may contribute to more people staying iside etc. \n",
    "\n",
    "- `fog` : We can see that the mean number of collisions is marginally higher when foggy represented by 1, which is to expected given that the foggier it the less vibility you have leading to less reaction time and more accidents."
   ]
  },
  {
   "cell_type": "markdown",
   "id": "1f2e2a33-1f8f-4509-8b42-9e868af02809",
   "metadata": {},
   "source": [
    "## Sine transform to day of week feature. "
   ]
  },
  {
   "cell_type": "markdown",
   "id": "e77b3021-6c82-4244-bfa7-692af654c30a",
   "metadata": {},
   "source": [
    "From looking at the patterns in the number of crashes  when compared to the day of the week, we can observe some level of wave/ sinusoidal, like behaviour as the number of collisions rises until friday and then falls on both saturday and sunday. This pattern is vaguely similar to a sine wave between $(0, \\pi)$, which I have plotted below. "
   ]
  },
  {
   "cell_type": "code",
   "execution_count": 221,
   "id": "8b0389de-0029-4664-b93e-0927ffd0cfa0",
   "metadata": {},
   "outputs": [
    {
     "name": "stderr",
     "output_type": "stream",
     "text": [
      "<>:5: SyntaxWarning: invalid escape sequence '\\p'\n",
      "<>:5: SyntaxWarning: invalid escape sequence '\\p'\n",
      "<>:7: SyntaxWarning: invalid escape sequence '\\p'\n",
      "<>:5: SyntaxWarning: invalid escape sequence '\\p'\n",
      "<>:5: SyntaxWarning: invalid escape sequence '\\p'\n",
      "<>:7: SyntaxWarning: invalid escape sequence '\\p'\n",
      "/tmp/ipykernel_42729/641761800.py:5: SyntaxWarning: invalid escape sequence '\\p'\n",
      "  plt.xticks([0, np.pi /2 , np.pi  ] , ['0' , '$0.5\\pi$',  '$\\pi$'] );\n",
      "/tmp/ipykernel_42729/641761800.py:5: SyntaxWarning: invalid escape sequence '\\p'\n",
      "  plt.xticks([0, np.pi /2 , np.pi  ] , ['0' , '$0.5\\pi$',  '$\\pi$'] );\n",
      "/tmp/ipykernel_42729/641761800.py:7: SyntaxWarning: invalid escape sequence '\\p'\n",
      "  plt.title('$sin(x)$ between $(0,\\pi)$ \\n'  );\n"
     ]
    },
    {
     "data": {
      "image/png": "[encoded data removed]",
      "text/plain": [
       "<Figure size 600x200 with 1 Axes>"
      ]
     },
     "metadata": {},
     "output_type": "display_data"
    }
   ],
   "source": [
    "plt.figure(figsize = (6,  2 ) ) \n",
    "xvals = np.linspace(0, np.pi, 10000 ) \n",
    "yvals = np.sin(xvals) \n",
    "plt.plot(xvals, yvals ) \n",
    "plt.xticks([0, np.pi /2 , np.pi  ] , ['0' , '$0.5\\pi$',  '$\\pi$'] ); \n",
    "plt.yticks([1, 0  ] )\n",
    "plt.title('$sin(x)$ between $(0,\\pi)$ \\n'  ); "
   ]
  },
  {
   "cell_type": "markdown",
   "id": "e5462131-e62f-4659-9eee-6595ee5bcdf7",
   "metadata": {},
   "source": [
    "As a result in order to improve the correlation between day of week stored as a continous feature and the number of collisions ina  day, we can apply the following sine transformation: \n",
    "\n",
    "$$ \\hat{x} = sin \\left(\\frac{x\\times{\\pi}}{n } \\right)$$\n",
    "\n",
    "where $x$ is the day of week, $n$ is 7 the number of days in a week and $\\hat{x}$ is our transformed value. "
   ]
  },
  {
   "cell_type": "markdown",
   "id": "d3e5e192-09da-47cb-a2b0-79682cb2da03",
   "metadata": {},
   "source": [
    "Below is a graph displaying the sine transformation of days of week described above, where the height of day of week represents its new value. "
   ]
  },
  {
   "cell_type": "code",
   "execution_count": 198,
   "id": "b5505882-b7cf-4ef7-987c-370a864a46fc",
   "metadata": {},
   "outputs": [
    {
     "name": "stderr",
     "output_type": "stream",
     "text": [
      "<>:5: SyntaxWarning: invalid escape sequence '\\p'\n",
      "<>:5: SyntaxWarning: invalid escape sequence '\\p'\n",
      "<>:7: SyntaxWarning: invalid escape sequence '\\p'\n",
      "<>:5: SyntaxWarning: invalid escape sequence '\\p'\n",
      "<>:5: SyntaxWarning: invalid escape sequence '\\p'\n",
      "<>:7: SyntaxWarning: invalid escape sequence '\\p'\n",
      "/tmp/ipykernel_42729/2013406245.py:5: SyntaxWarning: invalid escape sequence '\\p'\n",
      "  plt.xticks([0, np.pi /2 , np.pi  ] , ['0' , '$0.5\\pi$',  '$\\pi$'] );\n",
      "/tmp/ipykernel_42729/2013406245.py:5: SyntaxWarning: invalid escape sequence '\\p'\n",
      "  plt.xticks([0, np.pi /2 , np.pi  ] , ['0' , '$0.5\\pi$',  '$\\pi$'] );\n",
      "/tmp/ipykernel_42729/2013406245.py:7: SyntaxWarning: invalid escape sequence '\\p'\n",
      "  plt.title('$sin(x)$ between $(0,\\pi)$ \\n'  )\n"
     ]
    },
    {
     "data": {
      "image/png": "[encoded data removed]",
      "text/plain": [
       "<Figure size 800x400 with 1 Axes>"
      ]
     },
     "metadata": {},
     "output_type": "display_data"
    }
   ],
   "source": [
    "plt.figure(figsize = (8, 4  ) ) \n",
    "xvals = np.linspace(0, np.pi, 10000 ) \n",
    "yvals = np.sin(xvals) \n",
    "plt.plot(xvals, yvals ) \n",
    "plt.xticks([0, np.pi /2 , np.pi  ] , ['0' , '$0.5\\pi$',  '$\\pi$'] ); \n",
    "plt.yticks([1, 0  ] )\n",
    "plt.title('$sin(x)$ between $(0,\\pi)$ \\n'  )\n",
    "days_of_week = ['Monday', 'Tuesday', 'Wednesday', 'Thursday', 'Friday', 'Saturday', 'Sunday' ] \n",
    "for idx, day in enumerate(days_of_week):\n",
    "    xval = (idx + 1 ) * (np.pi / 7)\n",
    "    yval = np.sin(xval) \n",
    "    plt.scatter( xval, yval  , label =  day )\n",
    "\n",
    "plt.xlabel('$x$')\n",
    "plt.ylabel(\"$x'$\")\n",
    "plt.tight_layout() \n",
    "plt.legend(); "
   ]
  },
  {
   "cell_type": "markdown",
   "id": "df0eae4a-6685-4b63-86e7-2467a3de8c50",
   "metadata": {},
   "source": [
    "From looking at the graph we can see that our sine transformation doesnt represent the relationship between day of week and no. collisions perfectly, given that it shows wednesday and thursday with the highest transformed values compared to collision data where friday is the day of week is the highest number of collisions. However, it still captures the rough trend in the data and should hence lead to an improvement in the correlation between day of week and total number of collisions. "
   ]
  },
  {
   "cell_type": "markdown",
   "id": "712865e1-08ff-429a-bbfd-84d7ed7349e2",
   "metadata": {},
   "source": [
    "Calculating the correlation coefficient between our sine transformed day of week feature and total number of collisions. "
   ]
  },
  {
   "cell_type": "code",
   "execution_count": 199,
   "id": "db2d42d9-f09c-43c1-885d-c1564f612e8d",
   "metadata": {},
   "outputs": [
    {
     "data": {
      "text/plain": [
       "0.46"
      ]
     },
     "execution_count": 199,
     "metadata": {},
     "output_type": "execute_result"
    }
   ],
   "source": [
    "df.day = df.day.astype('int') \n",
    "day_sine = df.day.apply( lambda x : np.sin(  np.pi  * ( x / 7 ) )  ) \n",
    "float(round(np.corrcoef(day_sine, df.NUM_COLLISIONS)[0][1], 2)) "
   ]
  },
  {
   "cell_type": "markdown",
   "id": "05a0ab31-de19-4908-9d97-4ba829a9c6e0",
   "metadata": {},
   "source": [
    "The sine transform led to an increase in the correlation between our day of week feature and the total number of collisions from ~-0.26 to ~0.46, so not only have we impacted the strength of the correlation between the two variables but we have also adjusted the direction of the correlation."
   ]
  },
  {
   "cell_type": "markdown",
   "id": "7747544b",
   "metadata": {},
   "source": [
    "### One Hot encoding day of week feature"
   ]
  },
  {
   "cell_type": "markdown",
   "id": "f903634f-3079-46c9-bd99-6a582e53836c",
   "metadata": {},
   "source": [
    "Despite transforming the day of week feature using a sine curve to better match the rise and fall of collisions during the week, it may be more sensible to encode the day of the week feature using one hot encodings, where we create a seperature feature for each individual day of week where 1 indiciates if a particular row corresponds to a given day of the week. "
   ]
  },
  {
   "cell_type": "code",
   "execution_count": 200,
   "id": "fa1a937d-d4d5-4c12-8a22-608486c3aef0",
   "metadata": {},
   "outputs": [
    {
     "data": {
      "text/html": [
       "<div>\n",
       "<style scoped>\n",
       "    .dataframe tbody tr th:only-of-type {\n",
       "        vertical-align: middle;\n",
       "    }\n",
       "\n",
       "    .dataframe tbody tr th {\n",
       "        vertical-align: top;\n",
       "    }\n",
       "\n",
       "    .dataframe thead th {\n",
       "        text-align: right;\n",
       "    }\n",
       "</style>\n",
       "<table border=\"1\" class=\"dataframe\">\n",
       "  <thead>\n",
       "    <tr style=\"text-align: right;\">\n",
       "      <th></th>\n",
       "      <th>1</th>\n",
       "      <th>2</th>\n",
       "      <th>3</th>\n",
       "      <th>4</th>\n",
       "      <th>5</th>\n",
       "      <th>6</th>\n",
       "      <th>7</th>\n",
       "      <th>collisions</th>\n",
       "    </tr>\n",
       "  </thead>\n",
       "  <tbody>\n",
       "    <tr>\n",
       "      <th>0</th>\n",
       "      <td>0</td>\n",
       "      <td>1</td>\n",
       "      <td>0</td>\n",
       "      <td>0</td>\n",
       "      <td>0</td>\n",
       "      <td>0</td>\n",
       "      <td>0</td>\n",
       "      <td>381</td>\n",
       "    </tr>\n",
       "    <tr>\n",
       "      <th>1</th>\n",
       "      <td>0</td>\n",
       "      <td>0</td>\n",
       "      <td>1</td>\n",
       "      <td>0</td>\n",
       "      <td>0</td>\n",
       "      <td>0</td>\n",
       "      <td>0</td>\n",
       "      <td>480</td>\n",
       "    </tr>\n",
       "    <tr>\n",
       "      <th>2</th>\n",
       "      <td>0</td>\n",
       "      <td>0</td>\n",
       "      <td>0</td>\n",
       "      <td>1</td>\n",
       "      <td>0</td>\n",
       "      <td>0</td>\n",
       "      <td>0</td>\n",
       "      <td>549</td>\n",
       "    </tr>\n",
       "    <tr>\n",
       "      <th>3</th>\n",
       "      <td>0</td>\n",
       "      <td>0</td>\n",
       "      <td>0</td>\n",
       "      <td>0</td>\n",
       "      <td>1</td>\n",
       "      <td>0</td>\n",
       "      <td>0</td>\n",
       "      <td>505</td>\n",
       "    </tr>\n",
       "    <tr>\n",
       "      <th>4</th>\n",
       "      <td>0</td>\n",
       "      <td>0</td>\n",
       "      <td>0</td>\n",
       "      <td>0</td>\n",
       "      <td>0</td>\n",
       "      <td>1</td>\n",
       "      <td>0</td>\n",
       "      <td>389</td>\n",
       "    </tr>\n",
       "  </tbody>\n",
       "</table>\n",
       "</div>"
      ],
      "text/plain": [
       "   1  2  3  4  5  6  7  collisions\n",
       "0  0  1  0  0  0  0  0         381\n",
       "1  0  0  1  0  0  0  0         480\n",
       "2  0  0  0  1  0  0  0         549\n",
       "3  0  0  0  0  1  0  0         505\n",
       "4  0  0  0  0  0  1  0         389"
      ]
     },
     "execution_count": 200,
     "metadata": {},
     "output_type": "execute_result"
    }
   ],
   "source": [
    "days_of_week_df = pd.get_dummies(df.day ).astype('int') \n",
    "days_of_week_df['collisions'] = df.NUM_COLLISIONS\n",
    "days_of_week_df.head() \n"
   ]
  },
  {
   "cell_type": "code",
   "execution_count": 201,
   "id": "99cfcd24-e9dc-445b-9af2-644e0dd186fa",
   "metadata": {},
   "outputs": [
    {
     "data": {
      "text/html": [
       "<div>\n",
       "<style scoped>\n",
       "    .dataframe tbody tr th:only-of-type {\n",
       "        vertical-align: middle;\n",
       "    }\n",
       "\n",
       "    .dataframe tbody tr th {\n",
       "        vertical-align: top;\n",
       "    }\n",
       "\n",
       "    .dataframe thead th {\n",
       "        text-align: right;\n",
       "    }\n",
       "</style>\n",
       "<table border=\"1\" class=\"dataframe\">\n",
       "  <thead>\n",
       "    <tr style=\"text-align: right;\">\n",
       "      <th></th>\n",
       "      <th>collisions</th>\n",
       "    </tr>\n",
       "  </thead>\n",
       "  <tbody>\n",
       "    <tr>\n",
       "      <th>1</th>\n",
       "      <td>0.004239</td>\n",
       "    </tr>\n",
       "    <tr>\n",
       "      <th>2</th>\n",
       "      <td>0.098392</td>\n",
       "    </tr>\n",
       "    <tr>\n",
       "      <th>3</th>\n",
       "      <td>0.075471</td>\n",
       "    </tr>\n",
       "    <tr>\n",
       "      <th>4</th>\n",
       "      <td>0.134544</td>\n",
       "    </tr>\n",
       "    <tr>\n",
       "      <th>5</th>\n",
       "      <td>0.286025</td>\n",
       "    </tr>\n",
       "    <tr>\n",
       "      <th>6</th>\n",
       "      <td>-0.168215</td>\n",
       "    </tr>\n",
       "    <tr>\n",
       "      <th>7</th>\n",
       "      <td>-0.430455</td>\n",
       "    </tr>\n",
       "    <tr>\n",
       "      <th>collisions</th>\n",
       "      <td>1.000000</td>\n",
       "    </tr>\n",
       "  </tbody>\n",
       "</table>\n",
       "</div>"
      ],
      "text/plain": [
       "            collisions\n",
       "1             0.004239\n",
       "2             0.098392\n",
       "3             0.075471\n",
       "4             0.134544\n",
       "5             0.286025\n",
       "6            -0.168215\n",
       "7            -0.430455\n",
       "collisions    1.000000"
      ]
     },
     "execution_count": 201,
     "metadata": {},
     "output_type": "execute_result"
    }
   ],
   "source": [
    " days_of_week_df.corr().loc[:, ['collisions'] ]"
   ]
  },
  {
   "cell_type": "markdown",
   "id": "93a0a8a0",
   "metadata": {},
   "source": [
    "Above I've printed a table of the pmcc correlation coeficient between each day of week and the total number of collisions. "
   ]
  },
  {
   "cell_type": "markdown",
   "id": "11dfbe1c-7b1d-4910-bac9-e25816444789",
   "metadata": {},
   "source": [
    "# Regression Analysis "
   ]
  },
  {
   "cell_type": "markdown",
   "id": "801a3755",
   "metadata": {},
   "source": [
    "Training a linear regression to predict `NUM_COLLISIONS` using our weather and time based features, which will be used by an insurance company to forecast the number of collisions on a given day allowing them to price risk of their insurance accordingly. \n",
    "\n",
    "The Linear Regression model should learn the linear correlations between the features in the dataset and the target variable, which was explored above, in order to predict the total number of collisions for a given day. "
   ]
  },
  {
   "cell_type": "code",
   "execution_count": 202,
   "id": "4416b369",
   "metadata": {},
   "outputs": [],
   "source": [
    "from sklearn.model_selection import train_test_split \n",
    "from sklearn.linear_model import LinearRegression \n",
    "from sklearn.metrics import mean_squared_error as mse \n",
    "from sklearn.metrics import r2_score "
   ]
  },
  {
   "cell_type": "markdown",
   "id": "92acaee0",
   "metadata": {},
   "source": [
    "printing the first 5 rows of our dataset \n"
   ]
  },
  {
   "cell_type": "code",
   "execution_count": 203,
   "id": "606730b4-d9cb-4691-ad2a-6012f357e8f5",
   "metadata": {},
   "outputs": [
    {
     "data": {
      "text/html": [
       "<div>\n",
       "<style scoped>\n",
       "    .dataframe tbody tr th:only-of-type {\n",
       "        vertical-align: middle;\n",
       "    }\n",
       "\n",
       "    .dataframe tbody tr th {\n",
       "        vertical-align: top;\n",
       "    }\n",
       "\n",
       "    .dataframe thead th {\n",
       "        text-align: right;\n",
       "    }\n",
       "</style>\n",
       "<table border=\"1\" class=\"dataframe\">\n",
       "  <thead>\n",
       "    <tr style=\"text-align: right;\">\n",
       "      <th></th>\n",
       "      <th>day</th>\n",
       "      <th>year</th>\n",
       "      <th>mo</th>\n",
       "      <th>da</th>\n",
       "      <th>collision_date</th>\n",
       "      <th>temp</th>\n",
       "      <th>dewp</th>\n",
       "      <th>slp</th>\n",
       "      <th>visib</th>\n",
       "      <th>wdsp</th>\n",
       "      <th>mxpsd</th>\n",
       "      <th>gust</th>\n",
       "      <th>max</th>\n",
       "      <th>min</th>\n",
       "      <th>prcp</th>\n",
       "      <th>sndp</th>\n",
       "      <th>fog</th>\n",
       "      <th>NUM_COLLISIONS</th>\n",
       "    </tr>\n",
       "  </thead>\n",
       "  <tbody>\n",
       "    <tr>\n",
       "      <th>0</th>\n",
       "      <td>2</td>\n",
       "      <td>2013</td>\n",
       "      <td>1</td>\n",
       "      <td>1</td>\n",
       "      <td>2013-01-01</td>\n",
       "      <td>37.8</td>\n",
       "      <td>23.6</td>\n",
       "      <td>1011.9</td>\n",
       "      <td>10.0</td>\n",
       "      <td>6.1</td>\n",
       "      <td>8.9</td>\n",
       "      <td>19.0</td>\n",
       "      <td>39.9</td>\n",
       "      <td>33.1</td>\n",
       "      <td>0.0</td>\n",
       "      <td>0.0</td>\n",
       "      <td>0</td>\n",
       "      <td>381</td>\n",
       "    </tr>\n",
       "    <tr>\n",
       "      <th>1</th>\n",
       "      <td>3</td>\n",
       "      <td>2013</td>\n",
       "      <td>1</td>\n",
       "      <td>2</td>\n",
       "      <td>2013-01-02</td>\n",
       "      <td>27.1</td>\n",
       "      <td>10.5</td>\n",
       "      <td>1016.8</td>\n",
       "      <td>10.0</td>\n",
       "      <td>5.3</td>\n",
       "      <td>9.9</td>\n",
       "      <td>19.0</td>\n",
       "      <td>33.1</td>\n",
       "      <td>21.9</td>\n",
       "      <td>0.0</td>\n",
       "      <td>0.0</td>\n",
       "      <td>0</td>\n",
       "      <td>480</td>\n",
       "    </tr>\n",
       "    <tr>\n",
       "      <th>2</th>\n",
       "      <td>4</td>\n",
       "      <td>2013</td>\n",
       "      <td>1</td>\n",
       "      <td>3</td>\n",
       "      <td>2013-01-03</td>\n",
       "      <td>28.4</td>\n",
       "      <td>14.1</td>\n",
       "      <td>1020.6</td>\n",
       "      <td>10.0</td>\n",
       "      <td>3.7</td>\n",
       "      <td>8.0</td>\n",
       "      <td>15.0</td>\n",
       "      <td>32.0</td>\n",
       "      <td>24.1</td>\n",
       "      <td>0.0</td>\n",
       "      <td>0.0</td>\n",
       "      <td>0</td>\n",
       "      <td>549</td>\n",
       "    </tr>\n",
       "    <tr>\n",
       "      <th>3</th>\n",
       "      <td>5</td>\n",
       "      <td>2013</td>\n",
       "      <td>1</td>\n",
       "      <td>4</td>\n",
       "      <td>2013-01-04</td>\n",
       "      <td>33.4</td>\n",
       "      <td>18.6</td>\n",
       "      <td>1017.0</td>\n",
       "      <td>10.0</td>\n",
       "      <td>6.5</td>\n",
       "      <td>13.0</td>\n",
       "      <td>24.1</td>\n",
       "      <td>37.0</td>\n",
       "      <td>30.0</td>\n",
       "      <td>0.0</td>\n",
       "      <td>0.0</td>\n",
       "      <td>0</td>\n",
       "      <td>505</td>\n",
       "    </tr>\n",
       "    <tr>\n",
       "      <th>4</th>\n",
       "      <td>6</td>\n",
       "      <td>2013</td>\n",
       "      <td>1</td>\n",
       "      <td>5</td>\n",
       "      <td>2013-01-05</td>\n",
       "      <td>36.1</td>\n",
       "      <td>18.7</td>\n",
       "      <td>1020.6</td>\n",
       "      <td>10.0</td>\n",
       "      <td>6.6</td>\n",
       "      <td>12.0</td>\n",
       "      <td>21.0</td>\n",
       "      <td>42.1</td>\n",
       "      <td>32.0</td>\n",
       "      <td>0.0</td>\n",
       "      <td>0.0</td>\n",
       "      <td>0</td>\n",
       "      <td>389</td>\n",
       "    </tr>\n",
       "  </tbody>\n",
       "</table>\n",
       "</div>"
      ],
      "text/plain": [
       "   day  year mo  da collision_date  temp  dewp     slp  visib  wdsp  mxpsd  \\\n",
       "0    2  2013  1   1     2013-01-01  37.8  23.6  1011.9   10.0   6.1    8.9   \n",
       "1    3  2013  1   2     2013-01-02  27.1  10.5  1016.8   10.0   5.3    9.9   \n",
       "2    4  2013  1   3     2013-01-03  28.4  14.1  1020.6   10.0   3.7    8.0   \n",
       "3    5  2013  1   4     2013-01-04  33.4  18.6  1017.0   10.0   6.5   13.0   \n",
       "4    6  2013  1   5     2013-01-05  36.1  18.7  1020.6   10.0   6.6   12.0   \n",
       "\n",
       "   gust   max   min  prcp  sndp fog  NUM_COLLISIONS  \n",
       "0  19.0  39.9  33.1   0.0   0.0   0             381  \n",
       "1  19.0  33.1  21.9   0.0   0.0   0             480  \n",
       "2  15.0  32.0  24.1   0.0   0.0   0             549  \n",
       "3  24.1  37.0  30.0   0.0   0.0   0             505  \n",
       "4  21.0  42.1  32.0   0.0   0.0   0             389  "
      ]
     },
     "execution_count": 203,
     "metadata": {},
     "output_type": "execute_result"
    }
   ],
   "source": [
    "df.head() "
   ]
  },
  {
   "cell_type": "markdown",
   "id": "70e77b89-09b5-40db-a736-35152a711538",
   "metadata": {},
   "source": [
    "Given the context of the car insurance company looking to predict the total number of collisions in a given day so that they can price the associated risk correctly, there are a couple features which are worth dropping from our dataframe as they would not be available in a real world scenario. \n",
    "\n",
    "Training a linear regression model with `collision_date` will result in a learnt weight for each individual day inside of the datase. The insurance company is interested in forecasting the number of collisions in the future which the model as no `collision_date` weights for. \n",
    "\n",
    "A similar approach can be taken to the `year` column and it can force the model to learn the average behaviour over a given year, but wont be useful for predicting `NUM_COLLISIONS` for future years. \n",
    "\n",
    "`da` which represents day of the month will also be removed given that it is likely to be random noise\n",
    "\n",
    "`NUM_COLLISIONS` as if it were available then there would be no need to predict it. "
   ]
  },
  {
   "cell_type": "code",
   "execution_count": 204,
   "id": "39360bac-2254-4af2-ae79-0f62508ba3df",
   "metadata": {},
   "outputs": [],
   "source": [
    "# Dropping features mentioned above\n",
    "X_df = df.drop( [ 'year', 'da',  'collision_date', 'NUM_COLLISIONS'] ,  axis = 'columns' ) \n"
   ]
  },
  {
   "cell_type": "markdown",
   "id": "9e94e457",
   "metadata": {},
   "source": [
    "Calling `pd.get_dummies` which will create one encodings for all categorical features in our dataframe  e.g. `day` `month` `fog` etc. "
   ]
  },
  {
   "cell_type": "code",
   "execution_count": 205,
   "id": "a205a2db-be4a-466c-8793-8fe0950c4556",
   "metadata": {},
   "outputs": [],
   "source": [
    "# Converting our day feature to string as get_dummies recognises categroical features by the string dtype \n",
    "X_df.day = X_df.day.astype('str') \n",
    "\n",
    "#creating our feature matrix X and target vector y\n",
    "X = pd.get_dummies(X_df)\n",
    "y = df['NUM_COLLISIONS']"
   ]
  },
  {
   "cell_type": "markdown",
   "id": "93596632",
   "metadata": {},
   "source": [
    "Printing the first 5 rows of our feature matrix $X$"
   ]
  },
  {
   "cell_type": "code",
   "execution_count": 206,
   "id": "231b6379-3484-482f-800e-87e71b37fccb",
   "metadata": {},
   "outputs": [
    {
     "data": {
      "text/html": [
       "<div>\n",
       "<style scoped>\n",
       "    .dataframe tbody tr th:only-of-type {\n",
       "        vertical-align: middle;\n",
       "    }\n",
       "\n",
       "    .dataframe tbody tr th {\n",
       "        vertical-align: top;\n",
       "    }\n",
       "\n",
       "    .dataframe thead th {\n",
       "        text-align: right;\n",
       "    }\n",
       "</style>\n",
       "<table border=\"1\" class=\"dataframe\">\n",
       "  <thead>\n",
       "    <tr style=\"text-align: right;\">\n",
       "      <th></th>\n",
       "      <th>temp</th>\n",
       "      <th>dewp</th>\n",
       "      <th>slp</th>\n",
       "      <th>visib</th>\n",
       "      <th>wdsp</th>\n",
       "      <th>mxpsd</th>\n",
       "      <th>gust</th>\n",
       "      <th>max</th>\n",
       "      <th>min</th>\n",
       "      <th>prcp</th>\n",
       "      <th>...</th>\n",
       "      <th>mo_2</th>\n",
       "      <th>mo_3</th>\n",
       "      <th>mo_4</th>\n",
       "      <th>mo_5</th>\n",
       "      <th>mo_6</th>\n",
       "      <th>mo_7</th>\n",
       "      <th>mo_8</th>\n",
       "      <th>mo_9</th>\n",
       "      <th>fog_0</th>\n",
       "      <th>fog_1</th>\n",
       "    </tr>\n",
       "  </thead>\n",
       "  <tbody>\n",
       "    <tr>\n",
       "      <th>0</th>\n",
       "      <td>37.8</td>\n",
       "      <td>23.6</td>\n",
       "      <td>1011.9</td>\n",
       "      <td>10.0</td>\n",
       "      <td>6.1</td>\n",
       "      <td>8.9</td>\n",
       "      <td>19.0</td>\n",
       "      <td>39.9</td>\n",
       "      <td>33.1</td>\n",
       "      <td>0.0</td>\n",
       "      <td>...</td>\n",
       "      <td>False</td>\n",
       "      <td>False</td>\n",
       "      <td>False</td>\n",
       "      <td>False</td>\n",
       "      <td>False</td>\n",
       "      <td>False</td>\n",
       "      <td>False</td>\n",
       "      <td>False</td>\n",
       "      <td>True</td>\n",
       "      <td>False</td>\n",
       "    </tr>\n",
       "    <tr>\n",
       "      <th>1</th>\n",
       "      <td>27.1</td>\n",
       "      <td>10.5</td>\n",
       "      <td>1016.8</td>\n",
       "      <td>10.0</td>\n",
       "      <td>5.3</td>\n",
       "      <td>9.9</td>\n",
       "      <td>19.0</td>\n",
       "      <td>33.1</td>\n",
       "      <td>21.9</td>\n",
       "      <td>0.0</td>\n",
       "      <td>...</td>\n",
       "      <td>False</td>\n",
       "      <td>False</td>\n",
       "      <td>False</td>\n",
       "      <td>False</td>\n",
       "      <td>False</td>\n",
       "      <td>False</td>\n",
       "      <td>False</td>\n",
       "      <td>False</td>\n",
       "      <td>True</td>\n",
       "      <td>False</td>\n",
       "    </tr>\n",
       "    <tr>\n",
       "      <th>2</th>\n",
       "      <td>28.4</td>\n",
       "      <td>14.1</td>\n",
       "      <td>1020.6</td>\n",
       "      <td>10.0</td>\n",
       "      <td>3.7</td>\n",
       "      <td>8.0</td>\n",
       "      <td>15.0</td>\n",
       "      <td>32.0</td>\n",
       "      <td>24.1</td>\n",
       "      <td>0.0</td>\n",
       "      <td>...</td>\n",
       "      <td>False</td>\n",
       "      <td>False</td>\n",
       "      <td>False</td>\n",
       "      <td>False</td>\n",
       "      <td>False</td>\n",
       "      <td>False</td>\n",
       "      <td>False</td>\n",
       "      <td>False</td>\n",
       "      <td>True</td>\n",
       "      <td>False</td>\n",
       "    </tr>\n",
       "    <tr>\n",
       "      <th>3</th>\n",
       "      <td>33.4</td>\n",
       "      <td>18.6</td>\n",
       "      <td>1017.0</td>\n",
       "      <td>10.0</td>\n",
       "      <td>6.5</td>\n",
       "      <td>13.0</td>\n",
       "      <td>24.1</td>\n",
       "      <td>37.0</td>\n",
       "      <td>30.0</td>\n",
       "      <td>0.0</td>\n",
       "      <td>...</td>\n",
       "      <td>False</td>\n",
       "      <td>False</td>\n",
       "      <td>False</td>\n",
       "      <td>False</td>\n",
       "      <td>False</td>\n",
       "      <td>False</td>\n",
       "      <td>False</td>\n",
       "      <td>False</td>\n",
       "      <td>True</td>\n",
       "      <td>False</td>\n",
       "    </tr>\n",
       "    <tr>\n",
       "      <th>4</th>\n",
       "      <td>36.1</td>\n",
       "      <td>18.7</td>\n",
       "      <td>1020.6</td>\n",
       "      <td>10.0</td>\n",
       "      <td>6.6</td>\n",
       "      <td>12.0</td>\n",
       "      <td>21.0</td>\n",
       "      <td>42.1</td>\n",
       "      <td>32.0</td>\n",
       "      <td>0.0</td>\n",
       "      <td>...</td>\n",
       "      <td>False</td>\n",
       "      <td>False</td>\n",
       "      <td>False</td>\n",
       "      <td>False</td>\n",
       "      <td>False</td>\n",
       "      <td>False</td>\n",
       "      <td>False</td>\n",
       "      <td>False</td>\n",
       "      <td>True</td>\n",
       "      <td>False</td>\n",
       "    </tr>\n",
       "  </tbody>\n",
       "</table>\n",
       "<p>5 rows × 32 columns</p>\n",
       "</div>"
      ],
      "text/plain": [
       "   temp  dewp     slp  visib  wdsp  mxpsd  gust   max   min  prcp  ...   mo_2  \\\n",
       "0  37.8  23.6  1011.9   10.0   6.1    8.9  19.0  39.9  33.1   0.0  ...  False   \n",
       "1  27.1  10.5  1016.8   10.0   5.3    9.9  19.0  33.1  21.9   0.0  ...  False   \n",
       "2  28.4  14.1  1020.6   10.0   3.7    8.0  15.0  32.0  24.1   0.0  ...  False   \n",
       "3  33.4  18.6  1017.0   10.0   6.5   13.0  24.1  37.0  30.0   0.0  ...  False   \n",
       "4  36.1  18.7  1020.6   10.0   6.6   12.0  21.0  42.1  32.0   0.0  ...  False   \n",
       "\n",
       "    mo_3   mo_4   mo_5   mo_6   mo_7   mo_8   mo_9  fog_0  fog_1  \n",
       "0  False  False  False  False  False  False  False   True  False  \n",
       "1  False  False  False  False  False  False  False   True  False  \n",
       "2  False  False  False  False  False  False  False   True  False  \n",
       "3  False  False  False  False  False  False  False   True  False  \n",
       "4  False  False  False  False  False  False  False   True  False  \n",
       "\n",
       "[5 rows x 32 columns]"
      ]
     },
     "execution_count": 206,
     "metadata": {},
     "output_type": "execute_result"
    }
   ],
   "source": [
    "X.head()"
   ]
  },
  {
   "cell_type": "markdown",
   "id": "6e6424d8-15be-4db6-b2f7-56ecab849208",
   "metadata": {},
   "source": [
    "### Splitting out training and testing data "
   ]
  },
  {
   "cell_type": "markdown",
   "id": "37fe3d33-3ec8-4cfb-9f66-ca7beb85893e",
   "metadata": {},
   "source": [
    "Creating train test split using sklearns `train_test_split` function, with a `test_size` of 0.2 and `random_state` of 42. "
   ]
  },
  {
   "cell_type": "code",
   "execution_count": 207,
   "id": "3bb2b2b4-7971-490f-96d8-379ac3cab838",
   "metadata": {},
   "outputs": [],
   "source": [
    "Xtrain,Xtest, ytrain,ytest = train_test_split(X,y , test_size = 0.2, random_state = 42 ) "
   ]
  },
  {
   "cell_type": "markdown",
   "id": "9664c3ac",
   "metadata": {},
   "source": [
    "Initialising our Linear Regression model with default parameters and fitting it to our training data. "
   ]
  },
  {
   "cell_type": "code",
   "execution_count": 208,
   "id": "f80b7f94-b9f0-485b-8899-70e38a61193b",
   "metadata": {},
   "outputs": [
    {
     "data": {
      "text/html": [
       "<style>#sk-container-id-4 {\n",
       "  /* Definition of color scheme common for light and dark mode */\n",
       "  --sklearn-color-text: #000;\n",
       "  --sklearn-color-text-muted: #666;\n",
       "  --sklearn-color-line: gray;\n",
       "  /* Definition of color scheme for unfitted estimators */\n",
       "  --sklearn-color-unfitted-level-0: #fff5e6;\n",
       "  --sklearn-color-unfitted-level-1: #f6e4d2;\n",
       "  --sklearn-color-unfitted-level-2: #ffe0b3;\n",
       "  --sklearn-color-unfitted-level-3: chocolate;\n",
       "  /* Definition of color scheme for fitted estimators */\n",
       "  --sklearn-color-fitted-level-0: #f0f8ff;\n",
       "  --sklearn-color-fitted-level-1: #d4ebff;\n",
       "  --sklearn-color-fitted-level-2: #b3dbfd;\n",
       "  --sklearn-color-fitted-level-3: cornflowerblue;\n",
       "\n",
       "  /* Specific color for light theme */\n",
       "  --sklearn-color-text-on-default-background: var(--sg-text-color, var(--theme-code-foreground, var(--jp-content-font-color1, black)));\n",
       "  --sklearn-color-background: var(--sg-background-color, var(--theme-background, var(--jp-layout-color0, white)));\n",
       "  --sklearn-color-border-box: var(--sg-text-color, var(--theme-code-foreground, var(--jp-content-font-color1, black)));\n",
       "  --sklearn-color-icon: #696969;\n",
       "\n",
       "  @media (prefers-color-scheme: dark) {\n",
       "    /* Redefinition of color scheme for dark theme */\n",
       "    --sklearn-color-text-on-default-background: var(--sg-text-color, var(--theme-code-foreground, var(--jp-content-font-color1, white)));\n",
       "    --sklearn-color-background: var(--sg-background-color, var(--theme-background, var(--jp-layout-color0, #111)));\n",
       "    --sklearn-color-border-box: var(--sg-text-color, var(--theme-code-foreground, var(--jp-content-font-color1, white)));\n",
       "    --sklearn-color-icon: #878787;\n",
       "  }\n",
       "}\n",
       "\n",
       "#sk-container-id-4 {\n",
       "  color: var(--sklearn-color-text);\n",
       "}\n",
       "\n",
       "#sk-container-id-4 pre {\n",
       "  padding: 0;\n",
       "}\n",
       "\n",
       "#sk-container-id-4 input.sk-hidden--visually {\n",
       "  border: 0;\n",
       "  clip: rect(1px 1px 1px 1px);\n",
       "  clip: rect(1px, 1px, 1px, 1px);\n",
       "  height: 1px;\n",
       "  margin: -1px;\n",
       "  overflow: hidden;\n",
       "  padding: 0;\n",
       "  position: absolute;\n",
       "  width: 1px;\n",
       "}\n",
       "\n",
       "#sk-container-id-4 div.sk-dashed-wrapped {\n",
       "  border: 1px dashed var(--sklearn-color-line);\n",
       "  margin: 0 0.4em 0.5em 0.4em;\n",
       "  box-sizing: border-box;\n",
       "  padding-bottom: 0.4em;\n",
       "  background-color: var(--sklearn-color-background);\n",
       "}\n",
       "\n",
       "#sk-container-id-4 div.sk-container {\n",
       "  /* jupyter's `normalize.less` sets `[hidden] { display: none; }`\n",
       "     but bootstrap.min.css set `[hidden] { display: none !important; }`\n",
       "     so we also need the `!important` here to be able to override the\n",
       "     default hidden behavior on the sphinx rendered scikit-learn.org.\n",
       "     See: https://github.com/scikit-learn/scikit-learn/issues/21755 */\n",
       "  display: inline-block !important;\n",
       "  position: relative;\n",
       "}\n",
       "\n",
       "#sk-container-id-4 div.sk-text-repr-fallback {\n",
       "  display: none;\n",
       "}\n",
       "\n",
       "div.sk-parallel-item,\n",
       "div.sk-serial,\n",
       "div.sk-item {\n",
       "  /* draw centered vertical line to link estimators */\n",
       "  background-image: linear-gradient(var(--sklearn-color-text-on-default-background), var(--sklearn-color-text-on-default-background));\n",
       "  background-size: 2px 100%;\n",
       "  background-repeat: no-repeat;\n",
       "  background-position: center center;\n",
       "}\n",
       "\n",
       "/* Parallel-specific style estimator block */\n",
       "\n",
       "#sk-container-id-4 div.sk-parallel-item::after {\n",
       "  content: \"\";\n",
       "  width: 100%;\n",
       "  border-bottom: 2px solid var(--sklearn-color-text-on-default-background);\n",
       "  flex-grow: 1;\n",
       "}\n",
       "\n",
       "#sk-container-id-4 div.sk-parallel {\n",
       "  display: flex;\n",
       "  align-items: stretch;\n",
       "  justify-content: center;\n",
       "  background-color: var(--sklearn-color-background);\n",
       "  position: relative;\n",
       "}\n",
       "\n",
       "#sk-container-id-4 div.sk-parallel-item {\n",
       "  display: flex;\n",
       "  flex-direction: column;\n",
       "}\n",
       "\n",
       "#sk-container-id-4 div.sk-parallel-item:first-child::after {\n",
       "  align-self: flex-end;\n",
       "  width: 50%;\n",
       "}\n",
       "\n",
       "#sk-container-id-4 div.sk-parallel-item:last-child::after {\n",
       "  align-self: flex-start;\n",
       "  width: 50%;\n",
       "}\n",
       "\n",
       "#sk-container-id-4 div.sk-parallel-item:only-child::after {\n",
       "  width: 0;\n",
       "}\n",
       "\n",
       "/* Serial-specific style estimator block */\n",
       "\n",
       "#sk-container-id-4 div.sk-serial {\n",
       "  display: flex;\n",
       "  flex-direction: column;\n",
       "  align-items: center;\n",
       "  background-color: var(--sklearn-color-background);\n",
       "  padding-right: 1em;\n",
       "  padding-left: 1em;\n",
       "}\n",
       "\n",
       "\n",
       "/* Toggleable style: style used for estimator/Pipeline/ColumnTransformer box that is\n",
       "clickable and can be expanded/collapsed.\n",
       "- Pipeline and ColumnTransformer use this feature and define the default style\n",
       "- Estimators will overwrite some part of the style using the `sk-estimator` class\n",
       "*/\n",
       "\n",
       "/* Pipeline and ColumnTransformer style (default) */\n",
       "\n",
       "#sk-container-id-4 div.sk-toggleable {\n",
       "  /* Default theme specific background. It is overwritten whether we have a\n",
       "  specific estimator or a Pipeline/ColumnTransformer */\n",
       "  background-color: var(--sklearn-color-background);\n",
       "}\n",
       "\n",
       "/* Toggleable label */\n",
       "#sk-container-id-4 label.sk-toggleable__label {\n",
       "  cursor: pointer;\n",
       "  display: flex;\n",
       "  width: 100%;\n",
       "  margin-bottom: 0;\n",
       "  padding: 0.5em;\n",
       "  box-sizing: border-box;\n",
       "  text-align: center;\n",
       "  align-items: start;\n",
       "  justify-content: space-between;\n",
       "  gap: 0.5em;\n",
       "}\n",
       "\n",
       "#sk-container-id-4 label.sk-toggleable__label .caption {\n",
       "  font-size: 0.6rem;\n",
       "  font-weight: lighter;\n",
       "  color: var(--sklearn-color-text-muted);\n",
       "}\n",
       "\n",
       "#sk-container-id-4 label.sk-toggleable__label-arrow:before {\n",
       "  /* Arrow on the left of the label */\n",
       "  content: \"▸\";\n",
       "  float: left;\n",
       "  margin-right: 0.25em;\n",
       "  color: var(--sklearn-color-icon);\n",
       "}\n",
       "\n",
       "#sk-container-id-4 label.sk-toggleable__label-arrow:hover:before {\n",
       "  color: var(--sklearn-color-text);\n",
       "}\n",
       "\n",
       "/* Toggleable content - dropdown */\n",
       "\n",
       "#sk-container-id-4 div.sk-toggleable__content {\n",
       "  max-height: 0;\n",
       "  max-width: 0;\n",
       "  overflow: hidden;\n",
       "  text-align: left;\n",
       "  /* unfitted */\n",
       "  background-color: var(--sklearn-color-unfitted-level-0);\n",
       "}\n",
       "\n",
       "#sk-container-id-4 div.sk-toggleable__content.fitted {\n",
       "  /* fitted */\n",
       "  background-color: var(--sklearn-color-fitted-level-0);\n",
       "}\n",
       "\n",
       "#sk-container-id-4 div.sk-toggleable__content pre {\n",
       "  margin: 0.2em;\n",
       "  border-radius: 0.25em;\n",
       "  color: var(--sklearn-color-text);\n",
       "  /* unfitted */\n",
       "  background-color: var(--sklearn-color-unfitted-level-0);\n",
       "}\n",
       "\n",
       "#sk-container-id-4 div.sk-toggleable__content.fitted pre {\n",
       "  /* unfitted */\n",
       "  background-color: var(--sklearn-color-fitted-level-0);\n",
       "}\n",
       "\n",
       "#sk-container-id-4 input.sk-toggleable__control:checked~div.sk-toggleable__content {\n",
       "  /* Expand drop-down */\n",
       "  max-height: 200px;\n",
       "  max-width: 100%;\n",
       "  overflow: auto;\n",
       "}\n",
       "\n",
       "#sk-container-id-4 input.sk-toggleable__control:checked~label.sk-toggleable__label-arrow:before {\n",
       "  content: \"▾\";\n",
       "}\n",
       "\n",
       "/* Pipeline/ColumnTransformer-specific style */\n",
       "\n",
       "#sk-container-id-4 div.sk-label input.sk-toggleable__control:checked~label.sk-toggleable__label {\n",
       "  color: var(--sklearn-color-text);\n",
       "  background-color: var(--sklearn-color-unfitted-level-2);\n",
       "}\n",
       "\n",
       "#sk-container-id-4 div.sk-label.fitted input.sk-toggleable__control:checked~label.sk-toggleable__label {\n",
       "  background-color: var(--sklearn-color-fitted-level-2);\n",
       "}\n",
       "\n",
       "/* Estimator-specific style */\n",
       "\n",
       "/* Colorize estimator box */\n",
       "#sk-container-id-4 div.sk-estimator input.sk-toggleable__control:checked~label.sk-toggleable__label {\n",
       "  /* unfitted */\n",
       "  background-color: var(--sklearn-color-unfitted-level-2);\n",
       "}\n",
       "\n",
       "#sk-container-id-4 div.sk-estimator.fitted input.sk-toggleable__control:checked~label.sk-toggleable__label {\n",
       "  /* fitted */\n",
       "  background-color: var(--sklearn-color-fitted-level-2);\n",
       "}\n",
       "\n",
       "#sk-container-id-4 div.sk-label label.sk-toggleable__label,\n",
       "#sk-container-id-4 div.sk-label label {\n",
       "  /* The background is the default theme color */\n",
       "  color: var(--sklearn-color-text-on-default-background);\n",
       "}\n",
       "\n",
       "/* On hover, darken the color of the background */\n",
       "#sk-container-id-4 div.sk-label:hover label.sk-toggleable__label {\n",
       "  color: var(--sklearn-color-text);\n",
       "  background-color: var(--sklearn-color-unfitted-level-2);\n",
       "}\n",
       "\n",
       "/* Label box, darken color on hover, fitted */\n",
       "#sk-container-id-4 div.sk-label.fitted:hover label.sk-toggleable__label.fitted {\n",
       "  color: var(--sklearn-color-text);\n",
       "  background-color: var(--sklearn-color-fitted-level-2);\n",
       "}\n",
       "\n",
       "/* Estimator label */\n",
       "\n",
       "#sk-container-id-4 div.sk-label label {\n",
       "  font-family: monospace;\n",
       "  font-weight: bold;\n",
       "  display: inline-block;\n",
       "  line-height: 1.2em;\n",
       "}\n",
       "\n",
       "#sk-container-id-4 div.sk-label-container {\n",
       "  text-align: center;\n",
       "}\n",
       "\n",
       "/* Estimator-specific */\n",
       "#sk-container-id-4 div.sk-estimator {\n",
       "  font-family: monospace;\n",
       "  border: 1px dotted var(--sklearn-color-border-box);\n",
       "  border-radius: 0.25em;\n",
       "  box-sizing: border-box;\n",
       "  margin-bottom: 0.5em;\n",
       "  /* unfitted */\n",
       "  background-color: var(--sklearn-color-unfitted-level-0);\n",
       "}\n",
       "\n",
       "#sk-container-id-4 div.sk-estimator.fitted {\n",
       "  /* fitted */\n",
       "  background-color: var(--sklearn-color-fitted-level-0);\n",
       "}\n",
       "\n",
       "/* on hover */\n",
       "#sk-container-id-4 div.sk-estimator:hover {\n",
       "  /* unfitted */\n",
       "  background-color: var(--sklearn-color-unfitted-level-2);\n",
       "}\n",
       "\n",
       "#sk-container-id-4 div.sk-estimator.fitted:hover {\n",
       "  /* fitted */\n",
       "  background-color: var(--sklearn-color-fitted-level-2);\n",
       "}\n",
       "\n",
       "/* Specification for estimator info (e.g. \"i\" and \"?\") */\n",
       "\n",
       "/* Common style for \"i\" and \"?\" */\n",
       "\n",
       ".sk-estimator-doc-link,\n",
       "a:link.sk-estimator-doc-link,\n",
       "a:visited.sk-estimator-doc-link {\n",
       "  float: right;\n",
       "  font-size: smaller;\n",
       "  line-height: 1em;\n",
       "  font-family: monospace;\n",
       "  background-color: var(--sklearn-color-background);\n",
       "  border-radius: 1em;\n",
       "  height: 1em;\n",
       "  width: 1em;\n",
       "  text-decoration: none !important;\n",
       "  margin-left: 0.5em;\n",
       "  text-align: center;\n",
       "  /* unfitted */\n",
       "  border: var(--sklearn-color-unfitted-level-1) 1pt solid;\n",
       "  color: var(--sklearn-color-unfitted-level-1);\n",
       "}\n",
       "\n",
       ".sk-estimator-doc-link.fitted,\n",
       "a:link.sk-estimator-doc-link.fitted,\n",
       "a:visited.sk-estimator-doc-link.fitted {\n",
       "  /* fitted */\n",
       "  border: var(--sklearn-color-fitted-level-1) 1pt solid;\n",
       "  color: var(--sklearn-color-fitted-level-1);\n",
       "}\n",
       "\n",
       "/* On hover */\n",
       "div.sk-estimator:hover .sk-estimator-doc-link:hover,\n",
       ".sk-estimator-doc-link:hover,\n",
       "div.sk-label-container:hover .sk-estimator-doc-link:hover,\n",
       ".sk-estimator-doc-link:hover {\n",
       "  /* unfitted */\n",
       "  background-color: var(--sklearn-color-unfitted-level-3);\n",
       "  color: var(--sklearn-color-background);\n",
       "  text-decoration: none;\n",
       "}\n",
       "\n",
       "div.sk-estimator.fitted:hover .sk-estimator-doc-link.fitted:hover,\n",
       ".sk-estimator-doc-link.fitted:hover,\n",
       "div.sk-label-container:hover .sk-estimator-doc-link.fitted:hover,\n",
       ".sk-estimator-doc-link.fitted:hover {\n",
       "  /* fitted */\n",
       "  background-color: var(--sklearn-color-fitted-level-3);\n",
       "  color: var(--sklearn-color-background);\n",
       "  text-decoration: none;\n",
       "}\n",
       "\n",
       "/* Span, style for the box shown on hovering the info icon */\n",
       ".sk-estimator-doc-link span {\n",
       "  display: none;\n",
       "  z-index: 9999;\n",
       "  position: relative;\n",
       "  font-weight: normal;\n",
       "  right: .2ex;\n",
       "  padding: .5ex;\n",
       "  margin: .5ex;\n",
       "  width: min-content;\n",
       "  min-width: 20ex;\n",
       "  max-width: 50ex;\n",
       "  color: var(--sklearn-color-text);\n",
       "  box-shadow: 2pt 2pt 4pt #999;\n",
       "  /* unfitted */\n",
       "  background: var(--sklearn-color-unfitted-level-0);\n",
       "  border: .5pt solid var(--sklearn-color-unfitted-level-3);\n",
       "}\n",
       "\n",
       ".sk-estimator-doc-link.fitted span {\n",
       "  /* fitted */\n",
       "  background: var(--sklearn-color-fitted-level-0);\n",
       "  border: var(--sklearn-color-fitted-level-3);\n",
       "}\n",
       "\n",
       ".sk-estimator-doc-link:hover span {\n",
       "  display: block;\n",
       "}\n",
       "\n",
       "/* \"?\"-specific style due to the `<a>` HTML tag */\n",
       "\n",
       "#sk-container-id-4 a.estimator_doc_link {\n",
       "  float: right;\n",
       "  font-size: 1rem;\n",
       "  line-height: 1em;\n",
       "  font-family: monospace;\n",
       "  background-color: var(--sklearn-color-background);\n",
       "  border-radius: 1rem;\n",
       "  height: 1rem;\n",
       "  width: 1rem;\n",
       "  text-decoration: none;\n",
       "  /* unfitted */\n",
       "  color: var(--sklearn-color-unfitted-level-1);\n",
       "  border: var(--sklearn-color-unfitted-level-1) 1pt solid;\n",
       "}\n",
       "\n",
       "#sk-container-id-4 a.estimator_doc_link.fitted {\n",
       "  /* fitted */\n",
       "  border: var(--sklearn-color-fitted-level-1) 1pt solid;\n",
       "  color: var(--sklearn-color-fitted-level-1);\n",
       "}\n",
       "\n",
       "/* On hover */\n",
       "#sk-container-id-4 a.estimator_doc_link:hover {\n",
       "  /* unfitted */\n",
       "  background-color: var(--sklearn-color-unfitted-level-3);\n",
       "  color: var(--sklearn-color-background);\n",
       "  text-decoration: none;\n",
       "}\n",
       "\n",
       "#sk-container-id-4 a.estimator_doc_link.fitted:hover {\n",
       "  /* fitted */\n",
       "  background-color: var(--sklearn-color-fitted-level-3);\n",
       "}\n",
       "</style><div id=\"sk-container-id-4\" class=\"sk-top-container\"><div class=\"sk-text-repr-fallback\"><pre>LinearRegression()</pre><b>In a Jupyter environment, please rerun this cell to show the HTML representation or trust the notebook. <br />On GitHub, the HTML representation is unable to render, please try loading this page with nbviewer.org.</b></div><div class=\"sk-container\" hidden><div class=\"sk-item\"><div class=\"sk-estimator fitted sk-toggleable\"><input class=\"sk-toggleable__control sk-hidden--visually\" id=\"sk-estimator-id-4\" type=\"checkbox\" checked><label for=\"sk-estimator-id-4\" class=\"sk-toggleable__label fitted sk-toggleable__label-arrow\"><div><div>LinearRegression</div></div><div><a class=\"sk-estimator-doc-link fitted\" rel=\"noreferrer\" target=\"_blank\" href=\"https://scikit-learn.org/1.6/modules/generated/sklearn.linear_model.LinearRegression.html\">?<span>Documentation for LinearRegression</span></a><span class=\"sk-estimator-doc-link fitted\">i<span>Fitted</span></span></div></label><div class=\"sk-toggleable__content fitted\"><pre>LinearRegression()</pre></div> </div></div></div></div>"
      ],
      "text/plain": [
       "LinearRegression()"
      ]
     },
     "execution_count": 208,
     "metadata": {},
     "output_type": "execute_result"
    }
   ],
   "source": [
    "lr = LinearRegression() \n",
    "lr.fit(Xtrain, ytrain) "
   ]
  },
  {
   "cell_type": "markdown",
   "id": "55264e23",
   "metadata": {},
   "source": [
    "## Visualling predictions "
   ]
  },
  {
   "cell_type": "markdown",
   "id": "dbe6dda2",
   "metadata": {},
   "source": [
    "Plotting 20 predictions which have been randomly sampled from our test set to get a feel for the models predictions. "
   ]
  },
  {
   "cell_type": "code",
   "execution_count": 209,
   "id": "0c06cc82",
   "metadata": {},
   "outputs": [],
   "source": [
    "import random "
   ]
  },
  {
   "cell_type": "code",
   "execution_count": 215,
   "id": "485d22d1",
   "metadata": {},
   "outputs": [
    {
     "data": {
      "image/png": "[encoded data removed]",
      "text/plain": [
       "<Figure size 640x480 with 1 Axes>"
      ]
     },
     "metadata": {},
     "output_type": "display_data"
    }
   ],
   "source": [
    "predictions = list(zip(ytest, lr.predict(Xtest)) ) \n",
    "predictions_sample = random.sample(predictions, 20 ) \n",
    "\n",
    "for idx, (ground_truth, prediction) in enumerate(predictions_sample):\n",
    "        \n",
    "        idx = str(idx)\n",
    "        plt.plot( [idx, idx] , [ground_truth, prediction ], c = 'brown', linestyle = '--', zorder = 1 ) \n",
    "\n",
    "        plt.scatter(idx, ground_truth, c = 'green' ) \n",
    "        plt.scatter(idx, prediction, c = 'red' ) \n",
    "\n",
    "        if idx == '0':\n",
    "                plt.scatter(idx, ground_truth, c= 'green' , zorder = 2, label = 'observed value') \n",
    "                plt.scatter(idx, prediction, c = 'red' , zorder = 2 , label = 'prediction' ) \n",
    "\n",
    "plt.grid(axis = 'y' )\n",
    "plt.xlabel('Prediction No.\\n')\n",
    "plt.ylabel('Num Collisions\\n')\n",
    "plt.title('A random sample of 20 predictions \\n' )\n",
    "plt.legend(); \n",
    "\n"
   ]
  },
  {
   "cell_type": "markdown",
   "id": "f6f038cd",
   "metadata": {},
   "source": [
    "Above is only a sample of 20 predictions samples so it not is wholly representative of the models performance across the entire test set. However, it allows us to  visualise the gap between predictions and observed values so we can get a feel for the models performance. \n",
    "\n"
   ]
  },
  {
   "cell_type": "markdown",
   "id": "afb2dee1",
   "metadata": {},
   "source": [
    "## Computing Metrics "
   ]
  },
  {
   "cell_type": "code",
   "execution_count": 166,
   "id": "f0709171",
   "metadata": {},
   "outputs": [
    {
     "name": "stdout",
     "output_type": "stream",
     "text": [
      " Mean Squared Error: 6024.830275516698, R Squared Score: 0.34635456094044037\n"
     ]
    }
   ],
   "source": [
    "mse = mse(ytest, lr.predict(Xtest) ) \n",
    "r2 = r2_score(ytest, lr.predict(Xtest)) \n",
    "print(f' Mean Squared Error: {mse}, R Squared Score: {r2}')"
   ]
  },
  {
   "cell_type": "markdown",
   "id": "59d438e2",
   "metadata": {},
   "source": [
    "An R2 score of ~35% of means the Linear Regression model with the set of features avaiable was able to capture ~35% of the total variance which exists inside of the distribution of number of collisions. \n",
    "\n",
    " Another Interpretation of the R2 score, is that it represents the the percentage improvement in Mean Squared Error that the model achieves when compared to simply predicting the mean, in this case it would be predicting the mean number of total collisions across the dataset for each sample. \n",
    "\n",
    "We can confidently say that our model was able to learn some of the patterns between our weather/time features and the total number of collisions on a given day. However, ~ 65% of the variance is left unexplained which is likely the result of numerous factors I've listed a few below:\n",
    "\n",
    "- External features which are correlated with `NUM_COLLISIONS` not being included within our dataset. E.g. the design of roads, special holidays\n",
    "\n",
    "-  Linear Regression is not able to learn non linear relationships which likely exist between our features and `NUM_COLLISIONS`\n",
    "\n",
    "-  Car collisions are a result of random chance and will likely remain somewhat unpredictable. \n"
   ]
  },
  {
   "cell_type": "markdown",
   "id": "23b75bce",
   "metadata": {},
   "source": [
    "## Investigating Feature Weights "
   ]
  },
  {
   "cell_type": "markdown",
   "id": "6a64778a-2a45-459a-979c-f1aa00613d09",
   "metadata": {},
   "source": [
    "One advantage of using Linear Regression is its interpretability. A Linear Regression model learns a weight for each feature it is trained on, this makes it easier to understand how each individual feature contributes to the final prediction. "
   ]
  },
  {
   "cell_type": "markdown",
   "id": "5b6adb5e",
   "metadata": {},
   "source": [
    "### Plotting feature weights "
   ]
  },
  {
   "cell_type": "code",
   "execution_count": 167,
   "id": "b2b0c1ba-e0f8-46ae-ac04-f7db3e035d5f",
   "metadata": {},
   "outputs": [
    {
     "data": {
      "image/png": "[encoded data removed]",
      "text/plain": [
       "<Figure size 800x600 with 1 Axes>"
      ]
     },
     "metadata": {},
     "output_type": "display_data"
    }
   ],
   "source": [
    "feature_weights = dict(zip(X.columns, lr.coef_ ))\n",
    "plt.figure(figsize=(8, 6))\n",
    "\n",
    "plt.bar(np.arange(len(feature_weights)), feature_weights.values(), align = 'edge', color = 'lightblue') \n",
    "plt.xticks([])\n",
    "# plt.xticks(np.arange(len(feature_weights)) , feature_weights.keys() , rotation = 90 ); \n",
    "for idx, (key,value) in enumerate(feature_weights.items() ):\n",
    "    if value > 0: \n",
    "        plt.text(idx, value, s  = f' {key}', rotation = 90 ,ha = 'left' , va = 'bottom', c = 'green')\n",
    "    else: \n",
    "         plt.text(idx, value, s  = f'{key} ', rotation = 90 ,ha = 'left' , va = 'top', c = 'red' )\n",
    "\n",
    "plt.ylim(-130, 100 )\n",
    "plt.grid() \n",
    "plt.title('Feature Weights') \n",
    "plt.xlabel('Features') \n",
    "plt.ylabel('Feature Weight')\n",
    "plt.tight_layout() "
   ]
  },
  {
   "cell_type": "markdown",
   "id": "3ba48295",
   "metadata": {},
   "source": [
    "Each model weight provides information on the importance of each feature to the model which can be gauged by the magnitude of its weight, as well as the direction of correlation which is determined by the sign of the weight. \n",
    "\n",
    "\n",
    "From the graph it can be seen that the most important feature / set of features is the `day` of week features, Each of these features have a relatively large weight attached to them , in particuluar the feature `day_7` which represents Sunday has the largest weight across al features around - 110. Its worth noting that this feature weight corresponds to scatter plot of `day` of week against `NUM_COLLISIONS` where Sunday achieves the lowest mean `NUM_COLLISIONS` and displays the most left skewed distribution out of all days. \n",
    "\n",
    "Similar to the weekly patterns we can see that our second most important feature/set of features is `mo` of year, with months like June represented by `mo_6` has a weight ~50 etc, this weight also correponds to the scatter plot between `mo` and `NUM_COLLISIONS`. \n",
    "\n",
    "Despite the time based features `day` and `mo` being mostly highly prioritised by the model, some weather based features such as `fog` and `prcp` have relatively large weights and beat out some of the features relating to time such as `day_1` (Monday) and `mo_7` (July). \n"
   ]
  },
  {
   "cell_type": "markdown",
   "id": "93c6d110-13a6-4d0c-8fe6-68797f784957",
   "metadata": {},
   "source": [
    "## Comments "
   ]
  },
  {
   "cell_type": "markdown",
   "id": "aca88b7e-fdad-4bb7-941c-49b7768823cf",
   "metadata": {},
   "source": [
    "Overall, from the achieved R2 score as well as observing a set of predictions we can say that our model generaly performs quite poorly at predicting `NUM_COLLISIONS`,  I believe that the poor model accuracy also reflects the nature the problem given that car crashes are determiend by human behaviour which can be influenced by some of the factors in our dataset but not remains extremly difficult to predict. \n",
    "\n",
    "Time based features such as day of week and month seem to be far more predictive of `NUM_COLLISIONS` when compared to weather based features, Its also worth noting that our accuracy scores can somewhat be seen as an upperbound given in practice when predicting the total number of collisions tomorrow we will have to make use of forecasted whether data which can increased our margin for error and hurt the accuracy of our model. \n",
    "\n",
    "Accuracy could potentially be improved by using a more complex model such as Suport Vector Regression or a Neural Network which are able to learn non linear relations and potentially capture a greater amount of the complexity which exists within the data. Also, extra features could be added such as ...., Also the existing data could be cleaned of outliers e.g. removing public holidays etc which have inflated traffic volumes leading to more collisions but this not reflective in the data so may confuse the model etc.  \n",
    "\n",
    "Also taking a step back for a second, despite lacking data on the total number of drivers on a given day perhaps it would be more useful to predict the rate / % chance of a collision on a given day for the insurance company rather than the raw number of collisions. As a higher total number of collisions doesnt necessarily mean a greater insurance risk instead it could simly be a result of more drivers on the road."
   ]
  },
  {
   "cell_type": "markdown",
   "id": "fcc46269-5e95-4fc6-991a-f496e6aa7936",
   "metadata": {},
   "source": [
    "# Tast 3 "
   ]
  },
  {
   "cell_type": "markdown",
   "id": "3a34e0a6",
   "metadata": {},
   "source": [
    "One usecase where the module learnings could be applied at work is in metadata driven recommendation systems, which leverage metadata to learn numerical/vector represenations for shows/movies. \n",
    "\n",
    "Some examples of metadata which may be features inside of a content based recommender system include a shows/movies genre, format, rating, duratin, age rating etc, I could apply the module learnings around feature correlation(K5/ S1) to explore the correlations between model features to ensure that my features are not highly correlated to each other. As, if two features are highly correlated with each other then they likely contain similar information making one of them redundant as our model will likely achieve the same/similar performance with only one of them. \n",
    "\n",
    "This module could help me make more informed decisions around feature engineering(S2) as it is has improved my understanding around correlation which can be applied to selecting model features. "
   ]
  }
 ],
 "metadata": {
  "kernelspec": {
   "display_name": "Python 3 (ipykernel)",
   "language": "python",
   "name": "python3"
  },
  "language_info": {
   "codemirror_mode": {
    "name": "ipython",
    "version": 3
   },
   "file_extension": ".py",
   "mimetype": "text/x-python",
   "name": "python",
   "nbconvert_exporter": "python",
   "pygments_lexer": "ipython3",
   "version": "3.12.3"
  }
 },
 "nbformat": 4,
 "nbformat_minor": 5
}
