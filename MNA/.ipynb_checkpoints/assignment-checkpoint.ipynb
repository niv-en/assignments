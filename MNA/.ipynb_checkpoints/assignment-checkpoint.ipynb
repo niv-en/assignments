{
 "cells": [
  {
   "cell_type": "code",
   "execution_count": 5,
   "id": "402819d6-0c9f-446e-b70e-b87253af8ff9",
   "metadata": {},
   "outputs": [],
   "source": [
    "import pandas as pd \n",
    "import numpy as np \n",
    "import matplotlib.pyplot as plt "
   ]
  },
  {
   "cell_type": "markdown",
   "id": "5f72da10-1c23-480a-aaf7-5b72d340ab7d",
   "metadata": {},
   "source": [
    "# Task 1. "
   ]
  },
  {
   "cell_type": "markdown",
   "id": "cc26d145-bd9b-42c6-9f48-d57da540a209",
   "metadata": {},
   "source": [
    "### Function to calculate the number of possible ways to choose a sample size of 250: "
   ]
  },
  {
   "cell_type": "markdown",
   "id": "04b18b01-6d07-4e10-8159-88a7ba319f36",
   "metadata": {},
   "source": [
    "In order to do this we can apply a formula from combinarotics which calculates the total number of possible ways to select K items from a bucket of N items where the order of the K items is irrelevant. \n",
    "\n",
    "N choose K can be written as $ \\binom{N}{K}$, and the formula for it is given as: \n",
    "\n",
    "$$  \\binom{n}{k} = \\frac{n!}{k!(n-k)!} $$\n",
    "\n",
    "This is because $n!$ is the number of possible ways to arange $n$ items, $(n-k)!$ is the number of possible ways to arrange rest of the non k items, so by dividing $n!$ by $(n-k)!$ we calculate the number of possible ways to select $k$ items from $n$ where order is important. However if order is unimportant we divide the number of possible ways to select $k$ from $n$ where order matters by the number of possible ways to order $k$ items which is $k!$. "
   ]
  },
  {
   "cell_type": "markdown",
   "id": "e90ea69a-7886-427c-91f8-fc0766f8ce78",
   "metadata": {},
   "source": [
    "### Python Implementation "
   ]
  },
  {
   "cell_type": "markdown",
   "id": "e61bc193-a1de-4b30-bb8f-17e4c9ee66e1",
   "metadata": {},
   "source": [
    "In order to implement this function in python we first need a function which can calculate factorials, below I have written a function to generate factorials using the recurisve formula  "
   ]
  },
  {
   "cell_type": "code",
   "execution_count": 4,
   "id": "70aec715-26fa-4e9e-b5eb-b3477bc011c3",
   "metadata": {},
   "outputs": [],
   "source": [
    "def fact(n): \n",
    "    if n ==1: \n",
    "        return 1 \n",
    "\n",
    "    return n*fact(n-1) "
   ]
  },
  {
   "cell_type": "markdown",
   "id": "c672d397-41b6-4451-a478-2eed2c7cc3e7",
   "metadata": {},
   "source": [
    "Plugging in the factorial function to our n choose k function. "
   ]
  },
  {
   "cell_type": "code",
   "execution_count": 5,
   "id": "80462aea-cfbf-4c9f-b5e7-fc04ae48ab6c",
   "metadata": {},
   "outputs": [],
   "source": [
    "def nCk(n,k): \n",
    "\n",
    "    return fact(n) / ( fact(k) * fact(n-k) ) "
   ]
  },
  {
   "cell_type": "markdown",
   "id": "ff78b92f-66ef-4cfd-b1d9-8611e906c641",
   "metadata": {},
   "source": [
    "k is equal to 250 as its the size of our desired samples, but to calculate n we need to figure out how many users exist in our population of Klout scores. "
   ]
  },
  {
   "cell_type": "code",
   "execution_count": 6,
   "id": "112848e7-42e7-41cc-a9bc-0bd46ac71349",
   "metadata": {},
   "outputs": [
    {
     "data": {
      "text/html": [
       "<div>\n",
       "<style scoped>\n",
       "    .dataframe tbody tr th:only-of-type {\n",
       "        vertical-align: middle;\n",
       "    }\n",
       "\n",
       "    .dataframe tbody tr th {\n",
       "        vertical-align: top;\n",
       "    }\n",
       "\n",
       "    .dataframe thead th {\n",
       "        text-align: right;\n",
       "    }\n",
       "</style>\n",
       "<table border=\"1\" class=\"dataframe\">\n",
       "  <thead>\n",
       "    <tr style=\"text-align: right;\">\n",
       "      <th></th>\n",
       "      <th>scores</th>\n",
       "    </tr>\n",
       "  </thead>\n",
       "  <tbody>\n",
       "    <tr>\n",
       "      <th>0</th>\n",
       "      <td>25.104179</td>\n",
       "    </tr>\n",
       "    <tr>\n",
       "      <th>1</th>\n",
       "      <td>60.908747</td>\n",
       "    </tr>\n",
       "    <tr>\n",
       "      <th>2</th>\n",
       "      <td>23.222238</td>\n",
       "    </tr>\n",
       "    <tr>\n",
       "      <th>3</th>\n",
       "      <td>51.553491</td>\n",
       "    </tr>\n",
       "    <tr>\n",
       "      <th>4</th>\n",
       "      <td>22.629690</td>\n",
       "    </tr>\n",
       "    <tr>\n",
       "      <th>...</th>\n",
       "      <td>...</td>\n",
       "    </tr>\n",
       "    <tr>\n",
       "      <th>1043</th>\n",
       "      <td>28.544280</td>\n",
       "    </tr>\n",
       "    <tr>\n",
       "      <th>1044</th>\n",
       "      <td>16.647022</td>\n",
       "    </tr>\n",
       "    <tr>\n",
       "      <th>1045</th>\n",
       "      <td>40.078943</td>\n",
       "    </tr>\n",
       "    <tr>\n",
       "      <th>1046</th>\n",
       "      <td>51.085002</td>\n",
       "    </tr>\n",
       "    <tr>\n",
       "      <th>1047</th>\n",
       "      <td>22.430099</td>\n",
       "    </tr>\n",
       "  </tbody>\n",
       "</table>\n",
       "<p>1048 rows × 1 columns</p>\n",
       "</div>"
      ],
      "text/plain": [
       "         scores\n",
       "0     25.104179\n",
       "1     60.908747\n",
       "2     23.222238\n",
       "3     51.553491\n",
       "4     22.629690\n",
       "...         ...\n",
       "1043  28.544280\n",
       "1044  16.647022\n",
       "1045  40.078943\n",
       "1046  51.085002\n",
       "1047  22.430099\n",
       "\n",
       "[1048 rows x 1 columns]"
      ]
     },
     "execution_count": 6,
     "metadata": {},
     "output_type": "execute_result"
    }
   ],
   "source": [
    "df = pd.read_csv('KloutScores.csv') \n",
    "df"
   ]
  },
  {
   "cell_type": "code",
   "execution_count": 7,
   "id": "317e8418-532c-46d5-8a49-eb47a8fb1c78",
   "metadata": {},
   "outputs": [
    {
     "name": "stdout",
     "output_type": "stream",
     "text": [
      "there is 1048 total users\n"
     ]
    }
   ],
   "source": [
    "print(f'there is {len(df)} total users') "
   ]
  },
  {
   "cell_type": "markdown",
   "id": "aecc77e1-2851-432e-96a7-41bc56f2ebe0",
   "metadata": {},
   "source": [
    "Plugging in n=1048 and k-250 "
   ]
  },
  {
   "cell_type": "code",
   "execution_count": 8,
   "id": "8fd2bd71-b4e5-4e57-981a-c2ac5cf571a3",
   "metadata": {},
   "outputs": [
    {
     "data": {
      "text/plain": [
       "3.2830569965061e+248"
      ]
     },
     "execution_count": 8,
     "metadata": {},
     "output_type": "execute_result"
    }
   ],
   "source": [
    "nCk(n=1048, k=250) "
   ]
  },
  {
   "cell_type": "markdown",
   "id": "5c769387-814b-4937-afa7-0447da987de4",
   "metadata": {},
   "source": [
    "Hence the total number of possible unique samples is  $ \\approx 3.3\\times{10^{248}} $ "
   ]
  },
  {
   "cell_type": "markdown",
   "id": "c29179c7-aacb-468e-88ee-464adf8c87e4",
   "metadata": {},
   "source": [
    "## Generating random samples "
   ]
  },
  {
   "cell_type": "markdown",
   "id": "13ceb651-3433-4a51-8d18-b1904552a163",
   "metadata": {},
   "source": [
    "Below is a function to generate random samples from a list of data, using NumPys ```np.random.choice``` function which randomly selects k items from a list provided. "
   ]
  },
  {
   "cell_type": "code",
   "execution_count": 9,
   "id": "3df21e62-048c-4b7e-aa4f-fc14fcdc462a",
   "metadata": {},
   "outputs": [],
   "source": [
    "def generate_random_samples(data, num_samples, sample_size): \n",
    "    samples = [np.random.choice(data, sample_size )  for i in range(num_samples) ]\n",
    "    return np.array(samples ) "
   ]
  },
  {
   "cell_type": "markdown",
   "id": "6c242fa0-3026-4448-81d3-ca2d9db7e556",
   "metadata": {},
   "source": [
    "## Plotting distribution of Klout scores "
   ]
  },
  {
   "cell_type": "markdown",
   "id": "d3bafdc3-da10-47a2-b4ef-a577482a73ee",
   "metadata": {},
   "source": [
    "First we will begin by simply plotting the distribution of the raw scores, using a bin size of 30 "
   ]
  },
  {
   "cell_type": "code",
   "execution_count": 10,
   "id": "bf7fc0bf-6d5e-42d0-85db-b994236d9832",
   "metadata": {},
   "outputs": [
    {
     "data": {
      "image/png": "[encoded data removed]",
      "text/plain": [
       "<Figure size 640x480 with 1 Axes>"
      ]
     },
     "metadata": {},
     "output_type": "display_data"
    }
   ],
   "source": [
    "plt.title('score distribution') \n",
    "plt.xlabel('score') \n",
    "plt.ylabel('count') \n",
    "plt.hist(df.scores, bins = 30 , alpha = 0.5 ); "
   ]
  },
  {
   "cell_type": "markdown",
   "id": "8e638cad-dca3-4cef-8c68-01e22f76a290",
   "metadata": {},
   "source": [
    "To plot the distribution of sample means, we will take 1000 samples and compute the mean of each "
   ]
  },
  {
   "cell_type": "code",
   "execution_count": 11,
   "id": "3507d8e1-178a-43fe-b99d-7a12d9b0bffe",
   "metadata": {},
   "outputs": [
    {
     "data": {
      "text/plain": [
       "array([[15.82106001, 49.67890645, 13.13950746, ..., 44.48242985,\n",
       "        52.7051741 , 10.        ],\n",
       "       [13.89051573, 45.66606758, 47.70675817, ..., 44.27928168,\n",
       "        44.74788553, 66.7834719 ],\n",
       "       [40.45979461, 52.73731623, 47.23648481, ..., 14.98512503,\n",
       "        52.16664368, 43.75262131],\n",
       "       ...,\n",
       "       [13.13477242, 50.64197496, 36.07938929, ..., 52.60540831,\n",
       "        13.46245325, 36.74616436],\n",
       "       [60.48245428, 11.74494404, 53.09713587, ..., 45.41536496,\n",
       "        50.55683526, 29.54430186],\n",
       "       [56.5304106 , 44.45504833, 15.0157153 , ..., 44.74788553,\n",
       "        46.3027209 , 44.43755457]])"
      ]
     },
     "execution_count": 11,
     "metadata": {},
     "output_type": "execute_result"
    }
   ],
   "source": [
    "samples = generate_random_samples(df.values.flatten() , 1000, 250) \n",
    "samples"
   ]
  },
  {
   "cell_type": "code",
   "execution_count": 12,
   "id": "af02ffb8-1c9a-4b31-8e9d-0230c7eeab31",
   "metadata": {},
   "outputs": [
    {
     "data": {
      "text/plain": [
       "(1000, 250)"
      ]
     },
     "execution_count": 12,
     "metadata": {},
     "output_type": "execute_result"
    }
   ],
   "source": [
    "samples.shape "
   ]
  },
  {
   "cell_type": "markdown",
   "id": "078ee749-24cb-4c51-adb8-85eb5c718d6d",
   "metadata": {},
   "source": [
    "By inspect the shape of the `samples` array we can see that we have 1000 samples each with 250 values. "
   ]
  },
  {
   "cell_type": "markdown",
   "id": "3fb7bcf3-30c9-47f5-9eb0-91b371b0690a",
   "metadata": {},
   "source": [
    "Calculating the mean of each sample to produce the distribution of sample means "
   ]
  },
  {
   "cell_type": "code",
   "execution_count": 13,
   "id": "e5742586-8187-4e3b-b507-78d254f3e912",
   "metadata": {},
   "outputs": [],
   "source": [
    "sample_mean_dist = np.mean(samples, axis = 1) "
   ]
  },
  {
   "cell_type": "code",
   "execution_count": 14,
   "id": "582bd2ce-dfc4-48ae-98df-ea5cf705c819",
   "metadata": {},
   "outputs": [
    {
     "data": {
      "image/png": "[encoded data removed]",
      "text/plain": [
       "<Figure size 640x480 with 1 Axes>"
      ]
     },
     "metadata": {},
     "output_type": "display_data"
    }
   ],
   "source": [
    "plt.title('score distribution') \n",
    "plt.xlabel('score') \n",
    "plt.ylabel('count') \n",
    "plt.hist(df.scores, bins= 30, alpha = 0.5, label = 'raw score distribution', color = 'orange'  )\n",
    "plt.axvline(np.mean(df.scores), label = 'raw score mean', color = 'red', alpha = 0.5  ) \n",
    "plt.hist(sample_mean_dist, bins = 30 , alpha = 0.5, label = 'distribution of sample means', color = 'royalblue' )\n",
    "plt.axvline(np.mean(np.mean(df.scores)) , label = 'sample means mean', color = 'darkblue', alpha = 0.5   ) \n",
    "plt.tight_layout() \n",
    "plt.legend() ; "
   ]
  },
  {
   "cell_type": "markdown",
   "id": "af51e19d-44e4-480b-91d2-2fdaa806d34e",
   "metadata": {},
   "source": [
    "### Distribution of sample means "
   ]
  },
  {
   "cell_type": "markdown",
   "id": "596d02ee-0d27-425f-b21d-96591f58d221",
   "metadata": {},
   "source": [
    "There are three main things we can pick out about the distribution of sample means which is plotted in blue on the figure above. \n",
    "\n",
    "The first is that the distribution of sample means seems to follow a normal distribution pattern with the majority of the sample means being centered around the mean of the sample means and then the frequency of data points starts to tail off either side of the mean of sample means.  \n",
    "\n",
    "THe second is that the standard deviation of the distribution of sample means is far smaller when compared to the distribution of raw scores which is to be expected. \n",
    "\n",
    "Thirdly, the mean of the raw scores as well as the mean of the sample means are the same/very similar,  which is represnted by the overlapping of the red line (raw score mean) and blue line (sample means mean) to creating a purple line which is the centre of the normal distribution which describes the distribution of sample means. "
   ]
  },
  {
   "cell_type": "markdown",
   "id": "ccf1b362-4dbc-47bc-840b-23347f521e71",
   "metadata": {},
   "source": [
    "### Proving results about the distributions of sample means "
   ]
  },
  {
   "cell_type": "markdown",
   "id": "f4dcf890-dd00-4230-b998-3c36530b9adf",
   "metadata": {},
   "source": [
    "Below I explain the mathematical proofs behind how the mean of the original and sampling distributions are the same as well as the reduced standard deviation. "
   ]
  },
  {
   "cell_type": "markdown",
   "id": "584132e4-b8e5-45cc-8cda-c794e0db603e",
   "metadata": {},
   "source": [
    "Let $X \\sim \\mathcal{N}(\\mu,\\,\\sigma^{2})$ where $x_1, x_2, x_3, ... , x_i$ are all independent random variables sampled from a distribution / population with a mean of $\\mu$ and variance $\\sigma ^2 $ \n",
    "\n",
    "Let $\\bar{X}$ be the distribution of sample means where $n$ is equal to the sample size: \n",
    "\n",
    "$$ \\bar{X} = \\left( \\frac{x_1 + x_2 + ... + x_n}{n}  \\right) $$\n",
    "\n",
    "Calculating the expected value/ mean for distribution $\\bar{X}$, using [expectation algebra](https://en.wikipedia.org/wiki/Algebra_of_random_variables): \n",
    "\n",
    "$$ E(\\bar{X}) = E\\left( \\frac{x_1 + x_2 + ... + x_) }{n}  \\right )$$ \n",
    "\n",
    "Given that ... (reference a rule ) \n",
    "\n",
    "$$ E(\\bar{X}) = \\left( \\frac{ E(x_1) + E(x_2) + ... + E(x_n) }{n}  \\right )$$ \n",
    "\n",
    "Given that $x_k$ is sampled from a normal distribution with a mean of $\\mu$, so the expected value of $x_k$ is $\\mu$. $E(x_k) = \\mu $ \n",
    "\n",
    "$$ E(\\bar{X}) = \\frac{1}{n}( \\underbrace{ \\mu + \\mu + ... + \\mu }_{n\\text{-times}}  )$$ \n",
    "\n",
    "Rewriting our summation as a multiplication: \n",
    "\n",
    "$$ E(\\bar{X}) = \\frac{1}{n}( n\\mu )$$ \n",
    "\n",
    "Simplifying: \n",
    "\n",
    "$$ E(\\bar{X}) = \\mu $$\n",
    "\n",
    "### proving the result for the standard deviation \n",
    "\n",
    "To calculate the standard deviation of $\\bar{X}$  we will apply the two following [Variance Algebra](https://en.wikipedia.org/wiki/Algebra_of_random_variables) rules: \n",
    "\n",
    "$$ VAR \\left(x_1 + x_2 + ... + x_n \\right) = VAR(x_1) + VAR(x_2) + ... + VAR(x_n)  $$\n",
    "\n",
    "$$ VAR \\left(aX  \\right)  = a^{2}VAR(X) $$ \n",
    "\n",
    "Hence we wish to calcualte : $VAR(\\bar{X} ) $ \n",
    "\n",
    "$$ VAR(\\bar{X} )  = VAR \\left(\\frac{x_1 + x_2 + ... + x_n }{n } \\right ) $$\n",
    "\n",
    "Applying both of the variance algebra rules above gives us the following: \n",
    "\n",
    "$$ VAR(\\bar{X} )  = \\frac{ VAR(x_1 )+ VAR(x_2) + ... + VAR(x_n) }{n^{2}}  $$ \n",
    "\n",
    "The expected variance for an individual sample ( the average distance squared for the mean ) can be defiend by the variance of the the distribtuion $X$ which are observations are sampled from.\n",
    "\n",
    "$$ VAR(X) = \\sigma^{2}   $$ \n",
    "\n",
    "Subbing the results into our above equation: \n",
    "\n",
    "$$ VAR(\\bar{X} )  =  \\frac{1}{n^{2}} \\left (\\underbrace{ \\sigma^{2} + \\sigma^{2} + ... +  \\sigma^{2} }_{n\\text{-times}} \\right )  $$ \n",
    "\n",
    "Converting our summation into a multiplication: \n",
    "\n",
    "$$ VAR(\\bar{X} )  =  \\frac{1}{n^2} \\left ( n \\sigma^{2}  \\right )  $$ \n",
    "\n",
    "$$ VAR(\\bar{X} ) =  \\frac{\\sigma^{2} }{n} $$ \n",
    "\n",
    "The expected station deviation is the square root of the variance. \n",
    "\n",
    "$$ \\sigma(\\bar{X}) = \\frac{\\sigma}{\\sqrt{n} } $$ \n"
   ]
  },
  {
   "cell_type": "markdown",
   "id": "7d37cc3b-2d89-4cf9-a5ea-4824701348f7",
   "metadata": {},
   "source": [
    "Calculating the mean and standard deviation of the normal distribution describing the distribution of sample means using the formulas dervived above. "
   ]
  },
  {
   "cell_type": "code",
   "execution_count": 15,
   "id": "7260a03e-25af-4b2f-ba40-2d4d91cc9461",
   "metadata": {},
   "outputs": [],
   "source": [
    "original_mean = np.mean(df.scores.values) \n",
    "original_std = np.std(df.scores.values) \n",
    "sample_std = ( original_std / np.sqrt(250)  ) "
   ]
  },
  {
   "cell_type": "code",
   "execution_count": 16,
   "id": "6e7f7d34-6699-4bbd-a2ea-dc1d017a9e5a",
   "metadata": {},
   "outputs": [
    {
     "name": "stdout",
     "output_type": "stream",
     "text": [
      "mean of sample means distribution: 37.72, std of sample means distribution: 1.0142 \n"
     ]
    }
   ],
   "source": [
    "print(f'mean of sample means distribution: {round(original_mean, 2) }, std of sample means distribution: {round(sample_std, 4) } ') "
   ]
  },
  {
   "cell_type": "markdown",
   "id": "4a834d6a-0a26-4587-935f-6107835f7950",
   "metadata": {},
   "source": [
    "###  Comparing the expected values with our observed values "
   ]
  },
  {
   "cell_type": "code",
   "execution_count": 17,
   "id": "0a294d33-4c52-4303-ad01-7a8043486fc8",
   "metadata": {},
   "outputs": [
    {
     "name": "stdout",
     "output_type": "stream",
     "text": [
      "mean of sample means distribution: 37.72, std of sample means distribution: 1.0041 \n"
     ]
    }
   ],
   "source": [
    "sample_mean_observed = np.mean(sample_mean_dist) \n",
    "sample_std_observed = np.std(sample_mean_dist) \n",
    "\n",
    "print(f'mean of sample means distribution: {round(sample_mean_observed, 2) }, std of sample means distribution: {round(sample_std_observed, 4) } ')"
   ]
  },
  {
   "cell_type": "markdown",
   "id": "fac8d8ea-f49c-43ce-8729-9fbcc36c16d1",
   "metadata": {},
   "source": [
    "Comparing our observed mean and standard deviation to mathematical formula we can see that our means are the same to 2 decimal places with the standard deviations being slightly difference.\n",
    "\n",
    "However, the gap between our observed values and ones predicted by the formula would likely shrink as we increase the number of samples until the size of the sample is equal to the size of our population at which point they would be identical. "
   ]
  },
  {
   "cell_type": "markdown",
   "id": "41862095-a09a-4cf5-a6e2-d455afc1deee",
   "metadata": {},
   "source": [
    "TODO : shot a plot with the varying sizes "
   ]
  },
  {
   "cell_type": "markdown",
   "id": "ff4133cd-baa8-4978-ac28-93905c238a3f",
   "metadata": {},
   "source": [
    "## BieberTweetter "
   ]
  },
  {
   "cell_type": "markdown",
   "id": "0e3e99a2-a171-419a-b625-d70a10f3b5a5",
   "metadata": {},
   "source": [
    "For the sample of BieberTweetters we can say that $n=250$ and $\\mu = 40 $"
   ]
  },
  {
   "cell_type": "markdown",
   "id": "9ff9713e-e0ec-413a-9a1b-418868ebbe05",
   "metadata": {},
   "source": [
    "This mean would fall to the right end of the distribution and we see where it fall in the plot below, which shows where it would fall on the histogram of the sample means distrbutions"
   ]
  },
  {
   "cell_type": "code",
   "execution_count": 18,
   "id": "a7ace412-65f6-480f-a7bf-242d37384858",
   "metadata": {},
   "outputs": [],
   "source": [
    "from scipy.stats import norm "
   ]
  },
  {
   "cell_type": "code",
   "execution_count": 19,
   "id": "13a64c68-0717-4d58-a14c-1c1d4b2bab94",
   "metadata": {},
   "outputs": [
    {
     "data": {
      "image/png": "[encoded data removed]",
      "text/plain": [
       "<Figure size 800x600 with 2 Axes>"
      ]
     },
     "metadata": {},
     "output_type": "display_data"
    }
   ],
   "source": [
    "fig, ax = plt.subplots(2, figsize = (8,6  ) )\n",
    "\n",
    "xmin,xmax = 33, 43 \n",
    "\n",
    "#plotting the distribution of observed values \n",
    "ax[0].hist(sample_mean_dist, bins = 30 , alpha = 0.5 , label = 'distribution of sample means')\n",
    "ax[0].axvline(np.mean(sample_mean_dist), label = 'mean of sample means', c = 'green'  ) \n",
    "ax[0].axvline(40, label =  'mean of BieberTweetter', c = 'red' ) \n",
    "ax[0].set_xlim(xmin, xmax ) \n",
    "ax[0].set_ylabel('count') \n",
    "ax[0].set_title('emprical distribution') \n",
    "\n",
    "#plotting the normal approximation to the observed distributions \n",
    "\n",
    "\n",
    "x_values = np.linspace(xmin, xmax , 1000)\n",
    "#initialing a normal distribution \n",
    "mean_dist = norm(np.mean(sample_mean_dist) , np.std(sample_mean_dist)  ) \n",
    "\n",
    "ax[1].plot( x_values, mean_dist.pdf(x_values), alpha = 0.5   ) \n",
    "\n",
    "ax[1].plot( ( np.mean(sample_mean_dist), np.mean(sample_mean_dist) ) ,  ( mean_dist.pdf(37.7)  , 0 )  , c= 'green' ) \n",
    "ax[1].plot( (40, 40) , ( mean_dist.pdf(40)   , 0 )  , c= 'red')\n",
    "ax[1].set_xlim(xmin, xmax) \n",
    "ax[1].set_ylabel('likelihood') \n",
    "ax[1].set_title('normal approximation') \n",
    "\n",
    "\n",
    "#plotting general titles \n",
    "\n",
    "midpoint = (fig.subplotpars.right + fig.subplotpars.left ) / 2 \n",
    "fig.supxlabel('sample mean')\n",
    "fig.suptitle('distribution of sample means', x = midpoint ) \n",
    "fig.tight_layout() \n",
    "ax[0].legend(); "
   ]
  },
  {
   "cell_type": "markdown",
   "id": "e76eae6a-cd8f-4ee9-92ab-cb7f6b39a95c",
   "metadata": {},
   "source": [
    "We can see that for both the empirical and normal approximation curve that the a sample mean of 40 compared to other samples of size 250, falls to the right of the distribution and seems quite unlikely given the current mean and standard deviation of mean sample sizes. "
   ]
  },
  {
   "cell_type": "markdown",
   "id": "0c5b9252-03a9-4f93-9012-300e55aad0ec",
   "metadata": {},
   "source": [
    "### Likelihood that the mean of a sample is above 40 "
   ]
  },
  {
   "cell_type": "markdown",
   "id": "89e10b87-8763-4944-975e-7b50a2a3e4af",
   "metadata": {},
   "source": [
    "Calculating the likelihood that a randomly selected sample of 250 users has a mean of at least 40. This likelihood / probability is represented by the total area underneath the normal distribution where sample means >= 40. \n",
    "\n",
    "Below is a plot of the normal approxmation of the distribution of sample means, where the area of the green section represents the probability of a sample having a mean greater than 40. Though its worth noting that this green area extends to infinity as the likelihood tends to zero but for the sake of plotting I have only shown it up to a sample mean of 43 "
   ]
  },
  {
   "cell_type": "code",
   "execution_count": 20,
   "id": "7bc0bf9d-af15-484a-b8ec-fa615b7a11f2",
   "metadata": {
    "jupyter": {
     "source_hidden": true
    }
   },
   "outputs": [
    {
     "data": {
      "image/png": "[encoded data removed]",
      "text/plain": [
       "<Figure size 800x400 with 1 Axes>"
      ]
     },
     "metadata": {},
     "output_type": "display_data"
    }
   ],
   "source": [
    "from scipy.stats import norm \n",
    "x_values = np.linspace(33, 43 , 1000)\n",
    "mean_dist = norm(np.mean(sample_mean_dist) , np.std(sample_mean_dist)  ) \n",
    "\n",
    "plt.figure(figsize = (8,4)  ) \n",
    "plt.plot( x_values, mean_dist.pdf(x_values), label = 'distribution of sample means'  ) \n",
    "\n",
    "plt.plot( (40, 40) , ( mean_dist.pdf(40)   , 0 )  , c= 'green', linestyle = ':' , label = 'mean of Bieber sample ')\n",
    "\n",
    "plt.fill_between( x=  x_values, \n",
    "                y1 = mean_dist.pdf(x_values) , \n",
    "                where= (x_values >= 40 ) , \n",
    "                color= \"green\",\n",
    "                alpha= 0.2 , label = 'sample mean > 40 '  ) \n",
    "\n",
    "plt.legend()\n",
    "\n",
    "plt.xlabel('sample mean') \n",
    "plt.ylabel('likelihood') \n",
    "plt.title('distribution of sample means' );  "
   ]
  },
  {
   "cell_type": "markdown",
   "id": "343c2993-730b-4595-acc7-3bb77451f2c7",
   "metadata": {},
   "source": [
    "Calculating the green area which represents our desrived probability, involves integrating our probability distribution function between the limits of  $40$ and $+\\infty$\n",
    "\n",
    "$$ \\int_{40}^{\\infty} \\mathcal{N}(\\mu, \\sigma^2 )(x) \\,\\,\\ dx  $$ \n",
    "\n",
    "Where $\\mu$ is the mean $\\sigma$ is the standard deviation of the distribution of sample means. \n",
    "\n",
    "To compute this we can use a SciPys cummulative desnisty function `cdf`, which calculates calcualates the following integral for a given normal distribution paramterised by $\\mu$ and $\\sigma$. \n",
    "\n",
    "$$ \\int_{-\\infty}^{b} \\mathcal{N}(\\mu, \\sigma^2 )(x) \\,\\,\\ dx  $$ \n",
    "\n",
    "Where $b$ the upper limit is the input into the `cdf` function. \n",
    "\n",
    "Given that total area under a normal distribution is equal to one we can write: \n",
    "\n",
    "$$  \\int_{-\\infty}^{40} \\mathcal{N}(\\mu, \\sigma^2 )(x) \\,\\,\\ dx   + \\int_{40}^{\\infty} \\mathcal{N}(\\mu, \\sigma^2 )(x) \\,\\,\\ dx   =1 $$ \n",
    "\n",
    "SciPys `cdf` can be used to compute the first term which we can then substract from 1 to get the green area which represents the probability of a sample having a mean which is at least 40. \n",
    "\n",
    "$$   \\int_{40}^{\\infty} \\mathcal{N}(\\mu, \\sigma^2 )(x) \\,\\,\\ dx   =1  - \\int_{-\\infty}^{40} \\mathcal{N}(\\mu, \\sigma^2 )(x) \\,\\,\\ dx $$ \n",
    "\n"
   ]
  },
  {
   "cell_type": "code",
   "execution_count": 21,
   "id": "1242cf14-1410-45d8-a068-6bba0ed8d293",
   "metadata": {},
   "outputs": [
    {
     "name": "stdout",
     "output_type": "stream",
     "text": [
      "the probability that our sample mean is greater or equal to 40 is 1.17% \n"
     ]
    }
   ],
   "source": [
    "aoc = (1 - mean_dist.cdf(40) ) \n",
    "print(f'the probability that our sample mean is greater or equal to 40 is { round(aoc * 100,2 ) }% ') "
   ]
  },
  {
   "cell_type": "markdown",
   "id": "82de03e5-beb7-458f-8479-b22c39ecc985",
   "metadata": {},
   "source": [
    "Its quite unlikely that a sample of 250 users would have a mean of 40 or greater. Placing this result in the context of the bieberTweetter sample with a mean of 40, we can say that this result is significant at 5% level to suggest that the mean score of BieberTweetter users is greater than the mean score of all users in our population. "
   ]
  },
  {
   "cell_type": "markdown",
   "id": "dd95be11-ea9b-4a5b-b40b-80289a8a941c",
   "metadata": {},
   "source": [
    "## Constructing a confidence interval "
   ]
  },
  {
   "cell_type": "markdown",
   "id": "53a7af7f-fe2f-43b7-8513-10aed4ff55d9",
   "metadata": {},
   "source": [
    "We want to create a confidence interval at the 95% for the mean Klout score if everyone  used BieberTwetter. We know thaat a single sample of 250 BieberTweetter users has a mean score of 40.\n",
    "\n",
    "Confidence intervals can be defined formally as: \n",
    "\n",
    "$$ (\\mu_s -  me, \\mu + me  )$$\n",
    "\n",
    "$me $ represents the margin of error which is the maximum expected distance between our observed statistic and the true but unknown population population parameter. In our case margin of error represents the maximum expected distance between our sample mean $\\mu_s$ of BieberTweetter users and the mean Klout score if everyone used BieberTweetter which is our unknown popluation parameter. \n",
    "\n",
    "The margin of error can be defined as the following: \n",
    "\n",
    "margin of error = critical value * standard deviation of the sampling distribution if everyone used BieberTweetter. \n",
    "\n",
    "The critical value is defined by the confidence level, area between the positive and negative critical value on a standard normal distribution is equal to the confidence level. E.g. for a confidence level of 0.95 / 95% our critical value is 1.96 as: \n",
    "\n",
    "$$ \\int_{-1.96}^{1.96} \\mathcal{N}(0, 1  )(x) \\,\\,\\ dx  = 0.95  $$ \n",
    "\n",
    "Given that we want to construct a confidence interval with a confidence of 95% this means that our critical value as displayed above is 1.96.\n",
    "\n",
    "The the standard deviation of the sampling distribution is multiplied by our critical value in order to scale the critical value to non standard normal distributions with standard deviations greater or lesser than 1. Its also important to note that the standard deviation of the sampling distribution if everyone used BieberTweetter is equal to current standard deviation of the sampling distribution,  given that if all users where to start to use BieberTwetter this would essentially shift all users Klout scores by a constant $k$ but would have no on the spacing of Klout scores meaning that both distributions would have the same standard deviation. \n",
    "\n",
    "Now that we know both the critical value as well as the stanadard deviation of our sampling distribution if everyone where to use BieberTweetter, we can calculate our margin of error and then construct our confidence interval which is displayed below. "
   ]
  },
  {
   "cell_type": "code",
   "execution_count": 22,
   "id": "ab9bda26-0f97-47c4-a40f-4d8bc3c2765b",
   "metadata": {},
   "outputs": [
    {
     "name": "stdout",
     "output_type": "stream",
     "text": [
      "95% confidence interval (37.97, 42.03)\n"
     ]
    }
   ],
   "source": [
    "lower_bound =  round(40 - (2* sample_std) , 2 ) \n",
    "upper_bound = round( 40 + (2* sample_std) , 2 ) \n",
    "\n",
    "print(f'95% confidence interval {(lower_bound, upper_bound )}')"
   ]
  },
  {
   "cell_type": "markdown",
   "id": "6287e0c1-753a-4abb-af20-def3460b67a7",
   "metadata": {},
   "source": [
    "Its worth noting the mean Klout score is currently 37.7 which lies outside of this confidence interval which are are 95% certain that the true mean lies within, similar to the above where we calculated the probability of a sample having a mean greater than 40 this means that if all users where to begin to use BieberTweetter it is unlikely that the mean Klout score would be 37.7 as it falls outside of our confidence interval at a 95% level. "
   ]
  },
  {
   "cell_type": "markdown",
   "id": "c569a9cf-ae22-4e29-b79c-90eaebf4ec20",
   "metadata": {},
   "source": [
    "# Task 2: "
   ]
  },
  {
   "cell_type": "markdown",
   "id": "dcab55a8-d4da-42c3-aae6-717242063c1f",
   "metadata": {},
   "source": [
    "New York traffic collision & weather dataset. TThe dataset shown below describes the weather conditions and the total number of collisions on a given day. An insurance company is hoping to use this data to draw a link between the total number of collisions and the weather conditions for a particular day in order to help them make smarter pricing decisions. E.g. if it were the case that days with rain lead to a larger number of total collisions then our insurance company may want to increase the price of their premiums for predicted rainy due to the increase probability of a collision. So that they can more accurately price the risk they are taking on by ensuring drivers on a given day with particular weather conditions. "
   ]
  },
  {
   "cell_type": "markdown",
   "id": "bfcc0adb-e399-4537-95be-eed11931a4c7",
   "metadata": {},
   "source": [
    "# Data Loading and Cleaning "
   ]
  },
  {
   "cell_type": "code",
   "execution_count": 6,
   "id": "0c855b23-b3f8-4d8e-bc04-5006acd61c75",
   "metadata": {},
   "outputs": [
    {
     "data": {
      "text/html": [
       "<div>\n",
       "<style scoped>\n",
       "    .dataframe tbody tr th:only-of-type {\n",
       "        vertical-align: middle;\n",
       "    }\n",
       "\n",
       "    .dataframe tbody tr th {\n",
       "        vertical-align: top;\n",
       "    }\n",
       "\n",
       "    .dataframe thead th {\n",
       "        text-align: right;\n",
       "    }\n",
       "</style>\n",
       "<table border=\"1\" class=\"dataframe\">\n",
       "  <thead>\n",
       "    <tr style=\"text-align: right;\">\n",
       "      <th></th>\n",
       "      <th>day</th>\n",
       "      <th>year</th>\n",
       "      <th>mo</th>\n",
       "      <th>da</th>\n",
       "      <th>collision_date</th>\n",
       "      <th>temp</th>\n",
       "      <th>dewp</th>\n",
       "      <th>slp</th>\n",
       "      <th>visib</th>\n",
       "      <th>wdsp</th>\n",
       "      <th>mxpsd</th>\n",
       "      <th>gust</th>\n",
       "      <th>max</th>\n",
       "      <th>min</th>\n",
       "      <th>prcp</th>\n",
       "      <th>sndp</th>\n",
       "      <th>fog</th>\n",
       "      <th>NUM_COLLISIONS</th>\n",
       "    </tr>\n",
       "  </thead>\n",
       "  <tbody>\n",
       "    <tr>\n",
       "      <th>0</th>\n",
       "      <td>2</td>\n",
       "      <td>2013</td>\n",
       "      <td>1</td>\n",
       "      <td>1</td>\n",
       "      <td>01/01/2013</td>\n",
       "      <td>37.8</td>\n",
       "      <td>23.6</td>\n",
       "      <td>1011.9</td>\n",
       "      <td>10.0</td>\n",
       "      <td>6.1</td>\n",
       "      <td>8.9</td>\n",
       "      <td>19.0</td>\n",
       "      <td>39.9</td>\n",
       "      <td>33.1</td>\n",
       "      <td>0.00</td>\n",
       "      <td>999.9</td>\n",
       "      <td>0</td>\n",
       "      <td>381</td>\n",
       "    </tr>\n",
       "    <tr>\n",
       "      <th>1</th>\n",
       "      <td>3</td>\n",
       "      <td>2013</td>\n",
       "      <td>1</td>\n",
       "      <td>2</td>\n",
       "      <td>02/01/2013</td>\n",
       "      <td>27.1</td>\n",
       "      <td>10.5</td>\n",
       "      <td>1016.8</td>\n",
       "      <td>10.0</td>\n",
       "      <td>5.3</td>\n",
       "      <td>9.9</td>\n",
       "      <td>19.0</td>\n",
       "      <td>33.1</td>\n",
       "      <td>21.9</td>\n",
       "      <td>0.00</td>\n",
       "      <td>999.9</td>\n",
       "      <td>0</td>\n",
       "      <td>480</td>\n",
       "    </tr>\n",
       "    <tr>\n",
       "      <th>2</th>\n",
       "      <td>4</td>\n",
       "      <td>2013</td>\n",
       "      <td>1</td>\n",
       "      <td>3</td>\n",
       "      <td>03/01/2013</td>\n",
       "      <td>28.4</td>\n",
       "      <td>14.1</td>\n",
       "      <td>1020.6</td>\n",
       "      <td>10.0</td>\n",
       "      <td>3.7</td>\n",
       "      <td>8.0</td>\n",
       "      <td>15.0</td>\n",
       "      <td>32.0</td>\n",
       "      <td>24.1</td>\n",
       "      <td>0.00</td>\n",
       "      <td>999.9</td>\n",
       "      <td>0</td>\n",
       "      <td>549</td>\n",
       "    </tr>\n",
       "    <tr>\n",
       "      <th>3</th>\n",
       "      <td>5</td>\n",
       "      <td>2013</td>\n",
       "      <td>1</td>\n",
       "      <td>4</td>\n",
       "      <td>04/01/2013</td>\n",
       "      <td>33.4</td>\n",
       "      <td>18.6</td>\n",
       "      <td>1017.0</td>\n",
       "      <td>10.0</td>\n",
       "      <td>6.5</td>\n",
       "      <td>13.0</td>\n",
       "      <td>24.1</td>\n",
       "      <td>37.0</td>\n",
       "      <td>30.0</td>\n",
       "      <td>0.00</td>\n",
       "      <td>999.9</td>\n",
       "      <td>0</td>\n",
       "      <td>505</td>\n",
       "    </tr>\n",
       "    <tr>\n",
       "      <th>4</th>\n",
       "      <td>6</td>\n",
       "      <td>2013</td>\n",
       "      <td>1</td>\n",
       "      <td>5</td>\n",
       "      <td>05/01/2013</td>\n",
       "      <td>36.1</td>\n",
       "      <td>18.7</td>\n",
       "      <td>1020.6</td>\n",
       "      <td>10.0</td>\n",
       "      <td>6.6</td>\n",
       "      <td>12.0</td>\n",
       "      <td>21.0</td>\n",
       "      <td>42.1</td>\n",
       "      <td>32.0</td>\n",
       "      <td>0.00</td>\n",
       "      <td>999.9</td>\n",
       "      <td>0</td>\n",
       "      <td>389</td>\n",
       "    </tr>\n",
       "    <tr>\n",
       "      <th>...</th>\n",
       "      <td>...</td>\n",
       "      <td>...</td>\n",
       "      <td>...</td>\n",
       "      <td>...</td>\n",
       "      <td>...</td>\n",
       "      <td>...</td>\n",
       "      <td>...</td>\n",
       "      <td>...</td>\n",
       "      <td>...</td>\n",
       "      <td>...</td>\n",
       "      <td>...</td>\n",
       "      <td>...</td>\n",
       "      <td>...</td>\n",
       "      <td>...</td>\n",
       "      <td>...</td>\n",
       "      <td>...</td>\n",
       "      <td>...</td>\n",
       "      <td>...</td>\n",
       "    </tr>\n",
       "    <tr>\n",
       "      <th>2186</th>\n",
       "      <td>4</td>\n",
       "      <td>2018</td>\n",
       "      <td>12</td>\n",
       "      <td>27</td>\n",
       "      <td>27/12/2018</td>\n",
       "      <td>40.3</td>\n",
       "      <td>26.6</td>\n",
       "      <td>1034.2</td>\n",
       "      <td>10.0</td>\n",
       "      <td>999.9</td>\n",
       "      <td>999.9</td>\n",
       "      <td>999.9</td>\n",
       "      <td>44.1</td>\n",
       "      <td>32.0</td>\n",
       "      <td>0.00</td>\n",
       "      <td>999.9</td>\n",
       "      <td>0</td>\n",
       "      <td>582</td>\n",
       "    </tr>\n",
       "    <tr>\n",
       "      <th>2187</th>\n",
       "      <td>5</td>\n",
       "      <td>2018</td>\n",
       "      <td>12</td>\n",
       "      <td>28</td>\n",
       "      <td>28/12/2018</td>\n",
       "      <td>48.8</td>\n",
       "      <td>44.8</td>\n",
       "      <td>1025.8</td>\n",
       "      <td>5.5</td>\n",
       "      <td>999.9</td>\n",
       "      <td>999.9</td>\n",
       "      <td>999.9</td>\n",
       "      <td>60.8</td>\n",
       "      <td>39.2</td>\n",
       "      <td>0.18</td>\n",
       "      <td>999.9</td>\n",
       "      <td>0</td>\n",
       "      <td>681</td>\n",
       "    </tr>\n",
       "    <tr>\n",
       "      <th>2188</th>\n",
       "      <td>6</td>\n",
       "      <td>2018</td>\n",
       "      <td>12</td>\n",
       "      <td>29</td>\n",
       "      <td>29/12/2018</td>\n",
       "      <td>51.9</td>\n",
       "      <td>41.7</td>\n",
       "      <td>1014.4</td>\n",
       "      <td>9.2</td>\n",
       "      <td>999.9</td>\n",
       "      <td>999.9</td>\n",
       "      <td>999.9</td>\n",
       "      <td>60.1</td>\n",
       "      <td>43.0</td>\n",
       "      <td>0.97</td>\n",
       "      <td>999.9</td>\n",
       "      <td>0</td>\n",
       "      <td>499</td>\n",
       "    </tr>\n",
       "    <tr>\n",
       "      <th>2189</th>\n",
       "      <td>7</td>\n",
       "      <td>2018</td>\n",
       "      <td>12</td>\n",
       "      <td>30</td>\n",
       "      <td>30/12/2018</td>\n",
       "      <td>37.4</td>\n",
       "      <td>25.7</td>\n",
       "      <td>1022.3</td>\n",
       "      <td>9.5</td>\n",
       "      <td>999.9</td>\n",
       "      <td>999.9</td>\n",
       "      <td>999.9</td>\n",
       "      <td>57.0</td>\n",
       "      <td>33.1</td>\n",
       "      <td>0.00</td>\n",
       "      <td>999.9</td>\n",
       "      <td>0</td>\n",
       "      <td>404</td>\n",
       "    </tr>\n",
       "    <tr>\n",
       "      <th>2190</th>\n",
       "      <td>1</td>\n",
       "      <td>2018</td>\n",
       "      <td>12</td>\n",
       "      <td>31</td>\n",
       "      <td>31/12/2018</td>\n",
       "      <td>41.0</td>\n",
       "      <td>33.5</td>\n",
       "      <td>1025.5</td>\n",
       "      <td>8.9</td>\n",
       "      <td>999.9</td>\n",
       "      <td>999.9</td>\n",
       "      <td>999.9</td>\n",
       "      <td>45.0</td>\n",
       "      <td>33.1</td>\n",
       "      <td>0.00</td>\n",
       "      <td>999.9</td>\n",
       "      <td>0</td>\n",
       "      <td>10</td>\n",
       "    </tr>\n",
       "  </tbody>\n",
       "</table>\n",
       "<p>2191 rows × 18 columns</p>\n",
       "</div>"
      ],
      "text/plain": [
       "      day  year  mo  da collision_date  temp  dewp     slp  visib   wdsp  \\\n",
       "0       2  2013   1   1     01/01/2013  37.8  23.6  1011.9   10.0    6.1   \n",
       "1       3  2013   1   2     02/01/2013  27.1  10.5  1016.8   10.0    5.3   \n",
       "2       4  2013   1   3     03/01/2013  28.4  14.1  1020.6   10.0    3.7   \n",
       "3       5  2013   1   4     04/01/2013  33.4  18.6  1017.0   10.0    6.5   \n",
       "4       6  2013   1   5     05/01/2013  36.1  18.7  1020.6   10.0    6.6   \n",
       "...   ...   ...  ..  ..            ...   ...   ...     ...    ...    ...   \n",
       "2186    4  2018  12  27     27/12/2018  40.3  26.6  1034.2   10.0  999.9   \n",
       "2187    5  2018  12  28     28/12/2018  48.8  44.8  1025.8    5.5  999.9   \n",
       "2188    6  2018  12  29     29/12/2018  51.9  41.7  1014.4    9.2  999.9   \n",
       "2189    7  2018  12  30     30/12/2018  37.4  25.7  1022.3    9.5  999.9   \n",
       "2190    1  2018  12  31     31/12/2018  41.0  33.5  1025.5    8.9  999.9   \n",
       "\n",
       "      mxpsd   gust   max   min  prcp   sndp  fog  NUM_COLLISIONS  \n",
       "0       8.9   19.0  39.9  33.1  0.00  999.9    0             381  \n",
       "1       9.9   19.0  33.1  21.9  0.00  999.9    0             480  \n",
       "2       8.0   15.0  32.0  24.1  0.00  999.9    0             549  \n",
       "3      13.0   24.1  37.0  30.0  0.00  999.9    0             505  \n",
       "4      12.0   21.0  42.1  32.0  0.00  999.9    0             389  \n",
       "...     ...    ...   ...   ...   ...    ...  ...             ...  \n",
       "2186  999.9  999.9  44.1  32.0  0.00  999.9    0             582  \n",
       "2187  999.9  999.9  60.8  39.2  0.18  999.9    0             681  \n",
       "2188  999.9  999.9  60.1  43.0  0.97  999.9    0             499  \n",
       "2189  999.9  999.9  57.0  33.1  0.00  999.9    0             404  \n",
       "2190  999.9  999.9  45.0  33.1  0.00  999.9    0              10  \n",
       "\n",
       "[2191 rows x 18 columns]"
      ]
     },
     "execution_count": 6,
     "metadata": {},
     "output_type": "execute_result"
    }
   ],
   "source": [
    "df = pd.read_csv('New_York_collisions_and_weather_data.csv')\n",
    "df"
   ]
  },
  {
   "cell_type": "markdown",
   "id": "a7d476b4-39ae-4ef6-a39c-102d3f8f306c",
   "metadata": {},
   "source": [
    "In the data above each record represents an individual day, a breakdown of all individual features is shown below. \n",
    "\n",
    "`day` - day of week for the particular day \n",
    "\n",
    "`year` - year which day was in \n",
    "\n",
    "`mo` - month which day was in \n",
    "\n",
    "`da` - day of month of the particulr day \n",
    "\n",
    "`collision_date` - date for the particular day \n",
    "\n",
    "`temperature` - mean temperature for the day \n",
    "\n",
    "`dewp ` - Dew Point, the temperature which the current temperature would have to drop to in order to each 100% humidity, higher typically means more humid \n",
    "\n",
    "`slp` - \n",
    "\n",
    "`visib` - visibility ... \n",
    "\n",
    "`wdsp` - w\n"
   ]
  },
  {
   "cell_type": "markdown",
   "id": "1f81234c-8035-4744-a4a8-bfacce6f2b6c",
   "metadata": {},
   "source": [
    "In the data missing numerical values are replaced by 999.9, it is important either the missing values are cleaned completly from the table we can use mean imputation to replace all missing values with the mean of the respective column or model if thye happen to be a continous feature. "
   ]
  },
  {
   "cell_type": "code",
   "execution_count": 7,
   "id": "e2f715bd-55b1-4384-a7a1-9ea9b1f4c188",
   "metadata": {},
   "outputs": [],
   "source": [
    "for col in df.columns[df.isnull().any(axis=0)]: \n",
    "    df[col].fillna(df[col].mean() , inplace = True ) "
   ]
  },
  {
   "cell_type": "markdown",
   "id": "48cf7b18-d1fd-4500-bced-ef6879f358c2",
   "metadata": {},
   "source": [
    "Converting collision date to pandas datetime dtype "
   ]
  },
  {
   "cell_type": "code",
   "execution_count": 8,
   "id": "ffd1f385-ecc9-4340-ab14-47f8fb9d3b0e",
   "metadata": {},
   "outputs": [],
   "source": [
    "df.collision_date = pd.to_datetime(df.collision_date, dayfirst = True ) "
   ]
  },
  {
   "cell_type": "markdown",
   "id": "539d2d02-a947-44d4-ab01-8194f986da54",
   "metadata": {},
   "source": [
    "# Prelimary Exploratory Data Analysis. "
   ]
  },
  {
   "cell_type": "markdown",
   "id": "c572c3e5-0634-4c70-80b9-d240efeaa91b",
   "metadata": {},
   "source": [
    "Defining the continous and categorical features in our dataset, given that their correlation between itself and the distribution must be measured in various ways. "
   ]
  },
  {
   "cell_type": "code",
   "execution_count": 9,
   "id": "442ac93a-a504-46b7-9251-149be5ca9989",
   "metadata": {},
   "outputs": [],
   "source": [
    "continous_features = ['temp','dewp','slp', 'visib', 'wdsp','mxpsd','gust','max','min','prcp', 'sndp' , 'day' , 'NUM_COLLISIONS']\n",
    "dateime_features = ['collision_date'] \n",
    "categorical_features = ['day', 'year', 'mo' , 'fog' ] "
   ]
  },
  {
   "cell_type": "markdown",
   "id": "773d0103-0a20-470c-981d-a624e5cae53c",
   "metadata": {},
   "source": [
    "## Measuring Pairiwse Correlation between continous features "
   ]
  },
  {
   "cell_type": "markdown",
   "id": "909baddd-3b4b-40b5-ad14-95367ac47c7c",
   "metadata": {},
   "source": [
    "Below is a heatmap which pllots the pearsons correlation coefficient between each pair of continous features in our dataset. The Pearons correlation coefficient is also known as the R^2 score which displays the proportion of variance of a particular feature which can be explained by another. "
   ]
  },
  {
   "cell_type": "code",
   "execution_count": 10,
   "id": "7aaf5922-afc1-48b6-9f98-40addb45c7c0",
   "metadata": {},
   "outputs": [
    {
     "data": {
      "image/png": "[encoded data removed]",
      "text/plain": [
       "<Figure size 600x600 with 2 Axes>"
      ]
     },
     "metadata": {},
     "output_type": "display_data"
    }
   ],
   "source": [
    "import matplotlib as mpl \n",
    "from mpl_toolkits.axes_grid1 import make_axes_locatable\n",
    "\n",
    "\n",
    "fig,ax = plt.subplots( 1,   figsize = (6,6)  )\n",
    "\n",
    "correlation_matrix = df[continous_features].corr().values\n",
    "\n",
    "\n",
    "heatmap = ax.imshow( correlation_matrix , cmap = 'magma') \n",
    "\n",
    "for i in range(len(continous_features) ): \n",
    "    for j in range(i, len(continous_features)  ): \n",
    "        if correlation_matrix[i,j] > 0.2: \n",
    "            ax.text(i,j, round(correlation_matrix[i,j], 2) , size = 6, ha = 'center' , va = 'center'  ) \n",
    "        else:\n",
    "            ax.text(i,j, round(correlation_matrix[i,j], 2) , size = 6, ha = 'center' , va = 'center' , c = 'white' ) \n",
    "      # plt.text(j,i , round(correlation_matrix[i,j], 2) , size = 6, ha = 'center' , va = 'center'  ) \n",
    "\n",
    "divider = make_axes_locatable(ax)\n",
    "cax = divider.append_axes('right', size='7%', pad=0.1 ) \n",
    "\n",
    "fig.colorbar(heatmap, cax = cax  ) \n",
    "\n",
    "ax.set_xticks(np.arange(len(continous_features) ) , continous_features , rotation = 90 ) \n",
    "ax.set_yticks(np.arange(len(continous_features)) , continous_features )\n",
    "\n",
    "ax.set_title('\\n Correlation Heatmap \\n ' , size = 20 )  \n",
    "ax.set_xlabel('features', size = 12  ) \n",
    "ax.set_ylabel('features', size = 12  ) ; "
   ]
  },
  {
   "cell_type": "markdown",
   "id": "4e8f7f62-e8e8-4b54-8a01-1bbd7d05a04b",
   "metadata": {},
   "source": [
    "Given that are particularly interested in the correlation between each weather feature and the ```NUM_COLLISIONS```, we will primarly be focusing on the bottom row of our heatmap which displays each of the pairwise correlations with `NUM_COLLISIONS` \n",
    "\n",
    "### Looking at each of the individual positive correlations \n",
    "\n",
    "- ` temp ` : The the warmer the temperature perhaps there is a greater number of pedestrians out / people taking trips\n",
    "\n",
    "- `dewp` : The higher the dew point the more moisture is the air so perhaps more humid muggy weather lead to more people using taxis rather than walking\n",
    "\n",
    "-  `max` : The maximum temperature recorded during the day, likely because warmer weather may lead to a greater number of pedestrians as well as people taking trips around to enjoy the nice weather\n",
    "\n",
    "- `min` : The reasoning should be similar to maximum as the two temperatures two temperature measurements are highly correlated which can be seen in the heatmap. \n",
    "\n",
    "\n",
    "### Looking at each of the individual negative correlations \n",
    "\n",
    "both have a negative correlation below ~-0.1 implying that there is a weak negative correlation between these variables a\n",
    "\n",
    "- `wdsp` : The mean windspeed for the days negative correlated with the number of collisions given that perhaps days with worse weather may lead to less people taking journeys and less pedestrians\n",
    "\n",
    "\n",
    "- `mmxspd` : as shown in correlation matrix the max windspeed is highly correlated with the  `wdsp` with a R2 score of 0.88\n",
    "\n",
    "- `day` : day of the week is currently being treated as a continous feature achieves a relatively large negative R2 score when compared to the other features inside of our dataset, \n",
    "\n",
    "### Features with little positive or negative correlation \n",
    "\n",
    "Suprisingly some features like rain `prcp` which achives an R2 score of 0.05 seems to have little correlation with the total number of collisions, which seems to be counter intuitive to what you would typically expect given that rain can lower visibilty on roads, tyres have less grip etc leading to more collisions. \n",
    "\n",
    "In a similar vain to before you would expect a feature like `visib` which represnets the mean visibility for the day, to be highly correlated with the number of crashses given that reduced visibility can make it harder to spot other drivers on the road leading to more collisions. However, it may work the otherway as on days with low visibiilty drivesr may be more cautious as well as driving in city may aid days with low visibility. \n",
    "\n",
    "### Total Number of Collisions vs Rate of collisions \n",
    "\n",
    "\n",
    "Its important to note that whilst looking at the raw number of collisions on a given day is important, perhaps it may be better to look at the number of collisions with respect to the number of journeys taken by taxis on a given day. E.g. it may be the case that on a rain day despite the risk of collisions being higher the total number of taxis rides fall as people may decide to stay in leading to a increase in the total number of collisions but an increase in the rate of collisions. \n",
    "\n",
    "e.g. a day with a large event may lead to a increase in teh total number of collisions but the rise in total number of journeys is not included within the data so this may be misleading for our model to learn the relationship between our features and the total number of collisions, if some key aspects are also not included. \n",
    "\n",
    "And perhaps the influence of these various factors on the rate of collisions would be more valuable to the insurance company given that they are looking to insure a single driver so would like to know the probability of a single driver getting into a collision on a given day rather than the total number of collisions on the same day, although those two things are correlated. "
   ]
  },
  {
   "cell_type": "markdown",
   "id": "cf3c321b-707f-4c13-b288-aa256ef0dd32",
   "metadata": {},
   "source": [
    "Commenting on the fact the day of the week is stored as a continious feature which implies that if the model learns a positive weight than tuesday is greater than monday. However this assumption is not necessarily correct and rather than storing day of the week as a continious feature it may be better to store it as a categorical feature. where the model learns a weight for each day of teh week rather than a single weight where is multiplied by the day of the week number. \n",
    "\n"
   ]
  },
  {
   "cell_type": "code",
   "execution_count": 11,
   "id": "af113850-0c4e-4866-9fee-c880d2adf917",
   "metadata": {},
   "outputs": [
    {
     "data": {
      "image/png": "[encoded data removed]",
      "text/plain": [
       "<Figure size 1200x300 with 4 Axes>"
      ]
     },
     "metadata": {},
     "output_type": "display_data"
    }
   ],
   "source": [
    "import math \n",
    "\n",
    "for feature in categorical_features:\n",
    "    df[feature] = df[feature].astype('string')\n",
    "\n",
    "n_subplots = len(categorical_features)\n",
    "\n",
    "fig, ax = plt.subplots( 1, n_subplots , figsize = (12,  3   ) ) \n",
    "\n",
    "\n",
    "fig.suptitle(' Categorical features plotted against the number of collisions ')\n",
    "\n",
    "xticks_dict = {'day': ['Monday', 'Tuesday', 'Wednesday', 'Thursday', 'Friday', 'Saturday', 'Sunday'],\n",
    "              'mo': ['Jan', 'Feb', 'Mar', 'Apr', 'May', 'Jun', 'Jul', 'Aug', 'Sep', 'Oct', 'Nov', 'Dec']}\n",
    "\n",
    "\n",
    "y_idx = 0 \n",
    "for idx, categorical_feature in enumerate(categorical_features): \n",
    "\n",
    "    if idx == 0:\n",
    "        ax[idx].set_ylabel('number of collisions') \n",
    "    else:\n",
    "\n",
    "        ax[idx].set_yticks([])  \n",
    "\n",
    "\n",
    "    if xticks_dict.get(categorical_feature):\n",
    "        xticks = xticks_dict.get(categorical_feature)\n",
    "        ax[idx].set_xticks(np.arange(len(xticks) ) , xticks, rotation = 90 ) \n",
    "                      \n",
    "    ax[idx].set_xlabel(categorical_feature)\n",
    "\n",
    "    \n",
    "    \n",
    "    ax[idx].scatter(df[categorical_feature], df.NUM_COLLISIONS, s= 8 , alpha = 0.3  ) \n",
    "\n",
    "    \n",
    "    means = df.groupby(categorical_feature)['NUM_COLLISIONS'].mean()\n",
    "    for i,mean in enumerate(means):\n",
    "        ax[idx].hlines(mean, i - 0.2, i + 0.2,  color = 'red'   ) \n",
    "\n",
    "\n",
    "    if idx % 2 == 0: \n",
    "        y_idx = +1 "
   ]
  },
  {
   "cell_type": "markdown",
   "id": "6b8a2ccf-cc0e-4bf2-9615-784289f28fc2",
   "metadata": {},
   "source": [
    "The scatter plots show the spread and the mean number of collisions per category. \n",
    "\n",
    "-  `day`\n",
    "\n",
    "-  `year`\n",
    "\n",
    "- `mo`\n",
    "\n",
    "- `fog` "
   ]
  },
  {
   "cell_type": "markdown",
   "id": "200adc18-c06e-4712-8c5f-8969cbc752e3",
   "metadata": {},
   "source": [
    "We want to compare this performance against one hot encodings. "
   ]
  },
  {
   "cell_type": "markdown",
   "id": "1f2e2a33-1f8f-4509-8b42-9e868af02809",
   "metadata": {},
   "source": [
    "## Sine transform to day of week feature. "
   ]
  },
  {
   "cell_type": "markdown",
   "id": "e77b3021-6c82-4244-bfa7-692af654c30a",
   "metadata": {},
   "source": [
    "From looking at the patterns in the number of crashes  when compared to the day of the week, we can observe some level of wave/ sinosid like behaviour as the number of collisions rises until friday and then falls on both saturday and sunday. This pattern is vaguely similar to a sine wave between $(0, \\pi)$, which I have plotted below. "
   ]
  },
  {
   "cell_type": "code",
   "execution_count": 56,
   "id": "8b0389de-0029-4664-b93e-0927ffd0cfa0",
   "metadata": {},
   "outputs": [
    {
     "data": {
      "image/png": "[encoded data removed]",
      "text/plain": [
       "<Figure size 600x200 with 1 Axes>"
      ]
     },
     "metadata": {},
     "output_type": "display_data"
    }
   ],
   "source": [
    "plt.figure(figsize = (6,  2 ) ) \n",
    "xvals = np.linspace(0, np.pi, 10000 ) \n",
    "yvals = np.sin(xvals) \n",
    "plt.plot(xvals, yvals ) \n",
    "plt.xticks([0, np.pi /2 , np.pi  ] , ['0' , '$0.5\\pi$',  '$\\pi$'] ); \n",
    "plt.yticks([1, 0  ] )\n",
    "plt.title('$sin(x)$ between $(0,\\pi)$ \\n'  ); "
   ]
  },
  {
   "cell_type": "markdown",
   "id": "e5462131-e62f-4659-9eee-6595ee5bcdf7",
   "metadata": {},
   "source": [
    "As a result in order to improve the correlation between day of week stored as a continous feature and the number of collisions ina  day, we can apply the following sine transformation: \n",
    "\n",
    "$$ \\hat{x} = sin \\left(\\frac{x\\times{\\pi}}{n } \\right)$$\n",
    "\n",
    "where $x$ is the day of week, $n$ is 7 the number of days in a week and $\\hat{x}$ is our transformed value. "
   ]
  },
  {
   "cell_type": "markdown",
   "id": "d3e5e192-09da-47cb-a2b0-79682cb2da03",
   "metadata": {},
   "source": [
    "Below is a graph displaying the sine transformation of days of week described above. "
   ]
  },
  {
   "cell_type": "code",
   "execution_count": 66,
   "id": "b5505882-b7cf-4ef7-987c-370a864a46fc",
   "metadata": {
    "jupyter": {
     "source_hidden": true
    }
   },
   "outputs": [
    {
     "data": {
      "text/plain": [
       "<matplotlib.legend.Legend at 0x122c495d0>"
      ]
     },
     "execution_count": 66,
     "metadata": {},
     "output_type": "execute_result"
    },
    {
     "data": {
      "image/png": "[encoded data removed]",
      "text/plain": [
       "<Figure size 800x400 with 1 Axes>"
      ]
     },
     "metadata": {},
     "output_type": "display_data"
    }
   ],
   "source": [
    "plt.figure(figsize = (8, 4  ) ) \n",
    "xvals = np.linspace(0, np.pi, 10000 ) \n",
    "yvals = np.sin(xvals) \n",
    "plt.plot(xvals, yvals ) \n",
    "plt.xticks([0, np.pi /2 , np.pi  ] , ['0' , '$0.5\\pi$',  '$\\pi$'] ); \n",
    "plt.yticks([1, 0  ] )\n",
    "plt.title('$sin(x)$ between $(0,\\pi)$ \\n'  )\n",
    "days_of_week = ['Monday', 'Tuesday', 'Wednesday', 'Thursday', 'Friday', 'Saturday', 'Sunday' ] \n",
    "for idx, day in enumerate(days_of_week):\n",
    "    xval = (idx + 1 ) * (np.pi / 7)\n",
    "    yval = np.sin(xval) \n",
    "    plt.scatter( xval, yval  , label =  day )\n",
    "\n",
    "plt.tight_layout() \n",
    "plt.legend() "
   ]
  },
  {
   "cell_type": "markdown",
   "id": "df0eae4a-6685-4b63-86e7-2467a3de8c50",
   "metadata": {},
   "source": [
    "Although this transformation isnt perfect given that it now shows Wednesday/Thursday with the largest associated values despite, Friday being teh day with the latgest number of collisions. However it does get saturday and SUnday correct ish. "
   ]
  },
  {
   "cell_type": "markdown",
   "id": "712865e1-08ff-429a-bbfd-84d7ed7349e2",
   "metadata": {},
   "source": [
    "Calculating the correlation coefficient between our sine transformed day of week feature and total number of collisions. "
   ]
  },
  {
   "cell_type": "code",
   "execution_count": 17,
   "id": "db2d42d9-f09c-43c1-885d-c1564f612e8d",
   "metadata": {},
   "outputs": [],
   "source": [
    "df.day = df.day.astype('int') "
   ]
  },
  {
   "cell_type": "code",
   "execution_count": 67,
   "id": "99bcd516-de06-426f-9dcf-8f927d22ca04",
   "metadata": {},
   "outputs": [],
   "source": [
    "day_sine = df.day.apply( lambda x : np.sin(  np.pi  * ( x / 7 ) )  ) "
   ]
  },
  {
   "cell_type": "code",
   "execution_count": 74,
   "id": "eaea7c96-9a87-45ba-a7c9-411c531419b2",
   "metadata": {},
   "outputs": [
    {
     "data": {
      "text/plain": [
       "np.float64(0.46174480099121173)"
      ]
     },
     "execution_count": 74,
     "metadata": {},
     "output_type": "execute_result"
    }
   ],
   "source": [
    "np.corrcoef(day_sine, df.NUM_COLLISIONS)[0][1] "
   ]
  },
  {
   "cell_type": "markdown",
   "id": "05a0ab31-de19-4908-9d97-4ba829a9c6e0",
   "metadata": {},
   "source": [
    "Here we can see that our sine transformation has lead to an increase in the correlation between our day of week feature and the total number of collisions from ~-0.26 to ~0.46, so not only have we impacted the direction of the correlation but we have also improved the strength of it. "
   ]
  },
  {
   "cell_type": "markdown",
   "id": "f903634f-3079-46c9-bd99-6a582e53836c",
   "metadata": {},
   "source": [
    "Despite transforming the day of week feature using a sine curve to better match the rise and fall of collisions during the week, it may be more sensible to encode the day of the week feature using one hot encodings, where we create a seperature feature for each individual day of week with a 1 in"
   ]
  },
  {
   "cell_type": "code",
   "execution_count": 76,
   "id": "fa1a937d-d4d5-4c12-8a22-608486c3aef0",
   "metadata": {},
   "outputs": [],
   "source": [
    "days_of_week_df = pd.get_dummies(df.day ).astype('int') \n",
    "days_of_week_df['collisions'] = df.NUM_COLLISIONS"
   ]
  },
  {
   "cell_type": "code",
   "execution_count": 77,
   "id": "50ccb9fd-b1b5-444a-9d66-e21835cad461",
   "metadata": {},
   "outputs": [
    {
     "data": {
      "text/html": [
       "<div>\n",
       "<style scoped>\n",
       "    .dataframe tbody tr th:only-of-type {\n",
       "        vertical-align: middle;\n",
       "    }\n",
       "\n",
       "    .dataframe tbody tr th {\n",
       "        vertical-align: top;\n",
       "    }\n",
       "\n",
       "    .dataframe thead th {\n",
       "        text-align: right;\n",
       "    }\n",
       "</style>\n",
       "<table border=\"1\" class=\"dataframe\">\n",
       "  <thead>\n",
       "    <tr style=\"text-align: right;\">\n",
       "      <th></th>\n",
       "      <th>1</th>\n",
       "      <th>2</th>\n",
       "      <th>3</th>\n",
       "      <th>4</th>\n",
       "      <th>5</th>\n",
       "      <th>6</th>\n",
       "      <th>7</th>\n",
       "      <th>collisions</th>\n",
       "    </tr>\n",
       "  </thead>\n",
       "  <tbody>\n",
       "    <tr>\n",
       "      <th>0</th>\n",
       "      <td>0</td>\n",
       "      <td>1</td>\n",
       "      <td>0</td>\n",
       "      <td>0</td>\n",
       "      <td>0</td>\n",
       "      <td>0</td>\n",
       "      <td>0</td>\n",
       "      <td>381</td>\n",
       "    </tr>\n",
       "    <tr>\n",
       "      <th>1</th>\n",
       "      <td>0</td>\n",
       "      <td>0</td>\n",
       "      <td>1</td>\n",
       "      <td>0</td>\n",
       "      <td>0</td>\n",
       "      <td>0</td>\n",
       "      <td>0</td>\n",
       "      <td>480</td>\n",
       "    </tr>\n",
       "    <tr>\n",
       "      <th>2</th>\n",
       "      <td>0</td>\n",
       "      <td>0</td>\n",
       "      <td>0</td>\n",
       "      <td>1</td>\n",
       "      <td>0</td>\n",
       "      <td>0</td>\n",
       "      <td>0</td>\n",
       "      <td>549</td>\n",
       "    </tr>\n",
       "    <tr>\n",
       "      <th>3</th>\n",
       "      <td>0</td>\n",
       "      <td>0</td>\n",
       "      <td>0</td>\n",
       "      <td>0</td>\n",
       "      <td>1</td>\n",
       "      <td>0</td>\n",
       "      <td>0</td>\n",
       "      <td>505</td>\n",
       "    </tr>\n",
       "    <tr>\n",
       "      <th>4</th>\n",
       "      <td>0</td>\n",
       "      <td>0</td>\n",
       "      <td>0</td>\n",
       "      <td>0</td>\n",
       "      <td>0</td>\n",
       "      <td>1</td>\n",
       "      <td>0</td>\n",
       "      <td>389</td>\n",
       "    </tr>\n",
       "    <tr>\n",
       "      <th>...</th>\n",
       "      <td>...</td>\n",
       "      <td>...</td>\n",
       "      <td>...</td>\n",
       "      <td>...</td>\n",
       "      <td>...</td>\n",
       "      <td>...</td>\n",
       "      <td>...</td>\n",
       "      <td>...</td>\n",
       "    </tr>\n",
       "    <tr>\n",
       "      <th>2186</th>\n",
       "      <td>0</td>\n",
       "      <td>0</td>\n",
       "      <td>0</td>\n",
       "      <td>1</td>\n",
       "      <td>0</td>\n",
       "      <td>0</td>\n",
       "      <td>0</td>\n",
       "      <td>582</td>\n",
       "    </tr>\n",
       "    <tr>\n",
       "      <th>2187</th>\n",
       "      <td>0</td>\n",
       "      <td>0</td>\n",
       "      <td>0</td>\n",
       "      <td>0</td>\n",
       "      <td>1</td>\n",
       "      <td>0</td>\n",
       "      <td>0</td>\n",
       "      <td>681</td>\n",
       "    </tr>\n",
       "    <tr>\n",
       "      <th>2188</th>\n",
       "      <td>0</td>\n",
       "      <td>0</td>\n",
       "      <td>0</td>\n",
       "      <td>0</td>\n",
       "      <td>0</td>\n",
       "      <td>1</td>\n",
       "      <td>0</td>\n",
       "      <td>499</td>\n",
       "    </tr>\n",
       "    <tr>\n",
       "      <th>2189</th>\n",
       "      <td>0</td>\n",
       "      <td>0</td>\n",
       "      <td>0</td>\n",
       "      <td>0</td>\n",
       "      <td>0</td>\n",
       "      <td>0</td>\n",
       "      <td>1</td>\n",
       "      <td>404</td>\n",
       "    </tr>\n",
       "    <tr>\n",
       "      <th>2190</th>\n",
       "      <td>1</td>\n",
       "      <td>0</td>\n",
       "      <td>0</td>\n",
       "      <td>0</td>\n",
       "      <td>0</td>\n",
       "      <td>0</td>\n",
       "      <td>0</td>\n",
       "      <td>10</td>\n",
       "    </tr>\n",
       "  </tbody>\n",
       "</table>\n",
       "<p>2191 rows × 8 columns</p>\n",
       "</div>"
      ],
      "text/plain": [
       "      1  2  3  4  5  6  7  collisions\n",
       "0     0  1  0  0  0  0  0         381\n",
       "1     0  0  1  0  0  0  0         480\n",
       "2     0  0  0  1  0  0  0         549\n",
       "3     0  0  0  0  1  0  0         505\n",
       "4     0  0  0  0  0  1  0         389\n",
       "...  .. .. .. .. .. .. ..         ...\n",
       "2186  0  0  0  1  0  0  0         582\n",
       "2187  0  0  0  0  1  0  0         681\n",
       "2188  0  0  0  0  0  1  0         499\n",
       "2189  0  0  0  0  0  0  1         404\n",
       "2190  1  0  0  0  0  0  0          10\n",
       "\n",
       "[2191 rows x 8 columns]"
      ]
     },
     "execution_count": 77,
     "metadata": {},
     "output_type": "execute_result"
    }
   ],
   "source": [
    "days_of_week_df"
   ]
  },
  {
   "cell_type": "code",
   "execution_count": 80,
   "id": "99cfcd24-e9dc-445b-9af2-644e0dd186fa",
   "metadata": {},
   "outputs": [
    {
     "data": {
      "text/html": [
       "<div>\n",
       "<style scoped>\n",
       "    .dataframe tbody tr th:only-of-type {\n",
       "        vertical-align: middle;\n",
       "    }\n",
       "\n",
       "    .dataframe tbody tr th {\n",
       "        vertical-align: top;\n",
       "    }\n",
       "\n",
       "    .dataframe thead th {\n",
       "        text-align: right;\n",
       "    }\n",
       "</style>\n",
       "<table border=\"1\" class=\"dataframe\">\n",
       "  <thead>\n",
       "    <tr style=\"text-align: right;\">\n",
       "      <th></th>\n",
       "      <th>collisions</th>\n",
       "    </tr>\n",
       "  </thead>\n",
       "  <tbody>\n",
       "    <tr>\n",
       "      <th>1</th>\n",
       "      <td>0.004239</td>\n",
       "    </tr>\n",
       "    <tr>\n",
       "      <th>2</th>\n",
       "      <td>0.098392</td>\n",
       "    </tr>\n",
       "    <tr>\n",
       "      <th>3</th>\n",
       "      <td>0.075471</td>\n",
       "    </tr>\n",
       "    <tr>\n",
       "      <th>4</th>\n",
       "      <td>0.134544</td>\n",
       "    </tr>\n",
       "    <tr>\n",
       "      <th>5</th>\n",
       "      <td>0.286025</td>\n",
       "    </tr>\n",
       "    <tr>\n",
       "      <th>6</th>\n",
       "      <td>-0.168215</td>\n",
       "    </tr>\n",
       "    <tr>\n",
       "      <th>7</th>\n",
       "      <td>-0.430455</td>\n",
       "    </tr>\n",
       "    <tr>\n",
       "      <th>collisions</th>\n",
       "      <td>1.000000</td>\n",
       "    </tr>\n",
       "  </tbody>\n",
       "</table>\n",
       "</div>"
      ],
      "text/plain": [
       "            collisions\n",
       "1             0.004239\n",
       "2             0.098392\n",
       "3             0.075471\n",
       "4             0.134544\n",
       "5             0.286025\n",
       "6            -0.168215\n",
       "7            -0.430455\n",
       "collisions    1.000000"
      ]
     },
     "execution_count": 80,
     "metadata": {},
     "output_type": "execute_result"
    }
   ],
   "source": [
    "days_of_week_df.corr().loc[:, ['collisions'] ] "
   ]
  },
  {
   "cell_type": "markdown",
   "id": "7153a750-ce6c-4416-9a98-a387bc517c60",
   "metadata": {},
   "source": [
    "How can I show this is more valuable / improves correlation "
   ]
  },
  {
   "cell_type": "markdown",
   "id": "e327b8a7-d5f6-4c25-9762-051c7a4279e3",
   "metadata": {},
   "source": [
    "There being less corelation between each of these invidiaul features and the total number of collisions, what these do is allow us to learn the mean/ average behaviouro ne ach day and loow this to be an input to our machine learning models or something along those lines I' not quite sure "
   ]
  },
  {
   "cell_type": "markdown",
   "id": "0af3e04a-9ad8-4cdc-afa4-727f61d7f053",
   "metadata": {},
   "source": [
    "## Computing Mutual Information "
   ]
  },
  {
   "cell_type": "markdown",
   "id": "21f2126d-038a-4695-b216-887c03ee0aa4",
   "metadata": {},
   "source": [
    "Although some correlation between our categorical features and the total number of collisions can be inferred through our scatter plots, it would be nice if we had a way to quantify the level of correlation between each of our features and the total number of collisions, just like we were able to do with our continous features by applying pearsons correlation coefficient. One technique we can use is called mutual information which allows us to measure the amount of shared information / independence of two random variables ( 2 discrete distributions ) given that all of our features are discrete distributions . \n",
    "\n",
    "$$ MI(X,Y) = I(X,Y) - I(X)I(Y)  $$\n",
    "\n",
    "Where $I(X,Y)$ is the entropy of the joint distribution, and $I(X), I(Y)$ are the entropies of the individual distributions. \n"
   ]
  },
  {
   "cell_type": "code",
   "execution_count": 126,
   "id": "5f14dd16-aadc-46fe-9f20-bac19ca9863b",
   "metadata": {},
   "outputs": [],
   "source": [
    "from sklearn.metrics import normalized_mutual_info_score as MI "
   ]
  },
  {
   "cell_type": "markdown",
   "id": "7f18eaee-5daf-4867-b8dd-0eb55a532cbf",
   "metadata": {},
   "source": [
    "Given that our distribution of collisions is currently a contnious distribution, but must be discretised in order to calculate the mutual information between it and our continous features within our dataset. "
   ]
  },
  {
   "cell_type": "code",
   "execution_count": 127,
   "id": "2c54d481-955f-4127-95cf-ab8633932243",
   "metadata": {},
   "outputs": [
    {
     "data": {
      "text/plain": [
       "(array([  1,   1,  13, 186, 753, 882, 321,  27,   5,   2]),\n",
       " array([  10. ,  125.1,  240.2,  355.3,  470.4,  585.5,  700.6,  815.7,\n",
       "         930.8, 1045.9, 1161. ]))"
      ]
     },
     "execution_count": 127,
     "metadata": {},
     "output_type": "execute_result"
    }
   ],
   "source": [
    "np.histogram(df.NUM_COLLISIONS) "
   ]
  },
  {
   "cell_type": "code",
   "execution_count": 128,
   "id": "e769f5ed-4ec1-41bc-9b98-1917be9cf67f",
   "metadata": {},
   "outputs": [],
   "source": [
    "collisions = pd.cut(df['NUM_COLLISIONS'], bins = 10, labels = np.arange(10) ).values "
   ]
  },
  {
   "cell_type": "code",
   "execution_count": 129,
   "id": "38adc17f-6a8d-4e70-bc0b-4039c4f74fde",
   "metadata": {},
   "outputs": [
    {
     "data": {
      "text/plain": [
       "0.11397037475864469"
      ]
     },
     "execution_count": 129,
     "metadata": {},
     "output_type": "execute_result"
    }
   ],
   "source": [
    "MI(collisions, df.day.values) "
   ]
  },
  {
   "cell_type": "markdown",
   "id": "757ae982-07d7-47b0-b318-1b7b1a8a3b41",
   "metadata": {},
   "source": [
    "Normalised Mutual Information Score ranges form 0-1, with 0 being no zero mutual information and completely independent and 1 meaning that they are exactly the same distribution. So a score of 0.11 indictates taht there is some level of mutual information/correlation between the day of the week and the total number of collisions but is it not very strong. \n",
    "\n"
   ]
  },
  {
   "cell_type": "markdown",
   "id": "11dfbe1c-7b1d-4910-bac9-e25816444789",
   "metadata": {},
   "source": [
    "# Regression Analysis "
   ]
  },
  {
   "cell_type": "code",
   "execution_count": 111,
   "id": "606730b4-d9cb-4691-ad2a-6012f357e8f5",
   "metadata": {},
   "outputs": [
    {
     "data": {
      "text/html": [
       "<div>\n",
       "<style scoped>\n",
       "    .dataframe tbody tr th:only-of-type {\n",
       "        vertical-align: middle;\n",
       "    }\n",
       "\n",
       "    .dataframe tbody tr th {\n",
       "        vertical-align: top;\n",
       "    }\n",
       "\n",
       "    .dataframe thead th {\n",
       "        text-align: right;\n",
       "    }\n",
       "</style>\n",
       "<table border=\"1\" class=\"dataframe\">\n",
       "  <thead>\n",
       "    <tr style=\"text-align: right;\">\n",
       "      <th></th>\n",
       "      <th>day</th>\n",
       "      <th>year</th>\n",
       "      <th>mo</th>\n",
       "      <th>da</th>\n",
       "      <th>collision_date</th>\n",
       "      <th>temp</th>\n",
       "      <th>dewp</th>\n",
       "      <th>slp</th>\n",
       "      <th>visib</th>\n",
       "      <th>wdsp</th>\n",
       "      <th>mxpsd</th>\n",
       "      <th>gust</th>\n",
       "      <th>max</th>\n",
       "      <th>min</th>\n",
       "      <th>prcp</th>\n",
       "      <th>sndp</th>\n",
       "      <th>fog</th>\n",
       "      <th>NUM_COLLISIONS</th>\n",
       "    </tr>\n",
       "  </thead>\n",
       "  <tbody>\n",
       "    <tr>\n",
       "      <th>0</th>\n",
       "      <td>2</td>\n",
       "      <td>2013</td>\n",
       "      <td>1</td>\n",
       "      <td>1</td>\n",
       "      <td>2013-01-01</td>\n",
       "      <td>37.8</td>\n",
       "      <td>23.6</td>\n",
       "      <td>1011.9</td>\n",
       "      <td>10.0</td>\n",
       "      <td>6.1</td>\n",
       "      <td>8.9</td>\n",
       "      <td>19.0</td>\n",
       "      <td>39.9</td>\n",
       "      <td>33.1</td>\n",
       "      <td>0.00</td>\n",
       "      <td>999.9</td>\n",
       "      <td>0</td>\n",
       "      <td>381</td>\n",
       "    </tr>\n",
       "    <tr>\n",
       "      <th>1</th>\n",
       "      <td>3</td>\n",
       "      <td>2013</td>\n",
       "      <td>1</td>\n",
       "      <td>2</td>\n",
       "      <td>2013-01-02</td>\n",
       "      <td>27.1</td>\n",
       "      <td>10.5</td>\n",
       "      <td>1016.8</td>\n",
       "      <td>10.0</td>\n",
       "      <td>5.3</td>\n",
       "      <td>9.9</td>\n",
       "      <td>19.0</td>\n",
       "      <td>33.1</td>\n",
       "      <td>21.9</td>\n",
       "      <td>0.00</td>\n",
       "      <td>999.9</td>\n",
       "      <td>0</td>\n",
       "      <td>480</td>\n",
       "    </tr>\n",
       "    <tr>\n",
       "      <th>2</th>\n",
       "      <td>4</td>\n",
       "      <td>2013</td>\n",
       "      <td>1</td>\n",
       "      <td>3</td>\n",
       "      <td>2013-01-03</td>\n",
       "      <td>28.4</td>\n",
       "      <td>14.1</td>\n",
       "      <td>1020.6</td>\n",
       "      <td>10.0</td>\n",
       "      <td>3.7</td>\n",
       "      <td>8.0</td>\n",
       "      <td>15.0</td>\n",
       "      <td>32.0</td>\n",
       "      <td>24.1</td>\n",
       "      <td>0.00</td>\n",
       "      <td>999.9</td>\n",
       "      <td>0</td>\n",
       "      <td>549</td>\n",
       "    </tr>\n",
       "    <tr>\n",
       "      <th>3</th>\n",
       "      <td>5</td>\n",
       "      <td>2013</td>\n",
       "      <td>1</td>\n",
       "      <td>4</td>\n",
       "      <td>2013-01-04</td>\n",
       "      <td>33.4</td>\n",
       "      <td>18.6</td>\n",
       "      <td>1017.0</td>\n",
       "      <td>10.0</td>\n",
       "      <td>6.5</td>\n",
       "      <td>13.0</td>\n",
       "      <td>24.1</td>\n",
       "      <td>37.0</td>\n",
       "      <td>30.0</td>\n",
       "      <td>0.00</td>\n",
       "      <td>999.9</td>\n",
       "      <td>0</td>\n",
       "      <td>505</td>\n",
       "    </tr>\n",
       "    <tr>\n",
       "      <th>4</th>\n",
       "      <td>6</td>\n",
       "      <td>2013</td>\n",
       "      <td>1</td>\n",
       "      <td>5</td>\n",
       "      <td>2013-01-05</td>\n",
       "      <td>36.1</td>\n",
       "      <td>18.7</td>\n",
       "      <td>1020.6</td>\n",
       "      <td>10.0</td>\n",
       "      <td>6.6</td>\n",
       "      <td>12.0</td>\n",
       "      <td>21.0</td>\n",
       "      <td>42.1</td>\n",
       "      <td>32.0</td>\n",
       "      <td>0.00</td>\n",
       "      <td>999.9</td>\n",
       "      <td>0</td>\n",
       "      <td>389</td>\n",
       "    </tr>\n",
       "    <tr>\n",
       "      <th>...</th>\n",
       "      <td>...</td>\n",
       "      <td>...</td>\n",
       "      <td>...</td>\n",
       "      <td>...</td>\n",
       "      <td>...</td>\n",
       "      <td>...</td>\n",
       "      <td>...</td>\n",
       "      <td>...</td>\n",
       "      <td>...</td>\n",
       "      <td>...</td>\n",
       "      <td>...</td>\n",
       "      <td>...</td>\n",
       "      <td>...</td>\n",
       "      <td>...</td>\n",
       "      <td>...</td>\n",
       "      <td>...</td>\n",
       "      <td>...</td>\n",
       "      <td>...</td>\n",
       "    </tr>\n",
       "    <tr>\n",
       "      <th>2186</th>\n",
       "      <td>4</td>\n",
       "      <td>2018</td>\n",
       "      <td>12</td>\n",
       "      <td>27</td>\n",
       "      <td>2018-12-27</td>\n",
       "      <td>40.3</td>\n",
       "      <td>26.6</td>\n",
       "      <td>1034.2</td>\n",
       "      <td>10.0</td>\n",
       "      <td>999.9</td>\n",
       "      <td>999.9</td>\n",
       "      <td>999.9</td>\n",
       "      <td>44.1</td>\n",
       "      <td>32.0</td>\n",
       "      <td>0.00</td>\n",
       "      <td>999.9</td>\n",
       "      <td>0</td>\n",
       "      <td>582</td>\n",
       "    </tr>\n",
       "    <tr>\n",
       "      <th>2187</th>\n",
       "      <td>5</td>\n",
       "      <td>2018</td>\n",
       "      <td>12</td>\n",
       "      <td>28</td>\n",
       "      <td>2018-12-28</td>\n",
       "      <td>48.8</td>\n",
       "      <td>44.8</td>\n",
       "      <td>1025.8</td>\n",
       "      <td>5.5</td>\n",
       "      <td>999.9</td>\n",
       "      <td>999.9</td>\n",
       "      <td>999.9</td>\n",
       "      <td>60.8</td>\n",
       "      <td>39.2</td>\n",
       "      <td>0.18</td>\n",
       "      <td>999.9</td>\n",
       "      <td>0</td>\n",
       "      <td>681</td>\n",
       "    </tr>\n",
       "    <tr>\n",
       "      <th>2188</th>\n",
       "      <td>6</td>\n",
       "      <td>2018</td>\n",
       "      <td>12</td>\n",
       "      <td>29</td>\n",
       "      <td>2018-12-29</td>\n",
       "      <td>51.9</td>\n",
       "      <td>41.7</td>\n",
       "      <td>1014.4</td>\n",
       "      <td>9.2</td>\n",
       "      <td>999.9</td>\n",
       "      <td>999.9</td>\n",
       "      <td>999.9</td>\n",
       "      <td>60.1</td>\n",
       "      <td>43.0</td>\n",
       "      <td>0.97</td>\n",
       "      <td>999.9</td>\n",
       "      <td>0</td>\n",
       "      <td>499</td>\n",
       "    </tr>\n",
       "    <tr>\n",
       "      <th>2189</th>\n",
       "      <td>7</td>\n",
       "      <td>2018</td>\n",
       "      <td>12</td>\n",
       "      <td>30</td>\n",
       "      <td>2018-12-30</td>\n",
       "      <td>37.4</td>\n",
       "      <td>25.7</td>\n",
       "      <td>1022.3</td>\n",
       "      <td>9.5</td>\n",
       "      <td>999.9</td>\n",
       "      <td>999.9</td>\n",
       "      <td>999.9</td>\n",
       "      <td>57.0</td>\n",
       "      <td>33.1</td>\n",
       "      <td>0.00</td>\n",
       "      <td>999.9</td>\n",
       "      <td>0</td>\n",
       "      <td>404</td>\n",
       "    </tr>\n",
       "    <tr>\n",
       "      <th>2190</th>\n",
       "      <td>1</td>\n",
       "      <td>2018</td>\n",
       "      <td>12</td>\n",
       "      <td>31</td>\n",
       "      <td>2018-12-31</td>\n",
       "      <td>41.0</td>\n",
       "      <td>33.5</td>\n",
       "      <td>1025.5</td>\n",
       "      <td>8.9</td>\n",
       "      <td>999.9</td>\n",
       "      <td>999.9</td>\n",
       "      <td>999.9</td>\n",
       "      <td>45.0</td>\n",
       "      <td>33.1</td>\n",
       "      <td>0.00</td>\n",
       "      <td>999.9</td>\n",
       "      <td>0</td>\n",
       "      <td>10</td>\n",
       "    </tr>\n",
       "  </tbody>\n",
       "</table>\n",
       "<p>2191 rows × 18 columns</p>\n",
       "</div>"
      ],
      "text/plain": [
       "      day  year  mo  da collision_date  temp  dewp     slp  visib   wdsp  \\\n",
       "0       2  2013   1   1     2013-01-01  37.8  23.6  1011.9   10.0    6.1   \n",
       "1       3  2013   1   2     2013-01-02  27.1  10.5  1016.8   10.0    5.3   \n",
       "2       4  2013   1   3     2013-01-03  28.4  14.1  1020.6   10.0    3.7   \n",
       "3       5  2013   1   4     2013-01-04  33.4  18.6  1017.0   10.0    6.5   \n",
       "4       6  2013   1   5     2013-01-05  36.1  18.7  1020.6   10.0    6.6   \n",
       "...   ...   ...  ..  ..            ...   ...   ...     ...    ...    ...   \n",
       "2186    4  2018  12  27     2018-12-27  40.3  26.6  1034.2   10.0  999.9   \n",
       "2187    5  2018  12  28     2018-12-28  48.8  44.8  1025.8    5.5  999.9   \n",
       "2188    6  2018  12  29     2018-12-29  51.9  41.7  1014.4    9.2  999.9   \n",
       "2189    7  2018  12  30     2018-12-30  37.4  25.7  1022.3    9.5  999.9   \n",
       "2190    1  2018  12  31     2018-12-31  41.0  33.5  1025.5    8.9  999.9   \n",
       "\n",
       "      mxpsd   gust   max   min  prcp   sndp fog  NUM_COLLISIONS  \n",
       "0       8.9   19.0  39.9  33.1  0.00  999.9   0             381  \n",
       "1       9.9   19.0  33.1  21.9  0.00  999.9   0             480  \n",
       "2       8.0   15.0  32.0  24.1  0.00  999.9   0             549  \n",
       "3      13.0   24.1  37.0  30.0  0.00  999.9   0             505  \n",
       "4      12.0   21.0  42.1  32.0  0.00  999.9   0             389  \n",
       "...     ...    ...   ...   ...   ...    ...  ..             ...  \n",
       "2186  999.9  999.9  44.1  32.0  0.00  999.9   0             582  \n",
       "2187  999.9  999.9  60.8  39.2  0.18  999.9   0             681  \n",
       "2188  999.9  999.9  60.1  43.0  0.97  999.9   0             499  \n",
       "2189  999.9  999.9  57.0  33.1  0.00  999.9   0             404  \n",
       "2190  999.9  999.9  45.0  33.1  0.00  999.9   0              10  \n",
       "\n",
       "[2191 rows x 18 columns]"
      ]
     },
     "execution_count": 111,
     "metadata": {},
     "output_type": "execute_result"
    }
   ],
   "source": [
    "df"
   ]
  },
  {
   "cell_type": "markdown",
   "id": "70e77b89-09b5-40db-a736-35152a711538",
   "metadata": {},
   "source": [
    "From this dataset, we will drop data including collision_date given that it would be passed to the model as a one hot encoded feature meaning that we would learn a weight for each date in our dataset, but given that we are interested in predicting the future it means that when predicting teh number of collisions for a future data, we will not have a weight stored. \n",
    "\n",
    "In a similar strain we will also drop the Year column, given that we if we wish to use year feature it will involve retraining the model each day, as so we can continue to update the model weight for our year value as well observed more samples about it. (but generally the year will essentially learn the avegerate behaviour of the previous year and will not necessarily help us to predict for future yeras. ) \n",
    "\n",
    "Also the `da` which represents day of the month will also be removed given that it doesnt simply a paritcular day of the week ect so is likely to be random noise hence it may be removed from the set of features which are using to predict the total number of collisions with "
   ]
  },
  {
   "cell_type": "code",
   "execution_count": 123,
   "id": "39360bac-2254-4af2-ae79-0f62508ba3df",
   "metadata": {},
   "outputs": [],
   "source": [
    "X_df = df.drop( [ 'year', 'da',  'collision_date', 'NUM_COLLISIONS'] ,  axis = 'columns' ) \n",
    "X_df.day = X_df.day.astype('str') "
   ]
  },
  {
   "cell_type": "code",
   "execution_count": 124,
   "id": "a205a2db-be4a-466c-8793-8fe0950c4556",
   "metadata": {},
   "outputs": [],
   "source": [
    "X = pd.get_dummies(X_df)\n",
    "y = df['NUM_COLLISIONS']"
   ]
  },
  {
   "cell_type": "code",
   "execution_count": 125,
   "id": "231b6379-3484-482f-800e-87e71b37fccb",
   "metadata": {},
   "outputs": [
    {
     "data": {
      "text/html": [
       "<div>\n",
       "<style scoped>\n",
       "    .dataframe tbody tr th:only-of-type {\n",
       "        vertical-align: middle;\n",
       "    }\n",
       "\n",
       "    .dataframe tbody tr th {\n",
       "        vertical-align: top;\n",
       "    }\n",
       "\n",
       "    .dataframe thead th {\n",
       "        text-align: right;\n",
       "    }\n",
       "</style>\n",
       "<table border=\"1\" class=\"dataframe\">\n",
       "  <thead>\n",
       "    <tr style=\"text-align: right;\">\n",
       "      <th></th>\n",
       "      <th>temp</th>\n",
       "      <th>dewp</th>\n",
       "      <th>slp</th>\n",
       "      <th>visib</th>\n",
       "      <th>wdsp</th>\n",
       "      <th>mxpsd</th>\n",
       "      <th>gust</th>\n",
       "      <th>max</th>\n",
       "      <th>min</th>\n",
       "      <th>prcp</th>\n",
       "      <th>...</th>\n",
       "      <th>mo_2</th>\n",
       "      <th>mo_3</th>\n",
       "      <th>mo_4</th>\n",
       "      <th>mo_5</th>\n",
       "      <th>mo_6</th>\n",
       "      <th>mo_7</th>\n",
       "      <th>mo_8</th>\n",
       "      <th>mo_9</th>\n",
       "      <th>fog_0</th>\n",
       "      <th>fog_1</th>\n",
       "    </tr>\n",
       "  </thead>\n",
       "  <tbody>\n",
       "    <tr>\n",
       "      <th>0</th>\n",
       "      <td>37.8</td>\n",
       "      <td>23.6</td>\n",
       "      <td>1011.9</td>\n",
       "      <td>10.0</td>\n",
       "      <td>6.1</td>\n",
       "      <td>8.9</td>\n",
       "      <td>19.0</td>\n",
       "      <td>39.9</td>\n",
       "      <td>33.1</td>\n",
       "      <td>0.00</td>\n",
       "      <td>...</td>\n",
       "      <td>False</td>\n",
       "      <td>False</td>\n",
       "      <td>False</td>\n",
       "      <td>False</td>\n",
       "      <td>False</td>\n",
       "      <td>False</td>\n",
       "      <td>False</td>\n",
       "      <td>False</td>\n",
       "      <td>True</td>\n",
       "      <td>False</td>\n",
       "    </tr>\n",
       "    <tr>\n",
       "      <th>1</th>\n",
       "      <td>27.1</td>\n",
       "      <td>10.5</td>\n",
       "      <td>1016.8</td>\n",
       "      <td>10.0</td>\n",
       "      <td>5.3</td>\n",
       "      <td>9.9</td>\n",
       "      <td>19.0</td>\n",
       "      <td>33.1</td>\n",
       "      <td>21.9</td>\n",
       "      <td>0.00</td>\n",
       "      <td>...</td>\n",
       "      <td>False</td>\n",
       "      <td>False</td>\n",
       "      <td>False</td>\n",
       "      <td>False</td>\n",
       "      <td>False</td>\n",
       "      <td>False</td>\n",
       "      <td>False</td>\n",
       "      <td>False</td>\n",
       "      <td>True</td>\n",
       "      <td>False</td>\n",
       "    </tr>\n",
       "    <tr>\n",
       "      <th>2</th>\n",
       "      <td>28.4</td>\n",
       "      <td>14.1</td>\n",
       "      <td>1020.6</td>\n",
       "      <td>10.0</td>\n",
       "      <td>3.7</td>\n",
       "      <td>8.0</td>\n",
       "      <td>15.0</td>\n",
       "      <td>32.0</td>\n",
       "      <td>24.1</td>\n",
       "      <td>0.00</td>\n",
       "      <td>...</td>\n",
       "      <td>False</td>\n",
       "      <td>False</td>\n",
       "      <td>False</td>\n",
       "      <td>False</td>\n",
       "      <td>False</td>\n",
       "      <td>False</td>\n",
       "      <td>False</td>\n",
       "      <td>False</td>\n",
       "      <td>True</td>\n",
       "      <td>False</td>\n",
       "    </tr>\n",
       "    <tr>\n",
       "      <th>3</th>\n",
       "      <td>33.4</td>\n",
       "      <td>18.6</td>\n",
       "      <td>1017.0</td>\n",
       "      <td>10.0</td>\n",
       "      <td>6.5</td>\n",
       "      <td>13.0</td>\n",
       "      <td>24.1</td>\n",
       "      <td>37.0</td>\n",
       "      <td>30.0</td>\n",
       "      <td>0.00</td>\n",
       "      <td>...</td>\n",
       "      <td>False</td>\n",
       "      <td>False</td>\n",
       "      <td>False</td>\n",
       "      <td>False</td>\n",
       "      <td>False</td>\n",
       "      <td>False</td>\n",
       "      <td>False</td>\n",
       "      <td>False</td>\n",
       "      <td>True</td>\n",
       "      <td>False</td>\n",
       "    </tr>\n",
       "    <tr>\n",
       "      <th>4</th>\n",
       "      <td>36.1</td>\n",
       "      <td>18.7</td>\n",
       "      <td>1020.6</td>\n",
       "      <td>10.0</td>\n",
       "      <td>6.6</td>\n",
       "      <td>12.0</td>\n",
       "      <td>21.0</td>\n",
       "      <td>42.1</td>\n",
       "      <td>32.0</td>\n",
       "      <td>0.00</td>\n",
       "      <td>...</td>\n",
       "      <td>False</td>\n",
       "      <td>False</td>\n",
       "      <td>False</td>\n",
       "      <td>False</td>\n",
       "      <td>False</td>\n",
       "      <td>False</td>\n",
       "      <td>False</td>\n",
       "      <td>False</td>\n",
       "      <td>True</td>\n",
       "      <td>False</td>\n",
       "    </tr>\n",
       "    <tr>\n",
       "      <th>...</th>\n",
       "      <td>...</td>\n",
       "      <td>...</td>\n",
       "      <td>...</td>\n",
       "      <td>...</td>\n",
       "      <td>...</td>\n",
       "      <td>...</td>\n",
       "      <td>...</td>\n",
       "      <td>...</td>\n",
       "      <td>...</td>\n",
       "      <td>...</td>\n",
       "      <td>...</td>\n",
       "      <td>...</td>\n",
       "      <td>...</td>\n",
       "      <td>...</td>\n",
       "      <td>...</td>\n",
       "      <td>...</td>\n",
       "      <td>...</td>\n",
       "      <td>...</td>\n",
       "      <td>...</td>\n",
       "      <td>...</td>\n",
       "      <td>...</td>\n",
       "    </tr>\n",
       "    <tr>\n",
       "      <th>2186</th>\n",
       "      <td>40.3</td>\n",
       "      <td>26.6</td>\n",
       "      <td>1034.2</td>\n",
       "      <td>10.0</td>\n",
       "      <td>999.9</td>\n",
       "      <td>999.9</td>\n",
       "      <td>999.9</td>\n",
       "      <td>44.1</td>\n",
       "      <td>32.0</td>\n",
       "      <td>0.00</td>\n",
       "      <td>...</td>\n",
       "      <td>False</td>\n",
       "      <td>False</td>\n",
       "      <td>False</td>\n",
       "      <td>False</td>\n",
       "      <td>False</td>\n",
       "      <td>False</td>\n",
       "      <td>False</td>\n",
       "      <td>False</td>\n",
       "      <td>True</td>\n",
       "      <td>False</td>\n",
       "    </tr>\n",
       "    <tr>\n",
       "      <th>2187</th>\n",
       "      <td>48.8</td>\n",
       "      <td>44.8</td>\n",
       "      <td>1025.8</td>\n",
       "      <td>5.5</td>\n",
       "      <td>999.9</td>\n",
       "      <td>999.9</td>\n",
       "      <td>999.9</td>\n",
       "      <td>60.8</td>\n",
       "      <td>39.2</td>\n",
       "      <td>0.18</td>\n",
       "      <td>...</td>\n",
       "      <td>False</td>\n",
       "      <td>False</td>\n",
       "      <td>False</td>\n",
       "      <td>False</td>\n",
       "      <td>False</td>\n",
       "      <td>False</td>\n",
       "      <td>False</td>\n",
       "      <td>False</td>\n",
       "      <td>True</td>\n",
       "      <td>False</td>\n",
       "    </tr>\n",
       "    <tr>\n",
       "      <th>2188</th>\n",
       "      <td>51.9</td>\n",
       "      <td>41.7</td>\n",
       "      <td>1014.4</td>\n",
       "      <td>9.2</td>\n",
       "      <td>999.9</td>\n",
       "      <td>999.9</td>\n",
       "      <td>999.9</td>\n",
       "      <td>60.1</td>\n",
       "      <td>43.0</td>\n",
       "      <td>0.97</td>\n",
       "      <td>...</td>\n",
       "      <td>False</td>\n",
       "      <td>False</td>\n",
       "      <td>False</td>\n",
       "      <td>False</td>\n",
       "      <td>False</td>\n",
       "      <td>False</td>\n",
       "      <td>False</td>\n",
       "      <td>False</td>\n",
       "      <td>True</td>\n",
       "      <td>False</td>\n",
       "    </tr>\n",
       "    <tr>\n",
       "      <th>2189</th>\n",
       "      <td>37.4</td>\n",
       "      <td>25.7</td>\n",
       "      <td>1022.3</td>\n",
       "      <td>9.5</td>\n",
       "      <td>999.9</td>\n",
       "      <td>999.9</td>\n",
       "      <td>999.9</td>\n",
       "      <td>57.0</td>\n",
       "      <td>33.1</td>\n",
       "      <td>0.00</td>\n",
       "      <td>...</td>\n",
       "      <td>False</td>\n",
       "      <td>False</td>\n",
       "      <td>False</td>\n",
       "      <td>False</td>\n",
       "      <td>False</td>\n",
       "      <td>False</td>\n",
       "      <td>False</td>\n",
       "      <td>False</td>\n",
       "      <td>True</td>\n",
       "      <td>False</td>\n",
       "    </tr>\n",
       "    <tr>\n",
       "      <th>2190</th>\n",
       "      <td>41.0</td>\n",
       "      <td>33.5</td>\n",
       "      <td>1025.5</td>\n",
       "      <td>8.9</td>\n",
       "      <td>999.9</td>\n",
       "      <td>999.9</td>\n",
       "      <td>999.9</td>\n",
       "      <td>45.0</td>\n",
       "      <td>33.1</td>\n",
       "      <td>0.00</td>\n",
       "      <td>...</td>\n",
       "      <td>False</td>\n",
       "      <td>False</td>\n",
       "      <td>False</td>\n",
       "      <td>False</td>\n",
       "      <td>False</td>\n",
       "      <td>False</td>\n",
       "      <td>False</td>\n",
       "      <td>False</td>\n",
       "      <td>True</td>\n",
       "      <td>False</td>\n",
       "    </tr>\n",
       "  </tbody>\n",
       "</table>\n",
       "<p>2191 rows × 32 columns</p>\n",
       "</div>"
      ],
      "text/plain": [
       "      temp  dewp     slp  visib   wdsp  mxpsd   gust   max   min  prcp  ...  \\\n",
       "0     37.8  23.6  1011.9   10.0    6.1    8.9   19.0  39.9  33.1  0.00  ...   \n",
       "1     27.1  10.5  1016.8   10.0    5.3    9.9   19.0  33.1  21.9  0.00  ...   \n",
       "2     28.4  14.1  1020.6   10.0    3.7    8.0   15.0  32.0  24.1  0.00  ...   \n",
       "3     33.4  18.6  1017.0   10.0    6.5   13.0   24.1  37.0  30.0  0.00  ...   \n",
       "4     36.1  18.7  1020.6   10.0    6.6   12.0   21.0  42.1  32.0  0.00  ...   \n",
       "...    ...   ...     ...    ...    ...    ...    ...   ...   ...   ...  ...   \n",
       "2186  40.3  26.6  1034.2   10.0  999.9  999.9  999.9  44.1  32.0  0.00  ...   \n",
       "2187  48.8  44.8  1025.8    5.5  999.9  999.9  999.9  60.8  39.2  0.18  ...   \n",
       "2188  51.9  41.7  1014.4    9.2  999.9  999.9  999.9  60.1  43.0  0.97  ...   \n",
       "2189  37.4  25.7  1022.3    9.5  999.9  999.9  999.9  57.0  33.1  0.00  ...   \n",
       "2190  41.0  33.5  1025.5    8.9  999.9  999.9  999.9  45.0  33.1  0.00  ...   \n",
       "\n",
       "       mo_2   mo_3   mo_4   mo_5   mo_6   mo_7   mo_8   mo_9  fog_0  fog_1  \n",
       "0     False  False  False  False  False  False  False  False   True  False  \n",
       "1     False  False  False  False  False  False  False  False   True  False  \n",
       "2     False  False  False  False  False  False  False  False   True  False  \n",
       "3     False  False  False  False  False  False  False  False   True  False  \n",
       "4     False  False  False  False  False  False  False  False   True  False  \n",
       "...     ...    ...    ...    ...    ...    ...    ...    ...    ...    ...  \n",
       "2186  False  False  False  False  False  False  False  False   True  False  \n",
       "2187  False  False  False  False  False  False  False  False   True  False  \n",
       "2188  False  False  False  False  False  False  False  False   True  False  \n",
       "2189  False  False  False  False  False  False  False  False   True  False  \n",
       "2190  False  False  False  False  False  False  False  False   True  False  \n",
       "\n",
       "[2191 rows x 32 columns]"
      ]
     },
     "execution_count": 125,
     "metadata": {},
     "output_type": "execute_result"
    }
   ],
   "source": [
    "X"
   ]
  },
  {
   "cell_type": "markdown",
   "id": "6e6424d8-15be-4db6-b2f7-56ecab849208",
   "metadata": {},
   "source": [
    "### Creating train and testing data "
   ]
  },
  {
   "cell_type": "markdown",
   "id": "37fe3d33-3ec8-4cfb-9f66-ca7beb85893e",
   "metadata": {},
   "source": [
    "Given that we are using a linear regression model instead of models such as neural networks, there is no need to normalise our data before we train"
   ]
  },
  {
   "cell_type": "code",
   "execution_count": 126,
   "id": "000f47dd-155f-4b40-a634-819c42ffc76c",
   "metadata": {},
   "outputs": [],
   "source": [
    "from sklearn.model_selection import train_test_split "
   ]
  },
  {
   "cell_type": "code",
   "execution_count": 127,
   "id": "3bb2b2b4-7971-490f-96d8-379ac3cab838",
   "metadata": {},
   "outputs": [],
   "source": [
    "Xtrain,Xtest, ytrain,ytest = train_test_split(X,y , test_size = 0.2, random_state = 42 ) "
   ]
  },
  {
   "cell_type": "code",
   "execution_count": 128,
   "id": "68bbb965-103e-4aab-a815-4de30e309c14",
   "metadata": {},
   "outputs": [],
   "source": [
    "from sklearn.linear_model import LinearRegression \n",
    "from sklearn.metrics import mean_squared_error as mse \n",
    "from sklearn.metrics import r2_score "
   ]
  },
  {
   "cell_type": "code",
   "execution_count": 129,
   "id": "f80b7f94-b9f0-485b-8899-70e38a61193b",
   "metadata": {},
   "outputs": [],
   "source": [
    "lr = LinearRegression() "
   ]
  },
  {
   "cell_type": "code",
   "execution_count": 130,
   "id": "8f111098-b05c-465c-a40c-5e802638cd16",
   "metadata": {},
   "outputs": [
    {
     "data": {
      "text/html": [
       "<style>#sk-container-id-4 {\n",
       "  /* Definition of color scheme common for light and dark mode */\n",
       "  --sklearn-color-text: black;\n",
       "  --sklearn-color-line: gray;\n",
       "  /* Definition of color scheme for unfitted estimators */\n",
       "  --sklearn-color-unfitted-level-0: #fff5e6;\n",
       "  --sklearn-color-unfitted-level-1: #f6e4d2;\n",
       "  --sklearn-color-unfitted-level-2: #ffe0b3;\n",
       "  --sklearn-color-unfitted-level-3: chocolate;\n",
       "  /* Definition of color scheme for fitted estimators */\n",
       "  --sklearn-color-fitted-level-0: #f0f8ff;\n",
       "  --sklearn-color-fitted-level-1: #d4ebff;\n",
       "  --sklearn-color-fitted-level-2: #b3dbfd;\n",
       "  --sklearn-color-fitted-level-3: cornflowerblue;\n",
       "\n",
       "  /* Specific color for light theme */\n",
       "  --sklearn-color-text-on-default-background: var(--sg-text-color, var(--theme-code-foreground, var(--jp-content-font-color1, black)));\n",
       "  --sklearn-color-background: var(--sg-background-color, var(--theme-background, var(--jp-layout-color0, white)));\n",
       "  --sklearn-color-border-box: var(--sg-text-color, var(--theme-code-foreground, var(--jp-content-font-color1, black)));\n",
       "  --sklearn-color-icon: #696969;\n",
       "\n",
       "  @media (prefers-color-scheme: dark) {\n",
       "    /* Redefinition of color scheme for dark theme */\n",
       "    --sklearn-color-text-on-default-background: var(--sg-text-color, var(--theme-code-foreground, var(--jp-content-font-color1, white)));\n",
       "    --sklearn-color-background: var(--sg-background-color, var(--theme-background, var(--jp-layout-color0, #111)));\n",
       "    --sklearn-color-border-box: var(--sg-text-color, var(--theme-code-foreground, var(--jp-content-font-color1, white)));\n",
       "    --sklearn-color-icon: #878787;\n",
       "  }\n",
       "}\n",
       "\n",
       "#sk-container-id-4 {\n",
       "  color: var(--sklearn-color-text);\n",
       "}\n",
       "\n",
       "#sk-container-id-4 pre {\n",
       "  padding: 0;\n",
       "}\n",
       "\n",
       "#sk-container-id-4 input.sk-hidden--visually {\n",
       "  border: 0;\n",
       "  clip: rect(1px 1px 1px 1px);\n",
       "  clip: rect(1px, 1px, 1px, 1px);\n",
       "  height: 1px;\n",
       "  margin: -1px;\n",
       "  overflow: hidden;\n",
       "  padding: 0;\n",
       "  position: absolute;\n",
       "  width: 1px;\n",
       "}\n",
       "\n",
       "#sk-container-id-4 div.sk-dashed-wrapped {\n",
       "  border: 1px dashed var(--sklearn-color-line);\n",
       "  margin: 0 0.4em 0.5em 0.4em;\n",
       "  box-sizing: border-box;\n",
       "  padding-bottom: 0.4em;\n",
       "  background-color: var(--sklearn-color-background);\n",
       "}\n",
       "\n",
       "#sk-container-id-4 div.sk-container {\n",
       "  /* jupyter's `normalize.less` sets `[hidden] { display: none; }`\n",
       "     but bootstrap.min.css set `[hidden] { display: none !important; }`\n",
       "     so we also need the `!important` here to be able to override the\n",
       "     default hidden behavior on the sphinx rendered scikit-learn.org.\n",
       "     See: https://github.com/scikit-learn/scikit-learn/issues/21755 */\n",
       "  display: inline-block !important;\n",
       "  position: relative;\n",
       "}\n",
       "\n",
       "#sk-container-id-4 div.sk-text-repr-fallback {\n",
       "  display: none;\n",
       "}\n",
       "\n",
       "div.sk-parallel-item,\n",
       "div.sk-serial,\n",
       "div.sk-item {\n",
       "  /* draw centered vertical line to link estimators */\n",
       "  background-image: linear-gradient(var(--sklearn-color-text-on-default-background), var(--sklearn-color-text-on-default-background));\n",
       "  background-size: 2px 100%;\n",
       "  background-repeat: no-repeat;\n",
       "  background-position: center center;\n",
       "}\n",
       "\n",
       "/* Parallel-specific style estimator block */\n",
       "\n",
       "#sk-container-id-4 div.sk-parallel-item::after {\n",
       "  content: \"\";\n",
       "  width: 100%;\n",
       "  border-bottom: 2px solid var(--sklearn-color-text-on-default-background);\n",
       "  flex-grow: 1;\n",
       "}\n",
       "\n",
       "#sk-container-id-4 div.sk-parallel {\n",
       "  display: flex;\n",
       "  align-items: stretch;\n",
       "  justify-content: center;\n",
       "  background-color: var(--sklearn-color-background);\n",
       "  position: relative;\n",
       "}\n",
       "\n",
       "#sk-container-id-4 div.sk-parallel-item {\n",
       "  display: flex;\n",
       "  flex-direction: column;\n",
       "}\n",
       "\n",
       "#sk-container-id-4 div.sk-parallel-item:first-child::after {\n",
       "  align-self: flex-end;\n",
       "  width: 50%;\n",
       "}\n",
       "\n",
       "#sk-container-id-4 div.sk-parallel-item:last-child::after {\n",
       "  align-self: flex-start;\n",
       "  width: 50%;\n",
       "}\n",
       "\n",
       "#sk-container-id-4 div.sk-parallel-item:only-child::after {\n",
       "  width: 0;\n",
       "}\n",
       "\n",
       "/* Serial-specific style estimator block */\n",
       "\n",
       "#sk-container-id-4 div.sk-serial {\n",
       "  display: flex;\n",
       "  flex-direction: column;\n",
       "  align-items: center;\n",
       "  background-color: var(--sklearn-color-background);\n",
       "  padding-right: 1em;\n",
       "  padding-left: 1em;\n",
       "}\n",
       "\n",
       "\n",
       "/* Toggleable style: style used for estimator/Pipeline/ColumnTransformer box that is\n",
       "clickable and can be expanded/collapsed.\n",
       "- Pipeline and ColumnTransformer use this feature and define the default style\n",
       "- Estimators will overwrite some part of the style using the `sk-estimator` class\n",
       "*/\n",
       "\n",
       "/* Pipeline and ColumnTransformer style (default) */\n",
       "\n",
       "#sk-container-id-4 div.sk-toggleable {\n",
       "  /* Default theme specific background. It is overwritten whether we have a\n",
       "  specific estimator or a Pipeline/ColumnTransformer */\n",
       "  background-color: var(--sklearn-color-background);\n",
       "}\n",
       "\n",
       "/* Toggleable label */\n",
       "#sk-container-id-4 label.sk-toggleable__label {\n",
       "  cursor: pointer;\n",
       "  display: block;\n",
       "  width: 100%;\n",
       "  margin-bottom: 0;\n",
       "  padding: 0.5em;\n",
       "  box-sizing: border-box;\n",
       "  text-align: center;\n",
       "}\n",
       "\n",
       "#sk-container-id-4 label.sk-toggleable__label-arrow:before {\n",
       "  /* Arrow on the left of the label */\n",
       "  content: \"▸\";\n",
       "  float: left;\n",
       "  margin-right: 0.25em;\n",
       "  color: var(--sklearn-color-icon);\n",
       "}\n",
       "\n",
       "#sk-container-id-4 label.sk-toggleable__label-arrow:hover:before {\n",
       "  color: var(--sklearn-color-text);\n",
       "}\n",
       "\n",
       "/* Toggleable content - dropdown */\n",
       "\n",
       "#sk-container-id-4 div.sk-toggleable__content {\n",
       "  max-height: 0;\n",
       "  max-width: 0;\n",
       "  overflow: hidden;\n",
       "  text-align: left;\n",
       "  /* unfitted */\n",
       "  background-color: var(--sklearn-color-unfitted-level-0);\n",
       "}\n",
       "\n",
       "#sk-container-id-4 div.sk-toggleable__content.fitted {\n",
       "  /* fitted */\n",
       "  background-color: var(--sklearn-color-fitted-level-0);\n",
       "}\n",
       "\n",
       "#sk-container-id-4 div.sk-toggleable__content pre {\n",
       "  margin: 0.2em;\n",
       "  border-radius: 0.25em;\n",
       "  color: var(--sklearn-color-text);\n",
       "  /* unfitted */\n",
       "  background-color: var(--sklearn-color-unfitted-level-0);\n",
       "}\n",
       "\n",
       "#sk-container-id-4 div.sk-toggleable__content.fitted pre {\n",
       "  /* unfitted */\n",
       "  background-color: var(--sklearn-color-fitted-level-0);\n",
       "}\n",
       "\n",
       "#sk-container-id-4 input.sk-toggleable__control:checked~div.sk-toggleable__content {\n",
       "  /* Expand drop-down */\n",
       "  max-height: 200px;\n",
       "  max-width: 100%;\n",
       "  overflow: auto;\n",
       "}\n",
       "\n",
       "#sk-container-id-4 input.sk-toggleable__control:checked~label.sk-toggleable__label-arrow:before {\n",
       "  content: \"▾\";\n",
       "}\n",
       "\n",
       "/* Pipeline/ColumnTransformer-specific style */\n",
       "\n",
       "#sk-container-id-4 div.sk-label input.sk-toggleable__control:checked~label.sk-toggleable__label {\n",
       "  color: var(--sklearn-color-text);\n",
       "  background-color: var(--sklearn-color-unfitted-level-2);\n",
       "}\n",
       "\n",
       "#sk-container-id-4 div.sk-label.fitted input.sk-toggleable__control:checked~label.sk-toggleable__label {\n",
       "  background-color: var(--sklearn-color-fitted-level-2);\n",
       "}\n",
       "\n",
       "/* Estimator-specific style */\n",
       "\n",
       "/* Colorize estimator box */\n",
       "#sk-container-id-4 div.sk-estimator input.sk-toggleable__control:checked~label.sk-toggleable__label {\n",
       "  /* unfitted */\n",
       "  background-color: var(--sklearn-color-unfitted-level-2);\n",
       "}\n",
       "\n",
       "#sk-container-id-4 div.sk-estimator.fitted input.sk-toggleable__control:checked~label.sk-toggleable__label {\n",
       "  /* fitted */\n",
       "  background-color: var(--sklearn-color-fitted-level-2);\n",
       "}\n",
       "\n",
       "#sk-container-id-4 div.sk-label label.sk-toggleable__label,\n",
       "#sk-container-id-4 div.sk-label label {\n",
       "  /* The background is the default theme color */\n",
       "  color: var(--sklearn-color-text-on-default-background);\n",
       "}\n",
       "\n",
       "/* On hover, darken the color of the background */\n",
       "#sk-container-id-4 div.sk-label:hover label.sk-toggleable__label {\n",
       "  color: var(--sklearn-color-text);\n",
       "  background-color: var(--sklearn-color-unfitted-level-2);\n",
       "}\n",
       "\n",
       "/* Label box, darken color on hover, fitted */\n",
       "#sk-container-id-4 div.sk-label.fitted:hover label.sk-toggleable__label.fitted {\n",
       "  color: var(--sklearn-color-text);\n",
       "  background-color: var(--sklearn-color-fitted-level-2);\n",
       "}\n",
       "\n",
       "/* Estimator label */\n",
       "\n",
       "#sk-container-id-4 div.sk-label label {\n",
       "  font-family: monospace;\n",
       "  font-weight: bold;\n",
       "  display: inline-block;\n",
       "  line-height: 1.2em;\n",
       "}\n",
       "\n",
       "#sk-container-id-4 div.sk-label-container {\n",
       "  text-align: center;\n",
       "}\n",
       "\n",
       "/* Estimator-specific */\n",
       "#sk-container-id-4 div.sk-estimator {\n",
       "  font-family: monospace;\n",
       "  border: 1px dotted var(--sklearn-color-border-box);\n",
       "  border-radius: 0.25em;\n",
       "  box-sizing: border-box;\n",
       "  margin-bottom: 0.5em;\n",
       "  /* unfitted */\n",
       "  background-color: var(--sklearn-color-unfitted-level-0);\n",
       "}\n",
       "\n",
       "#sk-container-id-4 div.sk-estimator.fitted {\n",
       "  /* fitted */\n",
       "  background-color: var(--sklearn-color-fitted-level-0);\n",
       "}\n",
       "\n",
       "/* on hover */\n",
       "#sk-container-id-4 div.sk-estimator:hover {\n",
       "  /* unfitted */\n",
       "  background-color: var(--sklearn-color-unfitted-level-2);\n",
       "}\n",
       "\n",
       "#sk-container-id-4 div.sk-estimator.fitted:hover {\n",
       "  /* fitted */\n",
       "  background-color: var(--sklearn-color-fitted-level-2);\n",
       "}\n",
       "\n",
       "/* Specification for estimator info (e.g. \"i\" and \"?\") */\n",
       "\n",
       "/* Common style for \"i\" and \"?\" */\n",
       "\n",
       ".sk-estimator-doc-link,\n",
       "a:link.sk-estimator-doc-link,\n",
       "a:visited.sk-estimator-doc-link {\n",
       "  float: right;\n",
       "  font-size: smaller;\n",
       "  line-height: 1em;\n",
       "  font-family: monospace;\n",
       "  background-color: var(--sklearn-color-background);\n",
       "  border-radius: 1em;\n",
       "  height: 1em;\n",
       "  width: 1em;\n",
       "  text-decoration: none !important;\n",
       "  margin-left: 1ex;\n",
       "  /* unfitted */\n",
       "  border: var(--sklearn-color-unfitted-level-1) 1pt solid;\n",
       "  color: var(--sklearn-color-unfitted-level-1);\n",
       "}\n",
       "\n",
       ".sk-estimator-doc-link.fitted,\n",
       "a:link.sk-estimator-doc-link.fitted,\n",
       "a:visited.sk-estimator-doc-link.fitted {\n",
       "  /* fitted */\n",
       "  border: var(--sklearn-color-fitted-level-1) 1pt solid;\n",
       "  color: var(--sklearn-color-fitted-level-1);\n",
       "}\n",
       "\n",
       "/* On hover */\n",
       "div.sk-estimator:hover .sk-estimator-doc-link:hover,\n",
       ".sk-estimator-doc-link:hover,\n",
       "div.sk-label-container:hover .sk-estimator-doc-link:hover,\n",
       ".sk-estimator-doc-link:hover {\n",
       "  /* unfitted */\n",
       "  background-color: var(--sklearn-color-unfitted-level-3);\n",
       "  color: var(--sklearn-color-background);\n",
       "  text-decoration: none;\n",
       "}\n",
       "\n",
       "div.sk-estimator.fitted:hover .sk-estimator-doc-link.fitted:hover,\n",
       ".sk-estimator-doc-link.fitted:hover,\n",
       "div.sk-label-container:hover .sk-estimator-doc-link.fitted:hover,\n",
       ".sk-estimator-doc-link.fitted:hover {\n",
       "  /* fitted */\n",
       "  background-color: var(--sklearn-color-fitted-level-3);\n",
       "  color: var(--sklearn-color-background);\n",
       "  text-decoration: none;\n",
       "}\n",
       "\n",
       "/* Span, style for the box shown on hovering the info icon */\n",
       ".sk-estimator-doc-link span {\n",
       "  display: none;\n",
       "  z-index: 9999;\n",
       "  position: relative;\n",
       "  font-weight: normal;\n",
       "  right: .2ex;\n",
       "  padding: .5ex;\n",
       "  margin: .5ex;\n",
       "  width: min-content;\n",
       "  min-width: 20ex;\n",
       "  max-width: 50ex;\n",
       "  color: var(--sklearn-color-text);\n",
       "  box-shadow: 2pt 2pt 4pt #999;\n",
       "  /* unfitted */\n",
       "  background: var(--sklearn-color-unfitted-level-0);\n",
       "  border: .5pt solid var(--sklearn-color-unfitted-level-3);\n",
       "}\n",
       "\n",
       ".sk-estimator-doc-link.fitted span {\n",
       "  /* fitted */\n",
       "  background: var(--sklearn-color-fitted-level-0);\n",
       "  border: var(--sklearn-color-fitted-level-3);\n",
       "}\n",
       "\n",
       ".sk-estimator-doc-link:hover span {\n",
       "  display: block;\n",
       "}\n",
       "\n",
       "/* \"?\"-specific style due to the `<a>` HTML tag */\n",
       "\n",
       "#sk-container-id-4 a.estimator_doc_link {\n",
       "  float: right;\n",
       "  font-size: 1rem;\n",
       "  line-height: 1em;\n",
       "  font-family: monospace;\n",
       "  background-color: var(--sklearn-color-background);\n",
       "  border-radius: 1rem;\n",
       "  height: 1rem;\n",
       "  width: 1rem;\n",
       "  text-decoration: none;\n",
       "  /* unfitted */\n",
       "  color: var(--sklearn-color-unfitted-level-1);\n",
       "  border: var(--sklearn-color-unfitted-level-1) 1pt solid;\n",
       "}\n",
       "\n",
       "#sk-container-id-4 a.estimator_doc_link.fitted {\n",
       "  /* fitted */\n",
       "  border: var(--sklearn-color-fitted-level-1) 1pt solid;\n",
       "  color: var(--sklearn-color-fitted-level-1);\n",
       "}\n",
       "\n",
       "/* On hover */\n",
       "#sk-container-id-4 a.estimator_doc_link:hover {\n",
       "  /* unfitted */\n",
       "  background-color: var(--sklearn-color-unfitted-level-3);\n",
       "  color: var(--sklearn-color-background);\n",
       "  text-decoration: none;\n",
       "}\n",
       "\n",
       "#sk-container-id-4 a.estimator_doc_link.fitted:hover {\n",
       "  /* fitted */\n",
       "  background-color: var(--sklearn-color-fitted-level-3);\n",
       "}\n",
       "</style><div id=\"sk-container-id-4\" class=\"sk-top-container\"><div class=\"sk-text-repr-fallback\"><pre>LinearRegression()</pre><b>In a Jupyter environment, please rerun this cell to show the HTML representation or trust the notebook. <br />On GitHub, the HTML representation is unable to render, please try loading this page with nbviewer.org.</b></div><div class=\"sk-container\" hidden><div class=\"sk-item\"><div class=\"sk-estimator fitted sk-toggleable\"><input class=\"sk-toggleable__control sk-hidden--visually\" id=\"sk-estimator-id-4\" type=\"checkbox\" checked><label for=\"sk-estimator-id-4\" class=\"sk-toggleable__label fitted sk-toggleable__label-arrow fitted\">&nbsp;&nbsp;LinearRegression<a class=\"sk-estimator-doc-link fitted\" rel=\"noreferrer\" target=\"_blank\" href=\"https://scikit-learn.org/1.5/modules/generated/sklearn.linear_model.LinearRegression.html\">?<span>Documentation for LinearRegression</span></a><span class=\"sk-estimator-doc-link fitted\">i<span>Fitted</span></span></label><div class=\"sk-toggleable__content fitted\"><pre>LinearRegression()</pre></div> </div></div></div></div>"
      ],
      "text/plain": [
       "LinearRegression()"
      ]
     },
     "execution_count": 130,
     "metadata": {},
     "output_type": "execute_result"
    }
   ],
   "source": [
    "lr.fit(Xtrain, ytrain) "
   ]
  },
  {
   "cell_type": "code",
   "execution_count": 131,
   "id": "3e05173f-58e9-40fb-9fb4-cf45820b9d59",
   "metadata": {},
   "outputs": [
    {
     "data": {
      "text/plain": [
       "np.float64(5948.267617700371)"
      ]
     },
     "execution_count": 131,
     "metadata": {},
     "output_type": "execute_result"
    }
   ],
   "source": [
    "mse(ytest, lr.predict(Xtest) ) "
   ]
  },
  {
   "cell_type": "code",
   "execution_count": 132,
   "id": "a429de80-4c6d-4d45-b998-24dcd18ed82d",
   "metadata": {},
   "outputs": [
    {
     "data": {
      "text/plain": [
       "0.35466099112940164"
      ]
     },
     "execution_count": 132,
     "metadata": {},
     "output_type": "execute_result"
    }
   ],
   "source": [
    "r2_score(ytest, lr.predict(Xtest)) "
   ]
  },
  {
   "cell_type": "markdown",
   "id": "5d3aec7d-c4a8-4c66-aedd-57dc2bcc2acb",
   "metadata": {},
   "source": [
    "This means that our set of all features is able to capture ~35% of the total variance which exists in the distribution of the number of collisions. Also means that our predictor is ~35% better than simply predicting the average number of collisions for all samples, hence this shows that that there are real correlations between our features and our target variable which our linear rgression model is able to capture. "
   ]
  },
  {
   "cell_type": "markdown",
   "id": "6a64778a-2a45-459a-979c-f1aa00613d09",
   "metadata": {},
   "source": [
    "Given that we are using a linear regression model we are able to interprent the weights associated to each feature and features with weights near zero can be removed from our model as it doesnt seem to learn any meaningful correlation between said feature and our target variable. "
   ]
  },
  {
   "cell_type": "code",
   "execution_count": 95,
   "id": "b2b0c1ba-e0f8-46ae-ac04-f7db3e035d5f",
   "metadata": {},
   "outputs": [],
   "source": [
    "feature_weights = dict(zip(X.columns, lr.coef_ ))"
   ]
  },
  {
   "cell_type": "code",
   "execution_count": 96,
   "id": "2d2bafe1-0705-44ba-93b2-0db3179934e2",
   "metadata": {},
   "outputs": [
    {
     "data": {
      "text/plain": [
       "{'day': np.float64(-14.303436309116996),\n",
       " 'temp': np.float64(1.6567201526134414),\n",
       " 'dewp': np.float64(-0.04241239994681942),\n",
       " 'slp': np.float64(0.001168978543204302),\n",
       " 'visib': np.float64(0.002950416460087979),\n",
       " 'wdsp': np.float64(1.3310671494530488),\n",
       " 'mxpsd': np.float64(-1.2915444881385225),\n",
       " 'gust': np.float64(-0.005268196211876852),\n",
       " 'max': np.float64(1.2626010540752046),\n",
       " 'min': np.float64(-1.8967609879298106),\n",
       " 'prcp': np.float64(13.041902840108614),\n",
       " 'sndp': np.float64(-0.023801213484030415),\n",
       " 'mo_1': np.float64(-38.93054908990749),\n",
       " 'mo_10': np.float64(20.23008402710405),\n",
       " 'mo_11': np.float64(26.473534627108457),\n",
       " 'mo_12': np.float64(10.434857283676344),\n",
       " 'mo_2': np.float64(-33.770083600204195),\n",
       " 'mo_3': np.float64(-7.031022317282716),\n",
       " 'mo_4': np.float64(-23.603470598191922),\n",
       " 'mo_5': np.float64(20.35104578652207),\n",
       " 'mo_6': np.float64(44.3701550000948),\n",
       " 'mo_7': np.float64(-13.535275297323166),\n",
       " 'mo_8': np.float64(-16.089486763659817),\n",
       " 'mo_9': np.float64(11.100210942063622),\n",
       " 'fog_0': np.float64(-13.270707509219719),\n",
       " 'fog_1': np.float64(13.27070750921969)}"
      ]
     },
     "execution_count": 96,
     "metadata": {},
     "output_type": "execute_result"
    }
   ],
   "source": [
    "feature_weights "
   ]
  },
  {
   "cell_type": "markdown",
   "id": "5e6ddc30-8081-4ac0-86d7-dc8d4c6c9966",
   "metadata": {},
   "source": [
    "Meaningful comments around the feature weights, draw the link between feature weights as well are the correlation with the number of collisions. \n",
    "\n",
    "pick a few examples for correlation . \n",
    "\n",
    "\n",
    "and also explain the rationale between a few \n",
    "\n",
    "e.g. temperature and collisions seems to make sense as if its warmer they may be more pedistrians about etc. "
   ]
  },
  {
   "cell_type": "markdown",
   "id": "93c6d110-13a6-4d0c-8fe6-68797f784957",
   "metadata": {},
   "source": [
    "## Comments "
   ]
  },
  {
   "cell_type": "markdown",
   "id": "aca88b7e-fdad-4bb7-941c-49b7768823cf",
   "metadata": {},
   "source": [
    "Currently the model achieved a relatively low r2 score of ~0.3 which is other words means that our model is only doing 30% better than predicting the mean number of collisions. Hence our model is able to learn the relationships and correlations between our variales and number of collisions. \n",
    "\n",
    "However 70% of the variance cannot be explained by the data, which means either our linear model is complex enough and perhaps there exists non linear relationships between our features and the total number of collisions. Ot there are other features which impact the total number of collisions which are not included in the data (e.g. special holdiays, reckless driving, tiem of day , ) \n",
    "\n",
    "Also, we must consider the our R2 score in the context of the prediction problem we are aiming to solve, which is predicting the number of collisions . Collisions are a result of complex road systems ( which invovle weather, road design ( e.g. poorly signed areas / lack of stop signs ) , particular vechiles, total number of drivers  and largely random chance. Hence, a 0.3 score is fairly respectable due to the complexitiy of the problem "
   ]
  },
  {
   "cell_type": "markdown",
   "id": "1de576a7-2b72-422f-b448-4e4a2ef80212",
   "metadata": {},
   "source": [
    "But refering back to the use of the model which is for an insurance system to price insurance on a daily level depending on the predicting number of total collisions, I would say that the model is not accurate enough for its output to be used solely to price insurace, \n",
    "\n",
    "however, our linear model seems to be making predictions based onw ell observed predictions so its output used alongside extra information around which areas they will be driving in, the age/sex of driver etc to help price insurance. "
   ]
  },
  {
   "cell_type": "markdown",
   "id": "debb8518-957d-4dca-9ad5-4ad79647e1e6",
   "metadata": {},
   "source": [
    "### Model Improvements "
   ]
  },
  {
   "cell_type": "markdown",
   "id": "c95794d1-93cb-4bb6-bdb2-d9f8ee0db21c",
   "metadata": {},
   "source": [
    "when comparing the accuracy achived during training and testing, we can see that our train accuacy is higher than our test accuracy hence there is a chance that our model has overfit to the training data. So in order to fix this we can implemeented L2 regularisation in the form of ridge regression "
   ]
  },
  {
   "cell_type": "code",
   "execution_count": null,
   "id": "daa143f8-ce57-46f3-93c4-661496b1e70b",
   "metadata": {},
   "outputs": [],
   "source": [
    "r2_score("
   ]
  },
  {
   "cell_type": "markdown",
   "id": "3d52499f-2c59-4b18-a6e8-91888331305f",
   "metadata": {},
   "source": [
    "## Performance Improvements through feature engineering "
   ]
  },
  {
   "cell_type": "markdown",
   "id": "8ad562af-a969-48ed-b90c-b7255cd3b0b3",
   "metadata": {},
   "source": [
    "- Obtain line of best fit, so should mean a linear regression, possibly a svm ( must be lienar as it states a line ofb )\n",
    "\n",
    "- Feature Engineering / feature selecttion\n",
    "\n",
    "- regularisation, to avoid the model overfitting to our trainign data. "
   ]
  },
  {
   "cell_type": "code",
   "execution_count": 184,
   "id": "0b1015ad-1e57-4e63-b24e-91183daba0d7",
   "metadata": {},
   "outputs": [],
   "source": [
    "from sklearn.linear_model import Ridge \n",
    "lr_ridge = Ridge(alpha = 1 ) "
   ]
  },
  {
   "cell_type": "code",
   "execution_count": 185,
   "id": "df6bc9ab-e237-4ca3-9012-8634acffda29",
   "metadata": {},
   "outputs": [
    {
     "data": {
      "text/html": [
       "<style>#sk-container-id-16 {\n",
       "  /* Definition of color scheme common for light and dark mode */\n",
       "  --sklearn-color-text: black;\n",
       "  --sklearn-color-line: gray;\n",
       "  /* Definition of color scheme for unfitted estimators */\n",
       "  --sklearn-color-unfitted-level-0: #fff5e6;\n",
       "  --sklearn-color-unfitted-level-1: #f6e4d2;\n",
       "  --sklearn-color-unfitted-level-2: #ffe0b3;\n",
       "  --sklearn-color-unfitted-level-3: chocolate;\n",
       "  /* Definition of color scheme for fitted estimators */\n",
       "  --sklearn-color-fitted-level-0: #f0f8ff;\n",
       "  --sklearn-color-fitted-level-1: #d4ebff;\n",
       "  --sklearn-color-fitted-level-2: #b3dbfd;\n",
       "  --sklearn-color-fitted-level-3: cornflowerblue;\n",
       "\n",
       "  /* Specific color for light theme */\n",
       "  --sklearn-color-text-on-default-background: var(--sg-text-color, var(--theme-code-foreground, var(--jp-content-font-color1, black)));\n",
       "  --sklearn-color-background: var(--sg-background-color, var(--theme-background, var(--jp-layout-color0, white)));\n",
       "  --sklearn-color-border-box: var(--sg-text-color, var(--theme-code-foreground, var(--jp-content-font-color1, black)));\n",
       "  --sklearn-color-icon: #696969;\n",
       "\n",
       "  @media (prefers-color-scheme: dark) {\n",
       "    /* Redefinition of color scheme for dark theme */\n",
       "    --sklearn-color-text-on-default-background: var(--sg-text-color, var(--theme-code-foreground, var(--jp-content-font-color1, white)));\n",
       "    --sklearn-color-background: var(--sg-background-color, var(--theme-background, var(--jp-layout-color0, #111)));\n",
       "    --sklearn-color-border-box: var(--sg-text-color, var(--theme-code-foreground, var(--jp-content-font-color1, white)));\n",
       "    --sklearn-color-icon: #878787;\n",
       "  }\n",
       "}\n",
       "\n",
       "#sk-container-id-16 {\n",
       "  color: var(--sklearn-color-text);\n",
       "}\n",
       "\n",
       "#sk-container-id-16 pre {\n",
       "  padding: 0;\n",
       "}\n",
       "\n",
       "#sk-container-id-16 input.sk-hidden--visually {\n",
       "  border: 0;\n",
       "  clip: rect(1px 1px 1px 1px);\n",
       "  clip: rect(1px, 1px, 1px, 1px);\n",
       "  height: 1px;\n",
       "  margin: -1px;\n",
       "  overflow: hidden;\n",
       "  padding: 0;\n",
       "  position: absolute;\n",
       "  width: 1px;\n",
       "}\n",
       "\n",
       "#sk-container-id-16 div.sk-dashed-wrapped {\n",
       "  border: 1px dashed var(--sklearn-color-line);\n",
       "  margin: 0 0.4em 0.5em 0.4em;\n",
       "  box-sizing: border-box;\n",
       "  padding-bottom: 0.4em;\n",
       "  background-color: var(--sklearn-color-background);\n",
       "}\n",
       "\n",
       "#sk-container-id-16 div.sk-container {\n",
       "  /* jupyter's `normalize.less` sets `[hidden] { display: none; }`\n",
       "     but bootstrap.min.css set `[hidden] { display: none !important; }`\n",
       "     so we also need the `!important` here to be able to override the\n",
       "     default hidden behavior on the sphinx rendered scikit-learn.org.\n",
       "     See: https://github.com/scikit-learn/scikit-learn/issues/21755 */\n",
       "  display: inline-block !important;\n",
       "  position: relative;\n",
       "}\n",
       "\n",
       "#sk-container-id-16 div.sk-text-repr-fallback {\n",
       "  display: none;\n",
       "}\n",
       "\n",
       "div.sk-parallel-item,\n",
       "div.sk-serial,\n",
       "div.sk-item {\n",
       "  /* draw centered vertical line to link estimators */\n",
       "  background-image: linear-gradient(var(--sklearn-color-text-on-default-background), var(--sklearn-color-text-on-default-background));\n",
       "  background-size: 2px 100%;\n",
       "  background-repeat: no-repeat;\n",
       "  background-position: center center;\n",
       "}\n",
       "\n",
       "/* Parallel-specific style estimator block */\n",
       "\n",
       "#sk-container-id-16 div.sk-parallel-item::after {\n",
       "  content: \"\";\n",
       "  width: 100%;\n",
       "  border-bottom: 2px solid var(--sklearn-color-text-on-default-background);\n",
       "  flex-grow: 1;\n",
       "}\n",
       "\n",
       "#sk-container-id-16 div.sk-parallel {\n",
       "  display: flex;\n",
       "  align-items: stretch;\n",
       "  justify-content: center;\n",
       "  background-color: var(--sklearn-color-background);\n",
       "  position: relative;\n",
       "}\n",
       "\n",
       "#sk-container-id-16 div.sk-parallel-item {\n",
       "  display: flex;\n",
       "  flex-direction: column;\n",
       "}\n",
       "\n",
       "#sk-container-id-16 div.sk-parallel-item:first-child::after {\n",
       "  align-self: flex-end;\n",
       "  width: 50%;\n",
       "}\n",
       "\n",
       "#sk-container-id-16 div.sk-parallel-item:last-child::after {\n",
       "  align-self: flex-start;\n",
       "  width: 50%;\n",
       "}\n",
       "\n",
       "#sk-container-id-16 div.sk-parallel-item:only-child::after {\n",
       "  width: 0;\n",
       "}\n",
       "\n",
       "/* Serial-specific style estimator block */\n",
       "\n",
       "#sk-container-id-16 div.sk-serial {\n",
       "  display: flex;\n",
       "  flex-direction: column;\n",
       "  align-items: center;\n",
       "  background-color: var(--sklearn-color-background);\n",
       "  padding-right: 1em;\n",
       "  padding-left: 1em;\n",
       "}\n",
       "\n",
       "\n",
       "/* Toggleable style: style used for estimator/Pipeline/ColumnTransformer box that is\n",
       "clickable and can be expanded/collapsed.\n",
       "- Pipeline and ColumnTransformer use this feature and define the default style\n",
       "- Estimators will overwrite some part of the style using the `sk-estimator` class\n",
       "*/\n",
       "\n",
       "/* Pipeline and ColumnTransformer style (default) */\n",
       "\n",
       "#sk-container-id-16 div.sk-toggleable {\n",
       "  /* Default theme specific background. It is overwritten whether we have a\n",
       "  specific estimator or a Pipeline/ColumnTransformer */\n",
       "  background-color: var(--sklearn-color-background);\n",
       "}\n",
       "\n",
       "/* Toggleable label */\n",
       "#sk-container-id-16 label.sk-toggleable__label {\n",
       "  cursor: pointer;\n",
       "  display: block;\n",
       "  width: 100%;\n",
       "  margin-bottom: 0;\n",
       "  padding: 0.5em;\n",
       "  box-sizing: border-box;\n",
       "  text-align: center;\n",
       "}\n",
       "\n",
       "#sk-container-id-16 label.sk-toggleable__label-arrow:before {\n",
       "  /* Arrow on the left of the label */\n",
       "  content: \"▸\";\n",
       "  float: left;\n",
       "  margin-right: 0.25em;\n",
       "  color: var(--sklearn-color-icon);\n",
       "}\n",
       "\n",
       "#sk-container-id-16 label.sk-toggleable__label-arrow:hover:before {\n",
       "  color: var(--sklearn-color-text);\n",
       "}\n",
       "\n",
       "/* Toggleable content - dropdown */\n",
       "\n",
       "#sk-container-id-16 div.sk-toggleable__content {\n",
       "  max-height: 0;\n",
       "  max-width: 0;\n",
       "  overflow: hidden;\n",
       "  text-align: left;\n",
       "  /* unfitted */\n",
       "  background-color: var(--sklearn-color-unfitted-level-0);\n",
       "}\n",
       "\n",
       "#sk-container-id-16 div.sk-toggleable__content.fitted {\n",
       "  /* fitted */\n",
       "  background-color: var(--sklearn-color-fitted-level-0);\n",
       "}\n",
       "\n",
       "#sk-container-id-16 div.sk-toggleable__content pre {\n",
       "  margin: 0.2em;\n",
       "  border-radius: 0.25em;\n",
       "  color: var(--sklearn-color-text);\n",
       "  /* unfitted */\n",
       "  background-color: var(--sklearn-color-unfitted-level-0);\n",
       "}\n",
       "\n",
       "#sk-container-id-16 div.sk-toggleable__content.fitted pre {\n",
       "  /* unfitted */\n",
       "  background-color: var(--sklearn-color-fitted-level-0);\n",
       "}\n",
       "\n",
       "#sk-container-id-16 input.sk-toggleable__control:checked~div.sk-toggleable__content {\n",
       "  /* Expand drop-down */\n",
       "  max-height: 200px;\n",
       "  max-width: 100%;\n",
       "  overflow: auto;\n",
       "}\n",
       "\n",
       "#sk-container-id-16 input.sk-toggleable__control:checked~label.sk-toggleable__label-arrow:before {\n",
       "  content: \"▾\";\n",
       "}\n",
       "\n",
       "/* Pipeline/ColumnTransformer-specific style */\n",
       "\n",
       "#sk-container-id-16 div.sk-label input.sk-toggleable__control:checked~label.sk-toggleable__label {\n",
       "  color: var(--sklearn-color-text);\n",
       "  background-color: var(--sklearn-color-unfitted-level-2);\n",
       "}\n",
       "\n",
       "#sk-container-id-16 div.sk-label.fitted input.sk-toggleable__control:checked~label.sk-toggleable__label {\n",
       "  background-color: var(--sklearn-color-fitted-level-2);\n",
       "}\n",
       "\n",
       "/* Estimator-specific style */\n",
       "\n",
       "/* Colorize estimator box */\n",
       "#sk-container-id-16 div.sk-estimator input.sk-toggleable__control:checked~label.sk-toggleable__label {\n",
       "  /* unfitted */\n",
       "  background-color: var(--sklearn-color-unfitted-level-2);\n",
       "}\n",
       "\n",
       "#sk-container-id-16 div.sk-estimator.fitted input.sk-toggleable__control:checked~label.sk-toggleable__label {\n",
       "  /* fitted */\n",
       "  background-color: var(--sklearn-color-fitted-level-2);\n",
       "}\n",
       "\n",
       "#sk-container-id-16 div.sk-label label.sk-toggleable__label,\n",
       "#sk-container-id-16 div.sk-label label {\n",
       "  /* The background is the default theme color */\n",
       "  color: var(--sklearn-color-text-on-default-background);\n",
       "}\n",
       "\n",
       "/* On hover, darken the color of the background */\n",
       "#sk-container-id-16 div.sk-label:hover label.sk-toggleable__label {\n",
       "  color: var(--sklearn-color-text);\n",
       "  background-color: var(--sklearn-color-unfitted-level-2);\n",
       "}\n",
       "\n",
       "/* Label box, darken color on hover, fitted */\n",
       "#sk-container-id-16 div.sk-label.fitted:hover label.sk-toggleable__label.fitted {\n",
       "  color: var(--sklearn-color-text);\n",
       "  background-color: var(--sklearn-color-fitted-level-2);\n",
       "}\n",
       "\n",
       "/* Estimator label */\n",
       "\n",
       "#sk-container-id-16 div.sk-label label {\n",
       "  font-family: monospace;\n",
       "  font-weight: bold;\n",
       "  display: inline-block;\n",
       "  line-height: 1.2em;\n",
       "}\n",
       "\n",
       "#sk-container-id-16 div.sk-label-container {\n",
       "  text-align: center;\n",
       "}\n",
       "\n",
       "/* Estimator-specific */\n",
       "#sk-container-id-16 div.sk-estimator {\n",
       "  font-family: monospace;\n",
       "  border: 1px dotted var(--sklearn-color-border-box);\n",
       "  border-radius: 0.25em;\n",
       "  box-sizing: border-box;\n",
       "  margin-bottom: 0.5em;\n",
       "  /* unfitted */\n",
       "  background-color: var(--sklearn-color-unfitted-level-0);\n",
       "}\n",
       "\n",
       "#sk-container-id-16 div.sk-estimator.fitted {\n",
       "  /* fitted */\n",
       "  background-color: var(--sklearn-color-fitted-level-0);\n",
       "}\n",
       "\n",
       "/* on hover */\n",
       "#sk-container-id-16 div.sk-estimator:hover {\n",
       "  /* unfitted */\n",
       "  background-color: var(--sklearn-color-unfitted-level-2);\n",
       "}\n",
       "\n",
       "#sk-container-id-16 div.sk-estimator.fitted:hover {\n",
       "  /* fitted */\n",
       "  background-color: var(--sklearn-color-fitted-level-2);\n",
       "}\n",
       "\n",
       "/* Specification for estimator info (e.g. \"i\" and \"?\") */\n",
       "\n",
       "/* Common style for \"i\" and \"?\" */\n",
       "\n",
       ".sk-estimator-doc-link,\n",
       "a:link.sk-estimator-doc-link,\n",
       "a:visited.sk-estimator-doc-link {\n",
       "  float: right;\n",
       "  font-size: smaller;\n",
       "  line-height: 1em;\n",
       "  font-family: monospace;\n",
       "  background-color: var(--sklearn-color-background);\n",
       "  border-radius: 1em;\n",
       "  height: 1em;\n",
       "  width: 1em;\n",
       "  text-decoration: none !important;\n",
       "  margin-left: 1ex;\n",
       "  /* unfitted */\n",
       "  border: var(--sklearn-color-unfitted-level-1) 1pt solid;\n",
       "  color: var(--sklearn-color-unfitted-level-1);\n",
       "}\n",
       "\n",
       ".sk-estimator-doc-link.fitted,\n",
       "a:link.sk-estimator-doc-link.fitted,\n",
       "a:visited.sk-estimator-doc-link.fitted {\n",
       "  /* fitted */\n",
       "  border: var(--sklearn-color-fitted-level-1) 1pt solid;\n",
       "  color: var(--sklearn-color-fitted-level-1);\n",
       "}\n",
       "\n",
       "/* On hover */\n",
       "div.sk-estimator:hover .sk-estimator-doc-link:hover,\n",
       ".sk-estimator-doc-link:hover,\n",
       "div.sk-label-container:hover .sk-estimator-doc-link:hover,\n",
       ".sk-estimator-doc-link:hover {\n",
       "  /* unfitted */\n",
       "  background-color: var(--sklearn-color-unfitted-level-3);\n",
       "  color: var(--sklearn-color-background);\n",
       "  text-decoration: none;\n",
       "}\n",
       "\n",
       "div.sk-estimator.fitted:hover .sk-estimator-doc-link.fitted:hover,\n",
       ".sk-estimator-doc-link.fitted:hover,\n",
       "div.sk-label-container:hover .sk-estimator-doc-link.fitted:hover,\n",
       ".sk-estimator-doc-link.fitted:hover {\n",
       "  /* fitted */\n",
       "  background-color: var(--sklearn-color-fitted-level-3);\n",
       "  color: var(--sklearn-color-background);\n",
       "  text-decoration: none;\n",
       "}\n",
       "\n",
       "/* Span, style for the box shown on hovering the info icon */\n",
       ".sk-estimator-doc-link span {\n",
       "  display: none;\n",
       "  z-index: 9999;\n",
       "  position: relative;\n",
       "  font-weight: normal;\n",
       "  right: .2ex;\n",
       "  padding: .5ex;\n",
       "  margin: .5ex;\n",
       "  width: min-content;\n",
       "  min-width: 20ex;\n",
       "  max-width: 50ex;\n",
       "  color: var(--sklearn-color-text);\n",
       "  box-shadow: 2pt 2pt 4pt #999;\n",
       "  /* unfitted */\n",
       "  background: var(--sklearn-color-unfitted-level-0);\n",
       "  border: .5pt solid var(--sklearn-color-unfitted-level-3);\n",
       "}\n",
       "\n",
       ".sk-estimator-doc-link.fitted span {\n",
       "  /* fitted */\n",
       "  background: var(--sklearn-color-fitted-level-0);\n",
       "  border: var(--sklearn-color-fitted-level-3);\n",
       "}\n",
       "\n",
       ".sk-estimator-doc-link:hover span {\n",
       "  display: block;\n",
       "}\n",
       "\n",
       "/* \"?\"-specific style due to the `<a>` HTML tag */\n",
       "\n",
       "#sk-container-id-16 a.estimator_doc_link {\n",
       "  float: right;\n",
       "  font-size: 1rem;\n",
       "  line-height: 1em;\n",
       "  font-family: monospace;\n",
       "  background-color: var(--sklearn-color-background);\n",
       "  border-radius: 1rem;\n",
       "  height: 1rem;\n",
       "  width: 1rem;\n",
       "  text-decoration: none;\n",
       "  /* unfitted */\n",
       "  color: var(--sklearn-color-unfitted-level-1);\n",
       "  border: var(--sklearn-color-unfitted-level-1) 1pt solid;\n",
       "}\n",
       "\n",
       "#sk-container-id-16 a.estimator_doc_link.fitted {\n",
       "  /* fitted */\n",
       "  border: var(--sklearn-color-fitted-level-1) 1pt solid;\n",
       "  color: var(--sklearn-color-fitted-level-1);\n",
       "}\n",
       "\n",
       "/* On hover */\n",
       "#sk-container-id-16 a.estimator_doc_link:hover {\n",
       "  /* unfitted */\n",
       "  background-color: var(--sklearn-color-unfitted-level-3);\n",
       "  color: var(--sklearn-color-background);\n",
       "  text-decoration: none;\n",
       "}\n",
       "\n",
       "#sk-container-id-16 a.estimator_doc_link.fitted:hover {\n",
       "  /* fitted */\n",
       "  background-color: var(--sklearn-color-fitted-level-3);\n",
       "}\n",
       "</style><div id=\"sk-container-id-16\" class=\"sk-top-container\"><div class=\"sk-text-repr-fallback\"><pre>Ridge(alpha=1)</pre><b>In a Jupyter environment, please rerun this cell to show the HTML representation or trust the notebook. <br />On GitHub, the HTML representation is unable to render, please try loading this page with nbviewer.org.</b></div><div class=\"sk-container\" hidden><div class=\"sk-item\"><div class=\"sk-estimator fitted sk-toggleable\"><input class=\"sk-toggleable__control sk-hidden--visually\" id=\"sk-estimator-id-16\" type=\"checkbox\" checked><label for=\"sk-estimator-id-16\" class=\"sk-toggleable__label fitted sk-toggleable__label-arrow fitted\">&nbsp;&nbsp;Ridge<a class=\"sk-estimator-doc-link fitted\" rel=\"noreferrer\" target=\"_blank\" href=\"https://scikit-learn.org/1.5/modules/generated/sklearn.linear_model.Ridge.html\">?<span>Documentation for Ridge</span></a><span class=\"sk-estimator-doc-link fitted\">i<span>Fitted</span></span></label><div class=\"sk-toggleable__content fitted\"><pre>Ridge(alpha=1)</pre></div> </div></div></div></div>"
      ],
      "text/plain": [
       "Ridge(alpha=1)"
      ]
     },
     "execution_count": 185,
     "metadata": {},
     "output_type": "execute_result"
    }
   ],
   "source": [
    "lr_ridge.fit(Xtrain, ytrain) "
   ]
  },
  {
   "cell_type": "code",
   "execution_count": 186,
   "id": "ff46e836-63e3-44c5-950e-a9f47d249579",
   "metadata": {},
   "outputs": [
    {
     "data": {
      "text/plain": [
       "0.341054562722096"
      ]
     },
     "execution_count": 186,
     "metadata": {},
     "output_type": "execute_result"
    }
   ],
   "source": [
    "r2_score(ytest, lr_ridge.predict(Xtest)) "
   ]
  },
  {
   "cell_type": "markdown",
   "id": "fcc46269-5e95-4fc6-991a-f496e6aa7936",
   "metadata": {},
   "source": [
    "# Tast 3 "
   ]
  },
  {
   "cell_type": "markdown",
   "id": "ff5db6f0-e179-4965-9a49-f95c92410e63",
   "metadata": {},
   "source": [
    "One example where I can apply the module learnings, is inside of recommender systems cold start predictions. For iPlayer currently our item vectors are learnt from using interaction data but for no shows which no user interaction data exists for we use various metadata to predict the collaborative filtering vectors learnt by our matrix factorisation model. In this scenario we are confuseda round feature engineering and hyperparamter tuning to get the most out of features to preidct collaboratie filtering scores, so during this project I also utilimised mutualinforation so I could get a better understand of the correlation between features of different modalities e.g. continous and embedding etc. \n",
    "\n",
    "\n",
    "Around looking at the distributions of "
   ]
  },
  {
   "cell_type": "code",
   "execution_count": null,
   "id": "e6921a91-f240-4627-9948-5084268df63b",
   "metadata": {},
   "outputs": [],
   "source": []
  }
 ],
 "metadata": {
  "kernelspec": {
   "display_name": "Python 3 (ipykernel)",
   "language": "python",
   "name": "python3"
  },
  "language_info": {
   "codemirror_mode": {
    "name": "ipython",
    "version": 3
   },
   "file_extension": ".py",
   "mimetype": "text/x-python",
   "name": "python",
   "nbconvert_exporter": "python",
   "pygments_lexer": "ipython3",
   "version": "3.10.14"
  }
 },
 "nbformat": 4,
 "nbformat_minor": 5
}
