{
 "cells": [
  {
   "cell_type": "markdown",
   "id": "9dbcefe1-2c21-4a50-b640-8deea21a23d3",
   "metadata": {},
   "source": [
    "# Databases assignment "
   ]
  },
  {
   "cell_type": "markdown",
   "id": "de2e5b47-6c76-4ac0-b312-01939757d4a5",
   "metadata": {},
   "source": [
    "Currently the bookshelifa database is split across multiple tables : `customer_list`, `inventory` , `order_detail` , `orders` and `product_info`.\n",
    "\n",
    "Now we must go through the process of normalising each of these tables until we have achieved third normal form, each of these individuals tables must be normalised as well as an entity relationship diagram produced to explain the relationship between each of the individual tables. "
   ]
  },
  {
   "cell_type": "markdown",
   "id": "ab76b771-ecef-49b1-b77f-f1af53e3e024",
   "metadata": {},
   "source": [
    "may make sense to plug in the entity relationship diagram here. "
   ]
  },
  {
   "cell_type": "markdown",
   "id": "b728c41d-264b-41ec-bdf0-ad649ab48fd6",
   "metadata": {},
   "source": [
    "In order to normalise our data up to 3rd normal form we must iterate through each normal form ensuring that it first meets 1st normal form, then 2nd normal form and finally 3rd normal form. "
   ]
  },
  {
   "cell_type": "markdown",
   "id": "d98d9247-ab7c-4346-a486-cec64cd7c0b6",
   "metadata": {},
   "source": [
    "The requirements for first normal form follow as such: \n",
    "\n",
    "1. every field/column name must be unique\n",
    "2. values in the same field should be in the same domain/topic\n",
    "3. values in fields should be atomic ( only one value can be stored within each cell )\n",
    "4. No two records can be identical\n",
    "5. Each table requires a primary key "
   ]
  },
  {
   "cell_type": "code",
   "execution_count": 2,
   "id": "966baed2-361d-4124-a11d-0464881e9aab",
   "metadata": {},
   "outputs": [],
   "source": [
    "import glob \n",
    "import pandas as pd \n",
    "import numpy as np "
   ]
  },
  {
   "cell_type": "markdown",
   "id": "370147e5-7071-4720-be82-b7c06472bd02",
   "metadata": {},
   "source": [
    "### Ensuring `inventory` is in First Normal Form "
   ]
  },
  {
   "cell_type": "code",
   "execution_count": 7,
   "id": "6e1f7083-7ade-4693-9da8-83c809c9a629",
   "metadata": {},
   "outputs": [
    {
     "data": {
      "text/html": [
       "<div>\n",
       "<style scoped>\n",
       "    .dataframe tbody tr th:only-of-type {\n",
       "        vertical-align: middle;\n",
       "    }\n",
       "\n",
       "    .dataframe tbody tr th {\n",
       "        vertical-align: top;\n",
       "    }\n",
       "\n",
       "    .dataframe thead th {\n",
       "        text-align: right;\n",
       "    }\n",
       "</style>\n",
       "<table border=\"1\" class=\"dataframe\">\n",
       "  <thead>\n",
       "    <tr style=\"text-align: right;\">\n",
       "      <th></th>\n",
       "      <th>Warehouse Location</th>\n",
       "      <th>Product Title</th>\n",
       "      <th>Quantity</th>\n",
       "    </tr>\n",
       "  </thead>\n",
       "  <tbody>\n",
       "    <tr>\n",
       "      <th>0</th>\n",
       "      <td>Corby</td>\n",
       "      <td>Anything week time director</td>\n",
       "      <td>23</td>\n",
       "    </tr>\n",
       "    <tr>\n",
       "      <th>1</th>\n",
       "      <td>Corby</td>\n",
       "      <td>Away north interest effect</td>\n",
       "      <td>17</td>\n",
       "    </tr>\n",
       "    <tr>\n",
       "      <th>2</th>\n",
       "      <td>Corby</td>\n",
       "      <td>Hair research lay unit</td>\n",
       "      <td>21</td>\n",
       "    </tr>\n",
       "    <tr>\n",
       "      <th>3</th>\n",
       "      <td>Corby</td>\n",
       "      <td>Management nature positive spring defense</td>\n",
       "      <td>4</td>\n",
       "    </tr>\n",
       "    <tr>\n",
       "      <th>4</th>\n",
       "      <td>Corby</td>\n",
       "      <td>Dinner close draw PM allow</td>\n",
       "      <td>24</td>\n",
       "    </tr>\n",
       "  </tbody>\n",
       "</table>\n",
       "</div>"
      ],
      "text/plain": [
       "  Warehouse Location                              Product Title  Quantity\n",
       "0              Corby                Anything week time director        23\n",
       "1              Corby                 Away north interest effect        17\n",
       "2              Corby                     Hair research lay unit        21\n",
       "3              Corby  Management nature positive spring defense         4\n",
       "4              Corby                 Dinner close draw PM allow        24"
      ]
     },
     "execution_count": 7,
     "metadata": {},
     "output_type": "execute_result"
    }
   ],
   "source": [
    "inventory = pd.read_csv('data/inventory.csv') \n",
    "inventory.head() "
   ]
  },
  {
   "cell_type": "markdown",
   "id": "3c491096-b687-4778-8931-323dc13a71b1",
   "metadata": {},
   "source": [
    "We can confirm that each of the column names are unique,"
   ]
  },
  {
   "cell_type": "markdown",
   "id": "fe5f879b-f2af-4dfa-afff-b3fb6fb1b821",
   "metadata": {},
   "source": [
    "checking that the field names are of the same time, e.g. each qunatity is a integer and each location name and product tile are strings . "
   ]
  },
  {
   "cell_type": "code",
   "execution_count": 9,
   "id": "2072acb6-b6b5-4cf1-8820-6a762beeb983",
   "metadata": {},
   "outputs": [
    {
     "data": {
      "text/plain": [
       "Warehouse Location    object\n",
       "Product Title         object\n",
       "Quantity               int64\n",
       "dtype: object"
      ]
     },
     "execution_count": 9,
     "metadata": {},
     "output_type": "execute_result"
    }
   ],
   "source": [
    "inventory.dtypes "
   ]
  },
  {
   "cell_type": "markdown",
   "id": "a729b14c-acfb-4b2b-9235-288438578e41",
   "metadata": {},
   "source": [
    "The data looks atomi"
   ]
  },
  {
   "cell_type": "markdown",
   "id": "f61e4bed-37c7-4cbf-b0ad-4485f0c9f158",
   "metadata": {},
   "source": [
    "We can see that there are no duplicate fields given that after dropping all duplicates from our table the number of records remain the same "
   ]
  },
  {
   "cell_type": "code",
   "execution_count": 14,
   "id": "00c8ca50-f9e1-4efa-aa55-e8b1320a9ce2",
   "metadata": {},
   "outputs": [
    {
     "data": {
      "text/plain": [
       "True"
      ]
     },
     "execution_count": 14,
     "metadata": {},
     "output_type": "execute_result"
    }
   ],
   "source": [
    "len(inventory ) == len(inventory.drop_duplicates() ) "
   ]
  },
  {
   "cell_type": "markdown",
   "id": "55ad9408-8b90-443a-b629-3262419ac999",
   "metadata": {},
   "source": [
    "Each table requires a primary key currently there exists a composite key between Warehouse location and product title."
   ]
  },
  {
   "cell_type": "markdown",
   "id": "ccf7f170-89e6-432b-a431-da0ba78a8249",
   "metadata": {},
   "source": [
    "Second Normal form has the following requirements: \n",
    "\n",
    "- Must in in first normal form\n",
    "\n",
    "- No repeating groups\n",
    "\n",
    "- No partial dependencies on any composite keys\n"
   ]
  },
  {
   "cell_type": "markdown",
   "id": "138e2eff-3317-4c7f-8d14-681219c2a3ab",
   "metadata": {},
   "source": [
    "partial dependencies are when a one or more fields are dependent on a non primary key or only part of a primary key ( a single column of a composite key ) "
   ]
  },
  {
   "cell_type": "markdown",
   "id": "47d7e4c6-84d7-4b8c-9e24-fab5bdff6f43",
   "metadata": {},
   "source": [
    "However, above its clear that our composite key of `Warehouse Location` and `Product Title` that the `Quantity` column is dependent on both given that a book can have varying levels of stock depending on the warehouse, as well as its title. \n",
    "\n",
    "Perhaps worth mentioning that product title is not truly unique given that many books could potentially have the same name so it may be good prcatise to use the books product ISBN code rather than its title. "
   ]
  },
  {
   "cell_type": "markdown",
   "id": "8f270ad9-e7c4-4bec-837a-491984f62cae",
   "metadata": {},
   "source": [
    "### Third normal form "
   ]
  },
  {
   "cell_type": "markdown",
   "id": "6d2c4d7c-db6a-403d-b878-2bf2094bf45f",
   "metadata": {},
   "source": [
    "The requirements for third normal form follow as such: \n",
    "\n",
    "1. Must aleady be in second normal form\n",
    "\n",
    "2. no non key field must be dependent on the other "
   ]
  },
  {
   "cell_type": "markdown",
   "id": "a8d1b2f4-e6b0-491b-8649-394e44399b1c",
   "metadata": {},
   "source": [
    "Once again for customer list we can verify that our table is already in third normal form. "
   ]
  },
  {
   "cell_type": "markdown",
   "id": "296a7862-e673-4be3-a814-f308e365e96f",
   "metadata": {},
   "source": [
    "Repeating the same procedure and we can confirm that the data is already in third normal form . "
   ]
  },
  {
   "cell_type": "code",
   "execution_count": 128,
   "id": "da1709c8-b15d-4847-9e0f-7b54de9c7b4c",
   "metadata": {},
   "outputs": [
    {
     "data": {
      "text/html": [
       "<div>\n",
       "<style scoped>\n",
       "    .dataframe tbody tr th:only-of-type {\n",
       "        vertical-align: middle;\n",
       "    }\n",
       "\n",
       "    .dataframe tbody tr th {\n",
       "        vertical-align: top;\n",
       "    }\n",
       "\n",
       "    .dataframe thead th {\n",
       "        text-align: right;\n",
       "    }\n",
       "</style>\n",
       "<table border=\"1\" class=\"dataframe\">\n",
       "  <thead>\n",
       "    <tr style=\"text-align: right;\">\n",
       "      <th></th>\n",
       "      <th>Order ID</th>\n",
       "      <th>Date</th>\n",
       "      <th>Customer ID</th>\n",
       "      <th>Total</th>\n",
       "      <th>Payment Method</th>\n",
       "      <th>Card Number</th>\n",
       "      <th>Authorisation Code</th>\n",
       "    </tr>\n",
       "  </thead>\n",
       "  <tbody>\n",
       "    <tr>\n",
       "      <th>0</th>\n",
       "      <td>8987aed1c965464b9b22b3288bd3690a</td>\n",
       "      <td>2020-02-01 01:08:22</td>\n",
       "      <td>671942</td>\n",
       "      <td>75.01</td>\n",
       "      <td>Google Pay</td>\n",
       "      <td>N/a</td>\n",
       "      <td>db18faa643463c90fd3b0477f1caa6d9c734e577</td>\n",
       "    </tr>\n",
       "    <tr>\n",
       "      <th>1</th>\n",
       "      <td>d393984e08ea472da1031172fd781881</td>\n",
       "      <td>2020-02-01 07:32:20</td>\n",
       "      <td>991686</td>\n",
       "      <td>52.25</td>\n",
       "      <td>Paypal</td>\n",
       "      <td>N/a</td>\n",
       "      <td>c1930b607b624f23f86d85211af063e39b859358</td>\n",
       "    </tr>\n",
       "    <tr>\n",
       "      <th>2</th>\n",
       "      <td>74e463faf1b34caf928dd5038fb04566</td>\n",
       "      <td>2020-02-01 21:04:45</td>\n",
       "      <td>120455</td>\n",
       "      <td>188.93</td>\n",
       "      <td>Paypal</td>\n",
       "      <td>N/a</td>\n",
       "      <td>0c2866051f1bab13e7b7c4eba1dfcd3bf178ba76</td>\n",
       "    </tr>\n",
       "    <tr>\n",
       "      <th>3</th>\n",
       "      <td>f99085060ab04c728707a6d138c98ed1</td>\n",
       "      <td>2020-02-02 18:51:28</td>\n",
       "      <td>760665</td>\n",
       "      <td>187.88</td>\n",
       "      <td>Credit Card</td>\n",
       "      <td>6011023499925556</td>\n",
       "      <td>N/a</td>\n",
       "    </tr>\n",
       "    <tr>\n",
       "      <th>4</th>\n",
       "      <td>4ebe2a8622284ee39aafe97b20548665</td>\n",
       "      <td>2020-02-03 03:39:10</td>\n",
       "      <td>829042</td>\n",
       "      <td>657.89</td>\n",
       "      <td>Debit Card</td>\n",
       "      <td>341053006004904</td>\n",
       "      <td>N/a</td>\n",
       "    </tr>\n",
       "  </tbody>\n",
       "</table>\n",
       "</div>"
      ],
      "text/plain": [
       "                           Order ID                 Date  Customer ID   Total  \\\n",
       "0  8987aed1c965464b9b22b3288bd3690a  2020-02-01 01:08:22       671942   75.01   \n",
       "1  d393984e08ea472da1031172fd781881  2020-02-01 07:32:20       991686   52.25   \n",
       "2  74e463faf1b34caf928dd5038fb04566  2020-02-01 21:04:45       120455  188.93   \n",
       "3  f99085060ab04c728707a6d138c98ed1  2020-02-02 18:51:28       760665  187.88   \n",
       "4  4ebe2a8622284ee39aafe97b20548665  2020-02-03 03:39:10       829042  657.89   \n",
       "\n",
       "  Payment Method       Card Number                        Authorisation Code  \n",
       "0     Google Pay               N/a  db18faa643463c90fd3b0477f1caa6d9c734e577  \n",
       "1         Paypal               N/a  c1930b607b624f23f86d85211af063e39b859358  \n",
       "2         Paypal               N/a  0c2866051f1bab13e7b7c4eba1dfcd3bf178ba76  \n",
       "3    Credit Card  6011023499925556                                       N/a  \n",
       "4     Debit Card   341053006004904                                       N/a  "
      ]
     },
     "execution_count": 128,
     "metadata": {},
     "output_type": "execute_result"
    }
   ],
   "source": [
    "orders = pd.read_csv('data/orders.csv') \n",
    "orders.head() "
   ]
  },
  {
   "cell_type": "markdown",
   "id": "b974dd93-ba53-4169-8622-5016f1fbfd1b",
   "metadata": {},
   "source": [
    "Here can verify that "
   ]
  },
  {
   "cell_type": "code",
   "execution_count": 129,
   "id": "07253a84-5718-4376-8460-acd79e3fceb6",
   "metadata": {},
   "outputs": [
    {
     "data": {
      "text/html": [
       "<div>\n",
       "<style scoped>\n",
       "    .dataframe tbody tr th:only-of-type {\n",
       "        vertical-align: middle;\n",
       "    }\n",
       "\n",
       "    .dataframe tbody tr th {\n",
       "        vertical-align: top;\n",
       "    }\n",
       "\n",
       "    .dataframe thead th {\n",
       "        text-align: right;\n",
       "    }\n",
       "</style>\n",
       "<table border=\"1\" class=\"dataframe\">\n",
       "  <thead>\n",
       "    <tr style=\"text-align: right;\">\n",
       "      <th></th>\n",
       "      <th>Name</th>\n",
       "      <th>address</th>\n",
       "      <th>email</th>\n",
       "      <th>phone</th>\n",
       "      <th>customer_id</th>\n",
       "    </tr>\n",
       "  </thead>\n",
       "  <tbody>\n",
       "    <tr>\n",
       "      <th>0</th>\n",
       "      <td>Frank Barnett</td>\n",
       "      <td>Flat 59M; Harris terrace; Albertburgh; B6T 2XR</td>\n",
       "      <td>frank.barnett@hotmail.com</td>\n",
       "      <td>+44121 4960637</td>\n",
       "      <td>981686</td>\n",
       "    </tr>\n",
       "    <tr>\n",
       "      <th>1</th>\n",
       "      <td>Alexander Ford</td>\n",
       "      <td>Flat 83; Nicole pass; Lake Lewisstad; L8 7YF</td>\n",
       "      <td>alexander.ford@gmail.com</td>\n",
       "      <td>(0131) 4960131</td>\n",
       "      <td>197384</td>\n",
       "    </tr>\n",
       "    <tr>\n",
       "      <th>2</th>\n",
       "      <td>Devin Henderson</td>\n",
       "      <td>005 Hargreaves shoal; Port Victor; MK0 8SG</td>\n",
       "      <td>devin.henderson@gmail.com</td>\n",
       "      <td>0116 496 0955</td>\n",
       "      <td>657739</td>\n",
       "    </tr>\n",
       "    <tr>\n",
       "      <th>3</th>\n",
       "      <td>Diana Andrade</td>\n",
       "      <td>45 Wayne club; Barbaramouth; TF76 4DP</td>\n",
       "      <td>diana.andrade@gmail.com</td>\n",
       "      <td>+44(0)141 4960440</td>\n",
       "      <td>768407</td>\n",
       "    </tr>\n",
       "    <tr>\n",
       "      <th>4</th>\n",
       "      <td>Julie May</td>\n",
       "      <td>29 Rice creek; Julianmouth; W7W 5JU</td>\n",
       "      <td>julie.may@gmail.com</td>\n",
       "      <td>+44161 496 0983</td>\n",
       "      <td>760665</td>\n",
       "    </tr>\n",
       "  </tbody>\n",
       "</table>\n",
       "</div>"
      ],
      "text/plain": [
       "              Name                                         address  \\\n",
       "0    Frank Barnett  Flat 59M; Harris terrace; Albertburgh; B6T 2XR   \n",
       "1   Alexander Ford    Flat 83; Nicole pass; Lake Lewisstad; L8 7YF   \n",
       "2  Devin Henderson      005 Hargreaves shoal; Port Victor; MK0 8SG   \n",
       "3    Diana Andrade           45 Wayne club; Barbaramouth; TF76 4DP   \n",
       "4        Julie May             29 Rice creek; Julianmouth; W7W 5JU   \n",
       "\n",
       "                       email              phone  customer_id  \n",
       "0  frank.barnett@hotmail.com     +44121 4960637       981686  \n",
       "1   alexander.ford@gmail.com     (0131) 4960131       197384  \n",
       "2  devin.henderson@gmail.com      0116 496 0955       657739  \n",
       "3    diana.andrade@gmail.com  +44(0)141 4960440       768407  \n",
       "4        julie.may@gmail.com    +44161 496 0983       760665  "
      ]
     },
     "execution_count": 129,
     "metadata": {},
     "output_type": "execute_result"
    }
   ],
   "source": [
    "customer_list = pd.read_csv('data/customer_list.csv') \n",
    "customer_list.head() "
   ]
  },
  {
   "cell_type": "code",
   "execution_count": 130,
   "id": "5a479bee-f3f9-4595-b4ac-50b13fc847a8",
   "metadata": {},
   "outputs": [
    {
     "data": {
      "text/html": [
       "<div>\n",
       "<style scoped>\n",
       "    .dataframe tbody tr th:only-of-type {\n",
       "        vertical-align: middle;\n",
       "    }\n",
       "\n",
       "    .dataframe tbody tr th {\n",
       "        vertical-align: top;\n",
       "    }\n",
       "\n",
       "    .dataframe thead th {\n",
       "        text-align: right;\n",
       "    }\n",
       "</style>\n",
       "<table border=\"1\" class=\"dataframe\">\n",
       "  <thead>\n",
       "    <tr style=\"text-align: right;\">\n",
       "      <th></th>\n",
       "      <th>Order ID</th>\n",
       "      <th>Product ISBN</th>\n",
       "      <th>Quantity</th>\n",
       "    </tr>\n",
       "  </thead>\n",
       "  <tbody>\n",
       "    <tr>\n",
       "      <th>0</th>\n",
       "      <td>00044461f0804df68734e42c65c51331</td>\n",
       "      <td>978-1-04-142985-2</td>\n",
       "      <td>1</td>\n",
       "    </tr>\n",
       "    <tr>\n",
       "      <th>1</th>\n",
       "      <td>0016fbff105f4954892e8f03a5fc2e20</td>\n",
       "      <td>978-1-893866-80-5</td>\n",
       "      <td>2</td>\n",
       "    </tr>\n",
       "    <tr>\n",
       "      <th>2</th>\n",
       "      <td>0016fbff105f4954892e8f03a5fc2e20</td>\n",
       "      <td>978-1-4440-2173-8</td>\n",
       "      <td>5</td>\n",
       "    </tr>\n",
       "    <tr>\n",
       "      <th>3</th>\n",
       "      <td>0016fbff105f4954892e8f03a5fc2e20</td>\n",
       "      <td>978-1-70582-909-7</td>\n",
       "      <td>1</td>\n",
       "    </tr>\n",
       "    <tr>\n",
       "      <th>4</th>\n",
       "      <td>0016fbff105f4954892e8f03a5fc2e20</td>\n",
       "      <td>978-0-287-27735-7</td>\n",
       "      <td>5</td>\n",
       "    </tr>\n",
       "  </tbody>\n",
       "</table>\n",
       "</div>"
      ],
      "text/plain": [
       "                           Order ID       Product ISBN  Quantity\n",
       "0  00044461f0804df68734e42c65c51331  978-1-04-142985-2         1\n",
       "1  0016fbff105f4954892e8f03a5fc2e20  978-1-893866-80-5         2\n",
       "2  0016fbff105f4954892e8f03a5fc2e20  978-1-4440-2173-8         5\n",
       "3  0016fbff105f4954892e8f03a5fc2e20  978-1-70582-909-7         1\n",
       "4  0016fbff105f4954892e8f03a5fc2e20  978-0-287-27735-7         5"
      ]
     },
     "execution_count": 130,
     "metadata": {},
     "output_type": "execute_result"
    }
   ],
   "source": [
    "order_detail = pd.read_csv('data/order_detail.csv') \n",
    "order_detail.head() "
   ]
  },
  {
   "cell_type": "code",
   "execution_count": 15,
   "id": "404cc5be-ec95-4beb-b05a-820f790ae6a1",
   "metadata": {},
   "outputs": [
    {
     "data": {
      "text/html": [
       "<div>\n",
       "<style scoped>\n",
       "    .dataframe tbody tr th:only-of-type {\n",
       "        vertical-align: middle;\n",
       "    }\n",
       "\n",
       "    .dataframe tbody tr th {\n",
       "        vertical-align: top;\n",
       "    }\n",
       "\n",
       "    .dataframe thead th {\n",
       "        text-align: right;\n",
       "    }\n",
       "</style>\n",
       "<table border=\"1\" class=\"dataframe\">\n",
       "  <thead>\n",
       "    <tr style=\"text-align: right;\">\n",
       "      <th></th>\n",
       "      <th>ISBN</th>\n",
       "      <th>Type</th>\n",
       "      <th>Title</th>\n",
       "      <th>Author</th>\n",
       "      <th>Publisher</th>\n",
       "      <th>Genre</th>\n",
       "      <th>Format</th>\n",
       "      <th>Unit Price</th>\n",
       "      <th>Publication Date</th>\n",
       "      <th>Pages</th>\n",
       "      <th>Length</th>\n",
       "      <th>Narrator</th>\n",
       "      <th>Rating</th>\n",
       "    </tr>\n",
       "  </thead>\n",
       "  <tbody>\n",
       "    <tr>\n",
       "      <th>0</th>\n",
       "      <td>978-1-4386-9466-5</td>\n",
       "      <td>eBook</td>\n",
       "      <td>Anything week time director</td>\n",
       "      <td>Denise Anderson</td>\n",
       "      <td>Hachette Livre</td>\n",
       "      <td>Religion and Spirituality</td>\n",
       "      <td>Digital</td>\n",
       "      <td>10.02</td>\n",
       "      <td>13/02/1955</td>\n",
       "      <td>223</td>\n",
       "      <td>NaN</td>\n",
       "      <td>NaN</td>\n",
       "      <td>2.41</td>\n",
       "    </tr>\n",
       "    <tr>\n",
       "      <th>1</th>\n",
       "      <td>978-0-7997-1936-9</td>\n",
       "      <td>Book</td>\n",
       "      <td>Away north interest effect</td>\n",
       "      <td>Jacob Lucero</td>\n",
       "      <td>Transworld</td>\n",
       "      <td>Gardening and Nature</td>\n",
       "      <td>Paperback</td>\n",
       "      <td>17.15</td>\n",
       "      <td>05/08/1942</td>\n",
       "      <td>241</td>\n",
       "      <td>NaN</td>\n",
       "      <td>NaN</td>\n",
       "      <td>2.98</td>\n",
       "    </tr>\n",
       "    <tr>\n",
       "      <th>2</th>\n",
       "      <td>978-0-13-689858-0</td>\n",
       "      <td>Book</td>\n",
       "      <td>Hair research lay unit</td>\n",
       "      <td>Karen Walters</td>\n",
       "      <td>Random House</td>\n",
       "      <td>Period Drama</td>\n",
       "      <td>Hardback</td>\n",
       "      <td>34.60</td>\n",
       "      <td>09/03/1945</td>\n",
       "      <td>177</td>\n",
       "      <td>NaN</td>\n",
       "      <td>NaN</td>\n",
       "      <td>2.43</td>\n",
       "    </tr>\n",
       "    <tr>\n",
       "      <th>3</th>\n",
       "      <td>978-1-104-53838-5</td>\n",
       "      <td>Book</td>\n",
       "      <td>Management nature positive spring defense</td>\n",
       "      <td>Ryan Mason</td>\n",
       "      <td>Penguin Books</td>\n",
       "      <td>Comics</td>\n",
       "      <td>Paperback</td>\n",
       "      <td>42.68</td>\n",
       "      <td>15/01/1958</td>\n",
       "      <td>109</td>\n",
       "      <td>NaN</td>\n",
       "      <td>NaN</td>\n",
       "      <td>2.34</td>\n",
       "    </tr>\n",
       "    <tr>\n",
       "      <th>4</th>\n",
       "      <td>978-0-696-88109-1</td>\n",
       "      <td>Book</td>\n",
       "      <td>Dinner close draw PM allow</td>\n",
       "      <td>Ronald Shields</td>\n",
       "      <td>Random House</td>\n",
       "      <td>True Crime</td>\n",
       "      <td>Paperback</td>\n",
       "      <td>36.35</td>\n",
       "      <td>24/04/1977</td>\n",
       "      <td>207</td>\n",
       "      <td>NaN</td>\n",
       "      <td>NaN</td>\n",
       "      <td>4.02</td>\n",
       "    </tr>\n",
       "  </tbody>\n",
       "</table>\n",
       "</div>"
      ],
      "text/plain": [
       "                ISBN   Type                                      Title  \\\n",
       "0  978-1-4386-9466-5  eBook                Anything week time director   \n",
       "1  978-0-7997-1936-9   Book                 Away north interest effect   \n",
       "2  978-0-13-689858-0   Book                     Hair research lay unit   \n",
       "3  978-1-104-53838-5   Book  Management nature positive spring defense   \n",
       "4  978-0-696-88109-1   Book                 Dinner close draw PM allow   \n",
       "\n",
       "            Author       Publisher                      Genre     Format  \\\n",
       "0  Denise Anderson  Hachette Livre  Religion and Spirituality    Digital   \n",
       "1     Jacob Lucero      Transworld       Gardening and Nature  Paperback   \n",
       "2    Karen Walters    Random House               Period Drama   Hardback   \n",
       "3       Ryan Mason   Penguin Books                     Comics  Paperback   \n",
       "4   Ronald Shields    Random House                 True Crime  Paperback   \n",
       "\n",
       "   Unit Price Publication Date  Pages Length Narrator  Rating  \n",
       "0       10.02       13/02/1955    223    NaN      NaN    2.41  \n",
       "1       17.15       05/08/1942    241    NaN      NaN    2.98  \n",
       "2       34.60       09/03/1945    177    NaN      NaN    2.43  \n",
       "3       42.68       15/01/1958    109    NaN      NaN    2.34  \n",
       "4       36.35       24/04/1977    207    NaN      NaN    4.02  "
      ]
     },
     "execution_count": 15,
     "metadata": {},
     "output_type": "execute_result"
    }
   ],
   "source": [
    "product_info = pd.read_csv('data/product_info.csv')\n",
    "product_info.head() "
   ]
  },
  {
   "cell_type": "markdown",
   "id": "566edddb-f6f8-4c6c-aa4d-6d4e5833d078",
   "metadata": {},
   "source": [
    "# Creating tables and Populating them "
   ]
  },
  {
   "cell_type": "code",
   "execution_count": 151,
   "id": "d8d5d59e-6df8-4504-b436-cc074f190696",
   "metadata": {},
   "outputs": [],
   "source": [
    "import sqlite3 "
   ]
  },
  {
   "cell_type": "code",
   "execution_count": 152,
   "id": "052ec05a-168c-4346-94a5-9fcc205f49ea",
   "metadata": {},
   "outputs": [],
   "source": [
    "type_conversions = {\n",
    "    'object' : 'text' , \n",
    "    'int64' : 'integer', \n",
    "    'float64' : 'real', }"
   ]
  },
  {
   "cell_type": "code",
   "execution_count": 153,
   "id": "a74a5a5a-443d-48b1-9f12-5c436011c5ed",
   "metadata": {},
   "outputs": [],
   "source": [
    "def df2db(df, dbname, tablename):\n",
    "    \n",
    "    fieldtypes = { key : type_conversions[str(value)] for key,value in df.dtypes.items()  } \n",
    "\n",
    "    connection = sqlite3.connect(dbname)\n",
    "    df.to_sql(name = tablename,\n",
    "              con=connection,\n",
    "              if_exists='replace',\n",
    "              index=False,\n",
    "              dtype=fieldtypes\n",
    "             ) \n",
    "    connection.commit() \n",
    "    connection.close() "
   ]
  },
  {
   "cell_type": "code",
   "execution_count": 154,
   "id": "48e51b1e-fdbf-430c-b74b-8c094de95792",
   "metadata": {},
   "outputs": [],
   "source": [
    "#creating database \n",
    "con = sqlite3.connect('data/books.sqlite') \n",
    "con = con.cursor() "
   ]
  },
  {
   "cell_type": "code",
   "execution_count": 155,
   "id": "6c53ef0a-099e-4e7f-b1ea-0f9342fdec5c",
   "metadata": {},
   "outputs": [],
   "source": [
    "dataframes = { 'inventory' : inventory, 'orders' :  orders, 'customer_list' :   customer_list, 'order_detail' :  order_detail, 'product_info' : product_info }"
   ]
  },
  {
   "cell_type": "code",
   "execution_count": 156,
   "id": "e77a53b8-3018-4cb9-a498-7fa49769a6a5",
   "metadata": {},
   "outputs": [
    {
     "ename": "DatabaseError",
     "evalue": "Execution failed on sql 'DROP TABLE \"inventory\"': database is locked",
     "output_type": "error",
     "traceback": [
      "\u001b[0;31m---------------------------------------------------------------------------\u001b[0m",
      "\u001b[0;31mOperationalError\u001b[0m                          Traceback (most recent call last)",
      "File \u001b[0;32m~/.pyenv/versions/3.10.14/lib/python3.10/site-packages/pandas/io/sql.py:2674\u001b[0m, in \u001b[0;36mSQLiteDatabase.execute\u001b[0;34m(self, sql, params)\u001b[0m\n\u001b[1;32m   2673\u001b[0m \u001b[38;5;28;01mtry\u001b[39;00m:\n\u001b[0;32m-> 2674\u001b[0m     \u001b[43mcur\u001b[49m\u001b[38;5;241;43m.\u001b[39;49m\u001b[43mexecute\u001b[49m\u001b[43m(\u001b[49m\u001b[43msql\u001b[49m\u001b[43m,\u001b[49m\u001b[43m \u001b[49m\u001b[38;5;241;43m*\u001b[39;49m\u001b[43margs\u001b[49m\u001b[43m)\u001b[49m\n\u001b[1;32m   2675\u001b[0m     \u001b[38;5;28;01mreturn\u001b[39;00m cur\n",
      "\u001b[0;31mOperationalError\u001b[0m: database is locked",
      "\nThe above exception was the direct cause of the following exception:\n",
      "\u001b[0;31mDatabaseError\u001b[0m                             Traceback (most recent call last)",
      "Cell \u001b[0;32mIn[156], line 3\u001b[0m\n\u001b[1;32m      1\u001b[0m \u001b[38;5;66;03m#iterating though each of the csvs and adding them to the sql database as tables. \u001b[39;00m\n\u001b[1;32m      2\u001b[0m \u001b[38;5;28;01mfor\u001b[39;00m name, df \u001b[38;5;129;01min\u001b[39;00m dataframes\u001b[38;5;241m.\u001b[39mitems(): \n\u001b[0;32m----> 3\u001b[0m     \u001b[43mdf2db\u001b[49m\u001b[43m(\u001b[49m\u001b[43mdf\u001b[49m\u001b[43m,\u001b[49m\u001b[43m \u001b[49m\u001b[38;5;124;43m'\u001b[39;49m\u001b[38;5;124;43mdata/books.sqlite\u001b[39;49m\u001b[38;5;124;43m'\u001b[39;49m\u001b[43m,\u001b[49m\u001b[43m \u001b[49m\u001b[43mname\u001b[49m\u001b[43m \u001b[49m\u001b[43m)\u001b[49m \n",
      "Cell \u001b[0;32mIn[153], line 6\u001b[0m, in \u001b[0;36mdf2db\u001b[0;34m(df, dbname, tablename)\u001b[0m\n\u001b[1;32m      3\u001b[0m fieldtypes \u001b[38;5;241m=\u001b[39m { key : type_conversions[\u001b[38;5;28mstr\u001b[39m(value)] \u001b[38;5;28;01mfor\u001b[39;00m key,value \u001b[38;5;129;01min\u001b[39;00m df\u001b[38;5;241m.\u001b[39mdtypes\u001b[38;5;241m.\u001b[39mitems()  } \n\u001b[1;32m      5\u001b[0m connection \u001b[38;5;241m=\u001b[39m sqlite3\u001b[38;5;241m.\u001b[39mconnect(dbname)\n\u001b[0;32m----> 6\u001b[0m \u001b[43mdf\u001b[49m\u001b[38;5;241;43m.\u001b[39;49m\u001b[43mto_sql\u001b[49m\u001b[43m(\u001b[49m\u001b[43mname\u001b[49m\u001b[43m \u001b[49m\u001b[38;5;241;43m=\u001b[39;49m\u001b[43m \u001b[49m\u001b[43mtablename\u001b[49m\u001b[43m,\u001b[49m\n\u001b[1;32m      7\u001b[0m \u001b[43m          \u001b[49m\u001b[43mcon\u001b[49m\u001b[38;5;241;43m=\u001b[39;49m\u001b[43mconnection\u001b[49m\u001b[43m,\u001b[49m\n\u001b[1;32m      8\u001b[0m \u001b[43m          \u001b[49m\u001b[43mif_exists\u001b[49m\u001b[38;5;241;43m=\u001b[39;49m\u001b[38;5;124;43m'\u001b[39;49m\u001b[38;5;124;43mreplace\u001b[39;49m\u001b[38;5;124;43m'\u001b[39;49m\u001b[43m,\u001b[49m\n\u001b[1;32m      9\u001b[0m \u001b[43m          \u001b[49m\u001b[43mindex\u001b[49m\u001b[38;5;241;43m=\u001b[39;49m\u001b[38;5;28;43;01mFalse\u001b[39;49;00m\u001b[43m,\u001b[49m\n\u001b[1;32m     10\u001b[0m \u001b[43m          \u001b[49m\u001b[43mdtype\u001b[49m\u001b[38;5;241;43m=\u001b[39;49m\u001b[43mfieldtypes\u001b[49m\n\u001b[1;32m     11\u001b[0m \u001b[43m         \u001b[49m\u001b[43m)\u001b[49m \n\u001b[1;32m     12\u001b[0m connection\u001b[38;5;241m.\u001b[39mcommit() \n\u001b[1;32m     13\u001b[0m connection\u001b[38;5;241m.\u001b[39mclose()\n",
      "File \u001b[0;32m~/.pyenv/versions/3.10.14/lib/python3.10/site-packages/pandas/util/_decorators.py:333\u001b[0m, in \u001b[0;36mdeprecate_nonkeyword_arguments.<locals>.decorate.<locals>.wrapper\u001b[0;34m(*args, **kwargs)\u001b[0m\n\u001b[1;32m    327\u001b[0m \u001b[38;5;28;01mif\u001b[39;00m \u001b[38;5;28mlen\u001b[39m(args) \u001b[38;5;241m>\u001b[39m num_allow_args:\n\u001b[1;32m    328\u001b[0m     warnings\u001b[38;5;241m.\u001b[39mwarn(\n\u001b[1;32m    329\u001b[0m         msg\u001b[38;5;241m.\u001b[39mformat(arguments\u001b[38;5;241m=\u001b[39m_format_argument_list(allow_args)),\n\u001b[1;32m    330\u001b[0m         \u001b[38;5;167;01mFutureWarning\u001b[39;00m,\n\u001b[1;32m    331\u001b[0m         stacklevel\u001b[38;5;241m=\u001b[39mfind_stack_level(),\n\u001b[1;32m    332\u001b[0m     )\n\u001b[0;32m--> 333\u001b[0m \u001b[38;5;28;01mreturn\u001b[39;00m \u001b[43mfunc\u001b[49m\u001b[43m(\u001b[49m\u001b[38;5;241;43m*\u001b[39;49m\u001b[43margs\u001b[49m\u001b[43m,\u001b[49m\u001b[43m \u001b[49m\u001b[38;5;241;43m*\u001b[39;49m\u001b[38;5;241;43m*\u001b[39;49m\u001b[43mkwargs\u001b[49m\u001b[43m)\u001b[49m\n",
      "File \u001b[0;32m~/.pyenv/versions/3.10.14/lib/python3.10/site-packages/pandas/core/generic.py:3087\u001b[0m, in \u001b[0;36mNDFrame.to_sql\u001b[0;34m(self, name, con, schema, if_exists, index, index_label, chunksize, dtype, method)\u001b[0m\n\u001b[1;32m   2889\u001b[0m \u001b[38;5;250m\u001b[39m\u001b[38;5;124;03m\"\"\"\u001b[39;00m\n\u001b[1;32m   2890\u001b[0m \u001b[38;5;124;03mWrite records stored in a DataFrame to a SQL database.\u001b[39;00m\n\u001b[1;32m   2891\u001b[0m \n\u001b[0;32m   (...)\u001b[0m\n\u001b[1;32m   3083\u001b[0m \u001b[38;5;124;03m[(1,), (None,), (2,)]\u001b[39;00m\n\u001b[1;32m   3084\u001b[0m \u001b[38;5;124;03m\"\"\"\u001b[39;00m  \u001b[38;5;66;03m# noqa: E501\u001b[39;00m\n\u001b[1;32m   3085\u001b[0m \u001b[38;5;28;01mfrom\u001b[39;00m \u001b[38;5;21;01mpandas\u001b[39;00m\u001b[38;5;21;01m.\u001b[39;00m\u001b[38;5;21;01mio\u001b[39;00m \u001b[38;5;28;01mimport\u001b[39;00m sql\n\u001b[0;32m-> 3087\u001b[0m \u001b[38;5;28;01mreturn\u001b[39;00m \u001b[43msql\u001b[49m\u001b[38;5;241;43m.\u001b[39;49m\u001b[43mto_sql\u001b[49m\u001b[43m(\u001b[49m\n\u001b[1;32m   3088\u001b[0m \u001b[43m    \u001b[49m\u001b[38;5;28;43mself\u001b[39;49m\u001b[43m,\u001b[49m\n\u001b[1;32m   3089\u001b[0m \u001b[43m    \u001b[49m\u001b[43mname\u001b[49m\u001b[43m,\u001b[49m\n\u001b[1;32m   3090\u001b[0m \u001b[43m    \u001b[49m\u001b[43mcon\u001b[49m\u001b[43m,\u001b[49m\n\u001b[1;32m   3091\u001b[0m \u001b[43m    \u001b[49m\u001b[43mschema\u001b[49m\u001b[38;5;241;43m=\u001b[39;49m\u001b[43mschema\u001b[49m\u001b[43m,\u001b[49m\n\u001b[1;32m   3092\u001b[0m \u001b[43m    \u001b[49m\u001b[43mif_exists\u001b[49m\u001b[38;5;241;43m=\u001b[39;49m\u001b[43mif_exists\u001b[49m\u001b[43m,\u001b[49m\n\u001b[1;32m   3093\u001b[0m \u001b[43m    \u001b[49m\u001b[43mindex\u001b[49m\u001b[38;5;241;43m=\u001b[39;49m\u001b[43mindex\u001b[49m\u001b[43m,\u001b[49m\n\u001b[1;32m   3094\u001b[0m \u001b[43m    \u001b[49m\u001b[43mindex_label\u001b[49m\u001b[38;5;241;43m=\u001b[39;49m\u001b[43mindex_label\u001b[49m\u001b[43m,\u001b[49m\n\u001b[1;32m   3095\u001b[0m \u001b[43m    \u001b[49m\u001b[43mchunksize\u001b[49m\u001b[38;5;241;43m=\u001b[39;49m\u001b[43mchunksize\u001b[49m\u001b[43m,\u001b[49m\n\u001b[1;32m   3096\u001b[0m \u001b[43m    \u001b[49m\u001b[43mdtype\u001b[49m\u001b[38;5;241;43m=\u001b[39;49m\u001b[43mdtype\u001b[49m\u001b[43m,\u001b[49m\n\u001b[1;32m   3097\u001b[0m \u001b[43m    \u001b[49m\u001b[43mmethod\u001b[49m\u001b[38;5;241;43m=\u001b[39;49m\u001b[43mmethod\u001b[49m\u001b[43m,\u001b[49m\n\u001b[1;32m   3098\u001b[0m \u001b[43m\u001b[49m\u001b[43m)\u001b[49m\n",
      "File \u001b[0;32m~/.pyenv/versions/3.10.14/lib/python3.10/site-packages/pandas/io/sql.py:842\u001b[0m, in \u001b[0;36mto_sql\u001b[0;34m(frame, name, con, schema, if_exists, index, index_label, chunksize, dtype, method, engine, **engine_kwargs)\u001b[0m\n\u001b[1;32m    837\u001b[0m     \u001b[38;5;28;01mraise\u001b[39;00m \u001b[38;5;167;01mNotImplementedError\u001b[39;00m(\n\u001b[1;32m    838\u001b[0m         \u001b[38;5;124m\"\u001b[39m\u001b[38;5;124m'\u001b[39m\u001b[38;5;124mframe\u001b[39m\u001b[38;5;124m'\u001b[39m\u001b[38;5;124m argument should be either a Series or a DataFrame\u001b[39m\u001b[38;5;124m\"\u001b[39m\n\u001b[1;32m    839\u001b[0m     )\n\u001b[1;32m    841\u001b[0m \u001b[38;5;28;01mwith\u001b[39;00m pandasSQL_builder(con, schema\u001b[38;5;241m=\u001b[39mschema, need_transaction\u001b[38;5;241m=\u001b[39m\u001b[38;5;28;01mTrue\u001b[39;00m) \u001b[38;5;28;01mas\u001b[39;00m pandas_sql:\n\u001b[0;32m--> 842\u001b[0m     \u001b[38;5;28;01mreturn\u001b[39;00m \u001b[43mpandas_sql\u001b[49m\u001b[38;5;241;43m.\u001b[39;49m\u001b[43mto_sql\u001b[49m\u001b[43m(\u001b[49m\n\u001b[1;32m    843\u001b[0m \u001b[43m        \u001b[49m\u001b[43mframe\u001b[49m\u001b[43m,\u001b[49m\n\u001b[1;32m    844\u001b[0m \u001b[43m        \u001b[49m\u001b[43mname\u001b[49m\u001b[43m,\u001b[49m\n\u001b[1;32m    845\u001b[0m \u001b[43m        \u001b[49m\u001b[43mif_exists\u001b[49m\u001b[38;5;241;43m=\u001b[39;49m\u001b[43mif_exists\u001b[49m\u001b[43m,\u001b[49m\n\u001b[1;32m    846\u001b[0m \u001b[43m        \u001b[49m\u001b[43mindex\u001b[49m\u001b[38;5;241;43m=\u001b[39;49m\u001b[43mindex\u001b[49m\u001b[43m,\u001b[49m\n\u001b[1;32m    847\u001b[0m \u001b[43m        \u001b[49m\u001b[43mindex_label\u001b[49m\u001b[38;5;241;43m=\u001b[39;49m\u001b[43mindex_label\u001b[49m\u001b[43m,\u001b[49m\n\u001b[1;32m    848\u001b[0m \u001b[43m        \u001b[49m\u001b[43mschema\u001b[49m\u001b[38;5;241;43m=\u001b[39;49m\u001b[43mschema\u001b[49m\u001b[43m,\u001b[49m\n\u001b[1;32m    849\u001b[0m \u001b[43m        \u001b[49m\u001b[43mchunksize\u001b[49m\u001b[38;5;241;43m=\u001b[39;49m\u001b[43mchunksize\u001b[49m\u001b[43m,\u001b[49m\n\u001b[1;32m    850\u001b[0m \u001b[43m        \u001b[49m\u001b[43mdtype\u001b[49m\u001b[38;5;241;43m=\u001b[39;49m\u001b[43mdtype\u001b[49m\u001b[43m,\u001b[49m\n\u001b[1;32m    851\u001b[0m \u001b[43m        \u001b[49m\u001b[43mmethod\u001b[49m\u001b[38;5;241;43m=\u001b[39;49m\u001b[43mmethod\u001b[49m\u001b[43m,\u001b[49m\n\u001b[1;32m    852\u001b[0m \u001b[43m        \u001b[49m\u001b[43mengine\u001b[49m\u001b[38;5;241;43m=\u001b[39;49m\u001b[43mengine\u001b[49m\u001b[43m,\u001b[49m\n\u001b[1;32m    853\u001b[0m \u001b[43m        \u001b[49m\u001b[38;5;241;43m*\u001b[39;49m\u001b[38;5;241;43m*\u001b[39;49m\u001b[43mengine_kwargs\u001b[49m\u001b[43m,\u001b[49m\n\u001b[1;32m    854\u001b[0m \u001b[43m    \u001b[49m\u001b[43m)\u001b[49m\n",
      "File \u001b[0;32m~/.pyenv/versions/3.10.14/lib/python3.10/site-packages/pandas/io/sql.py:2850\u001b[0m, in \u001b[0;36mSQLiteDatabase.to_sql\u001b[0;34m(self, frame, name, if_exists, index, index_label, schema, chunksize, dtype, method, engine, **engine_kwargs)\u001b[0m\n\u001b[1;32m   2839\u001b[0m             \u001b[38;5;28;01mraise\u001b[39;00m \u001b[38;5;167;01mValueError\u001b[39;00m(\u001b[38;5;124mf\u001b[39m\u001b[38;5;124m\"\u001b[39m\u001b[38;5;132;01m{\u001b[39;00mcol\u001b[38;5;132;01m}\u001b[39;00m\u001b[38;5;124m (\u001b[39m\u001b[38;5;132;01m{\u001b[39;00mmy_type\u001b[38;5;132;01m}\u001b[39;00m\u001b[38;5;124m) not a string\u001b[39m\u001b[38;5;124m\"\u001b[39m)\n\u001b[1;32m   2841\u001b[0m table \u001b[38;5;241m=\u001b[39m SQLiteTable(\n\u001b[1;32m   2842\u001b[0m     name,\n\u001b[1;32m   2843\u001b[0m     \u001b[38;5;28mself\u001b[39m,\n\u001b[0;32m   (...)\u001b[0m\n\u001b[1;32m   2848\u001b[0m     dtype\u001b[38;5;241m=\u001b[39mdtype,\n\u001b[1;32m   2849\u001b[0m )\n\u001b[0;32m-> 2850\u001b[0m \u001b[43mtable\u001b[49m\u001b[38;5;241;43m.\u001b[39;49m\u001b[43mcreate\u001b[49m\u001b[43m(\u001b[49m\u001b[43m)\u001b[49m\n\u001b[1;32m   2851\u001b[0m \u001b[38;5;28;01mreturn\u001b[39;00m table\u001b[38;5;241m.\u001b[39minsert(chunksize, method)\n",
      "File \u001b[0;32m~/.pyenv/versions/3.10.14/lib/python3.10/site-packages/pandas/io/sql.py:988\u001b[0m, in \u001b[0;36mSQLTable.create\u001b[0;34m(self)\u001b[0m\n\u001b[1;32m    986\u001b[0m     \u001b[38;5;28;01mraise\u001b[39;00m \u001b[38;5;167;01mValueError\u001b[39;00m(\u001b[38;5;124mf\u001b[39m\u001b[38;5;124m\"\u001b[39m\u001b[38;5;124mTable \u001b[39m\u001b[38;5;124m'\u001b[39m\u001b[38;5;132;01m{\u001b[39;00m\u001b[38;5;28mself\u001b[39m\u001b[38;5;241m.\u001b[39mname\u001b[38;5;132;01m}\u001b[39;00m\u001b[38;5;124m'\u001b[39m\u001b[38;5;124m already exists.\u001b[39m\u001b[38;5;124m\"\u001b[39m)\n\u001b[1;32m    987\u001b[0m \u001b[38;5;28;01mif\u001b[39;00m \u001b[38;5;28mself\u001b[39m\u001b[38;5;241m.\u001b[39mif_exists \u001b[38;5;241m==\u001b[39m \u001b[38;5;124m\"\u001b[39m\u001b[38;5;124mreplace\u001b[39m\u001b[38;5;124m\"\u001b[39m:\n\u001b[0;32m--> 988\u001b[0m     \u001b[38;5;28;43mself\u001b[39;49m\u001b[38;5;241;43m.\u001b[39;49m\u001b[43mpd_sql\u001b[49m\u001b[38;5;241;43m.\u001b[39;49m\u001b[43mdrop_table\u001b[49m\u001b[43m(\u001b[49m\u001b[38;5;28;43mself\u001b[39;49m\u001b[38;5;241;43m.\u001b[39;49m\u001b[43mname\u001b[49m\u001b[43m,\u001b[49m\u001b[43m \u001b[49m\u001b[38;5;28;43mself\u001b[39;49m\u001b[38;5;241;43m.\u001b[39;49m\u001b[43mschema\u001b[49m\u001b[43m)\u001b[49m\n\u001b[1;32m    989\u001b[0m     \u001b[38;5;28mself\u001b[39m\u001b[38;5;241m.\u001b[39m_execute_create()\n\u001b[1;32m    990\u001b[0m \u001b[38;5;28;01melif\u001b[39;00m \u001b[38;5;28mself\u001b[39m\u001b[38;5;241m.\u001b[39mif_exists \u001b[38;5;241m==\u001b[39m \u001b[38;5;124m\"\u001b[39m\u001b[38;5;124mappend\u001b[39m\u001b[38;5;124m\"\u001b[39m:\n",
      "File \u001b[0;32m~/.pyenv/versions/3.10.14/lib/python3.10/site-packages/pandas/io/sql.py:2872\u001b[0m, in \u001b[0;36mSQLiteDatabase.drop_table\u001b[0;34m(self, name, schema)\u001b[0m\n\u001b[1;32m   2870\u001b[0m \u001b[38;5;28;01mdef\u001b[39;00m \u001b[38;5;21mdrop_table\u001b[39m(\u001b[38;5;28mself\u001b[39m, name: \u001b[38;5;28mstr\u001b[39m, schema: \u001b[38;5;28mstr\u001b[39m \u001b[38;5;241m|\u001b[39m \u001b[38;5;28;01mNone\u001b[39;00m \u001b[38;5;241m=\u001b[39m \u001b[38;5;28;01mNone\u001b[39;00m) \u001b[38;5;241m-\u001b[39m\u001b[38;5;241m>\u001b[39m \u001b[38;5;28;01mNone\u001b[39;00m:\n\u001b[1;32m   2871\u001b[0m     drop_sql \u001b[38;5;241m=\u001b[39m \u001b[38;5;124mf\u001b[39m\u001b[38;5;124m\"\u001b[39m\u001b[38;5;124mDROP TABLE \u001b[39m\u001b[38;5;132;01m{\u001b[39;00m_get_valid_sqlite_name(name)\u001b[38;5;132;01m}\u001b[39;00m\u001b[38;5;124m\"\u001b[39m\n\u001b[0;32m-> 2872\u001b[0m     \u001b[38;5;28;43mself\u001b[39;49m\u001b[38;5;241;43m.\u001b[39;49m\u001b[43mexecute\u001b[49m\u001b[43m(\u001b[49m\u001b[43mdrop_sql\u001b[49m\u001b[43m)\u001b[49m\n",
      "File \u001b[0;32m~/.pyenv/versions/3.10.14/lib/python3.10/site-packages/pandas/io/sql.py:2686\u001b[0m, in \u001b[0;36mSQLiteDatabase.execute\u001b[0;34m(self, sql, params)\u001b[0m\n\u001b[1;32m   2683\u001b[0m     \u001b[38;5;28;01mraise\u001b[39;00m ex \u001b[38;5;28;01mfrom\u001b[39;00m \u001b[38;5;21;01minner_exc\u001b[39;00m\n\u001b[1;32m   2685\u001b[0m ex \u001b[38;5;241m=\u001b[39m DatabaseError(\u001b[38;5;124mf\u001b[39m\u001b[38;5;124m\"\u001b[39m\u001b[38;5;124mExecution failed on sql \u001b[39m\u001b[38;5;124m'\u001b[39m\u001b[38;5;132;01m{\u001b[39;00msql\u001b[38;5;132;01m}\u001b[39;00m\u001b[38;5;124m'\u001b[39m\u001b[38;5;124m: \u001b[39m\u001b[38;5;132;01m{\u001b[39;00mexc\u001b[38;5;132;01m}\u001b[39;00m\u001b[38;5;124m\"\u001b[39m)\n\u001b[0;32m-> 2686\u001b[0m \u001b[38;5;28;01mraise\u001b[39;00m ex \u001b[38;5;28;01mfrom\u001b[39;00m \u001b[38;5;21;01mexc\u001b[39;00m\n",
      "\u001b[0;31mDatabaseError\u001b[0m: Execution failed on sql 'DROP TABLE \"inventory\"': database is locked"
     ]
    }
   ],
   "source": [
    "#iterating though each of the csvs and adding them to the sql database as tables. \n",
    "for name, df in dataframes.items(): \n",
    "    df2db(df, 'data/books.sqlite', name ) "
   ]
  },
  {
   "cell_type": "code",
   "execution_count": null,
   "id": "a4e6db30-b5b5-4e8c-8a7b-a6cf859e6a09",
   "metadata": {},
   "outputs": [],
   "source": [
    "conn = sqlite3.connect('data/books.sqlite')\n",
    "cur = conn.cursor() \n",
    "\n",
    "cur.execute('select * from order_detail limit 10 ')\n",
    "\n",
    "items = cur.fetchall() \n",
    "\n",
    "conn.commit() \n",
    "\n",
    "conn.close() \n",
    "\n",
    "items"
   ]
  },
  {
   "cell_type": "markdown",
   "id": "f232a9ff-bb30-4ea5-8725-ed8cbf9f2d9b",
   "metadata": {},
   "source": [
    "## Question 2. "
   ]
  },
  {
   "cell_type": "markdown",
   "id": "2481919d-59ca-4cc7-8a0d-bc7eed0a3327",
   "metadata": {},
   "source": [
    "Retrieving the total number of books, magazines and audio books "
   ]
  },
  {
   "cell_type": "code",
   "execution_count": 150,
   "id": "3ca8d232-d483-461e-87f9-e3b3a5057e07",
   "metadata": {},
   "outputs": [],
   "source": [
    "#defining a function to query the database \n",
    "def execute_query(query, dbname): \n",
    "    connection = sqlite3.connect(dbname)\n",
    "    connection.isolation_level = None \n",
    "    cur = connection.cursor() \n",
    "    cur.execute(query) \n",
    "    items = cur.fetchall()\n",
    "    connection.commit() \n",
    "    connection.close() \n",
    "\n",
    "    return items "
   ]
  },
  {
   "cell_type": "code",
   "execution_count": 20,
   "id": "21ac869f-b255-4d68-85ad-4451ae2edc37",
   "metadata": {},
   "outputs": [
    {
     "data": {
      "text/plain": [
       "[('Book', 1427), ('eBook', 309), ('Magazine', 205), ('AudioBook', 107)]"
      ]
     },
     "execution_count": 20,
     "metadata": {},
     "output_type": "execute_result"
    }
   ],
   "source": [
    "query = ''' SELECT type, COUNT(type) \n",
    "            FROM product_info\n",
    "            GROUP BY type\n",
    "            ORDER BY COUNT(type) DESC '''\n",
    "\n",
    "execute_query(query, 'data/books.sqlite') "
   ]
  },
  {
   "cell_type": "markdown",
   "id": "ef816aee-b60e-4d63-b6bd-68a9b5ca01d8",
   "metadata": {},
   "source": [
    "## Question 3. "
   ]
  },
  {
   "cell_type": "markdown",
   "id": "f77318d6-b16e-4868-8dfb-9043619b5c92",
   "metadata": {},
   "source": [
    "Query to retrive all books of a particular genre and have the highest rating, We will the top 10 'Comic' books based on ratings "
   ]
  },
  {
   "cell_type": "code",
   "execution_count": 21,
   "id": "edb63868-9565-41cf-914f-55a6192e72b8",
   "metadata": {},
   "outputs": [
    {
     "data": {
      "text/plain": [
       "[('Unit me election me', 4.02),\n",
       " ('Together agree avoid up it help', 4.02),\n",
       " ('Receive beautiful occur', 3.71),\n",
       " ('Night nor world fine consumer head', 3.46),\n",
       " ('Rule season sign big them', 3.41),\n",
       " ('Position individual professional', 3.36),\n",
       " ('Team name to matter', 3.32),\n",
       " ('Mind together social', 3.23),\n",
       " ('Identify care young apply attorney from', 3.11),\n",
       " ('History manage people enjoy night', 3.03)]"
      ]
     },
     "execution_count": 21,
     "metadata": {},
     "output_type": "execute_result"
    }
   ],
   "source": [
    "query = ''' SELECT Title, Rating\n",
    "            FROM product_info\n",
    "            WHERE Genre = 'Comics' \n",
    "            ORDER BY Rating DESC\n",
    "            LIMIT 10 '''\n",
    "\n",
    "execute_query(query, 'data/books.sqlite') "
   ]
  },
  {
   "cell_type": "markdown",
   "id": "cb33a8f9-27d7-4ced-9c96-5f875e52e275",
   "metadata": {},
   "source": [
    "## Question 4. "
   ]
  },
  {
   "cell_type": "markdown",
   "id": "263fea92-94ed-4855-b66e-545121b54908",
   "metadata": {},
   "source": [
    "Retrive all of the names and addresses of all customers who have placed an order in the last month "
   ]
  },
  {
   "cell_type": "code",
   "execution_count": 22,
   "id": "ab84e058-28c5-433c-8c0a-3cb452772af1",
   "metadata": {},
   "outputs": [
    {
     "data": {
      "text/plain": [
       "[('Glenn Bryan', 'glenn.bryan@hotmail.com'),\n",
       " ('Thomas Thomas', 'thomas.thomas@yahoo.com'),\n",
       " ('Tami Hall', 'tami.hall@gmail.com'),\n",
       " ('Thomas Thomas', 'thomas.thomas@yahoo.com'),\n",
       " ('Gabriel Smith', 'pmahmood@gmail.com'),\n",
       " ('Jason Gill', 'jason.gill@hotmail.co.uk'),\n",
       " ('Michael Ware', 'michael.ware@yahoo.com'),\n",
       " ('Ashley Wilson', 'ashley.wilson@gmail.com'),\n",
       " ('Tami Hall', 'tami.hall@gmail.com'),\n",
       " ('Paul Soto', 'paul.soto@hotmail.co.uk'),\n",
       " ('Kevin Morrison', 'kevin.morrison@yahoo.co.uk'),\n",
       " ('Alejandra James', 'alejandra.james@gmail.com'),\n",
       " ('Sylvia Sanchez', 'sylvia.sanchez@yahoo.com'),\n",
       " ('Brian Harris', 'brian.harris@hotmail.com'),\n",
       " ('Christian Phillips', 'christian.phillips@outlook.com'),\n",
       " ('Jason Gill', 'jason.gill@hotmail.co.uk'),\n",
       " ('Sheila Nelson', 'amyatkins@yahoo.com'),\n",
       " ('Reginald Lamb', 'paul08@hotmail.com'),\n",
       " ('Nicholas Randall', 'nicholas.randall@hotmail.co.uk'),\n",
       " ('David Price', 'murraymathew@yahoo.co.uk'),\n",
       " ('Michael Brown', 'michael.brown@gmail.com'),\n",
       " ('Kelly Anderson', 'kelly.anderson@outlook.com'),\n",
       " ('Kayla Green', 'kayla.green@hotmail.co.uk'),\n",
       " ('Dustin Burns', 'briangoddard@outlook.com'),\n",
       " ('Stacy Burke', 'stacy.burke@gmail.com'),\n",
       " ('Samuel Reeves', 'samuel.reeves@hotmail.com'),\n",
       " ('Michael Banks', 'michael.banks@hotmail.co.uk'),\n",
       " ('Grant Gomez', 'grant.gomez@yahoo.com'),\n",
       " ('Kayla Green', 'kayla.green@hotmail.co.uk'),\n",
       " ('Ricky Hester', 'ricky.hester@hotmail.co.uk'),\n",
       " ('Matthew Lewis', 'matthew.lewis@hotmail.co.uk'),\n",
       " ('Mark Lamb', 'gblake@gmail.com'),\n",
       " ('Jeffrey Love', 'jeffrey.love@gmail.com'),\n",
       " ('Eric Williams', 'eric.williams@yahoo.co.uk'),\n",
       " ('Julia Bray', 'harry32@hotmail.co.uk'),\n",
       " ('Vanessa Hodges', 'harryhale@yahoo.co.uk'),\n",
       " ('Michelle Sims', 'stuartthomas@hotmail.com'),\n",
       " ('Tami Hall', 'tami.hall@gmail.com'),\n",
       " ('Brandon Orozco', 'brandon.orozco@hotmail.co.uk'),\n",
       " ('Robert Stone', 'robert.stone@gmail.com'),\n",
       " ('Kimberly Mccarthy', 'kimberly.mccarthy@yahoo.co.uk'),\n",
       " ('Mark Zimmerman', 'francesca25@hotmail.com'),\n",
       " ('Theresa Weaver', 'theresa.weaver@yahoo.co.uk'),\n",
       " ('Eric Johnson', 'vsingh@hotmail.com'),\n",
       " ('William Morris', 'ryanleslie@yahoo.com'),\n",
       " ('Sylvia Sanchez', 'sylvia.sanchez@yahoo.com'),\n",
       " ('Robin Mcintyre', 'ningram@yahoo.co.uk'),\n",
       " ('Kayla Green', 'kayla.green@hotmail.co.uk'),\n",
       " ('Michael Banks', 'michael.banks@hotmail.co.uk'),\n",
       " ('John Rogers', 'john.rogers@yahoo.co.uk'),\n",
       " ('Zachary Patterson', 'zachary.patterson@outlook.com'),\n",
       " ('Michelle Williams', 'michelle.williams@yahoo.co.uk'),\n",
       " ('Corey Kelly', 'corey.kelly@hotmail.co.uk'),\n",
       " ('Derrick Baker', 'derrick.baker@gmail.com'),\n",
       " ('Nicholas Randall', 'nicholas.randall@hotmail.co.uk'),\n",
       " ('Robert Moore', 'marieharvey@yahoo.com'),\n",
       " ('Joy Drake', 'joy.drake@hotmail.co.uk'),\n",
       " ('Danny Hale', 'danny.hale@gmail.com'),\n",
       " ('Michelle Sims', 'stuartthomas@hotmail.com'),\n",
       " ('Tasha Smith', 'tasha.smith@outlook.com'),\n",
       " ('Michelle Sims', 'stuartthomas@hotmail.com'),\n",
       " ('Thomas Gaines', 'thomas.gaines@hotmail.com'),\n",
       " ('Corey Kelly', 'corey.kelly@hotmail.co.uk'),\n",
       " ('James Ward', 'clare88@hotmail.co.uk'),\n",
       " ('Jessica Riley', 'jessica.riley@gmail.com'),\n",
       " ('Christopher Miller', 'christopher.miller@yahoo.co.uk'),\n",
       " ('Cynthia Jackson', 'cynthia.jackson@yahoo.com'),\n",
       " ('Julia Bray', 'harry32@hotmail.co.uk'),\n",
       " ('Mary Morgan', 'mary.morgan@yahoo.com'),\n",
       " ('Derrick Baker', 'derrick.baker@gmail.com'),\n",
       " ('Brian Harris', 'brian.harris@hotmail.com')]"
      ]
     },
     "execution_count": 22,
     "metadata": {},
     "output_type": "execute_result"
    }
   ],
   "source": [
    "query = ''' SELECT customer_list.Name, customer_list.email\n",
    "            FROM orders\n",
    "            INNER JOIN customer_list ON orders.[Customer ID]=customer_list.customer_id\n",
    "            WHERE strftime('%Y-%m', Date) >= strftime('%Y-%m', 'now', '-1 month')'''\n",
    "\n",
    "execute_query(query, 'data/books.sqlite') "
   ]
  },
  {
   "cell_type": "markdown",
   "id": "8605b5bc-4454-498c-82b4-bf0aa153f23f",
   "metadata": {},
   "source": [
    "## Question 5. "
   ]
  },
  {
   "cell_type": "markdown",
   "id": "5a767cca-b5f9-47b1-84c8-cd78f681f54e",
   "metadata": {},
   "source": [
    "Calculate revenue generated in the last Quarter "
   ]
  },
  {
   "cell_type": "code",
   "execution_count": 23,
   "id": "27688188-2c91-4ec9-9bc8-ff45fd293656",
   "metadata": {},
   "outputs": [
    {
     "data": {
      "text/plain": [
       "[(17470.41,)]"
      ]
     },
     "execution_count": 23,
     "metadata": {},
     "output_type": "execute_result"
    }
   ],
   "source": [
    "#Last quarter = last 3 months \n",
    "query = '''\n",
    "        SELECT SUM(Total)\n",
    "        FROM orders\n",
    "        WHERE strftime('%Y-%m', Date) > strftime('%Y-%m', 'now', '-3 month')''' \n",
    "\n",
    "execute_query(query, 'data/books.sqlite') "
   ]
  },
  {
   "cell_type": "markdown",
   "id": "767723ca-60b4-49c9-9b1d-2e4cf71b62d8",
   "metadata": {},
   "source": [
    "## Question 6. "
   ]
  },
  {
   "cell_type": "markdown",
   "id": "405ce377-56de-4beb-9ce8-5e3169b034fe",
   "metadata": {},
   "source": [
    "Retrive the top 5 best selling books of all time "
   ]
  },
  {
   "cell_type": "code",
   "execution_count": 24,
   "id": "f27f7784-0337-4266-a59d-5cabe14227d4",
   "metadata": {},
   "outputs": [
    {
     "data": {
      "text/plain": [
       "[('978-1-76063-131-4', 92),\n",
       " ('978-1-241-31906-9', 91),\n",
       " ('978-1-07-727420-4', 59),\n",
       " ('978-0-14-017970-5', 25),\n",
       " ('978-1-02-123386-8', 23)]"
      ]
     },
     "execution_count": 24,
     "metadata": {},
     "output_type": "execute_result"
    }
   ],
   "source": [
    "query = ''' SELECT [Product ISBN], SUM(Quantity)\n",
    "            FROM order_detail\n",
    "            GROUP BY [Product ISBN]\n",
    "            ORDER BY SUM(Quantity) DESC\n",
    "            LIMIT 5 '''\n",
    "\n",
    "execute_query(query, 'data/books.sqlite') "
   ]
  },
  {
   "cell_type": "markdown",
   "id": "1cf16a6c-16f6-47f6-aaa7-f74b14a8c230",
   "metadata": {},
   "source": [
    "## Question 7. "
   ]
  },
  {
   "cell_type": "markdown",
   "id": "422192cf-59ac-4ae3-a9d2-338c86e4af0a",
   "metadata": {},
   "source": [
    "Query to retrive the names of customers who have purchased a book from a particular author, We will select Holly Lee "
   ]
  },
  {
   "cell_type": "code",
   "execution_count": 25,
   "id": "c6db11fb-0880-4da9-b78a-bc5ed4eced91",
   "metadata": {},
   "outputs": [
    {
     "data": {
      "text/plain": [
       "[('Melissa Robinson',),\n",
       " ('Andrea Gilbert',),\n",
       " ('Michael Ayers',),\n",
       " ('Robin Mcintyre',),\n",
       " ('Joshua Hancock',)]"
      ]
     },
     "execution_count": 25,
     "metadata": {},
     "output_type": "execute_result"
    }
   ],
   "source": [
    "query = ''' SELECT customer_list.Name \n",
    "            FROM orders\n",
    "            INNER JOIN customer_list on orders.[Customer ID] = customer_list.customer_id\n",
    "\n",
    "            WHERE orders.[Order ID] in \n",
    "\n",
    "            -- Subquery \n",
    "            \n",
    "            (\n",
    "            SELECT order_detail.[Order ID]\n",
    "            FROM order_detail\n",
    "            INNER JOIN product_info on order_detail.[Product ISBN] = product_info.ISBN\n",
    "            WHERE product_info.Author = \"Holly Lee\" ) \n",
    "            \n",
    "            '''\n",
    "execute_query(query, 'data/books.sqlite') "
   ]
  },
  {
   "cell_type": "markdown",
   "id": "ae8130d1-f9d6-45fb-9405-f4a14b202534",
   "metadata": {},
   "source": [
    "## Question 8. "
   ]
  },
  {
   "cell_type": "markdown",
   "id": "e6eb5059-b489-49ae-8928-05e400c857c1",
   "metadata": {},
   "source": [
    "Retrieve the names of all customers who have purchased at least one of each book type "
   ]
  },
  {
   "cell_type": "code",
   "execution_count": 26,
   "id": "3b801749-421b-4da9-a2df-46d9836434b5",
   "metadata": {
    "scrolled": true
   },
   "outputs": [
    {
     "data": {
      "text/plain": [
       "[('Lisa Nguyen',),\n",
       " ('Henry Daniels',),\n",
       " ('Andrew Simon',),\n",
       " ('Luke Miles',),\n",
       " ('Alicia Smith',),\n",
       " ('Joseph Allen',),\n",
       " ('Scott Turner',),\n",
       " ('Joshua Johnson',),\n",
       " ('Lori Hall',),\n",
       " ('Chase Wheeler',),\n",
       " ('David Parsons',),\n",
       " ('Damon Patterson',),\n",
       " ('Diana King',),\n",
       " ('Thomas Thomas',),\n",
       " ('Alexander Ford',),\n",
       " ('James Velasquez',),\n",
       " ('Scott Morton',),\n",
       " ('Michael Banks',),\n",
       " ('David Miller',),\n",
       " ('Jose Brown',),\n",
       " ('Kelly Campos',),\n",
       " ('Deborah Cortez',),\n",
       " ('Tamara Miller',),\n",
       " ('Eric Moore',),\n",
       " ('Gabriel Smith',),\n",
       " ('Tina Fields',),\n",
       " ('Kenneth Cardenas',),\n",
       " ('Julie Phillips',),\n",
       " ('David Rodriguez',),\n",
       " ('Matthew Boyd',),\n",
       " ('Colleen Pierce',),\n",
       " ('Grant Gomez',),\n",
       " ('Brett Landry',),\n",
       " ('Joseph Barrett',),\n",
       " ('Thomas Leon',),\n",
       " ('Ricky Hester',),\n",
       " ('Dana Allen',),\n",
       " ('Barry Russell',),\n",
       " ('Robert Davis',),\n",
       " ('Patricia Ramos',),\n",
       " ('Brett Martin',),\n",
       " ('Abigail Winters',),\n",
       " ('Julie Lopez',),\n",
       " ('Laura Zhang',),\n",
       " ('Richard Barnes',),\n",
       " ('Kayla Moore',),\n",
       " ('Mary Brown',),\n",
       " ('Timothy Swanson',),\n",
       " ('Grace Cook',),\n",
       " ('Whitney Ward',),\n",
       " ('Rodney Mercado',),\n",
       " ('Joanne Munoz',),\n",
       " ('Michele Trujillo',),\n",
       " ('David Watson',),\n",
       " ('Jennifer Schaefer',),\n",
       " ('Michele Carter',),\n",
       " ('Amanda Rubio',),\n",
       " ('Jessica Johnson',),\n",
       " ('Benjamin Matthews',),\n",
       " ('Dennis Roberts',),\n",
       " ('Erica Jones',),\n",
       " ('Andrea Harris',),\n",
       " ('Jessica Jones',),\n",
       " ('Danielle Kennedy',),\n",
       " ('Bailey King',),\n",
       " ('Scott Mccoy',),\n",
       " ('Alejandro Macias',),\n",
       " ('Tina Morris',),\n",
       " ('Stephanie Garza',),\n",
       " ('Kristin Brown',),\n",
       " ('Destiny Romero',),\n",
       " ('Christopher Smith',),\n",
       " ('Dana Hill',),\n",
       " ('Colton Howard',),\n",
       " ('Tammy Taylor',),\n",
       " ('Johnathan Shannon',),\n",
       " ('Matthew Shaw',),\n",
       " ('Anthony Williams',),\n",
       " ('Amber Smith',),\n",
       " ('Laura Greer',),\n",
       " ('Erica Kelly',),\n",
       " ('Nathan Williams',),\n",
       " ('Andrea Gilbert',),\n",
       " ('Corey Kelly',),\n",
       " ('Kelli Hart',),\n",
       " ('Doris Kramer',),\n",
       " ('Ryan Clark',),\n",
       " ('Samantha Jackson',),\n",
       " ('Dale Sanchez',),\n",
       " ('Justin Miranda',),\n",
       " ('Linda Owens',),\n",
       " ('Richard Everett',),\n",
       " ('David Gray',),\n",
       " ('Rachel Larson',),\n",
       " ('Devin Henderson',),\n",
       " ('Sarah Jackson',),\n",
       " ('David Hawkins',),\n",
       " ('Geoffrey Morris',),\n",
       " ('James Ward',),\n",
       " ('Jenny Reynolds',),\n",
       " ('Mia Larson',),\n",
       " ('Brad Caldwell',),\n",
       " ('Debbie Kim',),\n",
       " ('Kimberly Brown',),\n",
       " ('Eric Jimenez',),\n",
       " ('Stephanie Waters',),\n",
       " ('Sarah Daniels',),\n",
       " ('John Rogers',),\n",
       " ('Reginald Clayton',),\n",
       " ('Ernest Parsons',),\n",
       " ('Stacey Ross',),\n",
       " ('Mason Murphy',),\n",
       " ('Mandy Porter',),\n",
       " ('Alan Lowery',),\n",
       " ('Valerie Kelly',),\n",
       " ('Tommy Webster',),\n",
       " ('Kevin Ward',),\n",
       " ('Daniel Kane',),\n",
       " ('Donald Warren',),\n",
       " ('Heather Martin',),\n",
       " ('Kristin Mccarthy',),\n",
       " ('Nicholas Perry',),\n",
       " ('Janet Harris',),\n",
       " ('Sarah Ryan',),\n",
       " ('Jennifer Cook',),\n",
       " ('Joseph Liu',),\n",
       " ('Brandi Thornton',),\n",
       " ('Jessica Lewis',),\n",
       " ('John Goodman',),\n",
       " ('Catherine Terry',),\n",
       " ('James Smith',),\n",
       " ('Tiffany Lewis',),\n",
       " ('Robert Hall',),\n",
       " ('Eric Anderson',),\n",
       " ('Jennifer Mcbride',),\n",
       " ('Aaron Miller',),\n",
       " ('Mark Lamb',),\n",
       " ('Laura Olsen',),\n",
       " ('Kyle Hobbs',),\n",
       " ('Heather Smith',),\n",
       " ('Andrew Smith',),\n",
       " ('Kayla Green',),\n",
       " ('Andrew Miller',),\n",
       " ('Karen Ellis',),\n",
       " ('Leslie Rocha',),\n",
       " ('Wendy Harper',),\n",
       " ('Benjamin Rodriguez',),\n",
       " ('Brittany Phelps',)]"
      ]
     },
     "execution_count": 26,
     "metadata": {},
     "output_type": "execute_result"
    }
   ],
   "source": [
    "query = ''' SELECT customer_list.Name\n",
    "\n",
    "            FROM order_detail\n",
    "            INNER JOIN orders on orders.[Order ID] = order_detail.[Order ID] \n",
    "            INNER JOIN product_info on product_info.ISBN = order_detail.[Product ISBN]\n",
    "            INNER JOIN customer_list on customer_list.customer_id = orders.[Customer ID] \n",
    "\n",
    "            GROUP BY orders.[Customer ID] \n",
    "\n",
    "            HAVING COUNT( DISTINCT product_info.type ) = 3 \n",
    "            \n",
    "             '''\n",
    "execute_query(query, 'data/books.sqlite')"
   ]
  },
  {
   "cell_type": "markdown",
   "id": "491bea39-0a47-438f-8716-9b24a414dd9c",
   "metadata": {},
   "source": [
    "## Question 9. "
   ]
  },
  {
   "cell_type": "markdown",
   "id": "265f8a36-bb7c-4743-9a98-4c0041cca14e",
   "metadata": {},
   "source": [
    "Retrieving names of all customer who have not purchased in the last 6 Months "
   ]
  },
  {
   "cell_type": "code",
   "execution_count": 27,
   "id": "ea3cbbb5-f952-4563-a2b1-9137bebd7f8d",
   "metadata": {
    "scrolled": true
   },
   "outputs": [
    {
     "data": {
      "text/plain": [
       "[('Thomas York',),\n",
       " ('Herbert Stevenson',),\n",
       " ('Mariah Walker',),\n",
       " ('Roy Thomas',),\n",
       " ('Kimberly Carlson',),\n",
       " ('Lisa Nguyen',),\n",
       " ('Andrea Holmes',),\n",
       " ('Heather Evans',),\n",
       " ('Kyle Morales',),\n",
       " ('Luke Miles',),\n",
       " ('Alicia Smith',),\n",
       " ('Charles Murphy',),\n",
       " ('Joseph Allen',),\n",
       " ('Michelle Cervantes',),\n",
       " ('John Gibson',),\n",
       " ('Dennis Hill',),\n",
       " ('Scott Turner',),\n",
       " ('Timothy Garcia',),\n",
       " ('Joshua Johnson',),\n",
       " ('Lori Hall',),\n",
       " ('Chase Wheeler',),\n",
       " ('David Parsons',),\n",
       " ('David Nixon',),\n",
       " ('Karen Best',),\n",
       " ('Diana King',),\n",
       " ('James Brown',),\n",
       " ('Michelle Spears',),\n",
       " ('Angela Clark',),\n",
       " ('Alexander Ford',),\n",
       " ('Jason Bullock',),\n",
       " ('Larry Foster',),\n",
       " ('Alec Lynch',),\n",
       " ('Anthony Myers',),\n",
       " ('David Roth',),\n",
       " ('Eddie Peters',),\n",
       " ('Scott Morton',),\n",
       " ('David Miller',),\n",
       " ('Jason Stanley',),\n",
       " ('Shawn Adams',),\n",
       " ('Joshua Herman',),\n",
       " ('Lauren Chapman',),\n",
       " ('Christopher Hogan',),\n",
       " ('Gregory White',),\n",
       " ('Jose Mann',),\n",
       " ('Stanley Lopez',),\n",
       " ('Jose Brown',),\n",
       " ('Erin Blackwell',),\n",
       " ('Sara Carson',),\n",
       " ('Kelly Campos',),\n",
       " ('Aaron Delacruz',),\n",
       " ('Cheyenne Garner',),\n",
       " ('Deborah Cortez',),\n",
       " ('Terri Carpenter',),\n",
       " ('Jessica Mahoney',),\n",
       " ('Tamara Miller',),\n",
       " ('Stephanie Stout',),\n",
       " ('Robert White',),\n",
       " ('Tina Fields',),\n",
       " ('Kenneth Cardenas',),\n",
       " ('David Goodwin',),\n",
       " ('Julie Phillips',),\n",
       " ('Nicole Palmer',),\n",
       " ('Matthew Boyd',),\n",
       " ('Deborah Gutierrez',),\n",
       " ('Matthew Brennan',),\n",
       " ('Melissa Wilson',),\n",
       " ('Carol Simon',),\n",
       " ('Colleen Pierce',),\n",
       " ('Danielle Foster',),\n",
       " ('Jordan Bolton',),\n",
       " ('Brett Landry',),\n",
       " ('Julie Hodges',),\n",
       " ('Jacob Riley',),\n",
       " ('Joseph Barrett',),\n",
       " ('Madeline Mendez',),\n",
       " ('Thomas Leon',),\n",
       " ('Mary Lewis',),\n",
       " ('Mark Jones',),\n",
       " ('Ryan Patterson',),\n",
       " ('Dana Allen',),\n",
       " ('Erin Matthews',),\n",
       " ('Barry Russell',),\n",
       " ('Erin Thomas',),\n",
       " ('Kevin Bryan',),\n",
       " ('Patricia Ramos',),\n",
       " ('Michael Ayers',),\n",
       " ('Brett Martin',),\n",
       " ('Donna Shelton',),\n",
       " ('Abigail Winters',),\n",
       " ('Michelle Bonilla',),\n",
       " ('Julie Lopez',),\n",
       " ('Melissa Burnett',),\n",
       " ('Tony Brown',),\n",
       " ('Laura Zhang',),\n",
       " ('Kyle Morrison',),\n",
       " ('Richard Barnes',),\n",
       " ('Kayla Moore',),\n",
       " ('Carolyn Shepherd',),\n",
       " ('Mary Brown',),\n",
       " ('Timothy Swanson',),\n",
       " ('David Morris',),\n",
       " ('David Anderson',),\n",
       " ('Grace Cook',),\n",
       " ('Whitney Ward',),\n",
       " ('Rodney Mercado',),\n",
       " ('Michele Trujillo',),\n",
       " ('Justin Osborne',),\n",
       " ('Brian Thompson',),\n",
       " ('David Watson',),\n",
       " ('Joshua Hancock',),\n",
       " ('Jennifer Schaefer',),\n",
       " ('Paul Lee',),\n",
       " ('Kristen Jackson',),\n",
       " ('Michele Carter',),\n",
       " ('Nicole Clark',),\n",
       " ('Bryce Leblanc',),\n",
       " ('John Jarvis',),\n",
       " ('James Johnson',),\n",
       " ('Curtis Gillespie',),\n",
       " ('Jessica Johnson',),\n",
       " ('Benjamin Matthews',),\n",
       " ('Derek Stephenson',),\n",
       " ('Allison Villegas',),\n",
       " ('Mary Rogers',),\n",
       " ('Dennis Roberts',),\n",
       " ('Ryan White',),\n",
       " ('Brandon Montes',),\n",
       " ('William Williams',),\n",
       " ('Andrea Harris',),\n",
       " ('Linda Contreras',),\n",
       " ('Joseph Frazier',),\n",
       " ('Jeff Mason',),\n",
       " ('Jessica Jones',),\n",
       " ('Danielle Kennedy',),\n",
       " ('Jeffrey Leon',),\n",
       " ('Douglas Johnson',),\n",
       " ('Bailey King',),\n",
       " ('Carla Perry',),\n",
       " ('Scott Mccoy',),\n",
       " ('Alejandro Macias',),\n",
       " ('Tina Morris',),\n",
       " ('Stephanie Garza',),\n",
       " ('James Chavez',),\n",
       " ('Jacob Olson',),\n",
       " ('Steven Pratt',),\n",
       " ('Kristin Brown',),\n",
       " ('Alyssa Pham',),\n",
       " ('Andrea Huff',),\n",
       " ('Destiny Romero',),\n",
       " ('Candace Garner',),\n",
       " ('Donald Williamson',),\n",
       " ('Matthew Morrow',),\n",
       " ('Joseph Hensley',),\n",
       " ('Dominique Williams',),\n",
       " ('Malik Robinson',),\n",
       " ('Phillip Paul',),\n",
       " ('Christopher Smith',),\n",
       " ('James Greene',),\n",
       " ('Colton Howard',),\n",
       " ('Tammy Taylor',),\n",
       " ('Travis Rhodes',),\n",
       " ('Johnathan Shannon',),\n",
       " ('Matthew Shaw',),\n",
       " ('Anthony Williams',),\n",
       " ('Amber Smith',),\n",
       " ('Laura Greer',),\n",
       " ('Michael Mccoy',),\n",
       " ('Jacob Howard',),\n",
       " ('Meagan Weber',),\n",
       " ('Megan Ramirez',),\n",
       " ('Tiffany Carter',),\n",
       " ('Nathan Williams',),\n",
       " ('Andrea Gilbert',),\n",
       " ('Stephen Cook',),\n",
       " ('Alexis Aguilar',),\n",
       " ('Michael Walters',),\n",
       " ('Steven Gordon',),\n",
       " ('Kelli Hart',),\n",
       " ('Doris Kramer',),\n",
       " ('Ryan Clark',),\n",
       " ('Samantha Jackson',),\n",
       " ('Thomas Owens',),\n",
       " ('Dale Sanchez',),\n",
       " ('Tina Bradford',),\n",
       " ('Joseph Little',),\n",
       " ('Justin Miranda',),\n",
       " ('Lisa Munoz',),\n",
       " ('Carol Campbell',),\n",
       " ('Brian Raymond',),\n",
       " ('Ronald Hunt',),\n",
       " ('Heather Parker',),\n",
       " ('Christopher Knapp',),\n",
       " ('Rachel Larson',),\n",
       " ('Devin Henderson',),\n",
       " ('Ruben Gutierrez',),\n",
       " ('Chelsea Mays',),\n",
       " ('Sarah Jackson',),\n",
       " ('Sandra Green',),\n",
       " ('Ryan Nguyen',),\n",
       " ('David Hawkins',),\n",
       " ('Keith Valencia',),\n",
       " ('Scott Barber',),\n",
       " ('Jenny Reynolds',),\n",
       " ('Mia Larson',),\n",
       " ('Brad Caldwell',),\n",
       " ('Tiffany Hunt',),\n",
       " ('Kimberly Brown',),\n",
       " ('Eric Jimenez',),\n",
       " ('Joseph Huynh',),\n",
       " ('Gregory Lopez',),\n",
       " ('Nancy Ramos',),\n",
       " ('Michael Aguilar',),\n",
       " ('Zachary Blankenship',),\n",
       " ('Joshua Williams',),\n",
       " ('Hannah Montgomery',),\n",
       " ('Sarah Daniels',),\n",
       " ('Daniel Anderson',),\n",
       " ('Reginald Clayton',),\n",
       " ('Cynthia Aguilar',),\n",
       " ('Victoria Olson',),\n",
       " ('Mandy Porter',),\n",
       " ('Thomas Jenkins',),\n",
       " ('Tracey House',),\n",
       " ('Andrea Joseph',),\n",
       " ('William Hays',),\n",
       " ('Alan Lowery',),\n",
       " ('Michael Powell',),\n",
       " ('Michael Mckinney',),\n",
       " ('Matthew Payne',),\n",
       " ('James Johnson',),\n",
       " ('Christina Clements',),\n",
       " ('Jody Payne',),\n",
       " ('Julie May',),\n",
       " ('Diana Andrade',),\n",
       " ('Daniel Kane',),\n",
       " ('Jessica Davis',),\n",
       " ('Donald Warren',),\n",
       " ('Steven Webb',),\n",
       " ('Margaret Nguyen',),\n",
       " ('Mary Potter',),\n",
       " ('Tricia Wilkinson',),\n",
       " ('Carlos Patel',),\n",
       " ('Kelly Arellano',),\n",
       " ('Dawn Beasley',),\n",
       " ('Kevin Shaw',),\n",
       " ('Ronald Brown',),\n",
       " ('Matthew Daniels',),\n",
       " ('Erica Bass',),\n",
       " ('Nathan Benson',),\n",
       " ('Kristin Mccarthy',),\n",
       " ('Nicholas Perry',),\n",
       " ('Jeffrey Moore',),\n",
       " ('Ashley Bowen',),\n",
       " ('William Reese',),\n",
       " ('Jeffery Johnson',),\n",
       " ('Timothy Schroeder',),\n",
       " ('Matthew Foster',),\n",
       " ('Sherry Cline',),\n",
       " ('Adam Jimenez',),\n",
       " ('Elaine Hayes',),\n",
       " ('Janet Harris',),\n",
       " ('Sarah Ryan',),\n",
       " ('Stephanie Graham',),\n",
       " ('Michael Bradshaw',),\n",
       " ('Jennifer Cook',),\n",
       " ('Carlos Herring',),\n",
       " ('Jason Williams',),\n",
       " ('Andrew Roy',),\n",
       " ('Gina Grant',),\n",
       " ('Alexis Hernandez',),\n",
       " ('Gregory Gamble',),\n",
       " ('Dominic Green',),\n",
       " ('William Bailey',),\n",
       " ('Monica Cardenas',),\n",
       " ('Melody Kramer',),\n",
       " ('Brandon Wilson',),\n",
       " ('Wayne Thompson',),\n",
       " ('Joseph Liu',),\n",
       " ('Brandi Thornton',),\n",
       " ('Jessica Lewis',),\n",
       " ('Tony Davila',),\n",
       " ('Robert Miller',),\n",
       " ('George Chase',),\n",
       " ('Daniel Hamilton',),\n",
       " ('Tracey Ford',),\n",
       " ('Kristen Kramer',),\n",
       " ('Mary Campos',),\n",
       " ('John Goodman',),\n",
       " ('Robert Martinez',),\n",
       " ('Catherine Terry',),\n",
       " ('Rachel Williams',),\n",
       " ('James Smith',),\n",
       " ('Tiffany Lewis',),\n",
       " ('Eric Anderson',),\n",
       " ('Henry Edwards',),\n",
       " ('Jessica Williams',),\n",
       " ('Nicholas Martinez',),\n",
       " ('Michael Robinson',),\n",
       " ('Jacob Tucker',),\n",
       " ('Jennifer Mcbride',),\n",
       " ('Aaron Miller',),\n",
       " ('Laura Olsen',),\n",
       " ('Kyle Hobbs',),\n",
       " ('Adrian Vazquez',),\n",
       " ('Heather Smith',),\n",
       " ('Jennifer Esparza',),\n",
       " ('Michael Brown',),\n",
       " ('Andrew Smith',),\n",
       " ('Antonio Clark',),\n",
       " ('Eric Wright',),\n",
       " ('Andrew Miller',),\n",
       " ('Brian Gibbs',),\n",
       " ('John Bailey',),\n",
       " ('Michelle Roberts',),\n",
       " ('Valerie Brown',),\n",
       " ('Wendy Harper',),\n",
       " ('Christopher Hernandez',),\n",
       " ('Amanda Hughes',),\n",
       " ('Frank Barnett',),\n",
       " ('Robert Robinson',),\n",
       " ('John Payne',),\n",
       " ('Benjamin Rodriguez',),\n",
       " ('Zachary Cruz',),\n",
       " ('Ian Williams',),\n",
       " ('Brittany Phelps',),\n",
       " ('Lisa Cook',)]"
      ]
     },
     "execution_count": 27,
     "metadata": {},
     "output_type": "execute_result"
    }
   ],
   "source": [
    "query = ''' SELECT customer_list.Name\n",
    "\n",
    "            FROM order_detail\n",
    "            INNER JOIN orders on orders.[Order ID] = order_detail.[Order ID] \n",
    "            INNER JOIN customer_list on customer_list.customer_id = orders.[Customer ID] \n",
    "\n",
    "            GROUP BY orders.[Customer ID] \n",
    "\n",
    "            HAVING strftime('%Y-%m', MAX(orders.Date))  <= strftime('%Y-%m', 'now', '-6 month') \n",
    "            \n",
    "            '''\n",
    "\n",
    "execute_query(query, 'data/books.sqlite')\n"
   ]
  },
  {
   "cell_type": "markdown",
   "id": "f9b7aa3d-36e7-4d07-857d-2cfe6fa05d66",
   "metadata": {},
   "source": [
    "## Question 10. "
   ]
  },
  {
   "cell_type": "markdown",
   "id": "23997f27-5086-4d1a-9495-f9acef642791",
   "metadata": {},
   "source": [
    "All Audio books with a particular narrator, we will use Julia Whelan"
   ]
  },
  {
   "cell_type": "code",
   "execution_count": 28,
   "id": "e643a398-1a99-468d-94cb-a04961e59621",
   "metadata": {},
   "outputs": [
    {
     "data": {
      "text/plain": [
       "[('Federal party meeting out',),\n",
       " ('How huge down maybe similar',),\n",
       " ('Million factor resource believe water yourself',),\n",
       " ('Call understand learn drop quickly',),\n",
       " ('Brother reality pick figure',),\n",
       " ('Avoid inside experience',),\n",
       " ('Think sure growth general fear career',),\n",
       " ('New against business student hold task',),\n",
       " ('Ready big more these world modern',)]"
      ]
     },
     "execution_count": 28,
     "metadata": {},
     "output_type": "execute_result"
    }
   ],
   "source": [
    "query = ''' SELECT Title\n",
    "            FROM product_info \n",
    "            WHERE Format = \"Audio\"\n",
    "            AND Narrator = \"Julia Whelan\"  '''\n",
    "\n",
    "execute_query(query, 'data/books.sqlite') "
   ]
  },
  {
   "cell_type": "markdown",
   "id": "b18304d0-2e9c-4a52-92da-4daca0fb715f",
   "metadata": {},
   "source": [
    "## Question 11. "
   ]
  },
  {
   "cell_type": "markdown",
   "id": "5e4c395d-3c29-4899-89af-a4123cdf5d1d",
   "metadata": {},
   "source": [
    "Retrieve the top 10 most popular genres based on the total number of all types "
   ]
  },
  {
   "cell_type": "code",
   "execution_count": 29,
   "id": "8544de40-b1cb-4906-9d4d-b7a6b6638fd0",
   "metadata": {},
   "outputs": [
    {
     "data": {
      "text/html": [
       "<div>\n",
       "<style scoped>\n",
       "    .dataframe tbody tr th:only-of-type {\n",
       "        vertical-align: middle;\n",
       "    }\n",
       "\n",
       "    .dataframe tbody tr th {\n",
       "        vertical-align: top;\n",
       "    }\n",
       "\n",
       "    .dataframe thead th {\n",
       "        text-align: right;\n",
       "    }\n",
       "</style>\n",
       "<table border=\"1\" class=\"dataframe\">\n",
       "  <thead>\n",
       "    <tr style=\"text-align: right;\">\n",
       "      <th></th>\n",
       "      <th>ISBN</th>\n",
       "      <th>Type</th>\n",
       "      <th>Title</th>\n",
       "      <th>Author</th>\n",
       "      <th>Publisher</th>\n",
       "      <th>Genre</th>\n",
       "      <th>Format</th>\n",
       "      <th>Unit Price</th>\n",
       "      <th>Publication Date</th>\n",
       "      <th>Pages</th>\n",
       "      <th>Length</th>\n",
       "      <th>Narrator</th>\n",
       "      <th>Rating</th>\n",
       "    </tr>\n",
       "  </thead>\n",
       "  <tbody>\n",
       "    <tr>\n",
       "      <th>0</th>\n",
       "      <td>978-1-4386-9466-5</td>\n",
       "      <td>eBook</td>\n",
       "      <td>Anything week time director</td>\n",
       "      <td>Denise Anderson</td>\n",
       "      <td>Hachette Livre</td>\n",
       "      <td>Religion and Spirituality</td>\n",
       "      <td>Digital</td>\n",
       "      <td>10.02</td>\n",
       "      <td>13/02/1955</td>\n",
       "      <td>223</td>\n",
       "      <td>NaN</td>\n",
       "      <td>NaN</td>\n",
       "      <td>2.41</td>\n",
       "    </tr>\n",
       "    <tr>\n",
       "      <th>1</th>\n",
       "      <td>978-0-7997-1936-9</td>\n",
       "      <td>Book</td>\n",
       "      <td>Away north interest effect</td>\n",
       "      <td>Jacob Lucero</td>\n",
       "      <td>Transworld</td>\n",
       "      <td>Gardening and Nature</td>\n",
       "      <td>Paperback</td>\n",
       "      <td>17.15</td>\n",
       "      <td>05/08/1942</td>\n",
       "      <td>241</td>\n",
       "      <td>NaN</td>\n",
       "      <td>NaN</td>\n",
       "      <td>2.98</td>\n",
       "    </tr>\n",
       "    <tr>\n",
       "      <th>2</th>\n",
       "      <td>978-0-13-689858-0</td>\n",
       "      <td>Book</td>\n",
       "      <td>Hair research lay unit</td>\n",
       "      <td>Karen Walters</td>\n",
       "      <td>Random House</td>\n",
       "      <td>Period Drama</td>\n",
       "      <td>Hardback</td>\n",
       "      <td>34.60</td>\n",
       "      <td>09/03/1945</td>\n",
       "      <td>177</td>\n",
       "      <td>NaN</td>\n",
       "      <td>NaN</td>\n",
       "      <td>2.43</td>\n",
       "    </tr>\n",
       "    <tr>\n",
       "      <th>3</th>\n",
       "      <td>978-1-104-53838-5</td>\n",
       "      <td>Book</td>\n",
       "      <td>Management nature positive spring defense</td>\n",
       "      <td>Ryan Mason</td>\n",
       "      <td>Penguin Books</td>\n",
       "      <td>Comics</td>\n",
       "      <td>Paperback</td>\n",
       "      <td>42.68</td>\n",
       "      <td>15/01/1958</td>\n",
       "      <td>109</td>\n",
       "      <td>NaN</td>\n",
       "      <td>NaN</td>\n",
       "      <td>2.34</td>\n",
       "    </tr>\n",
       "    <tr>\n",
       "      <th>4</th>\n",
       "      <td>978-0-696-88109-1</td>\n",
       "      <td>Book</td>\n",
       "      <td>Dinner close draw PM allow</td>\n",
       "      <td>Ronald Shields</td>\n",
       "      <td>Random House</td>\n",
       "      <td>True Crime</td>\n",
       "      <td>Paperback</td>\n",
       "      <td>36.35</td>\n",
       "      <td>24/04/1977</td>\n",
       "      <td>207</td>\n",
       "      <td>NaN</td>\n",
       "      <td>NaN</td>\n",
       "      <td>4.02</td>\n",
       "    </tr>\n",
       "  </tbody>\n",
       "</table>\n",
       "</div>"
      ],
      "text/plain": [
       "                ISBN   Type                                      Title  \\\n",
       "0  978-1-4386-9466-5  eBook                Anything week time director   \n",
       "1  978-0-7997-1936-9   Book                 Away north interest effect   \n",
       "2  978-0-13-689858-0   Book                     Hair research lay unit   \n",
       "3  978-1-104-53838-5   Book  Management nature positive spring defense   \n",
       "4  978-0-696-88109-1   Book                 Dinner close draw PM allow   \n",
       "\n",
       "            Author       Publisher                      Genre     Format  \\\n",
       "0  Denise Anderson  Hachette Livre  Religion and Spirituality    Digital   \n",
       "1     Jacob Lucero      Transworld       Gardening and Nature  Paperback   \n",
       "2    Karen Walters    Random House               Period Drama   Hardback   \n",
       "3       Ryan Mason   Penguin Books                     Comics  Paperback   \n",
       "4   Ronald Shields    Random House                 True Crime  Paperback   \n",
       "\n",
       "   Unit Price Publication Date  Pages Length Narrator  Rating  \n",
       "0       10.02       13/02/1955    223    NaN      NaN    2.41  \n",
       "1       17.15       05/08/1942    241    NaN      NaN    2.98  \n",
       "2       34.60       09/03/1945    177    NaN      NaN    2.43  \n",
       "3       42.68       15/01/1958    109    NaN      NaN    2.34  \n",
       "4       36.35       24/04/1977    207    NaN      NaN    4.02  "
      ]
     },
     "execution_count": 29,
     "metadata": {},
     "output_type": "execute_result"
    }
   ],
   "source": [
    "product_info.head() "
   ]
  },
  {
   "cell_type": "code",
   "execution_count": 30,
   "id": "ae1eeed0-5e9c-4283-8309-dc6a19701ef9",
   "metadata": {},
   "outputs": [
    {
     "data": {
      "text/html": [
       "<div>\n",
       "<style scoped>\n",
       "    .dataframe tbody tr th:only-of-type {\n",
       "        vertical-align: middle;\n",
       "    }\n",
       "\n",
       "    .dataframe tbody tr th {\n",
       "        vertical-align: top;\n",
       "    }\n",
       "\n",
       "    .dataframe thead th {\n",
       "        text-align: right;\n",
       "    }\n",
       "</style>\n",
       "<table border=\"1\" class=\"dataframe\">\n",
       "  <thead>\n",
       "    <tr style=\"text-align: right;\">\n",
       "      <th></th>\n",
       "      <th>Order ID</th>\n",
       "      <th>Product ISBN</th>\n",
       "      <th>Quantity</th>\n",
       "    </tr>\n",
       "  </thead>\n",
       "  <tbody>\n",
       "    <tr>\n",
       "      <th>0</th>\n",
       "      <td>00044461f0804df68734e42c65c51331</td>\n",
       "      <td>978-1-04-142985-2</td>\n",
       "      <td>1</td>\n",
       "    </tr>\n",
       "    <tr>\n",
       "      <th>1</th>\n",
       "      <td>0016fbff105f4954892e8f03a5fc2e20</td>\n",
       "      <td>978-1-893866-80-5</td>\n",
       "      <td>2</td>\n",
       "    </tr>\n",
       "    <tr>\n",
       "      <th>2</th>\n",
       "      <td>0016fbff105f4954892e8f03a5fc2e20</td>\n",
       "      <td>978-1-4440-2173-8</td>\n",
       "      <td>5</td>\n",
       "    </tr>\n",
       "    <tr>\n",
       "      <th>3</th>\n",
       "      <td>0016fbff105f4954892e8f03a5fc2e20</td>\n",
       "      <td>978-1-70582-909-7</td>\n",
       "      <td>1</td>\n",
       "    </tr>\n",
       "    <tr>\n",
       "      <th>4</th>\n",
       "      <td>0016fbff105f4954892e8f03a5fc2e20</td>\n",
       "      <td>978-0-287-27735-7</td>\n",
       "      <td>5</td>\n",
       "    </tr>\n",
       "  </tbody>\n",
       "</table>\n",
       "</div>"
      ],
      "text/plain": [
       "                           Order ID       Product ISBN  Quantity\n",
       "0  00044461f0804df68734e42c65c51331  978-1-04-142985-2         1\n",
       "1  0016fbff105f4954892e8f03a5fc2e20  978-1-893866-80-5         2\n",
       "2  0016fbff105f4954892e8f03a5fc2e20  978-1-4440-2173-8         5\n",
       "3  0016fbff105f4954892e8f03a5fc2e20  978-1-70582-909-7         1\n",
       "4  0016fbff105f4954892e8f03a5fc2e20  978-0-287-27735-7         5"
      ]
     },
     "execution_count": 30,
     "metadata": {},
     "output_type": "execute_result"
    }
   ],
   "source": [
    "order_detail.head() "
   ]
  },
  {
   "cell_type": "code",
   "execution_count": 31,
   "id": "400cd8ad-8f29-496f-b663-e4fc361f87c9",
   "metadata": {},
   "outputs": [
    {
     "data": {
      "text/plain": [
       "[('Science Fiction', 701),\n",
       " ('Comedy', 670),\n",
       " ('History', 660),\n",
       " ('Religion and Spirituality', 643),\n",
       " ('Romance', 611),\n",
       " ('Crime Fiction', 603),\n",
       " ('Cooking', 577),\n",
       " ('Young Adult', 571),\n",
       " ('Gardening and Nature', 571),\n",
       " ('Poetry', 533)]"
      ]
     },
     "execution_count": 31,
     "metadata": {},
     "output_type": "execute_result"
    }
   ],
   "source": [
    "query = ''' \n",
    "\n",
    "        SELECT product_info.Genre, SUM(order_detail.Quantity) \n",
    "        FROM order_detail\n",
    "        INNER JOIN product_info ON product_info.ISBN = order_detail.[Product ISBN] \n",
    "        GROUP BY product_info.Genre \n",
    "        ORDER BY SUM(order_detail.Quantity ) DESC \n",
    "        LIMIT 10 \n",
    "    \n",
    "        ''' \n",
    "\n",
    "execute_query(query, 'data/books.sqlite' ) "
   ]
  },
  {
   "cell_type": "markdown",
   "id": "ce1de717-81ae-4925-bd29-ed28ca2d08e7",
   "metadata": {},
   "source": [
    "## Question 12. "
   ]
  },
  {
   "cell_type": "markdown",
   "id": "a0b7a08f-3930-4965-822b-da9e4779e20b",
   "metadata": {},
   "source": [
    "Retrive a disctinct list of customers who have purchased from a particular publisher "
   ]
  },
  {
   "cell_type": "code",
   "execution_count": 32,
   "id": "83423c26-6da1-4bd7-949d-9d6e91032350",
   "metadata": {
    "collapsed": true,
    "jupyter": {
     "outputs_hidden": true
    }
   },
   "outputs": [
    {
     "data": {
      "text/plain": [
       "[('Jose Perez',),\n",
       " ('Troy Tucker',),\n",
       " ('Eric Johnson',),\n",
       " ('Alexandra Jones',),\n",
       " ('Joy Drake',),\n",
       " ('Larry Foster',),\n",
       " ('David Rodriguez',),\n",
       " ('Matthew Decker',),\n",
       " ('Margaret Nguyen',),\n",
       " ('Brett Cardenas',),\n",
       " ('David Hawkins',),\n",
       " ('Valerie Kelly',),\n",
       " ('Christina Clements',),\n",
       " ('Michael Cabrera',),\n",
       " ('Kyle Hobbs',),\n",
       " ('Christopher Hogan',),\n",
       " ('Caleb Gray',),\n",
       " ('Allison Villegas',),\n",
       " ('Mary Morgan',),\n",
       " ('Michael Mckinney',),\n",
       " ('Brian Gibbs',),\n",
       " ('Debra Wilson',),\n",
       " ('Debbie Kim',),\n",
       " ('Alejandra James',),\n",
       " ('Shawn Joseph',),\n",
       " ('Julie Lopez',),\n",
       " ('Stacey Ross',),\n",
       " ('Douglas Johnson',),\n",
       " ('Robert Stone',),\n",
       " ('Thomas Thomas',),\n",
       " ('Stephanie Waters',),\n",
       " ('Diana Andrade',),\n",
       " ('Jessica Davis',),\n",
       " ('Max Fuentes',),\n",
       " ('Valerie Brown',),\n",
       " ('April Austin',),\n",
       " ('Maria Rogers',),\n",
       " ('John Rogers',),\n",
       " ('Robin Mcintyre',),\n",
       " ('Raymond Rodriguez',),\n",
       " ('Julia Bray',),\n",
       " ('Benjamin Rodriguez',),\n",
       " ('Scott Barber',),\n",
       " ('James Brown',),\n",
       " ('David Miller',),\n",
       " ('Scott Espinoza',),\n",
       " ('Brandon Orozco',),\n",
       " ('Willie Spears',),\n",
       " ('Chelsea Mays',),\n",
       " ('Charles Allen',),\n",
       " ('Carlos Patel',),\n",
       " ('Phillip Paul',),\n",
       " ('Jessica Mahoney',),\n",
       " ('Eric Williams',),\n",
       " ('Jessica Smith',),\n",
       " ('David Price',),\n",
       " ('Michelle Sims',),\n",
       " ('Heather Martin',),\n",
       " ('Kevin Gray',),\n",
       " ('Scott Mccoy',),\n",
       " ('Sarah Jones',),\n",
       " ('Holly Hendrix',),\n",
       " ('Kimberly Carlson',),\n",
       " ('James Ward',),\n",
       " ('Donald Williamson',),\n",
       " ('Dana Hill',),\n",
       " ('Patricia Hart',),\n",
       " ('Eric Jimenez',),\n",
       " ('Janet Harris',),\n",
       " ('Michael Ware',),\n",
       " ('Scott Morton',),\n",
       " ('Sandra Green',),\n",
       " ('Brian Thompson',),\n",
       " ('James Chavez',),\n",
       " ('Tony Davila',),\n",
       " ('Daniel Anderson',),\n",
       " ('Kelly Campos',),\n",
       " ('Tami Hall',),\n",
       " ('Tina Fields',),\n",
       " ('Meagan Wood',),\n",
       " ('Andrea Harris',),\n",
       " ('Robin Lewis',),\n",
       " ('Michael Banks',),\n",
       " ('Sarah Neal',),\n",
       " ('Dennis Hill',),\n",
       " ('Wendy Harper',),\n",
       " ('John Martinez',),\n",
       " ('Doris Kramer',),\n",
       " ('Thomas Stevens',),\n",
       " ('Glen Johnson',),\n",
       " ('Brenda Adams',),\n",
       " ('Michelle Bonilla',),\n",
       " ('Calvin Wilkins',),\n",
       " ('Erica Jones',),\n",
       " ('Roy Thomas',),\n",
       " ('Angela Howell',),\n",
       " ('Derek Stephenson',),\n",
       " ('Zachary Patterson',),\n",
       " ('Matthew Morrow',),\n",
       " ('Joseph Frazier',),\n",
       " ('Michael Ayers',),\n",
       " ('Kristin Brown',),\n",
       " ('Destiny Romero',),\n",
       " ('Michelle Williams',),\n",
       " ('Emily Higgins',),\n",
       " ('Theresa Weaver',),\n",
       " ('Stacy Burke',),\n",
       " ('Zachary Cruz',),\n",
       " ('Ryan White',),\n",
       " ('Joshua Herman',),\n",
       " ('Julie Phillips',),\n",
       " ('Glenn Bryan',),\n",
       " ('Heather Smith',),\n",
       " ('Christopher Rose',),\n",
       " ('Christopher Hernandez',),\n",
       " ('Christopher Allen',),\n",
       " ('Jeffrey Love',),\n",
       " ('Aaron Williams',),\n",
       " ('Kristen Jackson',),\n",
       " ('Meagan Weber',),\n",
       " ('Barry Russell',),\n",
       " ('Kelli Hart',),\n",
       " ('Douglas Owens',),\n",
       " ('Nicholas Johnson',),\n",
       " ('Vanessa Hodges',),\n",
       " ('Lauren Chapman',),\n",
       " ('Jessica Lewis',),\n",
       " ('Derrick Baker',),\n",
       " ('Joshua Hancock',),\n",
       " ('Michele Carter',),\n",
       " ('Melissa Robinson',),\n",
       " ('Andrea Gilbert',),\n",
       " ('Brian Raymond',),\n",
       " ('Samuel Reeves',),\n",
       " ('Eddie Peters',),\n",
       " ('Kimberly Mccarthy',),\n",
       " ('Reginald Lamb',),\n",
       " ('Timothy Garcia',),\n",
       " ('Nicholas Martinez',),\n",
       " ('Kyle Morrison',),\n",
       " ('Andrea Bowen',),\n",
       " ('Dennis Roberts',),\n",
       " ('Scott Turner',),\n",
       " ('Helen Lynch',),\n",
       " ('Stephanie Garza',),\n",
       " ('Hannah Montgomery',),\n",
       " ('Christopher Miller',),\n",
       " ('Cheyenne Garner',),\n",
       " ('Kevin Ward',),\n",
       " ('Timothy Moore',),\n",
       " ('Brandi Oneal',),\n",
       " ('Christopher Dorsey',),\n",
       " ('Amanda Rubio',),\n",
       " ('Bryce Leblanc',),\n",
       " ('Brian Harris',),\n",
       " ('Corey Kelly',),\n",
       " ('Travis Rhodes',),\n",
       " ('Kevin Morrison',),\n",
       " ('Ruben Gutierrez',),\n",
       " ('Paul Soto',),\n",
       " ('Yvonne Levy',),\n",
       " ('Nancy Ramos',),\n",
       " ('Jose Mann',),\n",
       " ('Ariel Cain',),\n",
       " ('Tommy Webster',),\n",
       " ('Joshua Williams',),\n",
       " ('Lisa Nguyen',),\n",
       " ('Aaron Delacruz',),\n",
       " ('Kelly Anderson',),\n",
       " ('Victoria Olson',),\n",
       " ('Mary Lewis',),\n",
       " ('Stephen Cook',),\n",
       " ('Angela Clark',),\n",
       " ('Elaine Hayes',),\n",
       " ('Candace Garner',),\n",
       " ('Matthew Lewis',),\n",
       " ('Alison Garcia',),\n",
       " ('David Stevens',),\n",
       " ('Ryan Nguyen',),\n",
       " ('William Andersen',),\n",
       " ('Brandi Thornton',),\n",
       " ('Paula Adams',),\n",
       " ('Stephanie Stout',),\n",
       " ('David Anderson',),\n",
       " ('Heather Parker',),\n",
       " ('Melissa Smith',),\n",
       " ('Donald Warren',),\n",
       " ('Jacqueline Page',),\n",
       " ('Nicholas Randall',),\n",
       " ('James Johnson',),\n",
       " ('Cynthia Aguilar',),\n",
       " ('Mark Lamb',),\n",
       " ('Nicole Palmer',),\n",
       " ('Geoffrey Morris',),\n",
       " ('Andrew Simon',),\n",
       " ('Chris Parker',),\n",
       " ('Alejandro Macias',),\n",
       " ('Melissa Patrick',),\n",
       " ('Keith Valencia',),\n",
       " ('Jessica Johnson',),\n",
       " ('Mason Murphy',),\n",
       " ('Robert Martinez',),\n",
       " ('Ryan Clark',),\n",
       " ('Andrea Holmes',),\n",
       " ('Sarah Ryan',),\n",
       " ('Daniel Kane',),\n",
       " ('Jacob Tucker',),\n",
       " ('Brandon Wilson',),\n",
       " ('Curtis Gillespie',),\n",
       " ('Kevin Shaw',),\n",
       " ('James Greene',),\n",
       " ('Kelly Wall',),\n",
       " ('Donna Cook',),\n",
       " ('Dustin Burns',),\n",
       " ('Zachary Blankenship',),\n",
       " ('David Gray',),\n",
       " ('Jennifer Brown',),\n",
       " ('Michael Ponce',),\n",
       " ('Karen Ellis',),\n",
       " ('Thomas Owens',),\n",
       " ('Sherry Cline',),\n",
       " ('Brianna Rodriguez',),\n",
       " ('Andrew Roy',),\n",
       " ('Laura Greer',),\n",
       " ('Mary Campos',),\n",
       " ('Carl Brown',),\n",
       " ('Jeffrey Moore',),\n",
       " ('Jason Gill',),\n",
       " ('Caitlin Torres',),\n",
       " ('Steven Gordon',),\n",
       " ('Matthew Payne',),\n",
       " ('Steven Webb',),\n",
       " ('Kayla Green',),\n",
       " ('Michael Robinson',),\n",
       " ('Jessica Turner',),\n",
       " ('William Riley',),\n",
       " ('Whitney Ward',),\n",
       " ('Alyssa Pham',),\n",
       " ('Kevin Bryan',),\n",
       " ('Tasha Smith',),\n",
       " ('Tara Salas',),\n",
       " ('Kimberly Frank',),\n",
       " ('Robert Davis',),\n",
       " ('Mary Brown',),\n",
       " ('Michael Brown',),\n",
       " ('Gregory Gamble',),\n",
       " ('Jordan Bolton',),\n",
       " ('James Harrison',),\n",
       " ('Kyle Morales',),\n",
       " ('Timothy Swanson',),\n",
       " ('Anthony Myers',),\n",
       " ('Jennifer Cook',),\n",
       " ('Adrian Vazquez',),\n",
       " ('Joshua Johnson',),\n",
       " ('Thomas York',),\n",
       " ('Ronald Hunt',),\n",
       " ('Mariah Walker',),\n",
       " ('Lisa Cook',),\n",
       " ('Ashley Bowen',),\n",
       " ('David Parsons',),\n",
       " ('David Watson',),\n",
       " ('Brett Martin',),\n",
       " ('Erin Blackwell',),\n",
       " ('Barbara Conway',),\n",
       " ('Kayla Moore',),\n",
       " ('Karen Best',),\n",
       " ('Kenneth Cardenas',),\n",
       " ('Richard Barnes',),\n",
       " ('John Goodman',)]"
      ]
     },
     "execution_count": 32,
     "metadata": {},
     "output_type": "execute_result"
    }
   ],
   "source": [
    "query = ''' \n",
    "\n",
    "        SELECT DISTINCT customer_list. Name \n",
    "        FROM order_detail \n",
    "        INNER JOIN orders on orders.[Order ID] = order_detail.[Order ID]\n",
    "        INNER JOIN product_info on order_Detail.[Product ISBN] = product_info.ISBN \n",
    "        INNER JOIN customer_list on orders.[Customer ID] = customer_list.customer_id \n",
    "\n",
    "        WHERE product_info.Publisher = 'Penguin Books' \n",
    "        \n",
    "        \n",
    "        \n",
    "        ''' \n",
    "\n",
    "execute_query(query, 'data/books.sqlite')"
   ]
  },
  {
   "cell_type": "markdown",
   "id": "ee30242c-7fb1-4594-ba12-a516a2fa56e6",
   "metadata": {},
   "source": [
    "## Question 13. "
   ]
  },
  {
   "cell_type": "markdown",
   "id": "f5aa813d-a8f4-4845-a58d-a38c5c803fb5",
   "metadata": {},
   "source": [
    "Find books which have been ordered by more than 50 customers "
   ]
  },
  {
   "cell_type": "code",
   "execution_count": 33,
   "id": "0a90e3dd-9fb5-4876-8e24-cc8031921b84",
   "metadata": {},
   "outputs": [
    {
     "data": {
      "text/plain": [
       "[('Against give month receive through network image',),\n",
       " ('Amount look mother',),\n",
       " ('Board involve sign number simply',)]"
      ]
     },
     "execution_count": 33,
     "metadata": {},
     "output_type": "execute_result"
    }
   ],
   "source": [
    "query = ''' \n",
    "\n",
    "        SELECT product_info.Title\n",
    "        FROM order_detail\n",
    "        INNER JOIN orders on orders.[Order ID] = order_detail.[Order ID] \n",
    "        INNER JOIN product_info on order_detail.[Product ISBN] = product_info.ISBN\n",
    "\n",
    "        GROUP BY order_detail.[Product ISBN] \n",
    "\n",
    "        HAVING COUNT(DISTINCT orders.[Customer ID] ) > 50 \n",
    "        ''' \n",
    "\n",
    "execute_query(query, 'data/books.sqlite') "
   ]
  },
  {
   "cell_type": "markdown",
   "id": "51640455-6c98-4c08-86ac-db85a5f00ab3",
   "metadata": {},
   "source": [
    "## Query 14. "
   ]
  },
  {
   "cell_type": "markdown",
   "id": "91215558-e256-4fe7-a191-9f8179eb7190",
   "metadata": {},
   "source": [
    "All customers who have spent more than the avreage amount "
   ]
  },
  {
   "cell_type": "code",
   "execution_count": 107,
   "id": "7cee2bd2-9af2-4693-b4e4-6630f9f5e8b8",
   "metadata": {
    "collapsed": true,
    "jupyter": {
     "outputs_hidden": true
    }
   },
   "outputs": [
    {
     "data": {
      "text/plain": [
       "[('Kimberly Carlson',),\n",
       " ('Zachary Patterson',),\n",
       " ('Jose Perez',),\n",
       " ('Matthew Lewis',),\n",
       " ('Michael Brown',),\n",
       " ('Timothy Garcia',),\n",
       " ('Damon Patterson',),\n",
       " ('Troy Tucker',),\n",
       " ('Julia Bray',),\n",
       " ('Thomas Thomas',),\n",
       " ('Holly Hendrix',),\n",
       " ('James Velasquez',),\n",
       " ('Scott Morton',),\n",
       " ('Theresa Weaver',),\n",
       " ('Joshua Herman',),\n",
       " ('Lauren Chapman',),\n",
       " ('Vanessa Hodges',),\n",
       " ('Deborah Cortez',),\n",
       " ('Melissa Robinson',),\n",
       " ('Shawn Joseph',),\n",
       " ('Scott Espinoza',),\n",
       " ('David Rodriguez',),\n",
       " ('Patricia Hart',),\n",
       " ('Debra Wilson',),\n",
       " ('Sarah Jones',),\n",
       " ('Mary Lewis',),\n",
       " ('Robin Lewis',),\n",
       " ('Christopher Miller',),\n",
       " ('Ricky Hester',),\n",
       " ('Derrick Baker',),\n",
       " ('Barry Russell',),\n",
       " ('Calvin Wilkins',),\n",
       " ('Robert Davis',),\n",
       " ('Michael Ayers',),\n",
       " ('Brett Martin',),\n",
       " ('John Martinez',),\n",
       " ('Michelle Bonilla',),\n",
       " ('Julie Lopez',),\n",
       " ('Aaron Williams',),\n",
       " ('Emily Higgins',),\n",
       " ('Eric Williams',),\n",
       " ('Whitney Ward',),\n",
       " ('Allen Carroll',),\n",
       " ('Brian Thompson',),\n",
       " ('Donald Robbins',),\n",
       " ('Sarah Neal',),\n",
       " ('Joshua Hancock',),\n",
       " ('Kristen Jackson',),\n",
       " ('Charles Allen',),\n",
       " ('Allison Villegas',),\n",
       " ('Caleb Gray',),\n",
       " ('Ryan White',),\n",
       " ('Alejandra James',),\n",
       " ('Erica Jones',),\n",
       " ('Kimberly Frank',),\n",
       " ('Kelly Wall',),\n",
       " ('Douglas Johnson',),\n",
       " ('Jacqueline Page',),\n",
       " ('Alejandro Macias',),\n",
       " ('Thomas Stevens',),\n",
       " ('Raymond Rodriguez',),\n",
       " ('Timothy Moore',),\n",
       " ('Willie Spears',),\n",
       " ('Douglas Owens',),\n",
       " ('Candace Garner',),\n",
       " ('Donald Williamson',),\n",
       " ('William Andersen',),\n",
       " ('Phillip Paul',),\n",
       " ('Dana Hill',),\n",
       " ('Travis Rhodes',),\n",
       " ('Nicholas Randall',),\n",
       " ('Matthew Shaw',),\n",
       " ('Robin Mcintyre',),\n",
       " ('Meagan Wood',),\n",
       " ('Andrea Gilbert',),\n",
       " ('Alexandra Jones',),\n",
       " ('Corey Kelly',),\n",
       " ('Cynthia Jackson',),\n",
       " ('Kelli Hart',),\n",
       " ('Theresa Anderson',),\n",
       " ('Justin Miranda',),\n",
       " ('James Blair',),\n",
       " ('Melissa Patrick',),\n",
       " ('Brian Raymond',),\n",
       " ('Kevin Gray',),\n",
       " ('Jason Gill',),\n",
       " ('Sandra Green',),\n",
       " ('Ryan Nguyen',),\n",
       " ('David Hawkins',),\n",
       " ('James Ward',),\n",
       " ('Stacy Burke',),\n",
       " ('Debbie Kim',),\n",
       " ('Christopher Allen',),\n",
       " ('Eric Jimenez',),\n",
       " ('Michelle Sims',),\n",
       " ('Nancy Ramos',),\n",
       " ('Hannah Montgomery',),\n",
       " ('Sarah Daniels',),\n",
       " ('Daniel Anderson',),\n",
       " ('John Rogers',),\n",
       " ('Victoria Olson',),\n",
       " ('Jessica Riley',),\n",
       " ('Christopher Dorsey',),\n",
       " ('Matthew Payne',),\n",
       " ('Valerie Kelly',),\n",
       " ('James Johnson',),\n",
       " ('Christina Clements',),\n",
       " ('Helen Lynch',),\n",
       " ('Kevin Ward',),\n",
       " ('Jessica Davis',),\n",
       " ('Margaret Nguyen',),\n",
       " ('Dawn Beasley',),\n",
       " ('Matthew Foster',),\n",
       " ('Tami Hall',),\n",
       " ('Carl Brown',),\n",
       " ('Dustin Burns',),\n",
       " ('Jessica Lewis',),\n",
       " ('Angela Howell',),\n",
       " ('William Riley',),\n",
       " ('Glenn Bryan',),\n",
       " ('Joy Drake',),\n",
       " ('Robert Stone',),\n",
       " ('Barbara Conway',),\n",
       " ('April Austin',),\n",
       " ('Michael Ware',),\n",
       " ('Kyle Hobbs',),\n",
       " ('Christopher Rose',),\n",
       " ('Eric Johnson',),\n",
       " ('Kayla Green',),\n",
       " ('Mary Morgan',),\n",
       " ('Brian Gibbs',),\n",
       " ('Brandon Orozco',),\n",
       " ('Michelle Roberts',),\n",
       " ('Reginald Lamb',),\n",
       " ('Christopher Hernandez',),\n",
       " ('Benjamin Rodriguez',),\n",
       " ('Michael Cabrera',),\n",
       " ('Brittany Phelps',),\n",
       " ('Maria Rogers',),\n",
       " ('Lisa Cook',)]"
      ]
     },
     "execution_count": 107,
     "metadata": {},
     "output_type": "execute_result"
    }
   ],
   "source": [
    "query = '''\n",
    "\n",
    "        SELECT customer_list.Name\n",
    "        FROM orders \n",
    "        INNER JOIN customer_list on orders.[Customer ID] = customer_list.customer_id \n",
    "\n",
    "        GROUP BY customer_list.customer_id \n",
    "\n",
    "        HAVING SUM(orders.Total) >  ( (SELECT SUM(Total) FROM Orders ) / (SELECT COUNT(*) FROM customer_list  ) ) \n",
    "\n",
    "        ''' \n",
    "execute_query(query, 'data/books.sqlite')"
   ]
  },
  {
   "cell_type": "markdown",
   "id": "f7fde7d8-75b1-4487-8fb7-cf11452c809a",
   "metadata": {},
   "source": [
    "## Query 15. "
   ]
  },
  {
   "cell_type": "markdown",
   "id": "51b9b537-1f3b-4643-811d-ea40171b916e",
   "metadata": {},
   "source": [
    "Finding the names all books which have not been ordered"
   ]
  },
  {
   "cell_type": "code",
   "execution_count": 122,
   "id": "99c1ae47-cf25-4c4f-aa51-30cb96bc61c8",
   "metadata": {},
   "outputs": [
    {
     "data": {
      "text/plain": [
       "[('Goal my message action sense method',),\n",
       " ('Financial culture commercial',),\n",
       " ('Not after alone pressure',),\n",
       " ('Result nor class produce daughter',),\n",
       " ('Those issue newspaper throw issue',),\n",
       " ('Drug grow race',),\n",
       " ('Usually nature training sea either',),\n",
       " ('Light gas tough above tree',),\n",
       " ('Current strong effort without',),\n",
       " ('Of sort trial prove',),\n",
       " ('Activity media artist',),\n",
       " ('Large girl long reflect newspaper',),\n",
       " ('Show minute top imagine',),\n",
       " ('This billion necessary run card art',),\n",
       " ('Move Republican heavy',),\n",
       " ('Need past themselves',),\n",
       " ('Certain black herself often strong',),\n",
       " ('Notice down ok current statement throw',),\n",
       " ('Short table not answer',)]"
      ]
     },
     "execution_count": 122,
     "metadata": {},
     "output_type": "execute_result"
    }
   ],
   "source": [
    "query = '''\n",
    "\n",
    "        SELECT Title\n",
    "        FROM product_info \n",
    "        WHERE ISBN NOT IN (SELECT DISTINCT( [Product ISBN])  FROM order_detail )\n",
    "\n",
    "        '''\n",
    "\n",
    "execute_query(query, 'data/books.sqlite') "
   ]
  },
  {
   "cell_type": "markdown",
   "id": "200ec2f1-704a-4712-b9fc-7ceb93e0c3bc",
   "metadata": {},
   "source": [
    "## Additional Features "
   ]
  },
  {
   "cell_type": "markdown",
   "id": "06bc0a12-5c41-48f6-8741-e7f8059db778",
   "metadata": {},
   "source": [
    "ONe additional feature could be partinoing the dataset, given that our dataset is currently quite small it means that querying it is rather fast however as the number or orders, customers and books grow it can cause an icnrease in the number of records leading to lower queries. "
   ]
  },
  {
   "cell_type": "code",
   "execution_count": 29,
   "id": "49908358-bbf3-41b0-9264-661720163537",
   "metadata": {},
   "outputs": [
    {
     "data": {
      "text/html": [
       "<div>\n",
       "<style scoped>\n",
       "    .dataframe tbody tr th:only-of-type {\n",
       "        vertical-align: middle;\n",
       "    }\n",
       "\n",
       "    .dataframe tbody tr th {\n",
       "        vertical-align: top;\n",
       "    }\n",
       "\n",
       "    .dataframe thead th {\n",
       "        text-align: right;\n",
       "    }\n",
       "</style>\n",
       "<table border=\"1\" class=\"dataframe\">\n",
       "  <thead>\n",
       "    <tr style=\"text-align: right;\">\n",
       "      <th></th>\n",
       "      <th>Order ID</th>\n",
       "      <th>Date</th>\n",
       "      <th>Customer ID</th>\n",
       "      <th>Total</th>\n",
       "      <th>Payment Method</th>\n",
       "      <th>Card Number</th>\n",
       "      <th>Authorisation Code</th>\n",
       "    </tr>\n",
       "  </thead>\n",
       "  <tbody>\n",
       "    <tr>\n",
       "      <th>0</th>\n",
       "      <td>8987aed1c965464b9b22b3288bd3690a</td>\n",
       "      <td>2020-02-01 01:08:22</td>\n",
       "      <td>671942</td>\n",
       "      <td>75.01</td>\n",
       "      <td>Google Pay</td>\n",
       "      <td>N/a</td>\n",
       "      <td>db18faa643463c90fd3b0477f1caa6d9c734e577</td>\n",
       "    </tr>\n",
       "    <tr>\n",
       "      <th>1</th>\n",
       "      <td>d393984e08ea472da1031172fd781881</td>\n",
       "      <td>2020-02-01 07:32:20</td>\n",
       "      <td>991686</td>\n",
       "      <td>52.25</td>\n",
       "      <td>Paypal</td>\n",
       "      <td>N/a</td>\n",
       "      <td>c1930b607b624f23f86d85211af063e39b859358</td>\n",
       "    </tr>\n",
       "    <tr>\n",
       "      <th>2</th>\n",
       "      <td>74e463faf1b34caf928dd5038fb04566</td>\n",
       "      <td>2020-02-01 21:04:45</td>\n",
       "      <td>120455</td>\n",
       "      <td>188.93</td>\n",
       "      <td>Paypal</td>\n",
       "      <td>N/a</td>\n",
       "      <td>0c2866051f1bab13e7b7c4eba1dfcd3bf178ba76</td>\n",
       "    </tr>\n",
       "    <tr>\n",
       "      <th>3</th>\n",
       "      <td>f99085060ab04c728707a6d138c98ed1</td>\n",
       "      <td>2020-02-02 18:51:28</td>\n",
       "      <td>760665</td>\n",
       "      <td>187.88</td>\n",
       "      <td>Credit Card</td>\n",
       "      <td>6011023499925556</td>\n",
       "      <td>N/a</td>\n",
       "    </tr>\n",
       "    <tr>\n",
       "      <th>4</th>\n",
       "      <td>4ebe2a8622284ee39aafe97b20548665</td>\n",
       "      <td>2020-02-03 03:39:10</td>\n",
       "      <td>829042</td>\n",
       "      <td>657.89</td>\n",
       "      <td>Debit Card</td>\n",
       "      <td>341053006004904</td>\n",
       "      <td>N/a</td>\n",
       "    </tr>\n",
       "  </tbody>\n",
       "</table>\n",
       "</div>"
      ],
      "text/plain": [
       "                           Order ID                 Date  Customer ID   Total  \\\n",
       "0  8987aed1c965464b9b22b3288bd3690a  2020-02-01 01:08:22       671942   75.01   \n",
       "1  d393984e08ea472da1031172fd781881  2020-02-01 07:32:20       991686   52.25   \n",
       "2  74e463faf1b34caf928dd5038fb04566  2020-02-01 21:04:45       120455  188.93   \n",
       "3  f99085060ab04c728707a6d138c98ed1  2020-02-02 18:51:28       760665  187.88   \n",
       "4  4ebe2a8622284ee39aafe97b20548665  2020-02-03 03:39:10       829042  657.89   \n",
       "\n",
       "  Payment Method       Card Number                        Authorisation Code  \n",
       "0     Google Pay               N/a  db18faa643463c90fd3b0477f1caa6d9c734e577  \n",
       "1         Paypal               N/a  c1930b607b624f23f86d85211af063e39b859358  \n",
       "2         Paypal               N/a  0c2866051f1bab13e7b7c4eba1dfcd3bf178ba76  \n",
       "3    Credit Card  6011023499925556                                       N/a  \n",
       "4     Debit Card   341053006004904                                       N/a  "
      ]
     },
     "execution_count": 29,
     "metadata": {},
     "output_type": "execute_result"
    }
   ],
   "source": [
    "orders.head()"
   ]
  },
  {
   "cell_type": "markdown",
   "id": "2ff6bf23-4460-47ff-ad44-e844f119b38f",
   "metadata": {},
   "source": [
    "## Additional features"
   ]
  },
  {
   "cell_type": "markdown",
   "id": "7f7068a5-69a1-43eb-9fe9-896251efbae2",
   "metadata": {},
   "source": [
    "Although currently the database seems to be quite small and the majority of the queries execute in a fast time. However, this may change in the future as the company grows (stocks more books, takes on more users and receives a greater number of orders ) "
   ]
  },
  {
   "cell_type": "markdown",
   "id": "6779599e-a25e-48df-8b95-7d9d8d586d99",
   "metadata": {},
   "source": [
    "As a result it may be useful to partition some of our tables based around time, e.g. we can create two order tables one which simply contains all orders from the last 3 months and which contains all orders in our database. \n",
    "\n",
    "The advantage of this is that majority of the compaies quierires may be converning the last couple months, e.g wanting to produce weekly or monthly dashborads the 3 month edition can be used which will nt only be faster but cheaper if the company is hosting this databse service on the cloud. \n",
    "\n",
    "If they are looking for missing orders or chasing up details it may also be likely that these would have been in the last 3 months, (e.g. admin staff may interact with this database through a graphical interface "
   ]
  },
  {
   "cell_type": "code",
   "execution_count": 20,
   "id": "a3cc6fa5-c8e3-407a-a0be-fadb92a16b10",
   "metadata": {},
   "outputs": [
    {
     "data": {
      "text/plain": [
       "[('2020-02-01 01:08:22',)]"
      ]
     },
     "execution_count": 20,
     "metadata": {},
     "output_type": "execute_result"
    }
   ],
   "source": [
    "query = '''\n",
    "        SELECT MIN(Date)\n",
    "        from orders\n",
    "        '''\n",
    "\n",
    "execute_query(query, 'data/books.sqlite') "
   ]
  },
  {
   "cell_type": "markdown",
   "id": "8293e047-7d1c-422a-b75d-100d02a78e24",
   "metadata": {},
   "source": [
    "## Creating table for the last 3 months of data. "
   ]
  },
  {
   "cell_type": "markdown",
   "id": "8e20284a-0af5-4ce3-8018-950d39338bc4",
   "metadata": {},
   "source": [
    "Its worth noting that Sqlite3 doenst natively support partions so we can cannot introduce partions into our original order table, but rather we can create a query to create and hydrate a new table with only the last 3 months of order table "
   ]
  },
  {
   "cell_type": "code",
   "execution_count": 18,
   "id": "05bf03ce-ea65-4529-8b29-220689bc55dd",
   "metadata": {
    "scrolled": true
   },
   "outputs": [
    {
     "data": {
      "text/plain": [
       "[]"
      ]
     },
     "execution_count": 18,
     "metadata": {},
     "output_type": "execute_result"
    }
   ],
   "source": [
    "query = '''\n",
    "        CREATE TABLE orders_3month AS \n",
    "        SELECT * from orders\n",
    "        WHERE strftime('%Y-%m', Date)  >= strftime('%Y-%m', 'now', '-3 month') \n",
    "        '''\n",
    "\n",
    "execute_query(query, 'data/books.sqlite') "
   ]
  },
  {
   "cell_type": "markdown",
   "id": "29a7c6ef-5329-4c0e-8df5-77110159dc9e",
   "metadata": {},
   "source": [
    "Double checking that our new table has been added by printing all of the tables "
   ]
  },
  {
   "cell_type": "code",
   "execution_count": 30,
   "id": "c2814058-f190-4140-be13-9626c45c9e12",
   "metadata": {},
   "outputs": [
    {
     "data": {
      "text/plain": [
       "[('invetory',),\n",
       " ('inventory',),\n",
       " ('orders',),\n",
       " ('customer_list',),\n",
       " ('order_detail',),\n",
       " ('product_info',),\n",
       " ('orders_3month',)]"
      ]
     },
     "execution_count": 30,
     "metadata": {},
     "output_type": "execute_result"
    }
   ],
   "source": [
    "query = '''\n",
    "        SELECT name \n",
    "        FROM sqlite_master \n",
    "        WHERE type='table' \n",
    "        AND name NOT LIKE 'sqlite_%'\n",
    "        '''\n",
    "execute_query(query, 'data/books.sqlite') "
   ]
  },
  {
   "cell_type": "markdown",
   "id": "8db985e0-0c37-4af9-a202-efd9868d352e",
   "metadata": {},
   "source": [
    "# Comparing speed improvements when using our 3 month cache vs total history "
   ]
  },
  {
   "cell_type": "code",
   "execution_count": 35,
   "id": "2a1568f0-6816-4965-b5d0-180cb8c9caed",
   "metadata": {},
   "outputs": [],
   "source": [
    "query_old = ''' SELECT customer_list.Name, customer_list.email\n",
    "            FROM orders\n",
    "            INNER JOIN customer_list ON orders.[Customer ID]=customer_list.customer_id\n",
    "            WHERE strftime('%Y-%m', Date) >= strftime('%Y-%m', 'now', '-1 month')'''\n",
    "\n",
    "\n",
    "query_new  =''' SELECT customer_list.Name, customer_list.email\n",
    "            FROM orders_3month\n",
    "            INNER JOIN customer_list ON orders_3month.[Customer ID]=customer_list.customer_id\n",
    "            WHERE strftime('%Y-%m', Date) >= strftime('%Y-%m', 'now', '-1 month')'''"
   ]
  },
  {
   "cell_type": "code",
   "execution_count": 36,
   "id": "643b1b6d-2a2b-4bc9-9b28-1301c55a8761",
   "metadata": {},
   "outputs": [
    {
     "name": "stdout",
     "output_type": "stream",
     "text": [
      "4.35 ms ± 45.6 μs per loop (mean ± std. dev. of 7 runs, 100 loops each)\n"
     ]
    }
   ],
   "source": [
    "%timeit execute_query(query_old, 'data/books.sqlite') "
   ]
  },
  {
   "cell_type": "code",
   "execution_count": 37,
   "id": "49bd7bbd-ac43-4978-894d-c86181b41037",
   "metadata": {},
   "outputs": [
    {
     "name": "stdout",
     "output_type": "stream",
     "text": [
      "659 μs ± 3.07 μs per loop (mean ± std. dev. of 7 runs, 1,000 loops each)\n"
     ]
    }
   ],
   "source": [
    "%timeit execute_query(query_new, 'data/books.sqlite') "
   ]
  },
  {
   "cell_type": "code",
   "execution_count": 40,
   "id": "26c210e9-805e-4e2f-8f1a-1ce391b1f35f",
   "metadata": {},
   "outputs": [
    {
     "name": "stdout",
     "output_type": "stream",
     "text": [
      "query using orders cache table was 6.6 times faster when compared to the original \n"
     ]
    }
   ],
   "source": [
    "print(f'query using orders cache table was {round(4.35 / 0.659, 2) } times faster when compared to the original ') "
   ]
  },
  {
   "cell_type": "markdown",
   "id": "f9ae990f-42dc-4f32-9f9b-aebfce506bd8",
   "metadata": {},
   "source": [
    "Although we have sped it up the original query only took 5ms however its worth noting that as there datasets continue to grow, this may also impact query performance which could inturn lead to long wait times for queries and creating seperate tables with the most recent data which is the most likely to be required for queries can be a good idea. "
   ]
  },
  {
   "cell_type": "markdown",
   "id": "ed304627-bd42-48f3-8089-72265178ec0b",
   "metadata": {},
   "source": [
    "However, this comes at the cost of higher memory requirements given that we are storing the last 3 months of order data in our `orders_3month` table as well as the `orders` table "
   ]
  },
  {
   "cell_type": "markdown",
   "id": "e3ebc1a2-fa83-4c37-b1af-14c994cc83d1",
   "metadata": {},
   "source": [
    "## Possibly better schema visualisers could be helpful "
   ]
  },
  {
   "cell_type": "markdown",
   "id": "c28edd01-1600-4cb5-9513-58ef0726ac00",
   "metadata": {},
   "source": [
    "## Adding check statements to table creation "
   ]
  },
  {
   "cell_type": "markdown",
   "id": "84f465ab-06c4-48fb-aebf-cc8dddcd0575",
   "metadata": {},
   "source": [
    "Along side creating a 3_month cache of the order table into to speed up queries, we can also enforce checking in each of dataframe columns which will help to prevent erroneous inputs, e.g enforcing unique user,orders an dbook iDS, telephone numbers "
   ]
  },
  {
   "cell_type": "markdown",
   "id": "baf876f2-8bb5-4697-ad64-e172fec0b197",
   "metadata": {},
   "source": [
    "``` create table example\n",
    "( \n",
    "  age integer not null check (typeof(age)='integer'),\n",
    "  name text not null check (length(name) between 1 and 100),\n",
    "  salary integer check (salary is null or typeof(salary)='integer')\n",
    ")\n",
    "``` "
   ]
  },
  {
   "cell_type": "code",
   "execution_count": 44,
   "id": "69489f27-e31d-4716-aeae-a5465882fef7",
   "metadata": {},
   "outputs": [
    {
     "data": {
      "text/plain": [
       "[('customer_list',\n",
       "  'CREATE TABLE \"customer_list\" (\\n\"Name\" text,\\n  \"address\" text,\\n  \"email\" text,\\n  \"phone\" text,\\n  \"customer_id\" integer\\n)'),\n",
       " ('inventory',\n",
       "  'CREATE TABLE \"inventory\" (\\n\"Warehouse Location\" text,\\n  \"Product Title\" text,\\n  \"Quantity\" integer\\n)'),\n",
       " ('invetory',\n",
       "  'CREATE TABLE \"invetory\" (\\n\"Warehouse Location\" text,\\n  \"Product Title\" text,\\n  \"Quantity\" integer\\n)'),\n",
       " ('order_detail',\n",
       "  'CREATE TABLE \"order_detail\" (\\n\"Order ID\" text,\\n  \"Product ISBN\" text,\\n  \"Quantity\" integer\\n)'),\n",
       " ('orders',\n",
       "  'CREATE TABLE \"orders\" (\\n\"Order ID\" text,\\n  \"Date\" text,\\n  \"Customer ID\" integer,\\n  \"Total\" real,\\n  \"Payment Method\" text,\\n  \"Card Number\" text,\\n  \"Authorisation Code\" text\\n)'),\n",
       " ('orders_3month',\n",
       "  'CREATE TABLE orders_3month(\\n  \"Order ID\" TEXT,\\n  Date TEXT,\\n  \"Customer ID\" INT,\\n  Total REAL,\\n  \"Payment Method\" TEXT,\\n  \"Card Number\" TEXT,\\n  \"Authorisation Code\" TEXT\\n)'),\n",
       " ('product_info',\n",
       "  'CREATE TABLE \"product_info\" (\\n\"ISBN\" text,\\n  \"Type\" text,\\n  \"Title\" text,\\n  \"Author\" text,\\n  \"Publisher\" text,\\n  \"Genre\" text,\\n  \"Format\" text,\\n  \"Unit Price\" real,\\n  \"Publication Date\" text,\\n  \"Pages\" integer,\\n  \"Length\" text,\\n  \"Narrator\" text,\\n  \"Rating\" real\\n)')]"
      ]
     },
     "execution_count": 44,
     "metadata": {},
     "output_type": "execute_result"
    }
   ],
   "source": [
    "query = '''\n",
    "\n",
    "        SELECT name, sql\n",
    "        FROM sqlite_master\n",
    "        WHERE type='table'\n",
    "        ORDER BY name \n",
    "        '''\n",
    "\n",
    "execute_query(query, 'data/books.sqlite')"
   ]
  },
  {
   "cell_type": "markdown",
   "id": "da20fabe-8a53-4a18-9efb-def5904a1058",
   "metadata": {},
   "source": [
    "Rewriting how our tables are constructed in order to implement particular constraints "
   ]
  },
  {
   "cell_type": "code",
   "execution_count": 157,
   "id": "3876b8db-fc66-4745-aed1-eaa1c18232af",
   "metadata": {},
   "outputs": [],
   "source": [
    "create_customer_list = ''' \n",
    "                       CREATE TABLE customer_list_2(\n",
    "\n",
    "                       Name TEXT NOT NULL,\n",
    "                       address TEXT NOT NULL, \n",
    "                       email TEXT NOT NULL UNIQUE, \n",
    "                       phone TEXT NOT NULL UNIQUE, \n",
    "                       customer_id TEXT UNIQUE \n",
    "\n",
    "                       CHECK ( email LIKE '%@%.%' ) \n",
    "                       \n",
    "                        )\n",
    "                        ''' \n",
    "\n",
    "create_inventory = '''\n",
    "\n",
    "                   CREATE TABLE inventory_2 (\n",
    "\n",
    "                   Warehouse Location TEXT NOT NULL,\n",
    "                   Product Title TEXT NOT NULL, \n",
    "                   Quantity INTEGER NOT NULL\n",
    "                   \n",
    "                   )\n",
    "\n",
    "                    '''\n",
    "\n",
    "create_order_detail = '''\n",
    "\n",
    "\n",
    "                      CREATE TABLE order_detail_2 (\n",
    "                      \n",
    "                      'Order ID' TEXT NOT NULL, \n",
    "                      Product ISBN TEXT NOT NULL, \n",
    "                      Quantity INTEGER NOT NULL \n",
    "                      )\n",
    "                      '''\n",
    "\n",
    "create_orders = '''\n",
    "\n",
    "                CREATE TABLE orders_2 ( \n",
    "\n",
    "                'Order ID' TEXT NOT NULL UNIQUE, \n",
    "                Date TEXT NOT NULL, \n",
    "                Customer ID INTEGER NOT NULL ,\n",
    "                Total REAL NOT NULL ,\n",
    "                Payment Method TEXT NOT NULL, \n",
    "                Card Number TEXT ,\n",
    "                Authorisation Code TEXT \n",
    "                )\n",
    "                '''\n",
    "\n",
    "\n",
    "create_product_info = '''\n",
    "\n",
    "                       CREATE TABLE product_info_2 (\n",
    "\n",
    "                       ISBN TEXT NOT NULL UNIQUE,\n",
    "                       Type TEXT ,\n",
    "                       Title TEXT NOT NULL ,\n",
    "                       Author TEXT NOT NULL ,\n",
    "                       Publisher TEXT NOT NULL ,\n",
    "                       Genre TEXT,\n",
    "                       Format TEXT NOT NULL,\n",
    "                       Unit Price REAL NOT NULL,\n",
    "                       Publication Date TEXT,\n",
    "                       Pages INTEGER,\n",
    "                       Length TEXT,\n",
    "                       Narrator TEXT,\n",
    "                       Rating REAL \n",
    "                       ) \n",
    "                      \n",
    "\n",
    "                      ''' \n",
    "\n",
    "constructor_queries = [\n",
    "    create_customer_list,\n",
    "    create_inventory, \n",
    "    create_order_detail,\n",
    "    create_orders,\n",
    "    create_product_info, \n",
    "]"
   ]
  },
  {
   "cell_type": "code",
   "execution_count": 158,
   "id": "c6afd5a8-7e3b-4d26-b2a5-6da675f41e5a",
   "metadata": {},
   "outputs": [],
   "source": [
    "#quickly dropping older tables\n",
    "for name, df in dataframes.items():\n",
    "\n",
    "    query = f'DROP TABLE IF EXISTS {name}_2' \n",
    "    execute_query(query, 'data/books.sqlite') \n",
    "\n",
    "    "
   ]
  },
  {
   "cell_type": "markdown",
   "id": "465221e4-7f49-4fc0-a761-16874640ec6d",
   "metadata": {},
   "source": [
    "# Creating all new tables "
   ]
  },
  {
   "cell_type": "code",
   "execution_count": 159,
   "id": "d2ffb8b0-45ad-4e55-8ec0-e53ffdb69ffb",
   "metadata": {},
   "outputs": [],
   "source": [
    "for query in constructor_queries:\n",
    "    execute_query(query, 'data/books.sqlite') \n"
   ]
  },
  {
   "cell_type": "markdown",
   "id": "654c5d10-3692-4ad2-9457-13e56bb182ca",
   "metadata": {},
   "source": [
    "# copying all data into our tables "
   ]
  },
  {
   "cell_type": "code",
   "execution_count": 160,
   "id": "49918345-1cac-4100-b784-5827e8baf434",
   "metadata": {},
   "outputs": [],
   "source": [
    "for table in dataframes.keys(): \n",
    "\n",
    "    #copying data into our table \n",
    "\n",
    "    query = f''' \n",
    "            INSERT INTO {table}_2 \n",
    "            SELECT *\n",
    "            FROM {table}\n",
    "            ''' \n",
    "\n",
    "    execute_query(query, 'data/books.sqlite') \n",
    "\n",
    "    #deleting old table \n",
    "\n",
    "    query = f'''\n",
    "             DROP TABLE {table}\n",
    "             '''\n",
    "    execute_query(query, 'data/books.sqlite') \n",
    "\n",
    "    #renaming our new table to the same as the old \n",
    "\n",
    "    query = f'''\n",
    "\n",
    "             ALTER TABLE {table}_2\n",
    "             RENAME TO {table} \n",
    "             \n",
    "             '''\n",
    "\n",
    "    execute_query(query, 'data/books.sqlite') "
   ]
  },
  {
   "cell_type": "markdown",
   "id": "6e67791b-d8cf-46cd-8c12-e8ff4c353d7c",
   "metadata": {},
   "source": [
    "Now with updated tables we can try to insert incorrect data or leave values all null "
   ]
  },
  {
   "cell_type": "markdown",
   "id": "d5d4450f-fe0b-4425-b17f-7f741b63a96b",
   "metadata": {},
   "source": [
    "Printing the first few records of customer table "
   ]
  },
  {
   "cell_type": "code",
   "execution_count": 161,
   "id": "95311bfc-8a15-47ed-a59b-823e75b8565c",
   "metadata": {},
   "outputs": [
    {
     "data": {
      "text/plain": [
       "[('Frank Barnett',\n",
       "  'Flat 59M; Harris terrace; Albertburgh; B6T 2XR',\n",
       "  'frank.barnett@hotmail.com',\n",
       "  '+44121 4960637',\n",
       "  '981686'),\n",
       " ('Alexander Ford',\n",
       "  'Flat 83; Nicole pass; Lake Lewisstad; L8 7YF',\n",
       "  'alexander.ford@gmail.com',\n",
       "  '(0131) 4960131',\n",
       "  '197384'),\n",
       " ('Devin Henderson',\n",
       "  '005 Hargreaves shoal; Port Victor; MK0 8SG',\n",
       "  'devin.henderson@gmail.com',\n",
       "  '0116 496 0955',\n",
       "  '657739'),\n",
       " ('Diana Andrade',\n",
       "  '45 Wayne club; Barbaramouth; TF76 4DP',\n",
       "  'diana.andrade@gmail.com',\n",
       "  '+44(0)141 4960440',\n",
       "  '768407'),\n",
       " ('Julie May',\n",
       "  '29 Rice creek; Julianmouth; W7W 5JU',\n",
       "  'julie.may@gmail.com',\n",
       "  '+44161 496 0983',\n",
       "  '760665')]"
      ]
     },
     "execution_count": 161,
     "metadata": {},
     "output_type": "execute_result"
    }
   ],
   "source": [
    "query = '''\n",
    "        SELECT * \n",
    "        FROM customer_list\n",
    "        limit 5 \n",
    "        ''' \n",
    "\n",
    "execute_query(query, 'data/books.sqlite') "
   ]
  },
  {
   "cell_type": "markdown",
   "id": "708c51a9-a433-48a9-a48d-f927375ad1b5",
   "metadata": {},
   "source": [
    "Given that above we defined multiple conditions around inserting data into our cusotmer table but 2 of them where customer_id must be unique as well as the fact that Name cannot be NULL, so lets try an insert a record where both of these are the case "
   ]
  },
  {
   "cell_type": "code",
   "execution_count": 162,
   "id": "be429f56-6c6f-434a-a099-2c325169912b",
   "metadata": {},
   "outputs": [
    {
     "ename": "IntegrityError",
     "evalue": "UNIQUE constraint failed: customer_list.customer_id",
     "output_type": "error",
     "traceback": [
      "\u001b[0;31m---------------------------------------------------------------------------\u001b[0m",
      "\u001b[0;31mIntegrityError\u001b[0m                            Traceback (most recent call last)",
      "Cell \u001b[0;32mIn[162], line 8\u001b[0m\n\u001b[1;32m      1\u001b[0m query \u001b[38;5;241m=\u001b[39m \u001b[38;5;124m'''\u001b[39m\n\u001b[1;32m      2\u001b[0m \n\u001b[1;32m      3\u001b[0m \u001b[38;5;124m        INSERT INTO customer_list \u001b[39m\n\u001b[1;32m      4\u001b[0m \u001b[38;5;124m        VALUES ( \u001b[39m\u001b[38;5;124m'\u001b[39m\u001b[38;5;124mniven \u001b[39m\u001b[38;5;124m'\u001b[39m\u001b[38;5;124m , \u001b[39m\u001b[38;5;124m'\u001b[39m\u001b[38;5;124mnorth pole\u001b[39m\u001b[38;5;124m'\u001b[39m\u001b[38;5;124m, \u001b[39m\u001b[38;5;124m'\u001b[39m\u001b[38;5;124mniven.rooprah@yorksj.ac.uk\u001b[39m\u001b[38;5;124m'\u001b[39m\u001b[38;5;124m, \u001b[39m\u001b[38;5;124m'\u001b[39m\u001b[38;5;124m+44 .....\u001b[39m\u001b[38;5;124m'\u001b[39m\u001b[38;5;124m, \u001b[39m\u001b[38;5;124m'\u001b[39m\u001b[38;5;124m760665\u001b[39m\u001b[38;5;124m'\u001b[39m\u001b[38;5;124m ) \u001b[39m\n\u001b[1;32m      5\u001b[0m \n\u001b[1;32m      6\u001b[0m \u001b[38;5;124m        \u001b[39m\u001b[38;5;124m'''\u001b[39m\n\u001b[0;32m----> 8\u001b[0m \u001b[43mexecute_query\u001b[49m\u001b[43m(\u001b[49m\u001b[43mquery\u001b[49m\u001b[43m,\u001b[49m\u001b[43m \u001b[49m\u001b[38;5;124;43m'\u001b[39;49m\u001b[38;5;124;43mdata/books.sqlite\u001b[39;49m\u001b[38;5;124;43m'\u001b[39;49m\u001b[43m)\u001b[49m \n",
      "Cell \u001b[0;32mIn[150], line 6\u001b[0m, in \u001b[0;36mexecute_query\u001b[0;34m(query, dbname)\u001b[0m\n\u001b[1;32m      4\u001b[0m connection\u001b[38;5;241m.\u001b[39misolation_level \u001b[38;5;241m=\u001b[39m \u001b[38;5;28;01mNone\u001b[39;00m \n\u001b[1;32m      5\u001b[0m cur \u001b[38;5;241m=\u001b[39m connection\u001b[38;5;241m.\u001b[39mcursor() \n\u001b[0;32m----> 6\u001b[0m \u001b[43mcur\u001b[49m\u001b[38;5;241;43m.\u001b[39;49m\u001b[43mexecute\u001b[49m\u001b[43m(\u001b[49m\u001b[43mquery\u001b[49m\u001b[43m)\u001b[49m \n\u001b[1;32m      7\u001b[0m items \u001b[38;5;241m=\u001b[39m cur\u001b[38;5;241m.\u001b[39mfetchall()\n\u001b[1;32m      8\u001b[0m connection\u001b[38;5;241m.\u001b[39mcommit() \n",
      "\u001b[0;31mIntegrityError\u001b[0m: UNIQUE constraint failed: customer_list.customer_id"
     ]
    }
   ],
   "source": [
    "query = '''\n",
    "\n",
    "        INSERT INTO customer_list \n",
    "        VALUES ( 'niven ' , 'north pole', 'niven.rooprah@yorksj.ac.uk', '+44 .....', '760665' ) \n",
    "\n",
    "        '''\n",
    "\n",
    "execute_query(query, 'data/books.sqlite') "
   ]
  },
  {
   "cell_type": "markdown",
   "id": "a1f02984-92d0-411d-87af-b6c5bec7f82e",
   "metadata": {},
   "source": [
    "Alongside the constraint around unique user Ids, we can also add a basic constraint around email addresses to ensure that emails uploaded to our system happen to meet a particular specification. "
   ]
  },
  {
   "cell_type": "code",
   "execution_count": 164,
   "id": "f5bfc634-0497-4f3f-86c3-6c08886ad311",
   "metadata": {},
   "outputs": [
    {
     "ename": "IntegrityError",
     "evalue": "CHECK constraint failed: email LIKE '%@%.%'",
     "output_type": "error",
     "traceback": [
      "\u001b[0;31m---------------------------------------------------------------------------\u001b[0m",
      "\u001b[0;31mIntegrityError\u001b[0m                            Traceback (most recent call last)",
      "Cell \u001b[0;32mIn[164], line 8\u001b[0m\n\u001b[1;32m      1\u001b[0m query \u001b[38;5;241m=\u001b[39m \u001b[38;5;124m'''\u001b[39m\n\u001b[1;32m      2\u001b[0m \n\u001b[1;32m      3\u001b[0m \u001b[38;5;124m        INSERT INTO customer_list \u001b[39m\n\u001b[1;32m      4\u001b[0m \u001b[38;5;124m        VALUES ( \u001b[39m\u001b[38;5;124m'\u001b[39m\u001b[38;5;124mniven \u001b[39m\u001b[38;5;124m'\u001b[39m\u001b[38;5;124m , \u001b[39m\u001b[38;5;124m'\u001b[39m\u001b[38;5;124mnorth pole\u001b[39m\u001b[38;5;124m'\u001b[39m\u001b[38;5;124m, \u001b[39m\u001b[38;5;124m'\u001b[39m\u001b[38;5;124mblah blah\u001b[39m\u001b[38;5;124m'\u001b[39m\u001b[38;5;124m, \u001b[39m\u001b[38;5;124m'\u001b[39m\u001b[38;5;124m+44 .....\u001b[39m\u001b[38;5;124m'\u001b[39m\u001b[38;5;124m, \u001b[39m\u001b[38;5;124m'\u001b[39m\u001b[38;5;124m760665\u001b[39m\u001b[38;5;124m'\u001b[39m\u001b[38;5;124m ) \u001b[39m\n\u001b[1;32m      5\u001b[0m \n\u001b[1;32m      6\u001b[0m \u001b[38;5;124m        \u001b[39m\u001b[38;5;124m'''\u001b[39m\n\u001b[0;32m----> 8\u001b[0m \u001b[43mexecute_query\u001b[49m\u001b[43m(\u001b[49m\u001b[43mquery\u001b[49m\u001b[43m,\u001b[49m\u001b[43m \u001b[49m\u001b[38;5;124;43m'\u001b[39;49m\u001b[38;5;124;43mdata/books.sqlite\u001b[39;49m\u001b[38;5;124;43m'\u001b[39;49m\u001b[43m)\u001b[49m \n",
      "Cell \u001b[0;32mIn[150], line 6\u001b[0m, in \u001b[0;36mexecute_query\u001b[0;34m(query, dbname)\u001b[0m\n\u001b[1;32m      4\u001b[0m connection\u001b[38;5;241m.\u001b[39misolation_level \u001b[38;5;241m=\u001b[39m \u001b[38;5;28;01mNone\u001b[39;00m \n\u001b[1;32m      5\u001b[0m cur \u001b[38;5;241m=\u001b[39m connection\u001b[38;5;241m.\u001b[39mcursor() \n\u001b[0;32m----> 6\u001b[0m \u001b[43mcur\u001b[49m\u001b[38;5;241;43m.\u001b[39;49m\u001b[43mexecute\u001b[49m\u001b[43m(\u001b[49m\u001b[43mquery\u001b[49m\u001b[43m)\u001b[49m \n\u001b[1;32m      7\u001b[0m items \u001b[38;5;241m=\u001b[39m cur\u001b[38;5;241m.\u001b[39mfetchall()\n\u001b[1;32m      8\u001b[0m connection\u001b[38;5;241m.\u001b[39mcommit() \n",
      "\u001b[0;31mIntegrityError\u001b[0m: CHECK constraint failed: email LIKE '%@%.%'"
     ]
    }
   ],
   "source": [
    "query = '''\n",
    "\n",
    "        INSERT INTO customer_list \n",
    "        VALUES ( 'niven ' , 'north pole', 'blah blah', '+44 .....', '760665' ) \n",
    "\n",
    "        '''\n",
    "\n",
    "execute_query(query, 'data/books.sqlite') "
   ]
  },
  {
   "cell_type": "markdown",
   "id": "068512ad-7ed2-416a-bfd6-511ef07b2efe",
   "metadata": {},
   "source": [
    "Additioanl bits of verification that I could add to my dataset , possibly checking if price is inputted correctly, \n",
    "phone numbers are correctly documentated "
   ]
  },
  {
   "cell_type": "markdown",
   "id": "2fbb42c1-5e54-458c-84c4-667f814dfb4c",
   "metadata": {},
   "source": [
    "Bare in mind lots of additional checks can be added to ensure full functionality for bookshelifas databases but I've only Implemented a few of them "
   ]
  },
  {
   "cell_type": "code",
   "execution_count": null,
   "id": "6495332e-9abe-4f9e-859d-90383c8df871",
   "metadata": {},
   "outputs": [],
   "source": []
  }
 ],
 "metadata": {
  "kernelspec": {
   "display_name": "Python 3 (ipykernel)",
   "language": "python",
   "name": "python3"
  },
  "language_info": {
   "codemirror_mode": {
    "name": "ipython",
    "version": 3
   },
   "file_extension": ".py",
   "mimetype": "text/x-python",
   "name": "python",
   "nbconvert_exporter": "python",
   "pygments_lexer": "ipython3",
   "version": "3.10.14"
  }
 },
 "nbformat": 4,
 "nbformat_minor": 5
}
