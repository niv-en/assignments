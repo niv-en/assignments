{
 "cells": [
  {
   "cell_type": "markdown",
   "id": "9dbcefe1-2c21-4a50-b640-8deea21a23d3",
   "metadata": {},
   "source": [
    "# Databases assignment "
   ]
  },
  {
   "cell_type": "markdown",
   "id": "de2e5b47-6c76-4ac0-b312-01939757d4a5",
   "metadata": {},
   "source": [
    "Currently the Bookshelfia Database is split acrross 5 tables : `customer_list`, `inventory` , `order_detail` , `orders` and `product_info`.\n",
    "\n",
    "We will read in the the tables and then display the process of normalising the Database to 3rd Normal Norm. "
   ]
  },
  {
   "cell_type": "markdown",
   "id": "3087fe84-4277-48e2-ae07-1179caa36490",
   "metadata": {},
   "source": [
    "## Reading in the Database Tables using Pandas. "
   ]
  },
  {
   "cell_type": "code",
   "execution_count": 369,
   "id": "966baed2-361d-4124-a11d-0464881e9aab",
   "metadata": {},
   "outputs": [],
   "source": [
    "import glob \n",
    "import pandas as pd \n",
    "import numpy as np "
   ]
  },
  {
   "cell_type": "code",
   "execution_count": 370,
   "id": "6e1f7083-7ade-4693-9da8-83c809c9a629",
   "metadata": {},
   "outputs": [],
   "source": [
    "inventory = pd.read_csv('data/inventory.csv') \n",
    "orders = pd.read_csv('data/orders.csv') \n",
    "customer_list = pd.read_csv('data/customer_list.csv') \n",
    "order_detail = pd.read_csv('data/order_detail.csv') \n",
    "product_info = pd.read_csv('data/product_info.csv')"
   ]
  },
  {
   "cell_type": "markdown",
   "id": "92a5a5e4-84f2-42dd-9daa-01bf972ecc33",
   "metadata": {},
   "source": [
    "## Printing each table as DataFrame"
   ]
  },
  {
   "cell_type": "code",
   "execution_count": 371,
   "id": "502b8617-94e0-42ad-8b6a-796ea0677998",
   "metadata": {},
   "outputs": [
    {
     "data": {
      "text/html": [
       "<div>\n",
       "<style scoped>\n",
       "    .dataframe tbody tr th:only-of-type {\n",
       "        vertical-align: middle;\n",
       "    }\n",
       "\n",
       "    .dataframe tbody tr th {\n",
       "        vertical-align: top;\n",
       "    }\n",
       "\n",
       "    .dataframe thead th {\n",
       "        text-align: right;\n",
       "    }\n",
       "</style>\n",
       "<table border=\"1\" class=\"dataframe\">\n",
       "  <thead>\n",
       "    <tr style=\"text-align: right;\">\n",
       "      <th></th>\n",
       "      <th>Warehouse Location</th>\n",
       "      <th>Product Title</th>\n",
       "      <th>Quantity</th>\n",
       "    </tr>\n",
       "  </thead>\n",
       "  <tbody>\n",
       "    <tr>\n",
       "      <th>0</th>\n",
       "      <td>Corby</td>\n",
       "      <td>Anything week time director</td>\n",
       "      <td>23</td>\n",
       "    </tr>\n",
       "    <tr>\n",
       "      <th>1</th>\n",
       "      <td>Corby</td>\n",
       "      <td>Away north interest effect</td>\n",
       "      <td>17</td>\n",
       "    </tr>\n",
       "    <tr>\n",
       "      <th>2</th>\n",
       "      <td>Corby</td>\n",
       "      <td>Hair research lay unit</td>\n",
       "      <td>21</td>\n",
       "    </tr>\n",
       "  </tbody>\n",
       "</table>\n",
       "</div>"
      ],
      "text/plain": [
       "  Warehouse Location                Product Title  Quantity\n",
       "0              Corby  Anything week time director        23\n",
       "1              Corby   Away north interest effect        17\n",
       "2              Corby       Hair research lay unit        21"
      ]
     },
     "execution_count": 371,
     "metadata": {},
     "output_type": "execute_result"
    }
   ],
   "source": [
    "inventory.head(3) "
   ]
  },
  {
   "cell_type": "code",
   "execution_count": 372,
   "id": "ce3503bf-0f99-41a3-948f-5c6a11866419",
   "metadata": {},
   "outputs": [
    {
     "data": {
      "text/html": [
       "<div>\n",
       "<style scoped>\n",
       "    .dataframe tbody tr th:only-of-type {\n",
       "        vertical-align: middle;\n",
       "    }\n",
       "\n",
       "    .dataframe tbody tr th {\n",
       "        vertical-align: top;\n",
       "    }\n",
       "\n",
       "    .dataframe thead th {\n",
       "        text-align: right;\n",
       "    }\n",
       "</style>\n",
       "<table border=\"1\" class=\"dataframe\">\n",
       "  <thead>\n",
       "    <tr style=\"text-align: right;\">\n",
       "      <th></th>\n",
       "      <th>Order ID</th>\n",
       "      <th>Date</th>\n",
       "      <th>Customer ID</th>\n",
       "      <th>Total</th>\n",
       "      <th>Payment Method</th>\n",
       "      <th>Card Number</th>\n",
       "      <th>Authorisation Code</th>\n",
       "    </tr>\n",
       "  </thead>\n",
       "  <tbody>\n",
       "    <tr>\n",
       "      <th>0</th>\n",
       "      <td>8987aed1c965464b9b22b3288bd3690a</td>\n",
       "      <td>2020-02-01 01:08:22</td>\n",
       "      <td>671942</td>\n",
       "      <td>75.01</td>\n",
       "      <td>Google Pay</td>\n",
       "      <td>N/a</td>\n",
       "      <td>db18faa643463c90fd3b0477f1caa6d9c734e577</td>\n",
       "    </tr>\n",
       "    <tr>\n",
       "      <th>1</th>\n",
       "      <td>d393984e08ea472da1031172fd781881</td>\n",
       "      <td>2020-02-01 07:32:20</td>\n",
       "      <td>991686</td>\n",
       "      <td>52.25</td>\n",
       "      <td>Paypal</td>\n",
       "      <td>N/a</td>\n",
       "      <td>c1930b607b624f23f86d85211af063e39b859358</td>\n",
       "    </tr>\n",
       "    <tr>\n",
       "      <th>2</th>\n",
       "      <td>74e463faf1b34caf928dd5038fb04566</td>\n",
       "      <td>2020-02-01 21:04:45</td>\n",
       "      <td>120455</td>\n",
       "      <td>188.93</td>\n",
       "      <td>Paypal</td>\n",
       "      <td>N/a</td>\n",
       "      <td>0c2866051f1bab13e7b7c4eba1dfcd3bf178ba76</td>\n",
       "    </tr>\n",
       "  </tbody>\n",
       "</table>\n",
       "</div>"
      ],
      "text/plain": [
       "                           Order ID                 Date  Customer ID   Total  \\\n",
       "0  8987aed1c965464b9b22b3288bd3690a  2020-02-01 01:08:22       671942   75.01   \n",
       "1  d393984e08ea472da1031172fd781881  2020-02-01 07:32:20       991686   52.25   \n",
       "2  74e463faf1b34caf928dd5038fb04566  2020-02-01 21:04:45       120455  188.93   \n",
       "\n",
       "  Payment Method Card Number                        Authorisation Code  \n",
       "0     Google Pay         N/a  db18faa643463c90fd3b0477f1caa6d9c734e577  \n",
       "1         Paypal         N/a  c1930b607b624f23f86d85211af063e39b859358  \n",
       "2         Paypal         N/a  0c2866051f1bab13e7b7c4eba1dfcd3bf178ba76  "
      ]
     },
     "execution_count": 372,
     "metadata": {},
     "output_type": "execute_result"
    }
   ],
   "source": [
    "orders.head(3) "
   ]
  },
  {
   "cell_type": "code",
   "execution_count": 373,
   "id": "f56cdf30-6d86-4cb4-88af-b3e211ec0cd3",
   "metadata": {},
   "outputs": [
    {
     "data": {
      "text/html": [
       "<div>\n",
       "<style scoped>\n",
       "    .dataframe tbody tr th:only-of-type {\n",
       "        vertical-align: middle;\n",
       "    }\n",
       "\n",
       "    .dataframe tbody tr th {\n",
       "        vertical-align: top;\n",
       "    }\n",
       "\n",
       "    .dataframe thead th {\n",
       "        text-align: right;\n",
       "    }\n",
       "</style>\n",
       "<table border=\"1\" class=\"dataframe\">\n",
       "  <thead>\n",
       "    <tr style=\"text-align: right;\">\n",
       "      <th></th>\n",
       "      <th>Name</th>\n",
       "      <th>address</th>\n",
       "      <th>email</th>\n",
       "      <th>phone</th>\n",
       "      <th>customer_id</th>\n",
       "    </tr>\n",
       "  </thead>\n",
       "  <tbody>\n",
       "    <tr>\n",
       "      <th>0</th>\n",
       "      <td>Frank Barnett</td>\n",
       "      <td>Flat 59M; Harris terrace; Albertburgh; B6T 2XR</td>\n",
       "      <td>frank.barnett@hotmail.com</td>\n",
       "      <td>+44121 4960637</td>\n",
       "      <td>981686</td>\n",
       "    </tr>\n",
       "    <tr>\n",
       "      <th>1</th>\n",
       "      <td>Alexander Ford</td>\n",
       "      <td>Flat 83; Nicole pass; Lake Lewisstad; L8 7YF</td>\n",
       "      <td>alexander.ford@gmail.com</td>\n",
       "      <td>(0131) 4960131</td>\n",
       "      <td>197384</td>\n",
       "    </tr>\n",
       "    <tr>\n",
       "      <th>2</th>\n",
       "      <td>Devin Henderson</td>\n",
       "      <td>005 Hargreaves shoal; Port Victor; MK0 8SG</td>\n",
       "      <td>devin.henderson@gmail.com</td>\n",
       "      <td>0116 496 0955</td>\n",
       "      <td>657739</td>\n",
       "    </tr>\n",
       "  </tbody>\n",
       "</table>\n",
       "</div>"
      ],
      "text/plain": [
       "              Name                                         address  \\\n",
       "0    Frank Barnett  Flat 59M; Harris terrace; Albertburgh; B6T 2XR   \n",
       "1   Alexander Ford    Flat 83; Nicole pass; Lake Lewisstad; L8 7YF   \n",
       "2  Devin Henderson      005 Hargreaves shoal; Port Victor; MK0 8SG   \n",
       "\n",
       "                       email           phone  customer_id  \n",
       "0  frank.barnett@hotmail.com  +44121 4960637       981686  \n",
       "1   alexander.ford@gmail.com  (0131) 4960131       197384  \n",
       "2  devin.henderson@gmail.com   0116 496 0955       657739  "
      ]
     },
     "execution_count": 373,
     "metadata": {},
     "output_type": "execute_result"
    }
   ],
   "source": [
    "customer_list.head(3) "
   ]
  },
  {
   "cell_type": "code",
   "execution_count": 374,
   "id": "cf028900-ae54-45a5-a2f4-93a3a3f7b671",
   "metadata": {},
   "outputs": [
    {
     "data": {
      "text/html": [
       "<div>\n",
       "<style scoped>\n",
       "    .dataframe tbody tr th:only-of-type {\n",
       "        vertical-align: middle;\n",
       "    }\n",
       "\n",
       "    .dataframe tbody tr th {\n",
       "        vertical-align: top;\n",
       "    }\n",
       "\n",
       "    .dataframe thead th {\n",
       "        text-align: right;\n",
       "    }\n",
       "</style>\n",
       "<table border=\"1\" class=\"dataframe\">\n",
       "  <thead>\n",
       "    <tr style=\"text-align: right;\">\n",
       "      <th></th>\n",
       "      <th>Order ID</th>\n",
       "      <th>Product ISBN</th>\n",
       "      <th>Quantity</th>\n",
       "    </tr>\n",
       "  </thead>\n",
       "  <tbody>\n",
       "    <tr>\n",
       "      <th>0</th>\n",
       "      <td>00044461f0804df68734e42c65c51331</td>\n",
       "      <td>978-1-04-142985-2</td>\n",
       "      <td>1</td>\n",
       "    </tr>\n",
       "    <tr>\n",
       "      <th>1</th>\n",
       "      <td>0016fbff105f4954892e8f03a5fc2e20</td>\n",
       "      <td>978-1-893866-80-5</td>\n",
       "      <td>2</td>\n",
       "    </tr>\n",
       "    <tr>\n",
       "      <th>2</th>\n",
       "      <td>0016fbff105f4954892e8f03a5fc2e20</td>\n",
       "      <td>978-1-4440-2173-8</td>\n",
       "      <td>5</td>\n",
       "    </tr>\n",
       "  </tbody>\n",
       "</table>\n",
       "</div>"
      ],
      "text/plain": [
       "                           Order ID       Product ISBN  Quantity\n",
       "0  00044461f0804df68734e42c65c51331  978-1-04-142985-2         1\n",
       "1  0016fbff105f4954892e8f03a5fc2e20  978-1-893866-80-5         2\n",
       "2  0016fbff105f4954892e8f03a5fc2e20  978-1-4440-2173-8         5"
      ]
     },
     "execution_count": 374,
     "metadata": {},
     "output_type": "execute_result"
    }
   ],
   "source": [
    "order_detail.head(3) "
   ]
  },
  {
   "cell_type": "code",
   "execution_count": 375,
   "id": "d7f33145-2124-40e8-b0e3-67c156632d80",
   "metadata": {},
   "outputs": [
    {
     "data": {
      "text/html": [
       "<div>\n",
       "<style scoped>\n",
       "    .dataframe tbody tr th:only-of-type {\n",
       "        vertical-align: middle;\n",
       "    }\n",
       "\n",
       "    .dataframe tbody tr th {\n",
       "        vertical-align: top;\n",
       "    }\n",
       "\n",
       "    .dataframe thead th {\n",
       "        text-align: right;\n",
       "    }\n",
       "</style>\n",
       "<table border=\"1\" class=\"dataframe\">\n",
       "  <thead>\n",
       "    <tr style=\"text-align: right;\">\n",
       "      <th></th>\n",
       "      <th>ISBN</th>\n",
       "      <th>Type</th>\n",
       "      <th>Title</th>\n",
       "      <th>Author</th>\n",
       "      <th>Publisher</th>\n",
       "      <th>Genre</th>\n",
       "      <th>Format</th>\n",
       "      <th>Unit Price</th>\n",
       "      <th>Publication Date</th>\n",
       "      <th>Pages</th>\n",
       "      <th>Length</th>\n",
       "      <th>Narrator</th>\n",
       "      <th>Rating</th>\n",
       "    </tr>\n",
       "  </thead>\n",
       "  <tbody>\n",
       "    <tr>\n",
       "      <th>0</th>\n",
       "      <td>978-1-4386-9466-5</td>\n",
       "      <td>eBook</td>\n",
       "      <td>Anything week time director</td>\n",
       "      <td>Denise Anderson</td>\n",
       "      <td>Hachette Livre</td>\n",
       "      <td>Religion and Spirituality</td>\n",
       "      <td>Digital</td>\n",
       "      <td>10.02</td>\n",
       "      <td>13/02/1955</td>\n",
       "      <td>223</td>\n",
       "      <td>NaN</td>\n",
       "      <td>NaN</td>\n",
       "      <td>2.41</td>\n",
       "    </tr>\n",
       "    <tr>\n",
       "      <th>1</th>\n",
       "      <td>978-0-7997-1936-9</td>\n",
       "      <td>Book</td>\n",
       "      <td>Away north interest effect</td>\n",
       "      <td>Jacob Lucero</td>\n",
       "      <td>Transworld</td>\n",
       "      <td>Gardening and Nature</td>\n",
       "      <td>Paperback</td>\n",
       "      <td>17.15</td>\n",
       "      <td>05/08/1942</td>\n",
       "      <td>241</td>\n",
       "      <td>NaN</td>\n",
       "      <td>NaN</td>\n",
       "      <td>2.98</td>\n",
       "    </tr>\n",
       "  </tbody>\n",
       "</table>\n",
       "</div>"
      ],
      "text/plain": [
       "                ISBN   Type                        Title           Author  \\\n",
       "0  978-1-4386-9466-5  eBook  Anything week time director  Denise Anderson   \n",
       "1  978-0-7997-1936-9   Book   Away north interest effect     Jacob Lucero   \n",
       "\n",
       "        Publisher                      Genre     Format  Unit Price  \\\n",
       "0  Hachette Livre  Religion and Spirituality    Digital       10.02   \n",
       "1      Transworld       Gardening and Nature  Paperback       17.15   \n",
       "\n",
       "  Publication Date  Pages Length Narrator  Rating  \n",
       "0       13/02/1955    223    NaN      NaN    2.41  \n",
       "1       05/08/1942    241    NaN      NaN    2.98  "
      ]
     },
     "execution_count": 375,
     "metadata": {},
     "output_type": "execute_result"
    }
   ],
   "source": [
    "product_info.head(2) "
   ]
  },
  {
   "cell_type": "markdown",
   "id": "76d25ac2-3f04-44ce-b8a3-7e16dfd4a4b0",
   "metadata": {},
   "source": [
    "# Database Normalisation "
   ]
  },
  {
   "cell_type": "markdown",
   "id": "7e416b63-1dd1-4238-9f73-54d9361810ea",
   "metadata": {},
   "source": [
    "Currently the Database is already normalised each table is in 3rd Normal Form. However, to display the process of normalisation, I will denormalise the data through a series of pandas `joins`. Each of the individual tables with will merged together to create one combined table, which will likely represent what the Database looked like in its denormalised form. "
   ]
  },
  {
   "cell_type": "markdown",
   "id": "0a769e87-4f96-4eca-8f50-0872940c9201",
   "metadata": {},
   "source": [
    "### Denormalising the Database "
   ]
  },
  {
   "cell_type": "code",
   "execution_count": 376,
   "id": "1889d82a",
   "metadata": {},
   "outputs": [],
   "source": [
    "temp1 = order_detail.merge(product_info, left_on = 'Product ISBN', right_on = 'ISBN' ) \n",
    "temp1.drop('Product ISBN', inplace = True , axis  = 'columns' ) \n",
    "temp2 = temp1.groupby('Order ID').agg(list) \n",
    "temp3  =temp2.merge(orders, left_index = True, right_on = 'Order ID').reset_index(drop = True ) \n",
    "temp4 = temp3.merge(customer_list, left_on = 'Customer ID', right_on = 'customer_id')\n",
    "\n",
    "temp4['Order ID'] = temp4.index\n",
    "temp4.drop(['Customer ID' ] , axis = 'columns' , inplace = True ) \n",
    "order_detail = temp4 "
   ]
  },
  {
   "cell_type": "markdown",
   "id": "84f3dccb-bdc8-4e47-b3a8-bbf7ce1087dd",
   "metadata": {},
   "source": [
    "## `order_detail` "
   ]
  },
  {
   "cell_type": "markdown",
   "id": "24fb63e7-8b6f-4db8-b5bd-bccdfa3202b8",
   "metadata": {},
   "source": [
    "Through merging the tables together, I have created a combined table called `order_detail`. "
   ]
  },
  {
   "cell_type": "code",
   "execution_count": 377,
   "id": "d0211fd3-70e8-42cf-a258-c0f8ed632532",
   "metadata": {},
   "outputs": [
    {
     "data": {
      "text/html": [
       "<div>\n",
       "<style scoped>\n",
       "    .dataframe tbody tr th:only-of-type {\n",
       "        vertical-align: middle;\n",
       "    }\n",
       "\n",
       "    .dataframe tbody tr th {\n",
       "        vertical-align: top;\n",
       "    }\n",
       "\n",
       "    .dataframe thead th {\n",
       "        text-align: right;\n",
       "    }\n",
       "</style>\n",
       "<table border=\"1\" class=\"dataframe\">\n",
       "  <thead>\n",
       "    <tr style=\"text-align: right;\">\n",
       "      <th></th>\n",
       "      <th>Quantity</th>\n",
       "      <th>ISBN</th>\n",
       "      <th>Type</th>\n",
       "      <th>Title</th>\n",
       "      <th>Author</th>\n",
       "      <th>Publisher</th>\n",
       "      <th>Genre</th>\n",
       "      <th>Format</th>\n",
       "      <th>Unit Price</th>\n",
       "      <th>Publication Date</th>\n",
       "      <th>Pages</th>\n",
       "      <th>Length</th>\n",
       "      <th>Narrator</th>\n",
       "      <th>Rating</th>\n",
       "      <th>Order ID</th>\n",
       "      <th>Date</th>\n",
       "      <th>Total</th>\n",
       "      <th>Payment Method</th>\n",
       "      <th>Card Number</th>\n",
       "      <th>Authorisation Code</th>\n",
       "      <th>Name</th>\n",
       "      <th>address</th>\n",
       "      <th>email</th>\n",
       "      <th>phone</th>\n",
       "      <th>customer_id</th>\n",
       "    </tr>\n",
       "  </thead>\n",
       "  <tbody>\n",
       "    <tr>\n",
       "      <th>0</th>\n",
       "      <td>[1]</td>\n",
       "      <td>[978-1-04-142985-2]</td>\n",
       "      <td>[AudioBook]</td>\n",
       "      <td>[Wish book these rather white]</td>\n",
       "      <td>[Jennifer Solomon]</td>\n",
       "      <td>[Pearson]</td>\n",
       "      <td>[Classic Fiction]</td>\n",
       "      <td>[Audio]</td>\n",
       "      <td>[11.32]</td>\n",
       "      <td>[21/01/1968]</td>\n",
       "      <td>[0]</td>\n",
       "      <td>[11:03]</td>\n",
       "      <td>[Kemmofer Ikeda]</td>\n",
       "      <td>[3.27]</td>\n",
       "      <td>0</td>\n",
       "      <td>2021-09-17 20:49:42</td>\n",
       "      <td>11.32</td>\n",
       "      <td>Credit Card</td>\n",
       "      <td>4464042894384166</td>\n",
       "      <td>N/a</td>\n",
       "      <td>Kimberly Brown</td>\n",
       "      <td>5 Ben roads; North Joanna; G15 8PY</td>\n",
       "      <td>kimberly.brown@yahoo.co.uk</td>\n",
       "      <td>+44808 1570202</td>\n",
       "      <td>681089</td>\n",
       "    </tr>\n",
       "    <tr>\n",
       "      <th>1</th>\n",
       "      <td>[2, 5, 1, 5, 1]</td>\n",
       "      <td>[978-1-893866-80-5, 978-1-4440-2173-8, 978-1-7...</td>\n",
       "      <td>[AudioBook, Book, Book, Book, eBook]</td>\n",
       "      <td>[Firm fight better, Manager teach table guy ex...</td>\n",
       "      <td>[John Dickerson, Edgar Simmons, Taylor Best, M...</td>\n",
       "      <td>[Bloomsbury, Transworld, Joffe Books, Severn H...</td>\n",
       "      <td>[Children, Adventure Fiction, Action, Referenc...</td>\n",
       "      <td>[Audio, Paperback, Paperback, Paperback, Digital]</td>\n",
       "      <td>[12.68, 16.8, 67.02, 57.21, 44.57]</td>\n",
       "      <td>[13/07/1963, 07/05/1970, 11/03/1997, 05/09/200...</td>\n",
       "      <td>[0, 184, 287, 172, 228]</td>\n",
       "      <td>[08:37, nan, nan, nan, nan]</td>\n",
       "      <td>[Kemmofer Ikeda, nan, nan, nan, nan]</td>\n",
       "      <td>[1.48, 1.97, 2.99, 2.89, 2.42]</td>\n",
       "      <td>1</td>\n",
       "      <td>2020-06-22 12:19:10</td>\n",
       "      <td>507.00</td>\n",
       "      <td>Paypal</td>\n",
       "      <td>N/a</td>\n",
       "      <td>4c9fd5856caebe0d3560cfe8bc871527d79085f1</td>\n",
       "      <td>Candace Garner</td>\n",
       "      <td>36 Suzanne crossroad; North Gerard; W0 6PY</td>\n",
       "      <td>keith42@hotmail.com</td>\n",
       "      <td>+44151 496 0695</td>\n",
       "      <td>529677</td>\n",
       "    </tr>\n",
       "    <tr>\n",
       "      <th>2</th>\n",
       "      <td>[1]</td>\n",
       "      <td>[978-1-76063-131-4]</td>\n",
       "      <td>[Book]</td>\n",
       "      <td>[Board involve sign number simply]</td>\n",
       "      <td>[Jesse Bates]</td>\n",
       "      <td>[Pearson]</td>\n",
       "      <td>[Religion and Spirituality]</td>\n",
       "      <td>[Hardback]</td>\n",
       "      <td>[43.5]</td>\n",
       "      <td>[19/05/1982]</td>\n",
       "      <td>[130]</td>\n",
       "      <td>[nan]</td>\n",
       "      <td>[nan]</td>\n",
       "      <td>[4.44]</td>\n",
       "      <td>2</td>\n",
       "      <td>2021-05-17 14:57:25</td>\n",
       "      <td>43.50</td>\n",
       "      <td>Google Pay</td>\n",
       "      <td>N/a</td>\n",
       "      <td>d8a52b628ffcf6c4a7ac047292beac54d4885c1a</td>\n",
       "      <td>Kyle Morales</td>\n",
       "      <td>Studio 6; Melissa bypass; Russellborough; B29 4AH</td>\n",
       "      <td>kyle.morales@hotmail.com</td>\n",
       "      <td>(0909)8790031</td>\n",
       "      <td>129088</td>\n",
       "    </tr>\n",
       "  </tbody>\n",
       "</table>\n",
       "</div>"
      ],
      "text/plain": [
       "          Quantity                                               ISBN  \\\n",
       "0              [1]                                [978-1-04-142985-2]   \n",
       "1  [2, 5, 1, 5, 1]  [978-1-893866-80-5, 978-1-4440-2173-8, 978-1-7...   \n",
       "2              [1]                                [978-1-76063-131-4]   \n",
       "\n",
       "                                   Type  \\\n",
       "0                           [AudioBook]   \n",
       "1  [AudioBook, Book, Book, Book, eBook]   \n",
       "2                                [Book]   \n",
       "\n",
       "                                               Title  \\\n",
       "0                     [Wish book these rather white]   \n",
       "1  [Firm fight better, Manager teach table guy ex...   \n",
       "2                 [Board involve sign number simply]   \n",
       "\n",
       "                                              Author  \\\n",
       "0                                 [Jennifer Solomon]   \n",
       "1  [John Dickerson, Edgar Simmons, Taylor Best, M...   \n",
       "2                                      [Jesse Bates]   \n",
       "\n",
       "                                           Publisher  \\\n",
       "0                                          [Pearson]   \n",
       "1  [Bloomsbury, Transworld, Joffe Books, Severn H...   \n",
       "2                                          [Pearson]   \n",
       "\n",
       "                                               Genre  \\\n",
       "0                                  [Classic Fiction]   \n",
       "1  [Children, Adventure Fiction, Action, Referenc...   \n",
       "2                        [Religion and Spirituality]   \n",
       "\n",
       "                                              Format  \\\n",
       "0                                            [Audio]   \n",
       "1  [Audio, Paperback, Paperback, Paperback, Digital]   \n",
       "2                                         [Hardback]   \n",
       "\n",
       "                           Unit Price  \\\n",
       "0                             [11.32]   \n",
       "1  [12.68, 16.8, 67.02, 57.21, 44.57]   \n",
       "2                              [43.5]   \n",
       "\n",
       "                                    Publication Date                    Pages  \\\n",
       "0                                       [21/01/1968]                      [0]   \n",
       "1  [13/07/1963, 07/05/1970, 11/03/1997, 05/09/200...  [0, 184, 287, 172, 228]   \n",
       "2                                       [19/05/1982]                    [130]   \n",
       "\n",
       "                        Length                              Narrator  \\\n",
       "0                      [11:03]                      [Kemmofer Ikeda]   \n",
       "1  [08:37, nan, nan, nan, nan]  [Kemmofer Ikeda, nan, nan, nan, nan]   \n",
       "2                        [nan]                                 [nan]   \n",
       "\n",
       "                           Rating  Order ID                 Date   Total  \\\n",
       "0                          [3.27]         0  2021-09-17 20:49:42   11.32   \n",
       "1  [1.48, 1.97, 2.99, 2.89, 2.42]         1  2020-06-22 12:19:10  507.00   \n",
       "2                          [4.44]         2  2021-05-17 14:57:25   43.50   \n",
       "\n",
       "  Payment Method       Card Number                        Authorisation Code  \\\n",
       "0    Credit Card  4464042894384166                                       N/a   \n",
       "1         Paypal               N/a  4c9fd5856caebe0d3560cfe8bc871527d79085f1   \n",
       "2     Google Pay               N/a  d8a52b628ffcf6c4a7ac047292beac54d4885c1a   \n",
       "\n",
       "             Name                                            address  \\\n",
       "0  Kimberly Brown                 5 Ben roads; North Joanna; G15 8PY   \n",
       "1  Candace Garner         36 Suzanne crossroad; North Gerard; W0 6PY   \n",
       "2    Kyle Morales  Studio 6; Melissa bypass; Russellborough; B29 4AH   \n",
       "\n",
       "                        email            phone  customer_id  \n",
       "0  kimberly.brown@yahoo.co.uk   +44808 1570202       681089  \n",
       "1         keith42@hotmail.com  +44151 496 0695       529677  \n",
       "2    kyle.morales@hotmail.com    (0909)8790031       129088  "
      ]
     },
     "execution_count": 377,
     "metadata": {},
     "output_type": "execute_result"
    }
   ],
   "source": [
    "pd.set_option('display.max_columns', None) \n",
    "order_detail.head(3) "
   ]
  },
  {
   "cell_type": "markdown",
   "id": "ae6eb899-b3b8-497f-b464-00baced209b6",
   "metadata": {},
   "source": [
    "It is worth mentioning that the `inventory` table has not been merged with the rest. As, it is likely that the `inventory` table prior to normalisation existed as its own table.\n",
    "\n",
    "Printing the names of fields in `order_detail` : "
   ]
  },
  {
   "cell_type": "code",
   "execution_count": 378,
   "id": "5cb4dea7-475b-42d8-bb9a-c19fb38a5caa",
   "metadata": {},
   "outputs": [
    {
     "data": {
      "text/plain": [
       "Index(['Quantity', 'ISBN', 'Type', 'Title', 'Author', 'Publisher', 'Genre',\n",
       "       'Format', 'Unit Price', 'Publication Date', 'Pages', 'Length',\n",
       "       'Narrator', 'Rating', 'Order ID', 'Date', 'Total', 'Payment Method',\n",
       "       'Card Number', 'Authorisation Code', 'Name', 'address', 'email',\n",
       "       'phone', 'customer_id'],\n",
       "      dtype='object')"
      ]
     },
     "execution_count": 378,
     "metadata": {},
     "output_type": "execute_result"
    }
   ],
   "source": [
    "order_detail.columns"
   ]
  },
  {
   "cell_type": "markdown",
   "id": "b92a4c0c-e2d2-47dc-b014-8582b03b5e9a",
   "metadata": {},
   "source": [
    "# First Normal Form "
   ]
  },
  {
   "cell_type": "markdown",
   "id": "ea3bab1c-bcc4-40df-91bf-6d2bfaa68b8e",
   "metadata": {},
   "source": [
    "To normalise the table above it must be passed through all the normalisation steps from 1st to 3rd normal form sequentially.\n",
    "In order for a database to be in a particular Normal Form, all its tables must be exist in that particular normal form. Normal Form requirements apply to the individual tables within a database. \n",
    "\n",
    "### First Normal Form requirements for Table:\n",
    "\n",
    "1. Every field/column name must be unique.\n",
    "2. All Values in the same field should be in the same domain/topic.\n",
    "4. Values in fields should be atomic ( only one value can be stored within each cell ).\n",
    "5. No two records can be identical.\n",
    "6. Table must have a primary key. "
   ]
  },
  {
   "cell_type": "markdown",
   "id": "749a088c-b020-4df0-b382-c50ae91763f5",
   "metadata": {},
   "source": [
    "### Current Database status \n",
    "\n",
    "- All field names are unique\n",
    "- All values in the same field/column are in the same domain. \n",
    "- All values are not atomic in `order_detail` multiple values are being stored within a single cell. E.g. Multiple ISBNs are stored in the same cell, in the case multiple books are included within an order.  \n",
    "- `order_detail` has a primary key `Order ID` and `inventory` has a composite key `Product Title`, `Warehouse Location`. Meaning all records in both tables are unique, satisfying conditions 5 and 6. "
   ]
  },
  {
   "cell_type": "markdown",
   "id": "11f00452-275d-4102-8838-ac7dafd45f4a",
   "metadata": {},
   "source": [
    "## Transforming `order_detail` to First Normal Form "
   ]
  },
  {
   "cell_type": "markdown",
   "id": "4c503ff6-3bac-4ce3-a8af-966e035c1e74",
   "metadata": {},
   "source": [
    "As `order_detail` doesn't meet the requirements for 1st Normal Form, the table must be transformed. "
   ]
  },
  {
   "cell_type": "markdown",
   "id": "40f2ed6f-a5f6-4c3d-9337-6dc9826374d7",
   "metadata": {},
   "source": [
    "In order to solve the issue of data not being atomic, rather than using a single row to store each order, leading to fields such as `ISBN` storing multiple values. Instead, we will store the order of each item in an individual row. This means that a single order will be represented using n rows where n is the number of unique items within that order. "
   ]
  },
  {
   "cell_type": "markdown",
   "id": "65dff4ce-91e0-4fec-82a9-c831ec6582b8",
   "metadata": {},
   "source": [
    "To visualise what this transformation looks like, `order_detail` has been transformed into 1st Normal Form using Pandas `explode` function on every field which is currently not atomic. "
   ]
  },
  {
   "cell_type": "code",
   "execution_count": 379,
   "id": "d9116979",
   "metadata": {},
   "outputs": [
    {
     "data": {
      "text/html": [
       "<div>\n",
       "<style scoped>\n",
       "    .dataframe tbody tr th:only-of-type {\n",
       "        vertical-align: middle;\n",
       "    }\n",
       "\n",
       "    .dataframe tbody tr th {\n",
       "        vertical-align: top;\n",
       "    }\n",
       "\n",
       "    .dataframe thead th {\n",
       "        text-align: right;\n",
       "    }\n",
       "</style>\n",
       "<table border=\"1\" class=\"dataframe\">\n",
       "  <thead>\n",
       "    <tr style=\"text-align: right;\">\n",
       "      <th></th>\n",
       "      <th>Quantity</th>\n",
       "      <th>ISBN</th>\n",
       "      <th>Type</th>\n",
       "      <th>Title</th>\n",
       "      <th>Author</th>\n",
       "      <th>Publisher</th>\n",
       "      <th>Genre</th>\n",
       "      <th>Format</th>\n",
       "      <th>Unit Price</th>\n",
       "      <th>Publication Date</th>\n",
       "      <th>Pages</th>\n",
       "      <th>Length</th>\n",
       "      <th>Narrator</th>\n",
       "      <th>Rating</th>\n",
       "      <th>Order ID</th>\n",
       "      <th>Date</th>\n",
       "      <th>Total</th>\n",
       "      <th>Payment Method</th>\n",
       "      <th>Card Number</th>\n",
       "      <th>Authorisation Code</th>\n",
       "      <th>Name</th>\n",
       "      <th>address</th>\n",
       "      <th>email</th>\n",
       "      <th>phone</th>\n",
       "      <th>customer_id</th>\n",
       "    </tr>\n",
       "  </thead>\n",
       "  <tbody>\n",
       "    <tr>\n",
       "      <th>0</th>\n",
       "      <td>1</td>\n",
       "      <td>978-1-04-142985-2</td>\n",
       "      <td>AudioBook</td>\n",
       "      <td>Wish book these rather white</td>\n",
       "      <td>Jennifer Solomon</td>\n",
       "      <td>Pearson</td>\n",
       "      <td>Classic Fiction</td>\n",
       "      <td>Audio</td>\n",
       "      <td>11.32</td>\n",
       "      <td>21/01/1968</td>\n",
       "      <td>0</td>\n",
       "      <td>11:03</td>\n",
       "      <td>Kemmofer Ikeda</td>\n",
       "      <td>3.27</td>\n",
       "      <td>0</td>\n",
       "      <td>2021-09-17 20:49:42</td>\n",
       "      <td>11.32</td>\n",
       "      <td>Credit Card</td>\n",
       "      <td>4464042894384166</td>\n",
       "      <td>N/a</td>\n",
       "      <td>Kimberly Brown</td>\n",
       "      <td>5 Ben roads; North Joanna; G15 8PY</td>\n",
       "      <td>kimberly.brown@yahoo.co.uk</td>\n",
       "      <td>+44808 1570202</td>\n",
       "      <td>681089</td>\n",
       "    </tr>\n",
       "    <tr>\n",
       "      <th>1</th>\n",
       "      <td>2</td>\n",
       "      <td>978-1-893866-80-5</td>\n",
       "      <td>AudioBook</td>\n",
       "      <td>Firm fight better</td>\n",
       "      <td>John Dickerson</td>\n",
       "      <td>Bloomsbury</td>\n",
       "      <td>Children</td>\n",
       "      <td>Audio</td>\n",
       "      <td>12.68</td>\n",
       "      <td>13/07/1963</td>\n",
       "      <td>0</td>\n",
       "      <td>08:37</td>\n",
       "      <td>Kemmofer Ikeda</td>\n",
       "      <td>1.48</td>\n",
       "      <td>1</td>\n",
       "      <td>2020-06-22 12:19:10</td>\n",
       "      <td>507.00</td>\n",
       "      <td>Paypal</td>\n",
       "      <td>N/a</td>\n",
       "      <td>4c9fd5856caebe0d3560cfe8bc871527d79085f1</td>\n",
       "      <td>Candace Garner</td>\n",
       "      <td>36 Suzanne crossroad; North Gerard; W0 6PY</td>\n",
       "      <td>keith42@hotmail.com</td>\n",
       "      <td>+44151 496 0695</td>\n",
       "      <td>529677</td>\n",
       "    </tr>\n",
       "    <tr>\n",
       "      <th>1</th>\n",
       "      <td>5</td>\n",
       "      <td>978-1-4440-2173-8</td>\n",
       "      <td>Book</td>\n",
       "      <td>Manager teach table guy experience give</td>\n",
       "      <td>Edgar Simmons</td>\n",
       "      <td>Transworld</td>\n",
       "      <td>Adventure Fiction</td>\n",
       "      <td>Paperback</td>\n",
       "      <td>16.8</td>\n",
       "      <td>07/05/1970</td>\n",
       "      <td>184</td>\n",
       "      <td>NaN</td>\n",
       "      <td>NaN</td>\n",
       "      <td>1.97</td>\n",
       "      <td>1</td>\n",
       "      <td>2020-06-22 12:19:10</td>\n",
       "      <td>507.00</td>\n",
       "      <td>Paypal</td>\n",
       "      <td>N/a</td>\n",
       "      <td>4c9fd5856caebe0d3560cfe8bc871527d79085f1</td>\n",
       "      <td>Candace Garner</td>\n",
       "      <td>36 Suzanne crossroad; North Gerard; W0 6PY</td>\n",
       "      <td>keith42@hotmail.com</td>\n",
       "      <td>+44151 496 0695</td>\n",
       "      <td>529677</td>\n",
       "    </tr>\n",
       "  </tbody>\n",
       "</table>\n",
       "</div>"
      ],
      "text/plain": [
       "  Quantity               ISBN       Type  \\\n",
       "0        1  978-1-04-142985-2  AudioBook   \n",
       "1        2  978-1-893866-80-5  AudioBook   \n",
       "1        5  978-1-4440-2173-8       Book   \n",
       "\n",
       "                                     Title            Author   Publisher  \\\n",
       "0             Wish book these rather white  Jennifer Solomon     Pearson   \n",
       "1                        Firm fight better    John Dickerson  Bloomsbury   \n",
       "1  Manager teach table guy experience give     Edgar Simmons  Transworld   \n",
       "\n",
       "               Genre     Format Unit Price Publication Date Pages Length  \\\n",
       "0    Classic Fiction      Audio      11.32       21/01/1968     0  11:03   \n",
       "1           Children      Audio      12.68       13/07/1963     0  08:37   \n",
       "1  Adventure Fiction  Paperback       16.8       07/05/1970   184    NaN   \n",
       "\n",
       "         Narrator Rating  Order ID                 Date   Total  \\\n",
       "0  Kemmofer Ikeda   3.27         0  2021-09-17 20:49:42   11.32   \n",
       "1  Kemmofer Ikeda   1.48         1  2020-06-22 12:19:10  507.00   \n",
       "1             NaN   1.97         1  2020-06-22 12:19:10  507.00   \n",
       "\n",
       "  Payment Method       Card Number                        Authorisation Code  \\\n",
       "0    Credit Card  4464042894384166                                       N/a   \n",
       "1         Paypal               N/a  4c9fd5856caebe0d3560cfe8bc871527d79085f1   \n",
       "1         Paypal               N/a  4c9fd5856caebe0d3560cfe8bc871527d79085f1   \n",
       "\n",
       "             Name                                     address  \\\n",
       "0  Kimberly Brown          5 Ben roads; North Joanna; G15 8PY   \n",
       "1  Candace Garner  36 Suzanne crossroad; North Gerard; W0 6PY   \n",
       "1  Candace Garner  36 Suzanne crossroad; North Gerard; W0 6PY   \n",
       "\n",
       "                        email            phone  customer_id  \n",
       "0  kimberly.brown@yahoo.co.uk   +44808 1570202       681089  \n",
       "1         keith42@hotmail.com  +44151 496 0695       529677  \n",
       "1         keith42@hotmail.com  +44151 496 0695       529677  "
      ]
     },
     "execution_count": 379,
     "metadata": {},
     "output_type": "execute_result"
    }
   ],
   "source": [
    "order_detail = order_detail.explode(['ISBN', 'Quantity',  'Type', 'Title', 'Author', 'Publisher', 'Genre', 'Format', 'Unit Price', 'Publication Date', 'Pages', 'Length', 'Narrator', 'Rating' ] ) \n",
    "order_detail.head(3) "
   ]
  },
  {
   "cell_type": "markdown",
   "id": "42e97f65-deb4-49cb-a810-991353be18d0",
   "metadata": {},
   "source": [
    "Exploding out the `order_detail` to ensure the data in each cell is atomic, means that `Order ID` is no longer a unique identifier for each row in the table. However, each row is uniquely identifiable with a composite key comprised of `Order ID` and `ISBN`. Meaning that the table above meets all of the necessary requirements for 1st Normal Form. "
   ]
  },
  {
   "cell_type": "markdown",
   "id": "cc324cda-0f71-43dd-9cb8-752bf49f5f6a",
   "metadata": {},
   "source": [
    "# Second Normal Form "
   ]
  },
  {
   "cell_type": "markdown",
   "id": "beb5724e",
   "metadata": {},
   "source": [
    "### Second Normal Form Requirements\n",
    "\n",
    "- In 1st Normal Form. \n",
    "\n",
    "- All tables should have a primary key. \n",
    "\n",
    "- All non-key columns should depend on the entire Primary Key not only part of it in the case of a Composite Key. "
   ]
  },
  {
   "cell_type": "markdown",
   "id": "dcc0c12b",
   "metadata": {},
   "source": [
    "### Current Database \n",
    "\n",
    "- `order_detail` and `inventory` table is in 1st Normal Form. \n",
    "\n",
    "- `order_detail` and `inventory` both have composite Primary Keys. \n",
    "\n",
    "- in `order_detail` not all non-key columns depend on the entire Composite Key.\n",
    "\n",
    "This means that `inventory` is in 2nd Normal Form but `order_detail` is not. "
   ]
  },
  {
   "cell_type": "markdown",
   "id": "5f11cf9d-d87f-45a3-8b2d-bd264af416d0",
   "metadata": {},
   "source": [
    "## Transforming Database to Second Normal Form "
   ]
  },
  {
   "cell_type": "markdown",
   "id": "96a94fff-8016-4853-8079-da83dafa01fc",
   "metadata": {},
   "source": [
    "Not all fields within `order_detail` are dependent on the entire Composite Key (`ISBN`, `Order ID` ), leading to partial dependency within the `order_detail` table. \n",
    "\n",
    "### Partial dependencies: \n",
    "\n",
    "- The columns storing information about each book (Title, Author, etc) are only dependent on the `ISBN` rather than the entire Composite Key. \n",
    "\n",
    "- Fields which store information regarding each customer e.g. (Name, Address, phone, email ) are only dependent on `Order ID` . \n",
    "\n",
    "- Fields which store information regarding the order e.g. (Date, Payment Method, Total, Card Number and Authorisation Code) are also only dependent on `Order ID`.\n",
    "\n",
    "In order to remove the partial dependencies from the `order_detail` table, we can create 2 new tables :  a `product_info` table storing information about each book and a `orders` table which stores the details for each order and the customer information. \n",
    "\n",
    "It is also worth noting that in order to convert the Database to 2nd Normal Form, the new tables created must also meet the requirements for 2nd Normal Form. "
   ]
  },
  {
   "cell_type": "markdown",
   "id": "5f3bd823-9704-4bae-89c8-2ac03c3c9e26",
   "metadata": {},
   "source": [
    "### Creating a Product Table "
   ]
  },
  {
   "cell_type": "markdown",
   "id": "97f8f9a5-975f-4961-ac14-6187947277ab",
   "metadata": {},
   "source": [
    "Creating product table which stores all of the fields which are only dependent on `ISBN` with `ISBN` is the Primary Key. "
   ]
  },
  {
   "cell_type": "code",
   "execution_count": 380,
   "id": "f9d32293-dcd2-4e3b-97ec-6ed3da975bd0",
   "metadata": {},
   "outputs": [],
   "source": [
    "dependent_on_isbn = ['Type', 'Title', 'Author', 'Publisher', 'Genre', 'Format', 'Unit Price', \n",
    "                     'Publication Date', 'Pages', 'Length','Narrator', 'Rating' ]"
   ]
  },
  {
   "cell_type": "code",
   "execution_count": 381,
   "id": "b5b945c3",
   "metadata": {},
   "outputs": [
    {
     "data": {
      "text/html": [
       "<div>\n",
       "<style scoped>\n",
       "    .dataframe tbody tr th:only-of-type {\n",
       "        vertical-align: middle;\n",
       "    }\n",
       "\n",
       "    .dataframe tbody tr th {\n",
       "        vertical-align: top;\n",
       "    }\n",
       "\n",
       "    .dataframe thead th {\n",
       "        text-align: right;\n",
       "    }\n",
       "</style>\n",
       "<table border=\"1\" class=\"dataframe\">\n",
       "  <thead>\n",
       "    <tr style=\"text-align: right;\">\n",
       "      <th></th>\n",
       "      <th>ISBN</th>\n",
       "      <th>Type</th>\n",
       "      <th>Title</th>\n",
       "      <th>Author</th>\n",
       "      <th>Publisher</th>\n",
       "      <th>Genre</th>\n",
       "      <th>Format</th>\n",
       "      <th>Unit Price</th>\n",
       "      <th>Publication Date</th>\n",
       "      <th>Pages</th>\n",
       "      <th>Length</th>\n",
       "      <th>Narrator</th>\n",
       "      <th>Rating</th>\n",
       "    </tr>\n",
       "  </thead>\n",
       "  <tbody>\n",
       "    <tr>\n",
       "      <th>0</th>\n",
       "      <td>978-0-00-104847-8</td>\n",
       "      <td>Book</td>\n",
       "      <td>Establish game pretty</td>\n",
       "      <td>Briana Brooks</td>\n",
       "      <td>Penguin Books</td>\n",
       "      <td>Fantasy</td>\n",
       "      <td>Paperback</td>\n",
       "      <td>41.56</td>\n",
       "      <td>11/10/2005</td>\n",
       "      <td>176</td>\n",
       "      <td>None</td>\n",
       "      <td>None</td>\n",
       "      <td>2.43</td>\n",
       "    </tr>\n",
       "    <tr>\n",
       "      <th>1</th>\n",
       "      <td>978-0-00-298160-6</td>\n",
       "      <td>eBook</td>\n",
       "      <td>Break meet set whatever</td>\n",
       "      <td>Kevin Martinez</td>\n",
       "      <td>Transworld</td>\n",
       "      <td>Comedy</td>\n",
       "      <td>Digital</td>\n",
       "      <td>12.5</td>\n",
       "      <td>24/02/2008</td>\n",
       "      <td>142</td>\n",
       "      <td>None</td>\n",
       "      <td>None</td>\n",
       "      <td>2.62</td>\n",
       "    </tr>\n",
       "    <tr>\n",
       "      <th>2</th>\n",
       "      <td>978-0-00-366059-3</td>\n",
       "      <td>Book</td>\n",
       "      <td>Network scientist attention paper agreement</td>\n",
       "      <td>Kristen Strong</td>\n",
       "      <td>Joffe Books</td>\n",
       "      <td>Crime Fiction</td>\n",
       "      <td>Paperback</td>\n",
       "      <td>24.3</td>\n",
       "      <td>01/03/1976</td>\n",
       "      <td>125</td>\n",
       "      <td>None</td>\n",
       "      <td>None</td>\n",
       "      <td>2.44</td>\n",
       "    </tr>\n",
       "    <tr>\n",
       "      <th>3</th>\n",
       "      <td>978-0-00-455303-0</td>\n",
       "      <td>eBook</td>\n",
       "      <td>Then deal animal stop relationship president</td>\n",
       "      <td>Lisa Mills</td>\n",
       "      <td>Corner Stone</td>\n",
       "      <td>Action</td>\n",
       "      <td>Digital</td>\n",
       "      <td>29.29</td>\n",
       "      <td>02/10/1985</td>\n",
       "      <td>89</td>\n",
       "      <td>None</td>\n",
       "      <td>None</td>\n",
       "      <td>2.03</td>\n",
       "    </tr>\n",
       "    <tr>\n",
       "      <th>4</th>\n",
       "      <td>978-0-00-510360-9</td>\n",
       "      <td>eBook</td>\n",
       "      <td>Entire number star area majority</td>\n",
       "      <td>Kristopher Smith</td>\n",
       "      <td>Harper Collins</td>\n",
       "      <td>Adventure Fiction</td>\n",
       "      <td>Digital</td>\n",
       "      <td>35.3</td>\n",
       "      <td>12/02/1969</td>\n",
       "      <td>177</td>\n",
       "      <td>None</td>\n",
       "      <td>None</td>\n",
       "      <td>3.79</td>\n",
       "    </tr>\n",
       "  </tbody>\n",
       "</table>\n",
       "</div>"
      ],
      "text/plain": [
       "                ISBN   Type                                         Title  \\\n",
       "0  978-0-00-104847-8   Book                         Establish game pretty   \n",
       "1  978-0-00-298160-6  eBook                       Break meet set whatever   \n",
       "2  978-0-00-366059-3   Book   Network scientist attention paper agreement   \n",
       "3  978-0-00-455303-0  eBook  Then deal animal stop relationship president   \n",
       "4  978-0-00-510360-9  eBook              Entire number star area majority   \n",
       "\n",
       "             Author       Publisher              Genre     Format Unit Price  \\\n",
       "0     Briana Brooks   Penguin Books            Fantasy  Paperback      41.56   \n",
       "1    Kevin Martinez      Transworld             Comedy    Digital       12.5   \n",
       "2    Kristen Strong     Joffe Books      Crime Fiction  Paperback       24.3   \n",
       "3        Lisa Mills    Corner Stone             Action    Digital      29.29   \n",
       "4  Kristopher Smith  Harper Collins  Adventure Fiction    Digital       35.3   \n",
       "\n",
       "  Publication Date Pages Length Narrator Rating  \n",
       "0       11/10/2005   176   None     None   2.43  \n",
       "1       24/02/2008   142   None     None   2.62  \n",
       "2       01/03/1976   125   None     None   2.44  \n",
       "3       02/10/1985    89   None     None   2.03  \n",
       "4       12/02/1969   177   None     None   3.79  "
      ]
     },
     "execution_count": 381,
     "metadata": {},
     "output_type": "execute_result"
    }
   ],
   "source": [
    "product_info = order_detail.groupby('ISBN')[dependent_on_isbn ].first().reset_index()\n",
    "product_info.head()"
   ]
  },
  {
   "cell_type": "markdown",
   "id": "bc872620-9ae2-4015-9aa6-8a01b5a6d5a8",
   "metadata": {},
   "source": [
    "There are no Partial Dependencies in `product_info`, Hence it is in 2nd Normal Form. \n",
    "\n",
    "After creating `product_info`, we can drop all book related fields apart from `ISBN` from `order_detail`.`ISBN` is the Foreign Key within the `orders` table, it creates the link between `product_info` and `order_detail`. "
   ]
  },
  {
   "cell_type": "code",
   "execution_count": 382,
   "id": "13c7f402-d1e8-4ce4-a9e9-e288871dcf6f",
   "metadata": {},
   "outputs": [
    {
     "data": {
      "text/html": [
       "<div>\n",
       "<style scoped>\n",
       "    .dataframe tbody tr th:only-of-type {\n",
       "        vertical-align: middle;\n",
       "    }\n",
       "\n",
       "    .dataframe tbody tr th {\n",
       "        vertical-align: top;\n",
       "    }\n",
       "\n",
       "    .dataframe thead th {\n",
       "        text-align: right;\n",
       "    }\n",
       "</style>\n",
       "<table border=\"1\" class=\"dataframe\">\n",
       "  <thead>\n",
       "    <tr style=\"text-align: right;\">\n",
       "      <th></th>\n",
       "      <th>Quantity</th>\n",
       "      <th>ISBN</th>\n",
       "      <th>Order ID</th>\n",
       "      <th>Date</th>\n",
       "      <th>Total</th>\n",
       "      <th>Payment Method</th>\n",
       "      <th>Card Number</th>\n",
       "      <th>Authorisation Code</th>\n",
       "      <th>Name</th>\n",
       "      <th>address</th>\n",
       "      <th>email</th>\n",
       "      <th>phone</th>\n",
       "      <th>customer_id</th>\n",
       "    </tr>\n",
       "  </thead>\n",
       "  <tbody>\n",
       "    <tr>\n",
       "      <th>0</th>\n",
       "      <td>1</td>\n",
       "      <td>978-1-04-142985-2</td>\n",
       "      <td>0</td>\n",
       "      <td>2021-09-17 20:49:42</td>\n",
       "      <td>11.32</td>\n",
       "      <td>Credit Card</td>\n",
       "      <td>4464042894384166</td>\n",
       "      <td>N/a</td>\n",
       "      <td>Kimberly Brown</td>\n",
       "      <td>5 Ben roads; North Joanna; G15 8PY</td>\n",
       "      <td>kimberly.brown@yahoo.co.uk</td>\n",
       "      <td>+44808 1570202</td>\n",
       "      <td>681089</td>\n",
       "    </tr>\n",
       "    <tr>\n",
       "      <th>1</th>\n",
       "      <td>2</td>\n",
       "      <td>978-1-893866-80-5</td>\n",
       "      <td>1</td>\n",
       "      <td>2020-06-22 12:19:10</td>\n",
       "      <td>507.00</td>\n",
       "      <td>Paypal</td>\n",
       "      <td>N/a</td>\n",
       "      <td>4c9fd5856caebe0d3560cfe8bc871527d79085f1</td>\n",
       "      <td>Candace Garner</td>\n",
       "      <td>36 Suzanne crossroad; North Gerard; W0 6PY</td>\n",
       "      <td>keith42@hotmail.com</td>\n",
       "      <td>+44151 496 0695</td>\n",
       "      <td>529677</td>\n",
       "    </tr>\n",
       "    <tr>\n",
       "      <th>1</th>\n",
       "      <td>5</td>\n",
       "      <td>978-1-4440-2173-8</td>\n",
       "      <td>1</td>\n",
       "      <td>2020-06-22 12:19:10</td>\n",
       "      <td>507.00</td>\n",
       "      <td>Paypal</td>\n",
       "      <td>N/a</td>\n",
       "      <td>4c9fd5856caebe0d3560cfe8bc871527d79085f1</td>\n",
       "      <td>Candace Garner</td>\n",
       "      <td>36 Suzanne crossroad; North Gerard; W0 6PY</td>\n",
       "      <td>keith42@hotmail.com</td>\n",
       "      <td>+44151 496 0695</td>\n",
       "      <td>529677</td>\n",
       "    </tr>\n",
       "  </tbody>\n",
       "</table>\n",
       "</div>"
      ],
      "text/plain": [
       "  Quantity               ISBN  Order ID                 Date   Total  \\\n",
       "0        1  978-1-04-142985-2         0  2021-09-17 20:49:42   11.32   \n",
       "1        2  978-1-893866-80-5         1  2020-06-22 12:19:10  507.00   \n",
       "1        5  978-1-4440-2173-8         1  2020-06-22 12:19:10  507.00   \n",
       "\n",
       "  Payment Method       Card Number                        Authorisation Code  \\\n",
       "0    Credit Card  4464042894384166                                       N/a   \n",
       "1         Paypal               N/a  4c9fd5856caebe0d3560cfe8bc871527d79085f1   \n",
       "1         Paypal               N/a  4c9fd5856caebe0d3560cfe8bc871527d79085f1   \n",
       "\n",
       "             Name                                     address  \\\n",
       "0  Kimberly Brown          5 Ben roads; North Joanna; G15 8PY   \n",
       "1  Candace Garner  36 Suzanne crossroad; North Gerard; W0 6PY   \n",
       "1  Candace Garner  36 Suzanne crossroad; North Gerard; W0 6PY   \n",
       "\n",
       "                        email            phone  customer_id  \n",
       "0  kimberly.brown@yahoo.co.uk   +44808 1570202       681089  \n",
       "1         keith42@hotmail.com  +44151 496 0695       529677  \n",
       "1         keith42@hotmail.com  +44151 496 0695       529677  "
      ]
     },
     "execution_count": 382,
     "metadata": {},
     "output_type": "execute_result"
    }
   ],
   "source": [
    "order_detail.drop(dependent_on_isbn, axis = 'columns' , inplace = True )\n",
    "order_detail.head(3) "
   ]
  },
  {
   "cell_type": "markdown",
   "id": "5c1fad00-2f71-4fa9-acff-65cc9dfccc4c",
   "metadata": {},
   "source": [
    "### Creating Orders Table "
   ]
  },
  {
   "cell_type": "markdown",
   "id": "3066e1e9-b180-4d7a-b048-9d1f082bbc21",
   "metadata": {},
   "source": [
    "Finally, an `Orders` table which stores all of the fields which are dependent on  `Order ID`  will be created, in order to remove the remaining Partial Dependencies from `order_detail`. \n",
    "\n",
    "The `orders` table will store all fields regarding the order such as (Date, Total), as well as information regarding the customer such as (Address, email) "
   ]
  },
  {
   "cell_type": "markdown",
   "id": "f2a325f1-5f92-4830-a994-62f1e98d2e1e",
   "metadata": {},
   "source": [
    "Defining a list of fields which are dependent on `Order ID`"
   ]
  },
  {
   "cell_type": "code",
   "execution_count": 383,
   "id": "efb35d49-89a6-457f-a7ba-f2b000df052b",
   "metadata": {},
   "outputs": [],
   "source": [
    "dependent_on_order_id  = [ 'Date', 'Total', 'Payment Method', 'Card Number', 'Authorisation Code',\n",
    "                          'Name', 'address','email', 'phone' , 'customer_id']"
   ]
  },
  {
   "cell_type": "markdown",
   "id": "fbbd06d9-035f-4e2d-8b43-4d86a2daf2e8",
   "metadata": {},
   "source": [
    "We create the `orders` table by grouping by `Order ID`, selecting all of the columns dependent on `Order ID` and then using the `first()` aggregator in pandas. \n",
    "\n",
    "Printing the first 3 rows of the `orders` table. "
   ]
  },
  {
   "cell_type": "code",
   "execution_count": 384,
   "id": "5d89ffdb",
   "metadata": {},
   "outputs": [
    {
     "data": {
      "text/html": [
       "<div>\n",
       "<style scoped>\n",
       "    .dataframe tbody tr th:only-of-type {\n",
       "        vertical-align: middle;\n",
       "    }\n",
       "\n",
       "    .dataframe tbody tr th {\n",
       "        vertical-align: top;\n",
       "    }\n",
       "\n",
       "    .dataframe thead th {\n",
       "        text-align: right;\n",
       "    }\n",
       "</style>\n",
       "<table border=\"1\" class=\"dataframe\">\n",
       "  <thead>\n",
       "    <tr style=\"text-align: right;\">\n",
       "      <th></th>\n",
       "      <th>Order ID</th>\n",
       "      <th>Date</th>\n",
       "      <th>Total</th>\n",
       "      <th>Payment Method</th>\n",
       "      <th>Card Number</th>\n",
       "      <th>Authorisation Code</th>\n",
       "      <th>Name</th>\n",
       "      <th>address</th>\n",
       "      <th>email</th>\n",
       "      <th>phone</th>\n",
       "      <th>customer_id</th>\n",
       "    </tr>\n",
       "  </thead>\n",
       "  <tbody>\n",
       "    <tr>\n",
       "      <th>0</th>\n",
       "      <td>0</td>\n",
       "      <td>2021-09-17 20:49:42</td>\n",
       "      <td>11.32</td>\n",
       "      <td>Credit Card</td>\n",
       "      <td>4464042894384166</td>\n",
       "      <td>N/a</td>\n",
       "      <td>Kimberly Brown</td>\n",
       "      <td>5 Ben roads; North Joanna; G15 8PY</td>\n",
       "      <td>kimberly.brown@yahoo.co.uk</td>\n",
       "      <td>+44808 1570202</td>\n",
       "      <td>681089</td>\n",
       "    </tr>\n",
       "    <tr>\n",
       "      <th>1</th>\n",
       "      <td>1</td>\n",
       "      <td>2020-06-22 12:19:10</td>\n",
       "      <td>507.00</td>\n",
       "      <td>Paypal</td>\n",
       "      <td>N/a</td>\n",
       "      <td>4c9fd5856caebe0d3560cfe8bc871527d79085f1</td>\n",
       "      <td>Candace Garner</td>\n",
       "      <td>36 Suzanne crossroad; North Gerard; W0 6PY</td>\n",
       "      <td>keith42@hotmail.com</td>\n",
       "      <td>+44151 496 0695</td>\n",
       "      <td>529677</td>\n",
       "    </tr>\n",
       "    <tr>\n",
       "      <th>2</th>\n",
       "      <td>2</td>\n",
       "      <td>2021-05-17 14:57:25</td>\n",
       "      <td>43.50</td>\n",
       "      <td>Google Pay</td>\n",
       "      <td>N/a</td>\n",
       "      <td>d8a52b628ffcf6c4a7ac047292beac54d4885c1a</td>\n",
       "      <td>Kyle Morales</td>\n",
       "      <td>Studio 6; Melissa bypass; Russellborough; B29 4AH</td>\n",
       "      <td>kyle.morales@hotmail.com</td>\n",
       "      <td>(0909)8790031</td>\n",
       "      <td>129088</td>\n",
       "    </tr>\n",
       "  </tbody>\n",
       "</table>\n",
       "</div>"
      ],
      "text/plain": [
       "   Order ID                 Date   Total Payment Method       Card Number  \\\n",
       "0         0  2021-09-17 20:49:42   11.32    Credit Card  4464042894384166   \n",
       "1         1  2020-06-22 12:19:10  507.00         Paypal               N/a   \n",
       "2         2  2021-05-17 14:57:25   43.50     Google Pay               N/a   \n",
       "\n",
       "                         Authorisation Code            Name  \\\n",
       "0                                       N/a  Kimberly Brown   \n",
       "1  4c9fd5856caebe0d3560cfe8bc871527d79085f1  Candace Garner   \n",
       "2  d8a52b628ffcf6c4a7ac047292beac54d4885c1a    Kyle Morales   \n",
       "\n",
       "                                             address  \\\n",
       "0                 5 Ben roads; North Joanna; G15 8PY   \n",
       "1         36 Suzanne crossroad; North Gerard; W0 6PY   \n",
       "2  Studio 6; Melissa bypass; Russellborough; B29 4AH   \n",
       "\n",
       "                        email            phone  customer_id  \n",
       "0  kimberly.brown@yahoo.co.uk   +44808 1570202       681089  \n",
       "1         keith42@hotmail.com  +44151 496 0695       529677  \n",
       "2    kyle.morales@hotmail.com    (0909)8790031       129088  "
      ]
     },
     "execution_count": 384,
     "metadata": {},
     "output_type": "execute_result"
    }
   ],
   "source": [
    "orders = order_detail.groupby('Order ID')[dependent_on_order_id].first().reset_index() \n",
    "orders.head(3) "
   ]
  },
  {
   "cell_type": "markdown",
   "id": "cd795a34-fd37-4017-8b10-9bc7ee47dc8d",
   "metadata": {},
   "source": [
    "`Order ID` is the primary key within the `orders` table. Also, we can confirm that `orders` is in 2nd Normal Form, as there are no partial dependencies and all fields are dependent on the Primary Key `Order ID`. "
   ]
  },
  {
   "cell_type": "markdown",
   "id": "205591ba-c5ce-44a4-8729-dc0acd642068",
   "metadata": {},
   "source": [
    "All fields dependent on `Order ID` can be dropped from  `order_info`. The `Order ID` field in `order_info`  is a Foreign Key linking the `orders` table to the `order_info` table.  "
   ]
  },
  {
   "cell_type": "code",
   "execution_count": 385,
   "id": "4fa1328b-4d2e-49a0-946f-0f8f7063074d",
   "metadata": {},
   "outputs": [],
   "source": [
    "order_detail.drop(dependent_on_order_id ,  axis = 'columns' , inplace = True ) "
   ]
  },
  {
   "cell_type": "markdown",
   "id": "be66ad1d-0f48-49e6-9dc1-591467c93e5c",
   "metadata": {},
   "source": [
    "Printing the first 3 rows or `order_detail`."
   ]
  },
  {
   "cell_type": "code",
   "execution_count": 386,
   "id": "7abbf376-ca20-4d08-88dc-f42475bc9911",
   "metadata": {},
   "outputs": [
    {
     "data": {
      "text/html": [
       "<div>\n",
       "<style scoped>\n",
       "    .dataframe tbody tr th:only-of-type {\n",
       "        vertical-align: middle;\n",
       "    }\n",
       "\n",
       "    .dataframe tbody tr th {\n",
       "        vertical-align: top;\n",
       "    }\n",
       "\n",
       "    .dataframe thead th {\n",
       "        text-align: right;\n",
       "    }\n",
       "</style>\n",
       "<table border=\"1\" class=\"dataframe\">\n",
       "  <thead>\n",
       "    <tr style=\"text-align: right;\">\n",
       "      <th></th>\n",
       "      <th>Quantity</th>\n",
       "      <th>ISBN</th>\n",
       "      <th>Order ID</th>\n",
       "    </tr>\n",
       "  </thead>\n",
       "  <tbody>\n",
       "    <tr>\n",
       "      <th>0</th>\n",
       "      <td>1</td>\n",
       "      <td>978-1-04-142985-2</td>\n",
       "      <td>0</td>\n",
       "    </tr>\n",
       "    <tr>\n",
       "      <th>1</th>\n",
       "      <td>2</td>\n",
       "      <td>978-1-893866-80-5</td>\n",
       "      <td>1</td>\n",
       "    </tr>\n",
       "    <tr>\n",
       "      <th>1</th>\n",
       "      <td>5</td>\n",
       "      <td>978-1-4440-2173-8</td>\n",
       "      <td>1</td>\n",
       "    </tr>\n",
       "  </tbody>\n",
       "</table>\n",
       "</div>"
      ],
      "text/plain": [
       "  Quantity               ISBN  Order ID\n",
       "0        1  978-1-04-142985-2         0\n",
       "1        2  978-1-893866-80-5         1\n",
       "1        5  978-1-4440-2173-8         1"
      ]
     },
     "execution_count": 386,
     "metadata": {},
     "output_type": "execute_result"
    }
   ],
   "source": [
    "order_detail.head(3) "
   ]
  },
  {
   "cell_type": "markdown",
   "id": "fa628724-c3fb-480f-9bc7-fbeca02c8f99",
   "metadata": {},
   "source": [
    "`order_detail` is now in 2nd Normal Form, as there are no Partial Dependencies. `Quantity`,the only non-key field, is fully dependent on the Composite Key(`ISBN`, `Order ID`). \n",
    "\n",
    "As all four of the tables `order_detail`, `orders`, `inventory` and `product_info` are in the 2nd Normal Form, the Database is also in 2nd Normal Form. "
   ]
  },
  {
   "cell_type": "markdown",
   "id": "b7a9052a-1998-4dd6-9439-23f4b810555c",
   "metadata": {},
   "source": [
    "# Third Normal Form "
   ]
  },
  {
   "cell_type": "markdown",
   "id": "629f87c6-5409-477c-9b81-e480d682acc6",
   "metadata": {},
   "source": [
    "### Third Normal Form requirements \n",
    "\n",
    "- Already in 2nd  Normal Form.\n",
    "  \n",
    "-  No transitive dependencies (no non-key field must be dependent on the Primary Key through another non-key field). "
   ]
  },
  {
   "cell_type": "markdown",
   "id": "64c3cfd8-1636-41ba-8ca5-a52fda40b488",
   "metadata": {},
   "source": [
    "### Current Database \n",
    "\n",
    "- All tables are in second Normal Form\n",
    "\n",
    "- No transitive dependencies exist in `product_info` , `inventory` and `order_detail` but transitive dependencies exist in the `orders` table. "
   ]
  },
  {
   "cell_type": "markdown",
   "id": "3bcae365-33e6-4a6e-8e06-61f11f74aaa8",
   "metadata": {},
   "source": [
    "### Transitive dependency within the `orders` table"
   ]
  },
  {
   "cell_type": "markdown",
   "id": "c8db4910-5408-44c3-936e-af8175b0e906",
   "metadata": {},
   "source": [
    "Printing the first 3 rows of the orders table "
   ]
  },
  {
   "cell_type": "code",
   "execution_count": 387,
   "id": "9b5ee59b-db4d-4969-93eb-088baa9157d0",
   "metadata": {
    "scrolled": true
   },
   "outputs": [
    {
     "data": {
      "text/html": [
       "<div>\n",
       "<style scoped>\n",
       "    .dataframe tbody tr th:only-of-type {\n",
       "        vertical-align: middle;\n",
       "    }\n",
       "\n",
       "    .dataframe tbody tr th {\n",
       "        vertical-align: top;\n",
       "    }\n",
       "\n",
       "    .dataframe thead th {\n",
       "        text-align: right;\n",
       "    }\n",
       "</style>\n",
       "<table border=\"1\" class=\"dataframe\">\n",
       "  <thead>\n",
       "    <tr style=\"text-align: right;\">\n",
       "      <th></th>\n",
       "      <th>Order ID</th>\n",
       "      <th>Date</th>\n",
       "      <th>Total</th>\n",
       "      <th>Payment Method</th>\n",
       "      <th>Card Number</th>\n",
       "      <th>Authorisation Code</th>\n",
       "      <th>Name</th>\n",
       "      <th>address</th>\n",
       "      <th>email</th>\n",
       "      <th>phone</th>\n",
       "      <th>customer_id</th>\n",
       "    </tr>\n",
       "  </thead>\n",
       "  <tbody>\n",
       "    <tr>\n",
       "      <th>0</th>\n",
       "      <td>0</td>\n",
       "      <td>2021-09-17 20:49:42</td>\n",
       "      <td>11.32</td>\n",
       "      <td>Credit Card</td>\n",
       "      <td>4464042894384166</td>\n",
       "      <td>N/a</td>\n",
       "      <td>Kimberly Brown</td>\n",
       "      <td>5 Ben roads; North Joanna; G15 8PY</td>\n",
       "      <td>kimberly.brown@yahoo.co.uk</td>\n",
       "      <td>+44808 1570202</td>\n",
       "      <td>681089</td>\n",
       "    </tr>\n",
       "    <tr>\n",
       "      <th>1</th>\n",
       "      <td>1</td>\n",
       "      <td>2020-06-22 12:19:10</td>\n",
       "      <td>507.00</td>\n",
       "      <td>Paypal</td>\n",
       "      <td>N/a</td>\n",
       "      <td>4c9fd5856caebe0d3560cfe8bc871527d79085f1</td>\n",
       "      <td>Candace Garner</td>\n",
       "      <td>36 Suzanne crossroad; North Gerard; W0 6PY</td>\n",
       "      <td>keith42@hotmail.com</td>\n",
       "      <td>+44151 496 0695</td>\n",
       "      <td>529677</td>\n",
       "    </tr>\n",
       "    <tr>\n",
       "      <th>2</th>\n",
       "      <td>2</td>\n",
       "      <td>2021-05-17 14:57:25</td>\n",
       "      <td>43.50</td>\n",
       "      <td>Google Pay</td>\n",
       "      <td>N/a</td>\n",
       "      <td>d8a52b628ffcf6c4a7ac047292beac54d4885c1a</td>\n",
       "      <td>Kyle Morales</td>\n",
       "      <td>Studio 6; Melissa bypass; Russellborough; B29 4AH</td>\n",
       "      <td>kyle.morales@hotmail.com</td>\n",
       "      <td>(0909)8790031</td>\n",
       "      <td>129088</td>\n",
       "    </tr>\n",
       "  </tbody>\n",
       "</table>\n",
       "</div>"
      ],
      "text/plain": [
       "   Order ID                 Date   Total Payment Method       Card Number  \\\n",
       "0         0  2021-09-17 20:49:42   11.32    Credit Card  4464042894384166   \n",
       "1         1  2020-06-22 12:19:10  507.00         Paypal               N/a   \n",
       "2         2  2021-05-17 14:57:25   43.50     Google Pay               N/a   \n",
       "\n",
       "                         Authorisation Code            Name  \\\n",
       "0                                       N/a  Kimberly Brown   \n",
       "1  4c9fd5856caebe0d3560cfe8bc871527d79085f1  Candace Garner   \n",
       "2  d8a52b628ffcf6c4a7ac047292beac54d4885c1a    Kyle Morales   \n",
       "\n",
       "                                             address  \\\n",
       "0                 5 Ben roads; North Joanna; G15 8PY   \n",
       "1         36 Suzanne crossroad; North Gerard; W0 6PY   \n",
       "2  Studio 6; Melissa bypass; Russellborough; B29 4AH   \n",
       "\n",
       "                        email            phone  customer_id  \n",
       "0  kimberly.brown@yahoo.co.uk   +44808 1570202       681089  \n",
       "1         keith42@hotmail.com  +44151 496 0695       529677  \n",
       "2    kyle.morales@hotmail.com    (0909)8790031       129088  "
      ]
     },
     "execution_count": 387,
     "metadata": {},
     "output_type": "execute_result"
    }
   ],
   "source": [
    "orders.head(3) "
   ]
  },
  {
   "cell_type": "markdown",
   "id": "6a1a624e-6369-403c-9806-9e8338d545a2",
   "metadata": {},
   "source": [
    "Despite all of the fields being dependent on `Order ID`. The fields concerning a customers personal information (`Name`, `address`, `email` and `phone`) are all dependent on `Order ID` through `customer_id`, which is a non-key field. \n",
    "\n",
    "The transitive dependency within the `orders` table can be displayed as: \n",
    "\n",
    "<center> <code>Order ID</code>---> <code>customer_id</code> ---> <code>[Name, address, email , phone]</code></center>"
   ]
  },
  {
   "cell_type": "markdown",
   "id": "294aac16-57d2-4be3-bdc1-da604c04fb2b",
   "metadata": {},
   "source": [
    "In order to remove this transitive dependency, a separate table containing all fields which are dependent on `customer_id` called `customer_list` can be created. "
   ]
  },
  {
   "cell_type": "markdown",
   "id": "ad662cb8-28d5-48b9-b92a-e64ea039bc36",
   "metadata": {},
   "source": [
    "### Creating a Customers table "
   ]
  },
  {
   "cell_type": "markdown",
   "id": "b8a2dd57-b061-4505-ac16-f5b08dbdadcd",
   "metadata": {},
   "source": [
    "Defining a list of all fields which are dependent on `customer_id`. "
   ]
  },
  {
   "cell_type": "code",
   "execution_count": 388,
   "id": "3ee3096a-09de-4cd1-aa7b-1550a0b97af7",
   "metadata": {},
   "outputs": [],
   "source": [
    "dependent_on_customer_id = ['Name', 'address', 'email', 'phone'] "
   ]
  },
  {
   "cell_type": "markdown",
   "id": "ea7fad7b-3e34-4b3e-bbec-d2ebaae05df7",
   "metadata": {},
   "source": [
    "Similar to the creation of other tables, we will group by the Primary key `customer_id` and aggregate over all of the dependent fields using `first()`. "
   ]
  },
  {
   "cell_type": "code",
   "execution_count": 389,
   "id": "c7c14344-8bd8-4f05-b4ba-00b7005f2c3b",
   "metadata": {},
   "outputs": [
    {
     "data": {
      "text/html": [
       "<div>\n",
       "<style scoped>\n",
       "    .dataframe tbody tr th:only-of-type {\n",
       "        vertical-align: middle;\n",
       "    }\n",
       "\n",
       "    .dataframe tbody tr th {\n",
       "        vertical-align: top;\n",
       "    }\n",
       "\n",
       "    .dataframe thead th {\n",
       "        text-align: right;\n",
       "    }\n",
       "</style>\n",
       "<table border=\"1\" class=\"dataframe\">\n",
       "  <thead>\n",
       "    <tr style=\"text-align: right;\">\n",
       "      <th></th>\n",
       "      <th>customer_id</th>\n",
       "      <th>Name</th>\n",
       "      <th>address</th>\n",
       "      <th>email</th>\n",
       "      <th>phone</th>\n",
       "    </tr>\n",
       "  </thead>\n",
       "  <tbody>\n",
       "    <tr>\n",
       "      <th>0</th>\n",
       "      <td>112552</td>\n",
       "      <td>Thomas York</td>\n",
       "      <td>390 Hayward fort; Lindseymouth; IP4 1AE</td>\n",
       "      <td>thomas.york@gmail.com</td>\n",
       "      <td>+4428 9018 0416</td>\n",
       "    </tr>\n",
       "    <tr>\n",
       "      <th>1</th>\n",
       "      <td>112948</td>\n",
       "      <td>Herbert Stevenson</td>\n",
       "      <td>0 Rhodes view; North Eleanor; S0 6UT</td>\n",
       "      <td>herbert.stevenson@hotmail.co.uk</td>\n",
       "      <td>+44(0)20 7496 0099</td>\n",
       "    </tr>\n",
       "    <tr>\n",
       "      <th>2</th>\n",
       "      <td>113435</td>\n",
       "      <td>Mariah Walker</td>\n",
       "      <td>Flat 4; Manning greens; Annfort; E1E 0ZN</td>\n",
       "      <td>macdonaldjamie@hotmail.com</td>\n",
       "      <td>0131 4960961</td>\n",
       "    </tr>\n",
       "  </tbody>\n",
       "</table>\n",
       "</div>"
      ],
      "text/plain": [
       "   customer_id               Name                                   address  \\\n",
       "0       112552        Thomas York   390 Hayward fort; Lindseymouth; IP4 1AE   \n",
       "1       112948  Herbert Stevenson      0 Rhodes view; North Eleanor; S0 6UT   \n",
       "2       113435      Mariah Walker  Flat 4; Manning greens; Annfort; E1E 0ZN   \n",
       "\n",
       "                             email               phone  \n",
       "0            thomas.york@gmail.com     +4428 9018 0416  \n",
       "1  herbert.stevenson@hotmail.co.uk  +44(0)20 7496 0099  \n",
       "2       macdonaldjamie@hotmail.com        0131 4960961  "
      ]
     },
     "execution_count": 389,
     "metadata": {},
     "output_type": "execute_result"
    }
   ],
   "source": [
    "customer_list = orders.groupby('customer_id')[dependent_on_customer_id].first().reset_index() \n",
    "customer_list.head(3) "
   ]
  },
  {
   "cell_type": "markdown",
   "id": "22b982cf-fd9a-4252-a574-9e8e3ca2d49a",
   "metadata": {},
   "source": [
    "`customer_id` is the Primary Key in `customer_list` and as are no Transitive Dependencies in `customer_list` the table is in 3rd normal form. "
   ]
  },
  {
   "cell_type": "markdown",
   "id": "eeb9ed85-4312-4c6f-af28-28c3579394d1",
   "metadata": {},
   "source": [
    "As we now have `customer_list`, we can drop all columns dependent on `customer_id` from `orders`. `customer_id` is the Foreign Key in the `orders` table linking the `orders` and `customer_list` together. "
   ]
  },
  {
   "cell_type": "code",
   "execution_count": 390,
   "id": "4f5f0db4-d5c4-4eff-a8bf-27d30e54d9d3",
   "metadata": {},
   "outputs": [
    {
     "data": {
      "text/html": [
       "<div>\n",
       "<style scoped>\n",
       "    .dataframe tbody tr th:only-of-type {\n",
       "        vertical-align: middle;\n",
       "    }\n",
       "\n",
       "    .dataframe tbody tr th {\n",
       "        vertical-align: top;\n",
       "    }\n",
       "\n",
       "    .dataframe thead th {\n",
       "        text-align: right;\n",
       "    }\n",
       "</style>\n",
       "<table border=\"1\" class=\"dataframe\">\n",
       "  <thead>\n",
       "    <tr style=\"text-align: right;\">\n",
       "      <th></th>\n",
       "      <th>Order ID</th>\n",
       "      <th>Date</th>\n",
       "      <th>Total</th>\n",
       "      <th>Payment Method</th>\n",
       "      <th>Card Number</th>\n",
       "      <th>Authorisation Code</th>\n",
       "      <th>customer_id</th>\n",
       "    </tr>\n",
       "  </thead>\n",
       "  <tbody>\n",
       "    <tr>\n",
       "      <th>0</th>\n",
       "      <td>0</td>\n",
       "      <td>2021-09-17 20:49:42</td>\n",
       "      <td>11.32</td>\n",
       "      <td>Credit Card</td>\n",
       "      <td>4464042894384166</td>\n",
       "      <td>N/a</td>\n",
       "      <td>681089</td>\n",
       "    </tr>\n",
       "    <tr>\n",
       "      <th>1</th>\n",
       "      <td>1</td>\n",
       "      <td>2020-06-22 12:19:10</td>\n",
       "      <td>507.00</td>\n",
       "      <td>Paypal</td>\n",
       "      <td>N/a</td>\n",
       "      <td>4c9fd5856caebe0d3560cfe8bc871527d79085f1</td>\n",
       "      <td>529677</td>\n",
       "    </tr>\n",
       "    <tr>\n",
       "      <th>2</th>\n",
       "      <td>2</td>\n",
       "      <td>2021-05-17 14:57:25</td>\n",
       "      <td>43.50</td>\n",
       "      <td>Google Pay</td>\n",
       "      <td>N/a</td>\n",
       "      <td>d8a52b628ffcf6c4a7ac047292beac54d4885c1a</td>\n",
       "      <td>129088</td>\n",
       "    </tr>\n",
       "  </tbody>\n",
       "</table>\n",
       "</div>"
      ],
      "text/plain": [
       "   Order ID                 Date   Total Payment Method       Card Number  \\\n",
       "0         0  2021-09-17 20:49:42   11.32    Credit Card  4464042894384166   \n",
       "1         1  2020-06-22 12:19:10  507.00         Paypal               N/a   \n",
       "2         2  2021-05-17 14:57:25   43.50     Google Pay               N/a   \n",
       "\n",
       "                         Authorisation Code  customer_id  \n",
       "0                                       N/a       681089  \n",
       "1  4c9fd5856caebe0d3560cfe8bc871527d79085f1       529677  \n",
       "2  d8a52b628ffcf6c4a7ac047292beac54d4885c1a       129088  "
      ]
     },
     "execution_count": 390,
     "metadata": {},
     "output_type": "execute_result"
    }
   ],
   "source": [
    "orders.drop(dependent_on_customer_id, axis = 'columns' , inplace = True ) \n",
    "orders.head(3) "
   ]
  },
  {
   "cell_type": "markdown",
   "id": "675165fd-d145-4eea-9326-fb168524fa59",
   "metadata": {},
   "source": [
    "The Transitive Dependencies within `orders` have been removed by creating `customer_list`, Hence `orders` is now in 3rd Normal Form. \n",
    "\n",
    "Now as all 5 of our tables `order_detail`, `orders`, `customer_list`,  `product_info` and `inventory` are all in 3rd Normal Form, the Database is also in 3rd Normal Form. "
   ]
  },
  {
   "cell_type": "markdown",
   "id": "b69ca0ea-8d0a-4676-8361-fd3731b47e42",
   "metadata": {},
   "source": [
    "# Bookshelfia Database Schema and Entity Relationship Diagram "
   ]
  },
  {
   "cell_type": "markdown",
   "id": "4ae1a154-66cf-4de4-9419-088f297657e9",
   "metadata": {},
   "source": [
    "Schema and Entity Relationship Diagram for the Bookshelifa Database, which we normalised to 3rd Normal Form above. "
   ]
  },
  {
   "attachments": {
    "4e0aee07-947c-452e-bccf-39bba01a1831.png": {
     "image/png": "[encoded data removed]"
    }
   },
   "cell_type": "markdown",
   "id": "11417863-89fd-46bb-9e83-e42ac7cc4ebd",
   "metadata": {},
   "source": [
    "![image.png](attachment:4e0aee07-947c-452e-bccf-39bba01a1831.png)"
   ]
  },
  {
   "cell_type": "markdown",
   "id": "0b22187c-add9-45b2-b6cd-985b66f13d97",
   "metadata": {},
   "source": [
    "The diagram shows the fields and their associated types for each table within the Database. Also, it displays relationships between each of the tables. \n",
    "\n",
    "There is a One-To-Many relationship between the `customer_list` and `orders` table, as a single customer can place many orders. The One-To-Many relationship is shown visually on the Diagram with the crows foot symbol (facing towards `orders`) linking the `customer_id` fields between the two tables. `customer_id` is the Primary Key in `customer_list` and it is a Foreign Key in `orders`, these are denoted within diagram by `PK` and `FK` respectively. \n",
    "\n",
    "There are other One-To-Many relationships in the Database. There is a  One-To-Many relationship between the  `product_info` and `inventory`, As a  single book can be linked to multiple records within the inventory table (A book may have different levels of stock at different locations). \n",
    "\n",
    "\n",
    "\n",
    "The datatypes shown next to each field, are the the ones supported by sqlite, the database engine which will be used later in the notebook. "
   ]
  },
  {
   "cell_type": "markdown",
   "id": "566edddb-f6f8-4c6c-aa4d-6d4e5833d078",
   "metadata": {},
   "source": [
    "# Creating the Database in sqlite "
   ]
  },
  {
   "cell_type": "markdown",
   "id": "90fe532d-53ff-4185-99bd-624e00e883d0",
   "metadata": {},
   "source": [
    "## Question 1. "
   ]
  },
  {
   "cell_type": "markdown",
   "id": "59abd46a-9957-4ad7-8c9a-30b7f8d3e25d",
   "metadata": {},
   "source": [
    "[sqlite3](https://docs.python.org/3/library/sqlite3.html) library will be used to create and query the Database. "
   ]
  },
  {
   "cell_type": "code",
   "execution_count": 391,
   "id": "d8d5d59e-6df8-4504-b436-cc074f190696",
   "metadata": {},
   "outputs": [],
   "source": [
    "#importing sqlite \n",
    "import sqlite3 "
   ]
  },
  {
   "cell_type": "markdown",
   "id": "cf2fdbcc-7a61-468a-9ea7-f4a47d032cea",
   "metadata": {},
   "source": [
    "Defining the type conversions from the pandas datatypes to sqlite datatypes. This will be used to specify the datatypes for each field when converting the pandas `DataFrame`'s to SQL tables. "
   ]
  },
  {
   "cell_type": "code",
   "execution_count": 392,
   "id": "052ec05a-168c-4346-94a5-9fcc205f49ea",
   "metadata": {},
   "outputs": [],
   "source": [
    "type_conversions = {\n",
    "    'object' : 'text' , \n",
    "    'int64' : 'integer', \n",
    "    'float64' : 'real', }"
   ]
  },
  {
   "cell_type": "markdown",
   "id": "e309c6b3-91a3-4858-a184-335e948b747a",
   "metadata": {},
   "source": [
    "Python function to convert a  `DataFrame` into a SQL table, using  pandas `tosql()` function. "
   ]
  },
  {
   "cell_type": "code",
   "execution_count": 393,
   "id": "a74a5a5a-443d-48b1-9f12-5c436011c5ed",
   "metadata": {},
   "outputs": [],
   "source": [
    "def df2db(df, dbname, tablename):\n",
    "\n",
    "    #converting the pandas dataypes for each field within the DataFrame to the sqlite datatype \n",
    "    fieldtypes = { key : type_conversions[str(value)] for key,value in df.dtypes.items()  } \n",
    "\n",
    "    #initialising the connection to the database named dbname\n",
    "    connection = sqlite3.connect(dbname)\n",
    "\n",
    "    #using to_sql function, \n",
    "    df.to_sql(name = tablename,\n",
    "              con=connection,\n",
    "              if_exists='replace',\n",
    "              index=False,\n",
    "              dtype=fieldtypes\n",
    "             ) \n",
    "    #commit operation and then closing the connection with the database \n",
    "    connection.commit() \n",
    "    connection.close() "
   ]
  },
  {
   "cell_type": "markdown",
   "id": "02d6aef0-7c21-4d76-8cbb-95bea3b3af44",
   "metadata": {},
   "source": [
    "As we have now a function to convert and upload our pandas `DataFrame`'s to a SQL Database. We will create a database called `books.sqlite` inside of the data directory. "
   ]
  },
  {
   "cell_type": "code",
   "execution_count": 394,
   "id": "48e51b1e-fdbf-430c-b74b-8c094de95792",
   "metadata": {},
   "outputs": [],
   "source": [
    "#creating database \n",
    "con = sqlite3.connect('data/books.sqlite') \n",
    "con = con.cursor() "
   ]
  },
  {
   "cell_type": "markdown",
   "id": "95a75a5e-61ca-473c-894d-fbd9cbfd078c",
   "metadata": {},
   "source": [
    "initalising a dictionary of the tables and their names"
   ]
  },
  {
   "cell_type": "code",
   "execution_count": 395,
   "id": "6c53ef0a-099e-4e7f-b1ea-0f9342fdec5c",
   "metadata": {},
   "outputs": [],
   "source": [
    "dataframes = { 'inventory' : inventory, 'orders' :  orders, 'customer_list' :   customer_list, 'order_detail' :  order_detail, 'product_info' : product_info }"
   ]
  },
  {
   "cell_type": "markdown",
   "id": "857c92ca-68fe-49f6-b8b2-e6e5f41c5716",
   "metadata": {},
   "source": [
    "Iterating through each table in the `dataframes` dictionary and uploading them to the SQL Database. "
   ]
  },
  {
   "cell_type": "code",
   "execution_count": 396,
   "id": "e77a53b8-3018-4cb9-a498-7fa49769a6a5",
   "metadata": {},
   "outputs": [],
   "source": [
    "for name, df in dataframes.items(): \n",
    "    df2db(df, 'data/books.sqlite', name ) "
   ]
  },
  {
   "cell_type": "markdown",
   "id": "bd3064fd-21dc-45ae-97d3-598e97e4e32e",
   "metadata": {},
   "source": [
    "Testing that the tables have been uploaded correctly by querying for the last 2 rows from the `order_detail` table. "
   ]
  },
  {
   "cell_type": "code",
   "execution_count": 397,
   "id": "a4e6db30-b5b5-4e8c-8a7b-a6cf859e6a09",
   "metadata": {},
   "outputs": [
    {
     "data": {
      "text/plain": [
       "[('1', '978-1-04-142985-2', 0), ('2', '978-1-893866-80-5', 1)]"
      ]
     },
     "execution_count": 397,
     "metadata": {},
     "output_type": "execute_result"
    }
   ],
   "source": [
    "conn = sqlite3.connect('data/books.sqlite')\n",
    "cur = conn.cursor() \n",
    "\n",
    "#Executing SQL query \n",
    "cur.execute('SELECT * FROM order_detail LIMIT 2 ')\n",
    "\n",
    "items = cur.fetchall() \n",
    "conn.commit() \n",
    "conn.close() \n",
    "items "
   ]
  },
  {
   "cell_type": "markdown",
   "id": "b423152d-f652-4f7e-8ca7-aac1793c6021",
   "metadata": {},
   "source": [
    "### `execute_query` Function "
   ]
  },
  {
   "cell_type": "markdown",
   "id": "113d1186-44b8-4448-8a04-e988d0f59b9a",
   "metadata": {},
   "source": [
    "First we will define a function which simplifies the process of querying a Database. It takes two arguments: the query you wish to run and the filepath of the Database you want to query stored locally. \n",
    "\n",
    "The function handles the process of connecting to the Database,  executing the desired query, committing any changes as a result of the query and finally closing the Database connection."
   ]
  },
  {
   "cell_type": "code",
   "execution_count": 398,
   "id": "3ca8d232-d483-461e-87f9-e3b3a5057e07",
   "metadata": {},
   "outputs": [],
   "source": [
    "def execute_query(query : str,\n",
    "                  dbname : str) -> list: \n",
    "    \n",
    "    connection = sqlite3.connect(dbname)\n",
    "    connection.isolation_level = None \n",
    "    cur = connection.cursor() \n",
    "    cur.execute(query) \n",
    "    items = cur.fetchall()\n",
    "    connection.commit() \n",
    "    connection.close() \n",
    "\n",
    "    return items "
   ]
  },
  {
   "cell_type": "markdown",
   "id": "38d801a5-2c91-4fb4-a5f1-42c357c44ab6",
   "metadata": {},
   "source": [
    "## Question 2. "
   ]
  },
  {
   "cell_type": "markdown",
   "id": "b8b0d528-2378-4928-b597-9b894a11942f",
   "metadata": {},
   "source": [
    "The query below shows the total number of unique books which belong to each book type. "
   ]
  },
  {
   "cell_type": "code",
   "execution_count": 399,
   "id": "21ac869f-b255-4d68-85ad-4451ae2edc37",
   "metadata": {},
   "outputs": [
    {
     "data": {
      "text/plain": [
       "[('Book', 1413), ('eBook', 305), ('Magazine', 204), ('AudioBook', 107)]"
      ]
     },
     "execution_count": 399,
     "metadata": {},
     "output_type": "execute_result"
    }
   ],
   "source": [
    "query = ''' SELECT type, COUNT(type)\n",
    "            FROM product_info\n",
    "            GROUP BY type\n",
    "            ORDER BY COUNT(type) DESC '''\n",
    "\n",
    "execute_query(query, 'data/books.sqlite') "
   ]
  },
  {
   "cell_type": "markdown",
   "id": "94867fec-b61d-4e47-a627-e2a452bf9b40",
   "metadata": {},
   "source": [
    "Below is a slightly different query to the one above, it calculates the number of each book type which are currently in stock. It does this by joining `inventory` to `product_info`. Then it groups by type and then calculates the total number of books in-stock using `SUM`. "
   ]
  },
  {
   "cell_type": "code",
   "execution_count": 400,
   "id": "e94c192c-abd2-4208-9ed5-b90cadf03ff8",
   "metadata": {},
   "outputs": [],
   "source": [
    "query = '''\n",
    "        SELECT SUM(inventory.Quantity), product_info.type \n",
    "        FROM inventory \n",
    "        INNER JOIN product_info on product_info.Title = inventory.[Product Title]\n",
    "        GROUP BY product_info.type\n",
    "        '''"
   ]
  },
  {
   "cell_type": "code",
   "execution_count": 401,
   "id": "4b2c102a-0e7f-4854-ba61-d939730c66ad",
   "metadata": {},
   "outputs": [
    {
     "data": {
      "text/plain": [
       "[(3570, 'AudioBook'), (49646, 'Book'), (6634, 'Magazine'), (11218, 'eBook')]"
      ]
     },
     "execution_count": 401,
     "metadata": {},
     "output_type": "execute_result"
    }
   ],
   "source": [
    "execute_query(query, 'data/books.sqlite') "
   ]
  },
  {
   "cell_type": "markdown",
   "id": "ef816aee-b60e-4d63-b6bd-68a9b5ca01d8",
   "metadata": {},
   "source": [
    "## Question 3."
   ]
  },
  {
   "cell_type": "markdown",
   "id": "f77318d6-b16e-4868-8dfb-9043619b5c92",
   "metadata": {},
   "source": [
    "Query to retrieve all books of a particular genre that have the highest rating. \n",
    "\n",
    "The query below retrieves the top 10 comic books which have the highest ratings. This is done by first filtering the `product_info` table using `WHERE` such that it only includes comic books. Then ordering the remaining rows by rating using `ORDER BY` and finally extracting the top 10 by using `LIMIT`. "
   ]
  },
  {
   "cell_type": "code",
   "execution_count": 402,
   "id": "edb63868-9565-41cf-914f-55a6192e72b8",
   "metadata": {},
   "outputs": [
    {
     "data": {
      "text/plain": [
       "[('Unit me election me', '4.02'),\n",
       " ('Together agree avoid up it help', '4.02'),\n",
       " ('Receive beautiful occur', '3.71'),\n",
       " ('Night nor world fine consumer head', '3.46'),\n",
       " ('Rule season sign big them', '3.41'),\n",
       " ('Position individual professional', '3.36'),\n",
       " ('Team name to matter', '3.32'),\n",
       " ('Mind together social', '3.23'),\n",
       " ('Identify care young apply attorney from', '3.11'),\n",
       " ('History manage people enjoy night', '3.03')]"
      ]
     },
     "execution_count": 402,
     "metadata": {},
     "output_type": "execute_result"
    }
   ],
   "source": [
    "query = ''' SELECT Title, Rating\n",
    "            FROM product_info\n",
    "            WHERE Genre = 'Comics' \n",
    "            ORDER BY Rating DESC\n",
    "            LIMIT 10 '''\n",
    "\n",
    "execute_query(query, 'data/books.sqlite') "
   ]
  },
  {
   "cell_type": "markdown",
   "id": "cb33a8f9-27d7-4ced-9c96-5f875e52e275",
   "metadata": {},
   "source": [
    "## Question 4. "
   ]
  },
  {
   "cell_type": "markdown",
   "id": "263fea92-94ed-4855-b66e-545121b54908",
   "metadata": {},
   "source": [
    "Retrieve all the names and addresses of customers who have placed an order in the last month. \n",
    "\n",
    "In order to do this, the `customer_list` was joined to `orders`.  After this, the joined table was filtered for all records with a date greater than the date one month ago, using the `Date` function with the `now` keyword. "
   ]
  },
  {
   "cell_type": "code",
   "execution_count": 403,
   "id": "ab84e058-28c5-433c-8c0a-3cb452772af1",
   "metadata": {
    "scrolled": true
   },
   "outputs": [
    {
     "data": {
      "text/plain": [
       "[]"
      ]
     },
     "execution_count": 403,
     "metadata": {},
     "output_type": "execute_result"
    }
   ],
   "source": [
    "query = ''' SELECT customer_list.Name, customer_list.email\n",
    "            FROM orders\n",
    "            INNER JOIN customer_list ON orders.customer_id = customer_list.customer_id\n",
    "            WHERE Date >= Date('now', '-1 month')'''\n",
    "\n",
    "execute_query(query, 'data/books.sqlite') "
   ]
  },
  {
   "cell_type": "markdown",
   "id": "8605b5bc-4454-498c-82b4-bf0aa153f23f",
   "metadata": {},
   "source": [
    "## Question 5. "
   ]
  },
  {
   "cell_type": "markdown",
   "id": "5a767cca-b5f9-47b1-84c8-cd78f681f54e",
   "metadata": {},
   "source": [
    "Calculate revenue generated in the last quarter. \n",
    "\n",
    "We will define the last quarter as the last 3 months which precede the current month. E.g if the month was June, the last quarter would concern March, April and May. \n",
    "\n",
    "Filtering for all of the dates within the last quarter using the `WHERE` clause with the `strftime` function, searching for dates which are greater than the start of the month 4 months ago but less than the start of the current month. Then the Totals of each order within this period are summed using the `SUM` aggregator. \n",
    "\n",
    "The `%m` pattern is used to extract the month from each date. "
   ]
  },
  {
   "cell_type": "code",
   "execution_count": 404,
   "id": "234d3afe-a8ca-4020-ac63-6f5d42249a48",
   "metadata": {},
   "outputs": [
    {
     "data": {
      "text/plain": [
       "[(126094.3,)]"
      ]
     },
     "execution_count": 404,
     "metadata": {},
     "output_type": "execute_result"
    }
   ],
   "source": [
    "query = '''\n",
    "        SELECT sum(Total)\n",
    "        FROM orders\n",
    "        WHERE strftime( '%m' , Date) > strftime( '%m',  'now', '-4 month' ) AND \n",
    "              strftime( '%m' , Date) < strftime( '%m',  'now') ''' \n",
    "\n",
    "execute_query(query, 'data/books.sqlite') "
   ]
  },
  {
   "cell_type": "markdown",
   "id": "767723ca-60b4-49c9-9b1d-2e4cf71b62d8",
   "metadata": {},
   "source": [
    "## Question 6. "
   ]
  },
  {
   "cell_type": "markdown",
   "id": "405ce377-56de-4beb-9ce8-5e3169b034fe",
   "metadata": {},
   "source": [
    "Retrieve the top 5 best selling books of all time. \n",
    "\n",
    "Grouping `orders` by `ISBN` and then calculating the total quantity of books soled using the `SUM` aggregator. Finally, the results are sorted in descending order and the top 5 results are returned. \n",
    "\n",
    "It is worth noting that this query makes the assumption that \"books\" is referring to all types of books including magazines, Audio Books etc rather than just those with the \"book\" type. "
   ]
  },
  {
   "cell_type": "code",
   "execution_count": 405,
   "id": "f27f7784-0337-4266-a59d-5cabe14227d4",
   "metadata": {},
   "outputs": [
    {
     "data": {
      "text/plain": [
       "[('978-1-76063-131-4', 92),\n",
       " ('978-1-241-31906-9', 91),\n",
       " ('978-1-07-727420-4', 59),\n",
       " ('978-0-14-017970-5', 25),\n",
       " ('978-1-02-123386-8', 23)]"
      ]
     },
     "execution_count": 405,
     "metadata": {},
     "output_type": "execute_result"
    }
   ],
   "source": [
    "query = ''' SELECT ISBN, SUM(Quantity)\n",
    "            FROM order_detail\n",
    "            GROUP BY ISBN\n",
    "            ORDER BY SUM(Quantity) DESC\n",
    "            LIMIT 5 '''\n",
    "\n",
    "execute_query(query, 'data/books.sqlite') "
   ]
  },
  {
   "cell_type": "markdown",
   "id": "1cf16a6c-16f6-47f6-aaa7-f74b14a8c230",
   "metadata": {},
   "source": [
    "## Question 7. "
   ]
  },
  {
   "cell_type": "markdown",
   "id": "422192cf-59ac-4ae3-a9d2-338c86e4af0a",
   "metadata": {},
   "source": [
    "Query to retrieve the names of customers who have  purchased a book from a particular author. \n",
    "\n",
    "Holly Lee will be our selected author. \n",
    "\n",
    "To retrieve the names of everyone who have purchased a book from Holly Lee. First, we will create a subquery which returns the `Order ID`s of all orders which included a book written by Holly Lee.\n",
    "\n",
    "Then, we will join `customer_list` to `orders` and then filter the joined table using a `WHERE` clause, filtering for `Order ID`s in the list of `Order ID`s created by the subquery. "
   ]
  },
  {
   "cell_type": "code",
   "execution_count": 406,
   "id": "c6db11fb-0880-4da9-b78a-bc5ed4eced91",
   "metadata": {},
   "outputs": [
    {
     "data": {
      "text/plain": [
       "[('Melissa Robinson',),\n",
       " ('Michael Ayers',),\n",
       " ('Andrea Gilbert',),\n",
       " ('Robin Mcintyre',),\n",
       " ('Joshua Hancock',)]"
      ]
     },
     "execution_count": 406,
     "metadata": {},
     "output_type": "execute_result"
    }
   ],
   "source": [
    "query = ''' SELECT customer_list.Name \n",
    "            FROM orders\n",
    "            INNER JOIN customer_list on orders.customer_id = customer_list.customer_id\n",
    "\n",
    "            WHERE orders.[Order ID] in \n",
    "\n",
    "            -- Subquery \n",
    "            \n",
    "            (\n",
    "            SELECT order_detail.[Order ID]\n",
    "            FROM order_detail\n",
    "            INNER JOIN product_info on order_detail.ISBN = product_info.ISBN\n",
    "            WHERE product_info.Author = \"Holly Lee\" ) \n",
    "            \n",
    "            '''\n",
    "execute_query(query, 'data/books.sqlite') "
   ]
  },
  {
   "cell_type": "markdown",
   "id": "fbc77f7d-972a-4875-8694-055b5405bb9c",
   "metadata": {},
   "source": [
    "Below is an alternative version of the query above which uses an additional join rather than a subquery. "
   ]
  },
  {
   "cell_type": "code",
   "execution_count": 407,
   "id": "92f45102-b95b-4a77-a029-76ba66d0cc7c",
   "metadata": {},
   "outputs": [
    {
     "data": {
      "text/plain": [
       "[('Melissa Robinson',),\n",
       " ('Michael Ayers',),\n",
       " ('Andrea Gilbert',),\n",
       " ('Robin Mcintyre',),\n",
       " ('Joshua Hancock',)]"
      ]
     },
     "execution_count": 407,
     "metadata": {},
     "output_type": "execute_result"
    }
   ],
   "source": [
    "query = ''' SELECT customer_list.Name\n",
    "\n",
    "            FROM order_detail\n",
    "            INNER JOIN orders on orders.[Order ID] = order_detail.[Order ID] \n",
    "            INNER JOIN product_info on product_info.ISBN = order_detail.ISBN\n",
    "            INNER JOIN customer_list on customer_list.customer_id = orders.customer_id\n",
    "\n",
    "            WHERE product_info.Author = \"Holly Lee\"\n",
    "            \n",
    "             '''\n",
    "\n",
    "execute_query(query, 'data/books.sqlite')"
   ]
  },
  {
   "cell_type": "markdown",
   "id": "ae8130d1-f9d6-45fb-9405-f4a14b202534",
   "metadata": {},
   "source": [
    "## Question 8. "
   ]
  },
  {
   "cell_type": "markdown",
   "id": "e6eb5059-b489-49ae-8928-05e400c857c1",
   "metadata": {},
   "source": [
    "Retrieve the names of all customers who have purchased at least one of each book type. \n",
    "\n",
    "This query requires multiple joins as we have to combine lots of different information together.\n",
    "\n",
    "First join `orders` to `order_detail`, then join`customer_list` to the joined table and finally join `product_info`to the joined table. \n",
    "\n",
    "Finally, we group the joined table by `customer_id` and then filter for customers which have ordered a total of 4 distinct book types using the `HAVING` clause, as there are a total of 4 possible book types. "
   ]
  },
  {
   "cell_type": "code",
   "execution_count": 408,
   "id": "3b801749-421b-4da9-a2df-46d9836434b5",
   "metadata": {
    "scrolled": true
   },
   "outputs": [
    {
     "data": {
      "text/plain": [
       "[('Roy Thomas',),\n",
       " ('Kimberly Carlson',),\n",
       " ('Zachary Patterson',),\n",
       " ('Andrea Holmes',),\n",
       " ('Jose Perez',),\n",
       " ('Matthew Lewis',),\n",
       " ('Michael Brown',),\n",
       " ('David Rowland',),\n",
       " ('Dennis Hill',),\n",
       " ('Timothy Garcia',),\n",
       " ('Danny Hale',),\n",
       " ('Troy Tucker',),\n",
       " ('Julia Bray',),\n",
       " ('James Brown',),\n",
       " ('Holly Hendrix',),\n",
       " ('Larry Foster',),\n",
       " ('Eddie Peters',),\n",
       " ('Theresa Weaver',),\n",
       " ('Jennifer Brown',),\n",
       " ('Joshua Herman',),\n",
       " ('Lauren Chapman',),\n",
       " ('Christopher Hogan',),\n",
       " ('Paul Young',),\n",
       " ('Vanessa Hodges',),\n",
       " ('Melissa Robinson',),\n",
       " ('Jessica Mahoney',),\n",
       " ('Shawn Joseph',),\n",
       " ('Scott Espinoza',),\n",
       " ('Thomas Thomas',),\n",
       " ('Nicole Palmer',),\n",
       " ('Max Fuentes',),\n",
       " ('Patricia Hart',),\n",
       " ('Deborah Gutierrez',),\n",
       " ('Debra Wilson',),\n",
       " ('Matthew Brennan',),\n",
       " ('Sarah Jones',),\n",
       " ('Mary Lewis',),\n",
       " ('Robin Lewis',),\n",
       " ('Christopher Miller',),\n",
       " ('Derrick Baker',),\n",
       " ('Kevin Morrison',),\n",
       " ('Calvin Wilkins',),\n",
       " ('Kevin Bryan',),\n",
       " ('Michael Ayers',),\n",
       " ('John Martinez',),\n",
       " ('Michelle Bonilla',),\n",
       " ('Aaron Williams',),\n",
       " ('Emily Higgins',),\n",
       " ('David Anderson',),\n",
       " ('Eric Williams',),\n",
       " ('Allen Carroll',),\n",
       " ('Brian Thompson',),\n",
       " ('Donald Robbins',),\n",
       " ('Sarah Neal',),\n",
       " ('Joshua Hancock',),\n",
       " ('Charles Allen',),\n",
       " ('Curtis Gillespie',),\n",
       " ('Allison Villegas',),\n",
       " ('Caleb Gray',),\n",
       " ('Tara Salas',),\n",
       " ('Ryan White',),\n",
       " ('Alejandra James',),\n",
       " ('Tasha Smith',),\n",
       " ('Linda Contreras',),\n",
       " ('Caitlin Torres',),\n",
       " ('Kimberly Frank',),\n",
       " ('Kelly Anderson',),\n",
       " ('Kelly Wall',),\n",
       " ('Douglas Johnson',),\n",
       " ('Jacqueline Page',),\n",
       " ('Michelle Williams',),\n",
       " ('Thomas Stevens',),\n",
       " ('Raymond Rodriguez',),\n",
       " ('Kimberly Mccarthy',),\n",
       " ('Timothy Moore',),\n",
       " ('Willie Spears',),\n",
       " ('Douglas Owens',),\n",
       " ('Candace Garner',),\n",
       " ('Donald Williamson',),\n",
       " ('Shawn Dunlap',),\n",
       " ('William Andersen',),\n",
       " ('Phillip Paul',),\n",
       " ('Alison Garcia',),\n",
       " ('Travis Rhodes',),\n",
       " ('Brian Harris',),\n",
       " ('Nicholas Randall',),\n",
       " ('Robin Mcintyre',),\n",
       " ('Meagan Weber',),\n",
       " ('Meagan Wood',),\n",
       " ('Alexandra Jones',),\n",
       " ('Andrea Bowen',),\n",
       " ('Jessica Turner',),\n",
       " ('Steven Gordon',),\n",
       " ('Theresa Anderson',),\n",
       " ('Melissa Patrick',),\n",
       " ('Brian Raymond',),\n",
       " ('Kevin Gray',),\n",
       " ('Melissa Smith',),\n",
       " ('Jason Gill',),\n",
       " ('Chelsea Mays',),\n",
       " ('Sandra Green',),\n",
       " ('Ryan Nguyen',),\n",
       " ('Scott Barber',),\n",
       " ('Brett Cardenas',),\n",
       " ('Stacy Burke',),\n",
       " ('Christopher Allen',),\n",
       " ('Gregory Lopez',),\n",
       " ('David Price',),\n",
       " ('Michelle Sims',),\n",
       " ('Hannah Montgomery',),\n",
       " ('Daniel Anderson',),\n",
       " ('Victoria Olson',),\n",
       " ('Andrea Joseph',),\n",
       " ('Michael Ponce',),\n",
       " ('Jessica Riley',),\n",
       " ('Christopher Dorsey',),\n",
       " ('Michael Mckinney',),\n",
       " ('Matthew Payne',),\n",
       " ('James Johnson',),\n",
       " ('Christina Clements',),\n",
       " ('Helen Lynch',),\n",
       " ('Julie May',),\n",
       " ('Diana Andrade',),\n",
       " ('Jessica Davis',),\n",
       " ('Margaret Nguyen',),\n",
       " ('Dawn Beasley',),\n",
       " ('Kevin Shaw',),\n",
       " ('Chris Parker',),\n",
       " ('Jeffery Johnson',),\n",
       " ('Tami Hall',),\n",
       " ('Carl Brown',),\n",
       " ('Dustin Burns',),\n",
       " ('Tony Davila',),\n",
       " ('Angela Howell',),\n",
       " ('William Riley',),\n",
       " ('Glenn Bryan',),\n",
       " ('Tracey Ford',),\n",
       " ('Joy Drake',),\n",
       " ('Jeffrey Love',),\n",
       " ('Ariel Cain',),\n",
       " ('Robert Stone',),\n",
       " ('Barbara Conway',),\n",
       " ('April Austin',),\n",
       " ('Michael Ware',),\n",
       " ('Nicholas Martinez',),\n",
       " ('Michael Robinson',),\n",
       " ('Jacob Tucker',),\n",
       " ('Christopher Rose',),\n",
       " ('Eric Johnson',),\n",
       " ('Kimberly Morrison',),\n",
       " ('Samuel Reeves',),\n",
       " ('Nicholas Johnson',),\n",
       " ('Antonio Clark',),\n",
       " ('Mary Morgan',),\n",
       " ('Brian Gibbs',),\n",
       " ('Brandon Orozco',),\n",
       " ('Michelle Roberts',),\n",
       " ('Reginald Lamb',),\n",
       " ('Brianna Rodriguez',),\n",
       " ('Valerie Brown',),\n",
       " ('Christopher Hernandez',),\n",
       " ('Amanda Hughes',),\n",
       " ('Michael Cabrera',),\n",
       " ('Maria Rogers',),\n",
       " ('Lisa Cook',),\n",
       " ('James Harrison',)]"
      ]
     },
     "execution_count": 408,
     "metadata": {},
     "output_type": "execute_result"
    }
   ],
   "source": [
    "query = ''' SELECT customer_list.Name\n",
    "\n",
    "            FROM order_detail\n",
    "            INNER JOIN orders on orders.[Order ID] = order_detail.[Order ID] \n",
    "            INNER JOIN customer_list on customer_list.customer_id = orders.customer_id\n",
    "            INNER JOIN product_info on product_info.ISBN = order_detail.ISBN\n",
    "\n",
    "            GROUP BY orders.customer_id\n",
    "\n",
    "            HAVING COUNT( DISTINCT product_info.type ) = 4 \n",
    "            \n",
    "             '''\n",
    "execute_query(query, 'data/books.sqlite')"
   ]
  },
  {
   "cell_type": "markdown",
   "id": "491bea39-0a47-438f-8716-9b24a414dd9c",
   "metadata": {},
   "source": [
    "## Question 9. "
   ]
  },
  {
   "cell_type": "markdown",
   "id": "265f8a36-bb7c-4743-9a98-4c0041cca14e",
   "metadata": {},
   "source": [
    "Retrieving names of all customers who have not purchased anything in the last 6 months. \n",
    "\n",
    "First we join the `customer_list` onto `orders`,  so that we are able to attach a name to each order. Then,  we group by `customer_id` and use `MAX` as an aggregate function, returning the date of each customer's latest purchase. Finally, we filter for all customers whose latest purchase was more than 6 months ago using the `HAVING` clause and `strftime` function.  \n",
    "\n",
    "This query makes the assumption that all users have made a purchase. However, it may be the case that not all users have a historical purchase, which makes this current query invalid as it queries for users who have not made a purchase in the last 6 months but have at least one historical purchase. "
   ]
  },
  {
   "cell_type": "code",
   "execution_count": 162,
   "id": "3c9fdf47-dfc8-4641-9064-57209cbc04ca",
   "metadata": {
    "scrolled": true
   },
   "outputs": [
    {
     "data": {
      "text/plain": [
       "[('Thomas York',),\n",
       " ('Herbert Stevenson',),\n",
       " ('Mariah Walker',),\n",
       " ('Roy Thomas',),\n",
       " ('Kimberly Carlson',),\n",
       " ('Lisa Nguyen',),\n",
       " ('Andrea Holmes',),\n",
       " ('Jose Perez',),\n",
       " ('Jessica Smith',),\n",
       " ('Heather Evans',),\n",
       " ('Kyle Morales',),\n",
       " ('Luke Miles',),\n",
       " ('David Rowland',),\n",
       " ('Alicia Smith',),\n",
       " ('Brenda Adams',),\n",
       " ('Charles Murphy',),\n",
       " ('Joseph Allen',),\n",
       " ('Michelle Cervantes',),\n",
       " ('John Gibson',),\n",
       " ('Dennis Hill',),\n",
       " ('Scott Turner',),\n",
       " ('Timothy Garcia',),\n",
       " ('Joshua Johnson',),\n",
       " ('Lori Hall',),\n",
       " ('Chase Wheeler',),\n",
       " ('David Parsons',),\n",
       " ('David Nixon',),\n",
       " ('Karen Best',),\n",
       " ('Jerry Torres',),\n",
       " ('Diana King',),\n",
       " ('James Brown',),\n",
       " ('Michelle Spears',),\n",
       " ('Angela Clark',),\n",
       " ('Alexander Ford',),\n",
       " ('Jason Bullock',),\n",
       " ('James Velasquez',),\n",
       " ('Larry Foster',),\n",
       " ('Alec Lynch',),\n",
       " ('Anthony Myers',),\n",
       " ('David Roth',),\n",
       " ('Eddie Peters',),\n",
       " ('Scott Morton',),\n",
       " ('David Miller',),\n",
       " ('Jason Stanley',),\n",
       " ('Shawn Adams',),\n",
       " ('Jennifer Brown',),\n",
       " ('Joshua Herman',),\n",
       " ('Lauren Chapman',),\n",
       " ('Christopher Hogan',),\n",
       " ('Gregory White',),\n",
       " ('Jose Mann',),\n",
       " ('Stanley Lopez',),\n",
       " ('Jose Brown',),\n",
       " ('Donna Cook',),\n",
       " ('Erin Blackwell',),\n",
       " ('Sara Carson',),\n",
       " ('Kelly Campos',),\n",
       " ('Aaron Delacruz',),\n",
       " ('Cheyenne Garner',),\n",
       " ('Deborah Cortez',),\n",
       " ('Terri Carpenter',),\n",
       " ('Jessica Mahoney',),\n",
       " ('Tamara Miller',),\n",
       " ('Shawn Joseph',),\n",
       " ('Stephanie Stout',),\n",
       " ('Robert White',),\n",
       " ('Thomas Thomas',),\n",
       " ('Tina Fields',),\n",
       " ('Kenneth Cardenas',),\n",
       " ('David Goodwin',),\n",
       " ('Julie Phillips',),\n",
       " ('Nicole Palmer',),\n",
       " ('Matthew Boyd',),\n",
       " ('Deborah Gutierrez',),\n",
       " ('Matthew Brennan',),\n",
       " ('Melissa Wilson',),\n",
       " ('Carol Simon',),\n",
       " ('Colleen Pierce',),\n",
       " ('Danielle Foster',),\n",
       " ('Jordan Bolton',),\n",
       " ('Brett Landry',),\n",
       " ('Julie Hodges',),\n",
       " ('Jacob Riley',),\n",
       " ('Joseph Barrett',),\n",
       " ('Jose Knight',),\n",
       " ('Madeline Mendez',),\n",
       " ('Thomas Leon',),\n",
       " ('Mary Lewis',),\n",
       " ('Mark Jones',),\n",
       " ('Ryan Patterson',),\n",
       " ('Dana Allen',),\n",
       " ('Erin Matthews',),\n",
       " ('Barry Russell',),\n",
       " ('Erin Thomas',),\n",
       " ('Kevin Bryan',),\n",
       " ('Robert Davis',),\n",
       " ('Patricia Ramos',),\n",
       " ('Alexander Rodriguez',),\n",
       " ('Michael Ayers',),\n",
       " ('Brett Martin',),\n",
       " ('Donna Shelton',),\n",
       " ('Abigail Winters',),\n",
       " ('Michelle Bonilla',),\n",
       " ('Julie Lopez',),\n",
       " ('Melissa Burnett',),\n",
       " ('Tony Brown',),\n",
       " ('Laura Zhang',),\n",
       " ('Kyle Morrison',),\n",
       " ('Richard Barnes',),\n",
       " ('Kayla Moore',),\n",
       " ('Carolyn Shepherd',),\n",
       " ('Mary Brown',),\n",
       " ('Timothy Swanson',),\n",
       " ('David Morris',),\n",
       " ('David Anderson',),\n",
       " ('Grace Cook',),\n",
       " ('Whitney Ward',),\n",
       " ('Allen Carroll',),\n",
       " ('Rodney Mercado',),\n",
       " ('Michele Trujillo',),\n",
       " ('Justin Osborne',),\n",
       " ('Brian Thompson',),\n",
       " ('David Watson',),\n",
       " ('Joshua Hancock',),\n",
       " ('Jennifer Schaefer',),\n",
       " ('Paul Lee',),\n",
       " ('Kristen Jackson',),\n",
       " ('Michele Carter',),\n",
       " ('Charles Allen',),\n",
       " ('Nicole Clark',),\n",
       " ('Bryce Leblanc',),\n",
       " ('John Jarvis',),\n",
       " ('James Johnson',),\n",
       " ('Curtis Gillespie',),\n",
       " ('Jessica Johnson',),\n",
       " ('Benjamin Matthews',),\n",
       " ('Derek Stephenson',),\n",
       " ('Allison Villegas',),\n",
       " ('Mary Rogers',),\n",
       " ('Dennis Roberts',),\n",
       " ('Ryan White',),\n",
       " ('Brandon Montes',),\n",
       " ('Brandi Oneal',),\n",
       " ('William Williams',),\n",
       " ('Andrea Harris',),\n",
       " ('Linda Contreras',),\n",
       " ('Brandon Love',),\n",
       " ('Joseph Frazier',),\n",
       " ('Jeff Mason',),\n",
       " ('Jessica Jones',),\n",
       " ('Danielle Kennedy',),\n",
       " ('Jeffrey Leon',),\n",
       " ('Douglas Johnson',),\n",
       " ('Bailey King',),\n",
       " ('Carla Perry',),\n",
       " ('Scott Mccoy',),\n",
       " ('Alejandro Macias',),\n",
       " ('Tina Morris',),\n",
       " ('Stephanie Garza',),\n",
       " ('James Chavez',),\n",
       " ('Jacob Olson',),\n",
       " ('Steven Pratt',),\n",
       " ('Kristin Brown',),\n",
       " ('Alyssa Pham',),\n",
       " ('Andrea Huff',),\n",
       " ('Douglas Owens',),\n",
       " ('Destiny Romero',),\n",
       " ('Candace Garner',),\n",
       " ('Donald Williamson',),\n",
       " ('Shawn Dunlap',),\n",
       " ('Matthew Morrow',),\n",
       " ('Joseph Hensley',),\n",
       " ('William Andersen',),\n",
       " ('Dominique Williams',),\n",
       " ('Malik Robinson',),\n",
       " ('Phillip Paul',),\n",
       " ('Christopher Smith',),\n",
       " ('James Greene',),\n",
       " ('Dana Hill',),\n",
       " ('Colton Howard',),\n",
       " ('Tammy Taylor',),\n",
       " ('Travis Rhodes',),\n",
       " ('Johnathan Shannon',),\n",
       " ('Matthew Shaw',),\n",
       " ('Anthony Williams',),\n",
       " ('Amber Smith',),\n",
       " ('Laura Greer',),\n",
       " ('Erica Kelly',),\n",
       " ('Michael Mccoy',),\n",
       " ('Jacob Howard',),\n",
       " ('Meagan Weber',),\n",
       " ('Megan Ramirez',),\n",
       " ('Tiffany Carter',),\n",
       " ('Nathan Williams',),\n",
       " ('Andrea Gilbert',),\n",
       " ('Charles Kim',),\n",
       " ('Stephen Cook',),\n",
       " ('Alexis Aguilar',),\n",
       " ('Andrea Bowen',),\n",
       " ('Michael Walters',),\n",
       " ('Jessica Turner',),\n",
       " ('Steven Gordon',),\n",
       " ('Kelli Hart',),\n",
       " ('Doris Kramer',),\n",
       " ('Ryan Clark',),\n",
       " ('Samantha Jackson',),\n",
       " ('Thomas Owens',),\n",
       " ('Dale Sanchez',),\n",
       " ('Theresa Anderson',),\n",
       " ('Tina Bradford',),\n",
       " ('Joseph Little',),\n",
       " ('Justin Miranda',),\n",
       " ('Lisa Munoz',),\n",
       " ('James Blair',),\n",
       " ('Melissa Patrick',),\n",
       " ('Linda Owens',),\n",
       " ('Carol Campbell',),\n",
       " ('Brian Raymond',),\n",
       " ('Melissa Smith',),\n",
       " ('Richard Everett',),\n",
       " ('Ronald Hunt',),\n",
       " ('Heather Parker',),\n",
       " ('Christopher Knapp',),\n",
       " ('David Gray',),\n",
       " ('Rachel Larson',),\n",
       " ('Devin Henderson',),\n",
       " ('Ruben Gutierrez',),\n",
       " ('Chelsea Mays',),\n",
       " ('Sarah Jackson',),\n",
       " ('Sandra Green',),\n",
       " ('Ryan Nguyen',),\n",
       " ('David Hawkins',),\n",
       " ('Geoffrey Morris',),\n",
       " ('Keith Valencia',),\n",
       " ('Scott Barber',),\n",
       " ('Jenny Reynolds',),\n",
       " ('Mia Larson',),\n",
       " ('Brad Caldwell',),\n",
       " ('Tiffany Hunt',),\n",
       " ('Debbie Kim',),\n",
       " ('Kimberly Brown',),\n",
       " ('Eric Jimenez',),\n",
       " ('Joseph Huynh',),\n",
       " ('Gregory Lopez',),\n",
       " ('Stephanie Waters',),\n",
       " ('Nancy Ramos',),\n",
       " ('Michael Aguilar',),\n",
       " ('Matthew White',),\n",
       " ('Zachary Blankenship',),\n",
       " ('Joshua Williams',),\n",
       " ('Hannah Montgomery',),\n",
       " ('Sarah Daniels',),\n",
       " ('Daniel Anderson',),\n",
       " ('Reginald Clayton',),\n",
       " ('Ernest Parsons',),\n",
       " ('Cynthia Aguilar',),\n",
       " ('Mason Murphy',),\n",
       " ('Victoria Olson',),\n",
       " ('Mandy Porter',),\n",
       " ('Thomas Jenkins',),\n",
       " ('Tracey House',),\n",
       " ('Andrea Joseph',),\n",
       " ('Michael Ponce',),\n",
       " ('William Hays',),\n",
       " ('Alan Lowery',),\n",
       " ('Michael Powell',),\n",
       " ('Michael Mckinney',),\n",
       " ('Matthew Payne',),\n",
       " ('James Johnson',),\n",
       " ('Christina Clements',),\n",
       " ('Helen Lynch',),\n",
       " ('Jody Payne',),\n",
       " ('Julie May',),\n",
       " ('Diana Andrade',),\n",
       " ('Daniel Kane',),\n",
       " ('Jessica Davis',),\n",
       " ('Donald Warren',),\n",
       " ('Steven Webb',),\n",
       " ('Margaret Nguyen',),\n",
       " ('Mary Potter',),\n",
       " ('Tricia Wilkinson',),\n",
       " ('Carlos Patel',),\n",
       " ('Kelly Arellano',),\n",
       " ('Dawn Beasley',),\n",
       " ('Kevin Shaw',),\n",
       " ('Ronald Brown',),\n",
       " ('Chris Parker',),\n",
       " ('Matthew Daniels',),\n",
       " ('Erica Bass',),\n",
       " ('Heather Martin',),\n",
       " ('Nathan Benson',),\n",
       " ('Alyssa Aguirre',),\n",
       " ('Kristin Mccarthy',),\n",
       " ('Nicholas Perry',),\n",
       " ('Jeffrey Moore',),\n",
       " ('Ashley Bowen',),\n",
       " ('William Reese',),\n",
       " ('Jeffery Johnson',),\n",
       " ('Timothy Schroeder',),\n",
       " ('Matthew Foster',),\n",
       " ('Sherry Cline',),\n",
       " ('Adam Jimenez',),\n",
       " ('Elaine Hayes',),\n",
       " ('Janet Harris',),\n",
       " ('Sarah Ryan',),\n",
       " ('Stephanie Graham',),\n",
       " ('Matthew Decker',),\n",
       " ('Michael Bradshaw',),\n",
       " ('Jennifer Cook',),\n",
       " ('Carlos Herring',),\n",
       " ('Carl Brown',),\n",
       " ('Kathy Thomas',),\n",
       " ('Jason Williams',),\n",
       " ('Andrew Roy',),\n",
       " ('Gina Grant',),\n",
       " ('Alexis Hernandez',),\n",
       " ('Gregory Gamble',),\n",
       " ('Dominic Green',),\n",
       " ('William Bailey',),\n",
       " ('Monica Cardenas',),\n",
       " ('Melody Kramer',),\n",
       " ('Brandon Wilson',),\n",
       " ('Wayne Thompson',),\n",
       " ('Joseph Liu',),\n",
       " ('Brandi Thornton',),\n",
       " ('Jessica Lewis',),\n",
       " ('Tony Davila',),\n",
       " ('Robert Miller',),\n",
       " ('William Riley',),\n",
       " ('George Chase',),\n",
       " ('Daniel Hamilton',),\n",
       " ('Tracey Ford',),\n",
       " ('Kristen Kramer',),\n",
       " ('Mary Campos',),\n",
       " ('John Goodman',),\n",
       " ('Robert Martinez',),\n",
       " ('Catherine Terry',),\n",
       " ('Rachel Williams',),\n",
       " ('James Smith',),\n",
       " ('Ariel Cain',),\n",
       " ('Tiffany Lewis',),\n",
       " ('Robert Hall',),\n",
       " ('Eric Anderson',),\n",
       " ('Henry Edwards',),\n",
       " ('Jessica Williams',),\n",
       " ('Nicholas Martinez',),\n",
       " ('Michael Robinson',),\n",
       " ('Jacob Tucker',),\n",
       " ('Jennifer Mcbride',),\n",
       " ('Aaron Miller',),\n",
       " ('Laura Olsen',),\n",
       " ('Kyle Hobbs',),\n",
       " ('Adrian Vazquez',),\n",
       " ('Heather Smith',),\n",
       " ('Jennifer Esparza',),\n",
       " ('Michael Brown',),\n",
       " ('Andrew Smith',),\n",
       " ('Antonio Clark',),\n",
       " ('Eric Wright',),\n",
       " ('Andrew Miller',),\n",
       " ('Brian Gibbs',),\n",
       " ('John Bailey',),\n",
       " ('Michelle Roberts',),\n",
       " ('Brianna Rodriguez',),\n",
       " ('Karen Ellis',),\n",
       " ('Valerie Brown',),\n",
       " ('Wendy Harper',),\n",
       " ('Christopher Hernandez',),\n",
       " ('Amanda Hughes',),\n",
       " ('Frank Barnett',),\n",
       " ('Robert Robinson',),\n",
       " ('John Payne',),\n",
       " ('Benjamin Rodriguez',),\n",
       " ('Zachary Cruz',),\n",
       " ('Ian Williams',),\n",
       " ('Brittany Phelps',),\n",
       " ('Maria Rogers',),\n",
       " ('Lisa Cook',),\n",
       " ('James Harrison',)]"
      ]
     },
     "execution_count": 162,
     "metadata": {},
     "output_type": "execute_result"
    }
   ],
   "source": [
    "query = ''' SELECT customer_list.Name\n",
    "            FROM orders\n",
    "            FULL JOIN customer_list on customer_list.customer_id = orders.customer_id\n",
    "            GROUP BY orders.customer_id\n",
    "            HAVING strftime('%Y-%m', MAX(orders.Date))  <= strftime('%Y-%m', 'now', '-6 month') \n",
    "            \n",
    "            '''\n",
    "execute_query(query, 'data/books.sqlite')"
   ]
  },
  {
   "cell_type": "markdown",
   "id": "f9b7aa3d-36e7-4d07-857d-2cfe6fa05d66",
   "metadata": {},
   "source": [
    "## Question 10. "
   ]
  },
  {
   "cell_type": "markdown",
   "id": "23997f27-5086-4d1a-9495-f9acef642791",
   "metadata": {},
   "source": [
    "Retrieve all Audiobooks from a particular narrator. \n",
    "\n",
    "In order to retrieve all audibooks narrated by Julia Whelan, we simply have to filter the `product_info` table using a `WHERE` clause searching for the records where `Format` is equal to Audio and `Narrator` is equal to Julia Whelan. "
   ]
  },
  {
   "cell_type": "code",
   "execution_count": 163,
   "id": "e643a398-1a99-468d-94cb-a04961e59621",
   "metadata": {
    "scrolled": true
   },
   "outputs": [
    {
     "data": {
      "text/plain": [
       "[('Federal party meeting out',),\n",
       " ('How huge down maybe similar',),\n",
       " ('Million factor resource believe water yourself',),\n",
       " ('Call understand learn drop quickly',),\n",
       " ('Brother reality pick figure',),\n",
       " ('Avoid inside experience',),\n",
       " ('Think sure growth general fear career',),\n",
       " ('New against business student hold task',),\n",
       " ('Ready big more these world modern',)]"
      ]
     },
     "execution_count": 163,
     "metadata": {},
     "output_type": "execute_result"
    }
   ],
   "source": [
    "query = ''' SELECT Title\n",
    "            FROM product_info \n",
    "            WHERE Format = \"Audio\"\n",
    "            AND Narrator = \"Julia Whelan\"  '''\n",
    "\n",
    "execute_query(query, 'data/books.sqlite') "
   ]
  },
  {
   "cell_type": "markdown",
   "id": "b18304d0-2e9c-4a52-92da-4daca0fb715f",
   "metadata": {},
   "source": [
    "## Question 11. "
   ]
  },
  {
   "cell_type": "markdown",
   "id": "5e4c395d-3c29-4899-89af-a4123cdf5d1d",
   "metadata": {},
   "source": [
    "Retrieve the top 10 most popular genres based on the total number of books sold.\n",
    "\n",
    "First, we must join `product_info` to `order_detail`, linking the order of each item to a particular genre. Then, we group by genre and sum the quantity of each order. Finally, the results are sorted by the total quantity ordered in descending order and the first 10 results are retrieved.\n",
    "\n",
    "This query makes the assumption that \"books\" also refers to Ebooks. "
   ]
  },
  {
   "cell_type": "code",
   "execution_count": 164,
   "id": "400cd8ad-8f29-496f-b663-e4fc361f87c9",
   "metadata": {},
   "outputs": [
    {
     "data": {
      "text/plain": [
       "[('Science Fiction', 701),\n",
       " ('Comedy', 670),\n",
       " ('History', 660),\n",
       " ('Religion and Spirituality', 643),\n",
       " ('Romance', 611),\n",
       " ('Crime Fiction', 603),\n",
       " ('Cooking', 577),\n",
       " ('Young Adult', 571),\n",
       " ('Gardening and Nature', 571),\n",
       " ('Poetry', 533)]"
      ]
     },
     "execution_count": 164,
     "metadata": {},
     "output_type": "execute_result"
    }
   ],
   "source": [
    "query = ''' \n",
    "        SELECT product_info.Genre, SUM(order_detail.Quantity) \n",
    "        FROM order_detail\n",
    "        INNER JOIN product_info ON product_info.ISBN = order_detail.ISBN\n",
    "        GROUP BY product_info.Genre \n",
    "        ORDER BY SUM(order_detail.Quantity ) DESC \n",
    "        LIMIT 10 \n",
    "        ''' \n",
    "\n",
    "execute_query(query, 'data/books.sqlite' ) "
   ]
  },
  {
   "cell_type": "markdown",
   "id": "ce1de717-81ae-4925-bd29-ed28ca2d08e7",
   "metadata": {},
   "source": [
    "## Question 12. "
   ]
  },
  {
   "cell_type": "markdown",
   "id": "a0b7a08f-3930-4965-822b-da9e4779e20b",
   "metadata": {},
   "source": [
    "Retrieve the total number of distinct customers who have purchased from a particular publisher. \n",
    "\n",
    "The query below retrieves a list of customers who have purchased from Penguin Books. This query involves multiple joins stemming from  `order_detail`. First, we join `orders` so that each book order is linked to a customer ID. Next, by joining `product_info` to `order_detail`, we are able to link the publisher to each book order and then filter for orders from this particular publisher using a `WHERE` clause. Finally, we can count the number of distinct `customer_ids` from the filtered table using `COUNT` with the `DISTINCT` keyword. "
   ]
  },
  {
   "cell_type": "code",
   "execution_count": 165,
   "id": "83423c26-6da1-4bd7-949d-9d6e91032350",
   "metadata": {},
   "outputs": [
    {
     "data": {
      "text/plain": [
       "[(271,)]"
      ]
     },
     "execution_count": 165,
     "metadata": {},
     "output_type": "execute_result"
    }
   ],
   "source": [
    "query = ''' \n",
    "        SELECT COUNT(DISTINCT orders.customer_id)\n",
    "        FROM order_detail \n",
    "        INNER JOIN orders on orders.[Order ID] = order_detail.[Order ID]\n",
    "        INNER JOIN product_info on order_detail.ISBN = product_info.ISBN \n",
    "        WHERE product_info.Publisher = 'Penguin Books'  \n",
    "        ''' \n",
    "\n",
    "execute_query(query, 'data/books.sqlite')"
   ]
  },
  {
   "cell_type": "markdown",
   "id": "ee30242c-7fb1-4594-ba12-a516a2fa56e6",
   "metadata": {},
   "source": [
    "## Question 13. "
   ]
  },
  {
   "cell_type": "markdown",
   "id": "f5aa813d-a8f4-4845-a58d-a38c5c803fb5",
   "metadata": {},
   "source": [
    "Retrieve the book titles of books which have been ordered by more than 50 customers.\n",
    "\n",
    "The query below first joins the `orders` to the `order_detail`, linking the order of each book to a customer id. By joining `product_info` to the joint table, we are able to link each ISBN to a book title. Then we can group by each ISBN, summing the number of distinct customers who have ordered each book and finally filtering those with for ISBNs with more than 50 distinct customers."
   ]
  },
  {
   "cell_type": "code",
   "execution_count": 167,
   "id": "0a90e3dd-9fb5-4876-8e24-cc8031921b84",
   "metadata": {},
   "outputs": [
    {
     "data": {
      "text/plain": [
       "[('Against give month receive through network image',),\n",
       " ('Amount look mother',),\n",
       " ('Board involve sign number simply',)]"
      ]
     },
     "execution_count": 167,
     "metadata": {},
     "output_type": "execute_result"
    }
   ],
   "source": [
    "query = ''' \n",
    "\n",
    "        SELECT product_info.Title\n",
    "        FROM order_detail\n",
    "        INNER JOIN orders on orders.[Order ID] = order_detail.[Order ID] \n",
    "        INNER JOIN product_info on order_detail.ISBN = product_info.ISBN\n",
    "\n",
    "        GROUP BY order_detail.ISBN\n",
    "\n",
    "        HAVING COUNT(DISTINCT orders.customer_id ) > 50 \n",
    "        ''' \n",
    "\n",
    "execute_query(query, 'data/books.sqlite') "
   ]
  },
  {
   "cell_type": "markdown",
   "id": "b57e8732-8ede-4f22-bb97-f55a075a9fd3",
   "metadata": {},
   "source": [
    "It is worth noting that this query makes the assumption that \"books\" represents all book types including Ebooks, Audiobooks and Magazines. However, particular book types can be filtered for using a `WHERE` clause, in which the desired types can be defined before the `GROUP BY`. "
   ]
  },
  {
   "cell_type": "markdown",
   "id": "51640455-6c98-4c08-86ac-db85a5f00ab3",
   "metadata": {},
   "source": [
    "## Query 14. "
   ]
  },
  {
   "cell_type": "markdown",
   "id": "91215558-e256-4fe7-a191-9f8179eb7190",
   "metadata": {},
   "source": [
    "Retrieving the names of all customers who have spent more than the average order amount. \n",
    "\n",
    "First, `customer_list` is joined to the `orders`, linking each order to a customer. Next, we can group by the `customer_id` to calculate the total amount each customer has spent. Finally, we can filter for customers who have spent more than the average amount per order using a subquery within the `HAVING` clause. "
   ]
  },
  {
   "cell_type": "code",
   "execution_count": 168,
   "id": "7cee2bd2-9af2-4693-b4e4-6630f9f5e8b8",
   "metadata": {
    "scrolled": true
   },
   "outputs": [
    {
     "data": {
      "text/plain": [
       "[('Thomas York',),\n",
       " ('Mariah Walker',),\n",
       " ('Roy Thomas',),\n",
       " ('Kimberly Carlson',),\n",
       " ('Zachary Patterson',),\n",
       " ('Lisa Nguyen',),\n",
       " ('Henry Daniels',),\n",
       " ('Andrea Holmes',),\n",
       " ('Jose Perez',),\n",
       " ('Jessica Smith',),\n",
       " ('Andrew Simon',),\n",
       " ('Kyle Morales',),\n",
       " ('Matthew Lewis',),\n",
       " ('Michael Brown',),\n",
       " ('Luke Miles',),\n",
       " ('David Rowland',),\n",
       " ('Alicia Smith',),\n",
       " ('Brenda Adams',),\n",
       " ('Joseph Allen',),\n",
       " ('Michelle Cervantes',),\n",
       " ('John Gibson',),\n",
       " ('Dennis Hill',),\n",
       " ('Scott Turner',),\n",
       " ('Timothy Garcia',),\n",
       " ('Joshua Johnson',),\n",
       " ('Lori Hall',),\n",
       " ('Chase Wheeler',),\n",
       " ('David Parsons',),\n",
       " ('Karen Best',),\n",
       " ('Damon Patterson',),\n",
       " ('Troy Tucker',),\n",
       " ('Julia Bray',),\n",
       " ('Jerry Torres',),\n",
       " ('Diana King',),\n",
       " ('Thomas Thomas',),\n",
       " ('James Brown',),\n",
       " ('Holly Hendrix',),\n",
       " ('Michelle Spears',),\n",
       " ('Angela Clark',),\n",
       " ('Alexander Ford',),\n",
       " ('Jason Bullock',),\n",
       " ('James Velasquez',),\n",
       " ('Larry Foster',),\n",
       " ('Anthony Myers',),\n",
       " ('David Roth',),\n",
       " ('Eddie Peters',),\n",
       " ('Scott Morton',),\n",
       " ('Michael Banks',),\n",
       " ('David Miller',),\n",
       " ('Theresa Weaver',),\n",
       " ('Jason Stanley',),\n",
       " ('Jennifer Brown',),\n",
       " ('Joshua Herman',),\n",
       " ('Lauren Chapman',),\n",
       " ('Christopher Hogan',),\n",
       " ('Gregory White',),\n",
       " ('Jose Mann',),\n",
       " ('Stanley Lopez',),\n",
       " ('Jose Brown',),\n",
       " ('Donna Cook',),\n",
       " ('Paul Soto',),\n",
       " ('Kelly Campos',),\n",
       " ('Aaron Delacruz',),\n",
       " ('Paul Young',),\n",
       " ('Vanessa Hodges',),\n",
       " ('Deborah Cortez',),\n",
       " ('Melissa Robinson',),\n",
       " ('Terri Carpenter',),\n",
       " ('Jessica Mahoney',),\n",
       " ('Shawn Joseph',),\n",
       " ('Eric Moore',),\n",
       " ('Gabriel Smith',),\n",
       " ('Scott Espinoza',),\n",
       " ('Thomas Thomas',),\n",
       " ('Tina Fields',),\n",
       " ('Kenneth Cardenas',),\n",
       " ('David Goodwin',),\n",
       " ('Julie Phillips',),\n",
       " ('David Rodriguez',),\n",
       " ('Nicole Palmer',),\n",
       " ('Max Fuentes',),\n",
       " ('Matthew Boyd',),\n",
       " ('Patricia Hart',),\n",
       " ('Deborah Gutierrez',),\n",
       " ('Debra Wilson',),\n",
       " ('Colleen Pierce',),\n",
       " ('Grant Gomez',),\n",
       " ('Danielle Foster',),\n",
       " ('Jordan Bolton',),\n",
       " ('Brett Landry',),\n",
       " ('Elizabeth Cain',),\n",
       " ('Jacob Riley',),\n",
       " ('Joseph Barrett',),\n",
       " ('Sarah Jones',),\n",
       " ('Jose Knight',),\n",
       " ('Madeline Mendez',),\n",
       " ('Mary Lewis',),\n",
       " ('Robin Lewis',),\n",
       " ('Christopher Miller',),\n",
       " ('Mark Jones',),\n",
       " ('Ricky Hester',),\n",
       " ('Derrick Baker',),\n",
       " ('Dana Allen',),\n",
       " ('Erin Matthews',),\n",
       " ('Kevin Morrison',),\n",
       " ('Barry Russell',),\n",
       " ('Calvin Wilkins',),\n",
       " ('Kevin Bryan',),\n",
       " ('Robert Davis',),\n",
       " ('Patricia Ramos',),\n",
       " ('Sheila Nelson',),\n",
       " ('Alexander Rodriguez',),\n",
       " ('Michael Ayers',),\n",
       " ('Brett Martin',),\n",
       " ('Donna Shelton',),\n",
       " ('Abigail Winters',),\n",
       " ('John Martinez',),\n",
       " ('Michelle Bonilla',),\n",
       " ('Julie Lopez',),\n",
       " ('Glen Johnson',),\n",
       " ('Melissa Burnett',),\n",
       " ('Laura Zhang',),\n",
       " ('Kyle Morrison',),\n",
       " ('Aaron Williams',),\n",
       " ('Richard Barnes',),\n",
       " ('Kayla Moore',),\n",
       " ('Mary Brown',),\n",
       " ('Emily Higgins',),\n",
       " ('David Morris',),\n",
       " ('Robert Moore',),\n",
       " ('David Anderson',),\n",
       " ('Eric Williams',),\n",
       " ('Grace Cook',),\n",
       " ('Whitney Ward',),\n",
       " ('Allen Carroll',),\n",
       " ('Rodney Mercado',),\n",
       " ('Joanne Munoz',),\n",
       " ('Michele Trujillo',),\n",
       " ('Brian Thompson',),\n",
       " ('Donald Robbins',),\n",
       " ('Sarah Neal',),\n",
       " ('David Watson',),\n",
       " ('Joshua Hancock',),\n",
       " ('Jennifer Schaefer',),\n",
       " ('Kristen Jackson',),\n",
       " ('Michele Carter',),\n",
       " ('Charles Allen',),\n",
       " ('Nicole Clark',),\n",
       " ('Bryce Leblanc',),\n",
       " ('Amanda Rubio',),\n",
       " ('James Johnson',),\n",
       " ('Curtis Gillespie',),\n",
       " ('Jessica Johnson',),\n",
       " ('Benjamin Matthews',),\n",
       " ('Derek Stephenson',),\n",
       " ('Allison Villegas',),\n",
       " ('Caleb Gray',),\n",
       " ('Tara Salas',),\n",
       " ('Mary Rogers',),\n",
       " ('Sylvia Sanchez',),\n",
       " ('Dennis Roberts',),\n",
       " ('Ryan White',),\n",
       " ('Brandi Oneal',),\n",
       " ('Alejandra James',),\n",
       " ('Erica Jones',),\n",
       " ('William Williams',),\n",
       " ('Tasha Smith',),\n",
       " ('Andrea Harris',),\n",
       " ('Linda Contreras',),\n",
       " ('Caitlin Torres',),\n",
       " ('Timothy Jefferson',),\n",
       " ('Brandon Love',),\n",
       " ('Kimberly Frank',),\n",
       " ('Joseph Frazier',),\n",
       " ('Kelly Anderson',),\n",
       " ('Jessica Jones',),\n",
       " ('Jeffrey Leon',),\n",
       " ('Kelly Wall',),\n",
       " ('Douglas Johnson',),\n",
       " ('Jacqueline Page',),\n",
       " ('Michelle Williams',),\n",
       " ('Bailey King',),\n",
       " ('Scott Mccoy',),\n",
       " ('Alejandro Macias',),\n",
       " ('Thomas Stevens',),\n",
       " ('Tina Morris',),\n",
       " ('Stephanie Garza',),\n",
       " ('James Chavez',),\n",
       " ('Steven Pratt',),\n",
       " ('Kristin Brown',),\n",
       " ('Raymond Rodriguez',),\n",
       " ('Kimberly Mccarthy',),\n",
       " ('Alyssa Pham',),\n",
       " ('Timothy Moore',),\n",
       " ('Willie Spears',),\n",
       " ('Douglas Owens',),\n",
       " ('Destiny Romero',),\n",
       " ('Candace Garner',),\n",
       " ('Donald Williamson',),\n",
       " ('Shawn Dunlap',),\n",
       " ('Matthew Morrow',),\n",
       " ('Joseph Hensley',),\n",
       " ('William Andersen',),\n",
       " ('Dominique Williams',),\n",
       " ('Phillip Paul',),\n",
       " ('Christopher Smith',),\n",
       " ('Alison Garcia',),\n",
       " ('Dana Hill',),\n",
       " ('Tammy Taylor',),\n",
       " ('Travis Rhodes',),\n",
       " ('Brian Harris',),\n",
       " ('Johnathan Shannon',),\n",
       " ('Nicholas Randall',),\n",
       " ('Matthew Shaw',),\n",
       " ('Anthony Williams',),\n",
       " ('Robin Mcintyre',),\n",
       " ('Amber Smith',),\n",
       " ('Laura Greer',),\n",
       " ('Erica Kelly',),\n",
       " ('Michael Mccoy',),\n",
       " ('Jacob Howard',),\n",
       " ('Meagan Weber',),\n",
       " ('Megan Ramirez',),\n",
       " ('Meagan Wood',),\n",
       " ('Nathan Williams',),\n",
       " ('Andrea Gilbert',),\n",
       " ('Charles Kim',),\n",
       " ('Alexandra Jones',),\n",
       " ('Alexis Aguilar',),\n",
       " ('Andrea Bowen',),\n",
       " ('Corey Kelly',),\n",
       " ('Cynthia Jackson',),\n",
       " ('Jessica Turner',),\n",
       " ('Steven Gordon',),\n",
       " ('Kelli Hart',),\n",
       " ('Doris Kramer',),\n",
       " ('Ryan Clark',),\n",
       " ('Samantha Jackson',),\n",
       " ('Thomas Owens',),\n",
       " ('Dale Sanchez',),\n",
       " ('Theresa Anderson',),\n",
       " ('Justin Miranda',),\n",
       " ('Lisa Munoz',),\n",
       " ('James Blair',),\n",
       " ('Melissa Patrick',),\n",
       " ('Linda Owens',),\n",
       " ('Brian Raymond',),\n",
       " ('Kevin Gray',),\n",
       " ('Melissa Smith',),\n",
       " ('Richard Everett',),\n",
       " ('Heather Parker',),\n",
       " ('David Gray',),\n",
       " ('Rachel Larson',),\n",
       " ('Devin Henderson',),\n",
       " ('Jason Gill',),\n",
       " ('Ruben Gutierrez',),\n",
       " ('Chelsea Mays',),\n",
       " ('Sandra Green',),\n",
       " ('Ryan Nguyen',),\n",
       " ('David Hawkins',),\n",
       " ('Laura Ramsey',),\n",
       " ('Geoffrey Morris',),\n",
       " ('James Ward',),\n",
       " ('Keith Valencia',),\n",
       " ('Scott Barber',),\n",
       " ('Jenny Reynolds',),\n",
       " ('Mia Larson',),\n",
       " ('Brad Caldwell',),\n",
       " ('Tiffany Hunt',),\n",
       " ('Brett Cardenas',),\n",
       " ('Stacy Burke',),\n",
       " ('Debbie Kim',),\n",
       " ('Christopher Allen',),\n",
       " ('Kimberly Brown',),\n",
       " ('Eric Jimenez',),\n",
       " ('Joseph Huynh',),\n",
       " ('Gregory Lopez',),\n",
       " ('David Price',),\n",
       " ('Michelle Sims',),\n",
       " ('Nancy Ramos',),\n",
       " ('Michael Aguilar',),\n",
       " ('Matthew White',),\n",
       " ('Zachary Blankenship',),\n",
       " ('Joshua Williams',),\n",
       " ('Hannah Montgomery',),\n",
       " ('Sarah Daniels',),\n",
       " ('Daniel Anderson',),\n",
       " ('John Rogers',),\n",
       " ('Ernest Parsons',),\n",
       " ('Stacey Ross',),\n",
       " ('Matthew Small',),\n",
       " ('Cynthia Aguilar',),\n",
       " ('Mason Murphy',),\n",
       " ('Victoria Olson',),\n",
       " ('Mandy Porter',),\n",
       " ('Tracey House',),\n",
       " ('Andrea Joseph',),\n",
       " ('Michael Ponce',),\n",
       " ('William Hays',),\n",
       " ('Jessica Riley',),\n",
       " ('Christopher Dorsey',),\n",
       " ('Alan Lowery',),\n",
       " ('Michael Powell',),\n",
       " ('Michael Mckinney',),\n",
       " ('Matthew Payne',),\n",
       " ('Valerie Kelly',),\n",
       " ('James Johnson',),\n",
       " ('Christina Clements',),\n",
       " ('Helen Lynch',),\n",
       " ('Jody Payne',),\n",
       " ('Julie May',),\n",
       " ('Tommy Webster',),\n",
       " ('Kevin Ward',),\n",
       " ('Daniel Kane',),\n",
       " ('Jessica Davis',),\n",
       " ('Donald Warren',),\n",
       " ('Steven Webb',),\n",
       " ('Margaret Nguyen',),\n",
       " ('Mary Potter',),\n",
       " ('Carlos Patel',),\n",
       " ('Dawn Beasley',),\n",
       " ('Kevin Shaw',),\n",
       " ('Ronald Brown',),\n",
       " ('Chris Parker',),\n",
       " ('Matthew Daniels',),\n",
       " ('Heather Martin',),\n",
       " ('Alyssa Aguirre',),\n",
       " ('Mark Zimmerman',),\n",
       " ('Kristin Mccarthy',),\n",
       " ('Nicholas Perry',),\n",
       " ('Jeffrey Moore',),\n",
       " ('Ashley Bowen',),\n",
       " ('Jeffery Johnson',),\n",
       " ('Timothy Schroeder',),\n",
       " ('Matthew Foster',),\n",
       " ('Sherry Cline',),\n",
       " ('David Stevens',),\n",
       " ('Adam Jimenez',),\n",
       " ('Tami Hall',),\n",
       " ('Elaine Hayes',),\n",
       " ('Janet Harris',),\n",
       " ('Sarah Ryan',),\n",
       " ('Matthew Decker',),\n",
       " ('Jennifer Cook',),\n",
       " ('Carlos Herring',),\n",
       " ('Carl Brown',),\n",
       " ('Kathy Thomas',),\n",
       " ('Andrew Roy',),\n",
       " ('Alexis Hernandez',),\n",
       " ('Gregory Gamble',),\n",
       " ('William Bailey',),\n",
       " ('Dustin Burns',),\n",
       " ('Monica Cardenas',),\n",
       " ('Brandon Wilson',),\n",
       " ('Wayne Thompson',),\n",
       " ('Joseph Liu',),\n",
       " ('Brandi Thornton',),\n",
       " ('Jessica Lewis',),\n",
       " ('Tony Davila',),\n",
       " ('Angela Howell',),\n",
       " ('William Riley',),\n",
       " ('Thomas Gaines',),\n",
       " ('Glenn Bryan',),\n",
       " ('Tracey Ford',),\n",
       " ('John Goodman',),\n",
       " ('William Morris',),\n",
       " ('Joy Drake',),\n",
       " ('Robert Martinez',),\n",
       " ('Catherine Terry',),\n",
       " ('Jeffrey Love',),\n",
       " ('Rachel Williams',),\n",
       " ('James Smith',),\n",
       " ('Ariel Cain',),\n",
       " ('Tiffany Lewis',),\n",
       " ('Robert Hall',),\n",
       " ('Robert Stone',),\n",
       " ('Barbara Conway',),\n",
       " ('Eric Anderson',),\n",
       " ('April Austin',),\n",
       " ('Jessica Williams',),\n",
       " ('Michael Ware',),\n",
       " ('Nicholas Martinez',),\n",
       " ('Michael Robinson',),\n",
       " ('Jacob Tucker',),\n",
       " ('Jennifer Mcbride',),\n",
       " ('Aaron Miller',),\n",
       " ('Mark Lamb',),\n",
       " ('Laura Olsen',),\n",
       " ('Kyle Hobbs',),\n",
       " ('Adrian Vazquez',),\n",
       " ('Heather Smith',),\n",
       " ('Christopher Rose',),\n",
       " ('Jennifer Esparza',),\n",
       " ('Eric Johnson',),\n",
       " ('Kimberly Morrison',),\n",
       " ('Samuel Reeves',),\n",
       " ('Michael Brown',),\n",
       " ('Nicholas Johnson',),\n",
       " ('Kayla Green',),\n",
       " ('Antonio Clark',),\n",
       " ('Mary Morgan',),\n",
       " ('Eric Wright',),\n",
       " ('Brian Gibbs',),\n",
       " ('John Bailey',),\n",
       " ('Brandon Orozco',),\n",
       " ('Michelle Roberts',),\n",
       " ('Reginald Lamb',),\n",
       " ('Brianna Rodriguez',),\n",
       " ('Karen Ellis',),\n",
       " ('Valerie Brown',),\n",
       " ('Leslie Rocha',),\n",
       " ('Wendy Harper',),\n",
       " ('Christopher Hernandez',),\n",
       " ('Amanda Hughes',),\n",
       " ('Amy Buckley',),\n",
       " ('Robert Robinson',),\n",
       " ('Melanie Conner',),\n",
       " ('Benjamin Rodriguez',),\n",
       " ('Zachary Cruz',),\n",
       " ('Michael Cabrera',),\n",
       " ('Brittany Phelps',),\n",
       " ('Maria Rogers',),\n",
       " ('Lisa Cook',),\n",
       " ('James Harrison',)]"
      ]
     },
     "execution_count": 168,
     "metadata": {},
     "output_type": "execute_result"
    }
   ],
   "source": [
    "query = '''\n",
    "\n",
    "        SELECT customer_list.Name\n",
    "        FROM orders \n",
    "        INNER JOIN customer_list on orders.customer_id = customer_list.customer_id \n",
    "        \n",
    "        GROUP BY customer_list.customer_id \n",
    "\n",
    "        HAVING SUM(orders.Total) >   (SELECT AVG(Total) FROM Orders ) \n",
    "\n",
    "        ''' \n",
    "execute_query(query, 'data/books.sqlite')"
   ]
  },
  {
   "cell_type": "markdown",
   "id": "f7fde7d8-75b1-4487-8fb7-cf11452c809a",
   "metadata": {},
   "source": [
    "## Query 15. "
   ]
  },
  {
   "cell_type": "markdown",
   "id": "51b9b537-1f3b-4643-811d-ea40171b916e",
   "metadata": {},
   "source": [
    "Finding the names all books which have not been ordered. \n",
    "\n",
    "To perform this we can use a subquery to calculate the list of `ISBN`s for all books which can been ordered from `order_detail` . This subquery can then be used in a `WHERE` clause to filter for `ISBN`s in `product_info` but are not present in the result of the subquery. "
   ]
  },
  {
   "cell_type": "code",
   "execution_count": 169,
   "id": "99c1ae47-cf25-4c4f-aa51-30cb96bc61c8",
   "metadata": {},
   "outputs": [
    {
     "data": {
      "text/plain": [
       "[('Goal my message action sense method',),\n",
       " ('Financial culture commercial',),\n",
       " ('Not after alone pressure',),\n",
       " ('Result nor class produce daughter',),\n",
       " ('Those issue newspaper throw issue',),\n",
       " ('Drug grow race',),\n",
       " ('Usually nature training sea either',),\n",
       " ('Light gas tough above tree',),\n",
       " ('Current strong effort without',),\n",
       " ('Of sort trial prove',),\n",
       " ('Activity media artist',),\n",
       " ('Large girl long reflect newspaper',),\n",
       " ('Show minute top imagine',),\n",
       " ('This billion necessary run card art',),\n",
       " ('Move Republican heavy',),\n",
       " ('Need past themselves',),\n",
       " ('Certain black herself often strong',),\n",
       " ('Notice down ok current statement throw',),\n",
       " ('Short table not answer',)]"
      ]
     },
     "execution_count": 169,
     "metadata": {},
     "output_type": "execute_result"
    }
   ],
   "source": [
    "query = '''\n",
    "\n",
    "        SELECT Title\n",
    "        FROM product_info \n",
    "        WHERE ISBN NOT IN (SELECT DISTINCT(ISBN)  FROM order_detail )\n",
    "\n",
    "        '''\n",
    "execute_query(query, 'data/books.sqlite') "
   ]
  },
  {
   "cell_type": "markdown",
   "id": "200ec2f1-704a-4712-b9fc-7ceb93e0c3bc",
   "metadata": {},
   "source": [
    "# Additional Features "
   ]
  },
  {
   "cell_type": "markdown",
   "id": "ca4b25ae-9061-46e0-b5f4-9c2dc6e8278b",
   "metadata": {},
   "source": [
    "This section will focus on additional features which could be added to the Database. "
   ]
  },
  {
   "cell_type": "markdown",
   "id": "0fcbf3b4-980a-43ea-a2bf-df20ed467ee2",
   "metadata": {},
   "source": [
    "# Table partitioning "
   ]
  },
  {
   "cell_type": "markdown",
   "id": "06bc0a12-5c41-48f6-8741-e7f8059db778",
   "metadata": {},
   "source": [
    "One additional feature which could be added to the Database is partitioning. Currently, the Database is quite small which means that all of the queries ran relatively quickly. But as the company grows, it is likely that their Database tables will also grow. In particular, tables like `orders`, `order_detail` and `customer_list` will grow as the number of orders and customers increases. \n",
    "\n",
    "Hence, it may be good to implement time-based partitions of certain tables. For example, as well storing the `orders` table, a separate table which stores the last 3 months of `orders` data could also be included. \n",
    "\n",
    "The reason for this is: the most recent data is likely to be queried most frequently. e.g. for building weekly/monthly dashboards. Also, it can be used access information about the most recent orders which may be in the process of being shipped out. "
   ]
  },
  {
   "cell_type": "markdown",
   "id": "e1411e9f-0da5-4724-84fc-27d25557319b",
   "metadata": {},
   "source": [
    "### Calculating the Oldest and Newest Order within `orders`. "
   ]
  },
  {
   "cell_type": "code",
   "execution_count": 75,
   "id": "a3cc6fa5-c8e3-407a-a0be-fadb92a16b10",
   "metadata": {},
   "outputs": [
    {
     "data": {
      "text/plain": [
       "[('2020-02-01 01:08:22', '2025-03-31 23:37:26')]"
      ]
     },
     "execution_count": 75,
     "metadata": {},
     "output_type": "execute_result"
    }
   ],
   "source": [
    "query = '''\n",
    "        SELECT MIN(Date), MAX(Date) \n",
    "        from orders\n",
    "        '''\n",
    "\n",
    "execute_query(query, 'data/books.sqlite') "
   ]
  },
  {
   "cell_type": "markdown",
   "id": "1d12f7a0-f6fc-42b8-b9dc-420311e1d799",
   "metadata": {},
   "source": [
    "Just over 5 years of order data is stored currently. "
   ]
  },
  {
   "cell_type": "markdown",
   "id": "8293e047-7d1c-422a-b75d-100d02a78e24",
   "metadata": {},
   "source": [
    "### Creating table for the last 3 months of data. "
   ]
  },
  {
   "cell_type": "markdown",
   "id": "8e20284a-0af5-4ce3-8018-950d39338bc4",
   "metadata": {},
   "source": [
    "sqlite3 does not support time-based partitions, instead we can create a new orders table which stores the last 3 months worth of orders data. The Query to create this table is displayed below"
   ]
  },
  {
   "cell_type": "code",
   "execution_count": 192,
   "id": "05bf03ce-ea65-4529-8b29-220689bc55dd",
   "metadata": {
    "scrolled": true
   },
   "outputs": [
    {
     "data": {
      "text/plain": [
       "[]"
      ]
     },
     "execution_count": 192,
     "metadata": {},
     "output_type": "execute_result"
    }
   ],
   "source": [
    "query = '''\n",
    "    \n",
    "        CREATE TABLE orders_3month AS \n",
    "        SELECT * from orders\n",
    "        WHERE strftime( '%s' , Date)  >= strftime('%s', (SELECT MAX(Date) FROM orders ) , '-3 month'  ) \n",
    "        \n",
    "        '''\n",
    "\n",
    "execute_query(query, 'data/books.sqlite') "
   ]
  },
  {
   "cell_type": "markdown",
   "id": "29a7c6ef-5329-4c0e-8df5-77110159dc9e",
   "metadata": {},
   "source": [
    "Double checking that our new table has been added by printing all of the tables in the Database. "
   ]
  },
  {
   "cell_type": "code",
   "execution_count": 193,
   "id": "c2814058-f190-4140-be13-9626c45c9e12",
   "metadata": {},
   "outputs": [
    {
     "data": {
      "text/plain": [
       "[('inventory',),\n",
       " ('orders',),\n",
       " ('customer_list',),\n",
       " ('order_detail',),\n",
       " ('product_info',),\n",
       " ('orders_3month',)]"
      ]
     },
     "execution_count": 193,
     "metadata": {},
     "output_type": "execute_result"
    }
   ],
   "source": [
    "query = '''\n",
    "        SELECT name \n",
    "        FROM sqlite_master \n",
    "        WHERE type='table' \n",
    "        AND name NOT LIKE 'sqlite_%'\n",
    "        '''\n",
    "execute_query(query, 'data/books.sqlite') "
   ]
  },
  {
   "cell_type": "markdown",
   "id": "1527f0cf-7645-4ede-81b0-968f62ec5b65",
   "metadata": {},
   "source": [
    "Counting the number of records within our partitioned table. "
   ]
  },
  {
   "cell_type": "code",
   "execution_count": 194,
   "id": "04e726e4-55dd-4a90-a693-bfeb0d805f66",
   "metadata": {},
   "outputs": [
    {
     "data": {
      "text/plain": [
       "[(172,)]"
      ]
     },
     "execution_count": 194,
     "metadata": {},
     "output_type": "execute_result"
    }
   ],
   "source": [
    "execute_query('select COUNT(*)  from orders_3month' , 'data/books.sqlite')"
   ]
  },
  {
   "cell_type": "markdown",
   "id": "1e05f9db-3923-4b95-b850-66c8b6ede7d4",
   "metadata": {},
   "source": [
    "There where 172 orders placed within the last 3 months of data available "
   ]
  },
  {
   "cell_type": "markdown",
   "id": "8db985e0-0c37-4af9-a202-efd9868d352e",
   "metadata": {},
   "source": [
    "### Speed Improvements with Partitioned Table "
   ]
  },
  {
   "cell_type": "markdown",
   "id": "37ca696f-a7c8-4f44-acaa-6d8ec60363b4",
   "metadata": {},
   "source": [
    "Below I have written a query which selects all of the names and emails of customers who have placed an order within the last month of order history. \n",
    "\n",
    "Both of the queries achieve the same result but one is written using `orders_3month` and the other uses `orders`. "
   ]
  },
  {
   "cell_type": "code",
   "execution_count": 186,
   "id": "2a1568f0-6816-4965-b5d0-180cb8c9caed",
   "metadata": {},
   "outputs": [],
   "source": [
    "query_old = ''' SELECT customer_list.Name, customer_list.email\n",
    "            FROM orders\n",
    "            INNER JOIN customer_list ON orders.[Customer ID]=customer_list.customer_id\n",
    "            WHERE Date >= date(  (SELECT MAX(Date) FROM orders )  , '-1 month')'''\n",
    "\n",
    "\n",
    "query_new  =''' SELECT customer_list.Name, customer_list.email\n",
    "            FROM orders_3month\n",
    "            INNER JOIN customer_list ON orders_3month.[Customer ID]=customer_list.customer_id\n",
    "            WHERE Date >=  date ( (SELECT MAX(Date) FROM orders )   , '-1 month' ) ''' "
   ]
  },
  {
   "cell_type": "markdown",
   "id": "c89e6cc0-bb5f-4491-8154-b1c3c0545af7",
   "metadata": {},
   "source": [
    "the magic command `%timetit` runs the code/command following it multiple times and computes the mean and standard deviation of those run times. We can use this in order to evaluate the speed of the two queries above. "
   ]
  },
  {
   "cell_type": "code",
   "execution_count": 187,
   "id": "643b1b6d-2a2b-4bc9-9b28-1301c55a8761",
   "metadata": {},
   "outputs": [
    {
     "name": "stdout",
     "output_type": "stream",
     "text": [
      "1.93 ms ± 68.4 μs per loop (mean ± std. dev. of 7 runs, 100 loops each)\n"
     ]
    }
   ],
   "source": [
    "%timeit execute_query(query_old, 'data/books.sqlite') "
   ]
  },
  {
   "cell_type": "code",
   "execution_count": 188,
   "id": "49bd7bbd-ac43-4978-894d-c86181b41037",
   "metadata": {},
   "outputs": [
    {
     "name": "stdout",
     "output_type": "stream",
     "text": [
      "985 μs ± 11.8 μs per loop (mean ± std. dev. of 7 runs, 1,000 loops each)\n"
     ]
    }
   ],
   "source": [
    "%timeit execute_query(query_new, 'data/books.sqlite') "
   ]
  },
  {
   "cell_type": "code",
   "execution_count": 179,
   "id": "26c210e9-805e-4e2f-8f1a-1ce391b1f35f",
   "metadata": {},
   "outputs": [
    {
     "name": "stdout",
     "output_type": "stream",
     "text": [
      "query using orders_3month  was 1.96 times faster when compared to orders\n"
     ]
    }
   ],
   "source": [
    "print(f'query using orders_3month  was {round(1.93 / 0.985, 2) } times faster when compared to orders') "
   ]
  },
  {
   "cell_type": "markdown",
   "id": "f9ae990f-42dc-4f32-9f9b-aebfce506bd8",
   "metadata": {},
   "source": [
    "We were able to almost half the query execution time by using `orders_3month`, but given that the original query only took 1.93 ms to run on average, this optimisation will likely have little impact on usability. However, as the `orders` continues to grow the time savings provided by the partitioned table will also increase and will potentially lead to a noticeable improvement in speed for users. \n",
    "\n",
    "However, it is worth mentioning that this improvement in query execution time comes at the cost of higher memory requirements. The last 3 months of data must be stored twice, in both `orders_3month` and `orders`. "
   ]
  },
  {
   "cell_type": "markdown",
   "id": "c28edd01-1600-4cb5-9513-58ef0726ac00",
   "metadata": {},
   "source": [
    "# Adding input constraints to the Database "
   ]
  },
  {
   "cell_type": "markdown",
   "id": "84f465ab-06c4-48fb-aebf-cc8dddcd0575",
   "metadata": {},
   "source": [
    "Alongside creating a 3-month cache of the `orders` table to speed up queries. We can formally define Primary and Foreign Keys in our table. Specifying Primary Keys will enforce uniqueness constraints and also speed up queries as defining a Primary Key automatically creates an index, meaning that each record in a table can be indexed using its Primary Key in constant/O(1) time. \n",
    "\n",
    "Also, input validation can be added to each of tables fields. There are numerous ways we can specify the input requirements for each field. We can specify particular datatypes, unique values, not null constraints and inputs meeting a regex-like pattern. "
   ]
  },
  {
   "cell_type": "markdown",
   "id": "0eff7c5d-fbd1-4afe-8b40-1750eebc9d4d",
   "metadata": {},
   "source": [
    "However, contraints cannot be added to existing tables and they must be defined when the table is created. This means a new set of tables with the desired input constraints must be first created and then the data from our existing tables can be copied in. "
   ]
  },
  {
   "cell_type": "markdown",
   "id": "c0ecedc7-c8d9-4a51-bb8e-823e38709294",
   "metadata": {},
   "source": [
    "### Input validation for `customer_list` "
   ]
  },
  {
   "cell_type": "markdown",
   "id": "3ec6bbf1-0931-41fe-b6b8-3a2d32165c71",
   "metadata": {},
   "source": [
    "`customer_id` is specified as a Primary Key. `email`, `phone` and `customer_id` specified to be `UNIQUE`. Also, a `CHECK` constraint has been included for the email to ensure that all email addresses meet a pattern using the `LIKE` operator. "
   ]
  },
  {
   "cell_type": "code",
   "execution_count": 251,
   "id": "8f66cf9c-8f61-4e61-b155-f30ca0b520e2",
   "metadata": {},
   "outputs": [],
   "source": [
    "create_customer_list = ''' CREATE TABLE customer_list_2(\n",
    "                           customer_id TEXT PRIMARY KEY,\n",
    "                           Name TEXT NOT NULL,\n",
    "                           address TEXT NOT NULL, \n",
    "                           email TEXT UNIQUE, \n",
    "                           phone TEXT UNIQUE, \n",
    "                           CHECK ( email LIKE '%@%.%' ) ) ''' "
   ]
  },
  {
   "cell_type": "markdown",
   "id": "5dddb121-ea65-469e-a759-4e549d0699b3",
   "metadata": {},
   "source": [
    "### Input validation for `inventory` \n",
    "\n",
    "All columns have been assigned the appropriate data type and the `NOT NULL` constraint has been added to each column. `Product Title` and `Warehouse Location` have been defined as the primary key. "
   ]
  },
  {
   "cell_type": "code",
   "execution_count": 252,
   "id": "344e4214-aaff-4aff-92bd-c6b49506df73",
   "metadata": {},
   "outputs": [],
   "source": [
    "create_inventory = ''' CREATE TABLE inventory_2 (\n",
    "                       [Warehouse Location] TEXT NOT NULL,\n",
    "                       [Product Title] TEXT NOT NULL, \n",
    "                       Quantity INTEGER NOT NULL,\n",
    "                       PRIMARY KEY ([Product Title], [Warehouse Location] ))'''"
   ]
  },
  {
   "cell_type": "markdown",
   "id": "246cf404-c317-418f-a2b7-1048b9d1fc5b",
   "metadata": {},
   "source": [
    "### Input validation for `order_detail` \n",
    "\n",
    "Similar to `inventory` all fields have been assigned the correct datatype and the `NOT NULL` constraint has been added, as Ideally none of these values should be missing. `Order ID`, `ISBN` has been defined as the Primary Key. "
   ]
  },
  {
   "cell_type": "code",
   "execution_count": 311,
   "id": "e1a19bef-eaf2-4df8-bcfe-d4742f0b7003",
   "metadata": {},
   "outputs": [
    {
     "data": {
      "text/plain": [
       "[('Quantity',), ('ISBN',), ('Order ID',)]"
      ]
     },
     "execution_count": 311,
     "metadata": {},
     "output_type": "execute_result"
    }
   ],
   "source": [
    "execute_query('SELECT name from pragma_table_info(\"order_detail\") ', 'data/books.sqlite' ) "
   ]
  },
  {
   "cell_type": "code",
   "execution_count": 312,
   "id": "233abe76-5365-4c1f-920f-25e035dd18c7",
   "metadata": {},
   "outputs": [],
   "source": [
    "create_order_detail = ''' CREATE TABLE order_detail_2 (\n",
    "                          Quantity INTEGER NOT NULL,\n",
    "                          ISBN TEXT NOT NULL,\n",
    "                          Order ID TEXT, \n",
    "                          PRIMARY KEY (Order ID, ISBN) )'''"
   ]
  },
  {
   "cell_type": "markdown",
   "id": "ef666d83-3d6c-4e9d-88d6-b9300351516c",
   "metadata": {},
   "source": [
    "### Input Validation for `orders` "
   ]
  },
  {
   "cell_type": "markdown",
   "id": "185ae773-53d2-4052-8486-b39f883222e5",
   "metadata": {},
   "source": [
    "All of the appropriate data types have been selected for each column. \n",
    "\n",
    "Both `Card Number` and `Authorisation Code` do not have `NOT NULL` constraints given that within each order one of them will be `NULL` depending on `Payment Method`. `Order ID` has been defined as the Primary Key for each table. "
   ]
  },
  {
   "cell_type": "code",
   "execution_count": 275,
   "id": "bea77753-92b3-47bc-85d5-b209d352122b",
   "metadata": {},
   "outputs": [],
   "source": [
    "create_orders = ''' CREATE TABLE orders_2 ( \n",
    "                    [Order ID] TEXT PRIMARY KEY, \n",
    "                    Date TEXT NOT NULL, \n",
    "                    Customer ID INTEGER NOT NULL ,\n",
    "                    Total REAL NOT NULL ,\n",
    "                    Payment Method TEXT NOT NULL, \n",
    "                    Card Number TEXT ,\n",
    "                    Authorisation Code TEXT )'''"
   ]
  },
  {
   "cell_type": "markdown",
   "id": "139a1f27-8ad9-46ed-ac24-aa6a3b8d0402",
   "metadata": {},
   "source": [
    "### Input Validation for `product_info` "
   ]
  },
  {
   "cell_type": "markdown",
   "id": "aaca23ad-94fe-4aea-86ea-1d97e904addb",
   "metadata": {},
   "source": [
    "All of the appropriate data types have been specified for each column. `ISBN` receives a `NOT NULL` constraint given that it is the tables primary key. A few other columns also have a `NOT NULL` constraint:  Title, Author and Price. "
   ]
  },
  {
   "cell_type": "code",
   "execution_count": 276,
   "id": "67b9eab9-4930-4e40-9543-3c50624ae58a",
   "metadata": {},
   "outputs": [],
   "source": [
    "create_product_info = '''  CREATE TABLE product_info_2 (\n",
    "                           ISBN TEXT PRIMARY KEY,\n",
    "                           Type TEXT ,\n",
    "                           Title TEXT NOT NULL ,\n",
    "                           Author TEXT NOT NULL ,\n",
    "                           Publisher TEXT, \n",
    "                           Genre TEXT,\n",
    "                           Format TEXT, \n",
    "                           Unit Price REAL NOT NULL,\n",
    "                           Publication Date TEXT,\n",
    "                           Pages INTEGER,\n",
    "                           Length TEXT,\n",
    "                           Narrator TEXT,\n",
    "                           Rating REAL  ) ''' "
   ]
  },
  {
   "cell_type": "markdown",
   "id": "daec5063-ffc2-4e4d-bb67-53bb5de70d4c",
   "metadata": {},
   "source": [
    "### Collecting constructor queries together "
   ]
  },
  {
   "cell_type": "code",
   "execution_count": 277,
   "id": "3876b8db-fc66-4745-aed1-eaa1c18232af",
   "metadata": {},
   "outputs": [],
   "source": [
    "constructor_queries = [\n",
    "    create_customer_list,\n",
    "    create_inventory, \n",
    "    create_order_detail,\n",
    "    create_orders,\n",
    "    create_product_info, \n",
    "]"
   ]
  },
  {
   "cell_type": "code",
   "execution_count": 319,
   "id": "c6afd5a8-7e3b-4d26-b2a5-6da675f41e5a",
   "metadata": {},
   "outputs": [],
   "source": [
    "#quickly dropping older tables\n",
    "for name, df in dataframes.items():\n",
    "    query = f'DROP TABLE IF EXISTS {name}_2' \n",
    "    execute_query(query, 'data/books.sqlite') \n",
    "\n",
    "    "
   ]
  },
  {
   "cell_type": "markdown",
   "id": "465221e4-7f49-4fc0-a761-16874640ec6d",
   "metadata": {},
   "source": [
    "# Creating all new tables "
   ]
  },
  {
   "cell_type": "markdown",
   "id": "fd45745e-0d7a-4735-879f-832e70b6074c",
   "metadata": {},
   "source": [
    "Looping through all of the new constructor queries and creating the new tables "
   ]
  },
  {
   "cell_type": "code",
   "execution_count": 320,
   "id": "d2ffb8b0-45ad-4e55-8ec0-e53ffdb69ffb",
   "metadata": {},
   "outputs": [],
   "source": [
    "for query in constructor_queries:\n",
    "    execute_query(query, 'data/books.sqlite') \n"
   ]
  },
  {
   "cell_type": "markdown",
   "id": "654c5d10-3692-4ad2-9457-13e56bb182ca",
   "metadata": {},
   "source": [
    "# copying all data into our tables "
   ]
  },
  {
   "cell_type": "code",
   "execution_count": 321,
   "id": "49918345-1cac-4100-b784-5827e8baf434",
   "metadata": {},
   "outputs": [],
   "source": [
    "for table in dataframes.keys(): \n",
    "\n",
    "    #copying data into our table \n",
    "    query = f''' \n",
    "            INSERT INTO {table}_2 \n",
    "            SELECT *\n",
    "            FROM {table}\n",
    "            ''' \n",
    "\n",
    "    execute_query(query, 'data/books.sqlite') \n",
    "\n",
    "    #deleting old table \n",
    "\n",
    "    query = f'''\n",
    "             DROP TABLE {table}\n",
    "             '''\n",
    "    execute_query(query, 'data/books.sqlite') \n",
    "\n",
    "    #renaming our new table to the same as the old \n",
    "\n",
    "    query = f'''\n",
    "\n",
    "             ALTER TABLE {table}_2\n",
    "             RENAME TO {table} \n",
    "             \n",
    "             '''\n",
    "\n",
    "    execute_query(query, 'data/books.sqlite') "
   ]
  },
  {
   "cell_type": "markdown",
   "id": "708c51a9-a433-48a9-a48d-f927375ad1b5",
   "metadata": {},
   "source": [
    "### Inserting a non unqiue `customer_id`. "
   ]
  },
  {
   "cell_type": "markdown",
   "id": "be81b2ea-a978-4446-a9d4-c62b6a79eb41",
   "metadata": {},
   "source": [
    "Finding a `customer_id` which is already in use. "
   ]
  },
  {
   "cell_type": "code",
   "execution_count": 324,
   "id": "0620743f-5e98-4770-b7db-382564ce4a67",
   "metadata": {},
   "outputs": [
    {
     "data": {
      "text/plain": [
       "[('112552',)]"
      ]
     },
     "execution_count": 324,
     "metadata": {},
     "output_type": "execute_result"
    }
   ],
   "source": [
    "execute_query('SELECT customer_id FROM customer_list LIMIT 1', 'data/books.sqlite') "
   ]
  },
  {
   "cell_type": "code",
   "execution_count": 325,
   "id": "be429f56-6c6f-434a-a099-2c325169912b",
   "metadata": {},
   "outputs": [
    {
     "ename": "IntegrityError",
     "evalue": "UNIQUE constraint failed: customer_list.customer_id",
     "output_type": "error",
     "traceback": [
      "\u001b[0;31m---------------------------------------------------------------------------\u001b[0m",
      "\u001b[0;31mIntegrityError\u001b[0m                            Traceback (most recent call last)",
      "Cell \u001b[0;32mIn[325], line 8\u001b[0m\n\u001b[1;32m      1\u001b[0m query \u001b[38;5;241m=\u001b[39m \u001b[38;5;124m'''\u001b[39m\n\u001b[1;32m      2\u001b[0m \n\u001b[1;32m      3\u001b[0m \u001b[38;5;124m        INSERT INTO customer_list \u001b[39m\n\u001b[1;32m      4\u001b[0m \u001b[38;5;124m        VALUES (\u001b[39m\u001b[38;5;124m'\u001b[39m\u001b[38;5;124m112552\u001b[39m\u001b[38;5;124m'\u001b[39m\u001b[38;5;124m,  \u001b[39m\u001b[38;5;124m'\u001b[39m\u001b[38;5;124mjackie chan\u001b[39m\u001b[38;5;124m'\u001b[39m\u001b[38;5;124m , \u001b[39m\u001b[38;5;124m'\u001b[39m\u001b[38;5;124mnorth pole\u001b[39m\u001b[38;5;124m'\u001b[39m\u001b[38;5;124m, \u001b[39m\u001b[38;5;124m'\u001b[39m\u001b[38;5;124mjackie.chan@yorksj.ac.uk\u001b[39m\u001b[38;5;124m'\u001b[39m\u001b[38;5;124m, \u001b[39m\u001b[38;5;124m'\u001b[39m\u001b[38;5;124m+44 .....\u001b[39m\u001b[38;5;124m'\u001b[39m\u001b[38;5;124m ) \u001b[39m\n\u001b[1;32m      5\u001b[0m \n\u001b[1;32m      6\u001b[0m \u001b[38;5;124m        \u001b[39m\u001b[38;5;124m'''\u001b[39m\n\u001b[0;32m----> 8\u001b[0m \u001b[43mexecute_query\u001b[49m\u001b[43m(\u001b[49m\u001b[43mquery\u001b[49m\u001b[43m,\u001b[49m\u001b[43m \u001b[49m\u001b[38;5;124;43m'\u001b[39;49m\u001b[38;5;124;43mdata/books.sqlite\u001b[39;49m\u001b[38;5;124;43m'\u001b[39;49m\u001b[43m)\u001b[49m \n",
      "Cell \u001b[0;32mIn[146], line 7\u001b[0m, in \u001b[0;36mexecute_query\u001b[0;34m(query, dbname)\u001b[0m\n\u001b[1;32m      5\u001b[0m connection\u001b[38;5;241m.\u001b[39misolation_level \u001b[38;5;241m=\u001b[39m \u001b[38;5;28;01mNone\u001b[39;00m \n\u001b[1;32m      6\u001b[0m cur \u001b[38;5;241m=\u001b[39m connection\u001b[38;5;241m.\u001b[39mcursor() \n\u001b[0;32m----> 7\u001b[0m \u001b[43mcur\u001b[49m\u001b[38;5;241;43m.\u001b[39;49m\u001b[43mexecute\u001b[49m\u001b[43m(\u001b[49m\u001b[43mquery\u001b[49m\u001b[43m)\u001b[49m \n\u001b[1;32m      8\u001b[0m items \u001b[38;5;241m=\u001b[39m cur\u001b[38;5;241m.\u001b[39mfetchall()\n\u001b[1;32m      9\u001b[0m connection\u001b[38;5;241m.\u001b[39mcommit() \n",
      "\u001b[0;31mIntegrityError\u001b[0m: UNIQUE constraint failed: customer_list.customer_id"
     ]
    }
   ],
   "source": [
    "query = '''\n",
    "\n",
    "        INSERT INTO customer_list \n",
    "        VALUES ('112552',  'jackie chan' , 'north pole', 'jackie.chan@yorksj.ac.uk', '+44 .....' ) \n",
    "\n",
    "        '''\n",
    "\n",
    "execute_query(query, 'data/books.sqlite') "
   ]
  },
  {
   "cell_type": "markdown",
   "id": "4337707a-4f48-4f58-a0d0-fe6f9cfe832a",
   "metadata": {},
   "source": [
    "We can see that trying to insert a column with an existing `customer_id` lead to an `Integrity Error`. "
   ]
  },
  {
   "cell_type": "markdown",
   "id": "a1f02984-92d0-411d-87af-b6c5bec7f82e",
   "metadata": {},
   "source": [
    "### Inserting an invalid email address "
   ]
  },
  {
   "cell_type": "code",
   "execution_count": 327,
   "id": "f5bfc634-0497-4f3f-86c3-6c08886ad311",
   "metadata": {},
   "outputs": [
    {
     "ename": "IntegrityError",
     "evalue": "CHECK constraint failed: email LIKE '%@%.%'",
     "output_type": "error",
     "traceback": [
      "\u001b[0;31m---------------------------------------------------------------------------\u001b[0m",
      "\u001b[0;31mIntegrityError\u001b[0m                            Traceback (most recent call last)",
      "Cell \u001b[0;32mIn[327], line 8\u001b[0m\n\u001b[1;32m      1\u001b[0m query \u001b[38;5;241m=\u001b[39m \u001b[38;5;124m'''\u001b[39m\n\u001b[1;32m      2\u001b[0m \n\u001b[1;32m      3\u001b[0m \u001b[38;5;124m        INSERT INTO customer_list \u001b[39m\n\u001b[1;32m      4\u001b[0m \u001b[38;5;124m        VALUES ( \u001b[39m\u001b[38;5;124m'\u001b[39m\u001b[38;5;124mniven \u001b[39m\u001b[38;5;124m'\u001b[39m\u001b[38;5;124m , \u001b[39m\u001b[38;5;124m'\u001b[39m\u001b[38;5;124mnorth pole\u001b[39m\u001b[38;5;124m'\u001b[39m\u001b[38;5;124m, \u001b[39m\u001b[38;5;124m'\u001b[39m\u001b[38;5;124mblah blah@blahblagh.com\u001b[39m\u001b[38;5;124m'\u001b[39m\u001b[38;5;124m, \u001b[39m\u001b[38;5;124m'\u001b[39m\u001b[38;5;124m+44 .....\u001b[39m\u001b[38;5;124m'\u001b[39m\u001b[38;5;124m, \u001b[39m\u001b[38;5;124m'\u001b[39m\u001b[38;5;124m760665\u001b[39m\u001b[38;5;124m'\u001b[39m\u001b[38;5;124m ) \u001b[39m\n\u001b[1;32m      5\u001b[0m \n\u001b[1;32m      6\u001b[0m \u001b[38;5;124m        \u001b[39m\u001b[38;5;124m'''\u001b[39m\n\u001b[0;32m----> 8\u001b[0m \u001b[43mexecute_query\u001b[49m\u001b[43m(\u001b[49m\u001b[43mquery\u001b[49m\u001b[43m,\u001b[49m\u001b[43m \u001b[49m\u001b[38;5;124;43m'\u001b[39;49m\u001b[38;5;124;43mdata/books.sqlite\u001b[39;49m\u001b[38;5;124;43m'\u001b[39;49m\u001b[43m)\u001b[49m \n",
      "Cell \u001b[0;32mIn[146], line 7\u001b[0m, in \u001b[0;36mexecute_query\u001b[0;34m(query, dbname)\u001b[0m\n\u001b[1;32m      5\u001b[0m connection\u001b[38;5;241m.\u001b[39misolation_level \u001b[38;5;241m=\u001b[39m \u001b[38;5;28;01mNone\u001b[39;00m \n\u001b[1;32m      6\u001b[0m cur \u001b[38;5;241m=\u001b[39m connection\u001b[38;5;241m.\u001b[39mcursor() \n\u001b[0;32m----> 7\u001b[0m \u001b[43mcur\u001b[49m\u001b[38;5;241;43m.\u001b[39;49m\u001b[43mexecute\u001b[49m\u001b[43m(\u001b[49m\u001b[43mquery\u001b[49m\u001b[43m)\u001b[49m \n\u001b[1;32m      8\u001b[0m items \u001b[38;5;241m=\u001b[39m cur\u001b[38;5;241m.\u001b[39mfetchall()\n\u001b[1;32m      9\u001b[0m connection\u001b[38;5;241m.\u001b[39mcommit() \n",
      "\u001b[0;31mIntegrityError\u001b[0m: CHECK constraint failed: email LIKE '%@%.%'"
     ]
    }
   ],
   "source": [
    "query = '''\n",
    "\n",
    "        INSERT INTO customer_list \n",
    "        VALUES ( 'niven ' , 'north pole', 'blah blah@blahblagh.com', '+44 .....', '760665' ) \n",
    "\n",
    "        '''\n",
    "\n",
    "execute_query(query, 'data/books.sqlite') "
   ]
  },
  {
   "cell_type": "markdown",
   "id": "57afd557-e89b-4a77-9f72-ae315b73d6dd",
   "metadata": {},
   "source": [
    "Similarily, trying to input an erroneous email address also leads to an `IntegrityError`. "
   ]
  }
 ],
 "metadata": {
  "kernelspec": {
   "display_name": "Python 3 (ipykernel)",
   "language": "python",
   "name": "python3"
  },
  "language_info": {
   "codemirror_mode": {
    "name": "ipython",
    "version": 3
   },
   "file_extension": ".py",
   "mimetype": "text/x-python",
   "name": "python",
   "nbconvert_exporter": "python",
   "pygments_lexer": "ipython3",
   "version": "3.10.14"
  }
 },
 "nbformat": 4,
 "nbformat_minor": 5
}
